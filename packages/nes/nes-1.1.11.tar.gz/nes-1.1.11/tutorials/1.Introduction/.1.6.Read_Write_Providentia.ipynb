{
 "cells": [
  {
   "cell_type": "markdown",
   "metadata": {},
   "source": [
    "# How to read and write Providentia interpolated experiment files"
   ]
  },
  {
   "cell_type": "code",
   "execution_count": 1,
   "metadata": {},
   "outputs": [],
   "source": [
    "import nes"
   ]
  },
  {
   "cell_type": "code",
   "execution_count": 2,
   "metadata": {},
   "outputs": [],
   "source": [
    "%matplotlib inline"
   ]
  },
  {
   "cell_type": "markdown",
   "metadata": {},
   "source": [
    "## 1. Open dataset"
   ]
  },
  {
   "cell_type": "code",
   "execution_count": 3,
   "metadata": {},
   "outputs": [],
   "source": [
    "# Original path: /gpfs/projects/bsc32/AC_cache/recon/exp_interp/1.3.3/cams61_chimere_ph2-eu-000/hourly/sconco3/EBAS/sconco3_201804.nc\n",
    "# Interpolated experiment to EBAS network from CAMS\n",
    "path = '/gpfs/projects/bsc32/models/NES_tutorial_data/exp_interp_sconco3_201804.nc'"
   ]
  },
  {
   "cell_type": "code",
   "execution_count": 4,
   "metadata": {},
   "outputs": [
    {
     "data": {
      "text/plain": [
       "<nes.nc_projections.points_nes_providentia.PointsNesProvidentia at 0x7f2b67c13b90>"
      ]
     },
     "execution_count": 4,
     "metadata": {},
     "output_type": "execute_result"
    }
   ],
   "source": [
    "nessy = nes.open_netcdf(path=path, info=True, parallel_method='X')\n",
    "nessy"
   ]
  },
  {
   "cell_type": "markdown",
   "metadata": {
    "tags": []
   },
   "source": [
    "### Read coordinates"
   ]
  },
  {
   "cell_type": "code",
   "execution_count": 5,
   "metadata": {},
   "outputs": [
    {
     "data": {
      "text/plain": [
       "(datetime.datetime(2018, 4, 1, 0, 0),\n",
       " 720,\n",
       " datetime.datetime(2018, 4, 30, 23, 0))"
      ]
     },
     "execution_count": 5,
     "metadata": {},
     "output_type": "execute_result"
    }
   ],
   "source": [
    "nessy.time[0], len(nessy.time), nessy.time[-1]"
   ]
  },
  {
   "cell_type": "code",
   "execution_count": 6,
   "metadata": {},
   "outputs": [
    {
     "data": {
      "text/plain": [
       "{'data': array([0]), 'units': ''}"
      ]
     },
     "execution_count": 6,
     "metadata": {},
     "output_type": "execute_result"
    }
   ],
   "source": [
    "nessy.lev"
   ]
  },
  {
   "cell_type": "code",
   "execution_count": 7,
   "metadata": {},
   "outputs": [
    {
     "data": {
      "text/plain": [
       "{'data': masked_array(data=[-64.24006   , -54.84846497, -22.10333333, -31.66861111,\n",
       "                     47.76666641,  46.677778  ,  48.721111  ,  47.529167  ,\n",
       "                     47.05407   ,  46.693611  ,  47.348056  ,  47.973056  ,\n",
       "                     48.878611  ,  48.106111  ,  48.371111  ,  48.334722  ,\n",
       "                     48.050833  ,  47.838611  ,  47.040277  ,  47.06694444,\n",
       "                     49.877778  ,  50.629421  ,  50.503333  ,  41.695833  ,\n",
       "                     32.27000046,  80.05000305,  46.5475    ,  46.813056  ,\n",
       "                     47.479722  ,  47.049722  ,  47.0675    ,  47.18961391,\n",
       "                    -30.17254   ,  16.86403   ,  35.0381    ,  49.73508444,\n",
       "                     49.573394  ,  49.066667  ,  54.925556  ,  52.802222  ,\n",
       "                     47.914722  ,  53.166667  ,  50.65      ,  54.4368    ,\n",
       "                     47.80149841,  47.4165    , -70.666     ,  54.746495  ,\n",
       "                     81.6       ,  55.693588  ,  72.58000183,  56.290424  ,\n",
       "                     59.5       ,  58.383333  ,  39.54694   ,  42.72056   ,\n",
       "                     39.87528   ,  37.23722   ,  43.43917   ,  41.27417   ,\n",
       "                     42.31917   ,  38.47278   ,  39.08278   ,  41.23889   ,\n",
       "                     41.39389   ,  42.63472   ,  37.05194   ,  28.309     ,\n",
       "                     59.779167  ,  60.53002   ,  66.320278  ,  67.97333333,\n",
       "                     48.5       ,  49.9       ,  47.266667  ,  43.616667  ,\n",
       "                     47.3       ,  46.65      ,  45.        ,  45.8       ,\n",
       "                     48.633333  ,  42.936667  ,  48.70861111,  44.56944444,\n",
       "                     46.81472778,  45.772223  ,  55.313056  ,  54.443056  ,\n",
       "                     50.596389  ,  54.334444  ,  57.734444  ,  52.503889  ,\n",
       "                     55.858611  ,  53.398889  ,  50.792778  ,  52.293889  ,\n",
       "                     51.781784  ,  52.298333  ,  55.79216   ,  52.950556  ,\n",
       "                     51.778056  ,  60.13922   , -75.62      ,  51.149617  ,\n",
       "                     38.366667  ,  35.316667  ,  46.966667  ,  46.91      ,\n",
       "                     -0.20194   ,  51.939722  ,  53.32583   ,  45.8       ,\n",
       "                     44.183333  ,  37.571111  ,  35.5182    ,  42.805462  ,\n",
       "                    -69.005     ,  39.0319    ,  24.2883    ,  24.466941  ,\n",
       "                     36.53833389,  33.293917  ,  55.37611111,  56.161944  ,\n",
       "                     57.135278  ,  41.536111  ,  36.0722    ,  52.083333  ,\n",
       "                     53.333889  ,  51.541111  ,  52.3       ,  51.974444  ,\n",
       "                     58.38853   ,  65.833333  ,  62.783333  ,  78.90715   ,\n",
       "                     59.        ,  69.45      ,  59.2       ,  60.372386  ,\n",
       "                    -72.0117    ,  59.2       , -41.40819168, -77.83200073,\n",
       "                    -45.0379982 ,  51.814408  ,  50.736444  ,  54.753894  ,\n",
       "                     54.15      ,  43.4       ,  71.58616638,  63.85      ,\n",
       "                     67.883333  ,  57.394     ,  57.1645    ,  57.9525    ,\n",
       "                     56.0429    ,  60.0858    ,  57.816667  ,  64.25      ,\n",
       "                     59.728     ,  45.566667  ,  46.428611  ,  46.299444  ,\n",
       "                     48.933333  ,  49.15      ,  49.05      ,  47.96      ,\n",
       "                     71.32301331,  40.12498   ,  19.53623009, -89.99694824,\n",
       "                     41.05410004,  21.5731    , -34.35348   ],\n",
       "              mask=False,\n",
       "        fill_value=1e+20),\n",
       " 'dimensions': ('station',),\n",
       " 'dtype': dtype('float64'),\n",
       " 'standard_name': 'latitude',\n",
       " 'units': 'decimal degrees North',\n",
       " 'long_name': 'latitude',\n",
       " 'description': 'Geodetic latitude of measuring instrument, in decimal degrees North, following the stated horizontal datum.',\n",
       " 'axis': 'Y'}"
      ]
     },
     "execution_count": 7,
     "metadata": {},
     "output_type": "execute_result"
    }
   ],
   "source": [
    "nessy.lat"
   ]
  },
  {
   "cell_type": "code",
   "execution_count": 8,
   "metadata": {},
   "outputs": [
    {
     "data": {
      "text/plain": [
       "{'data': masked_array(data=[-5.66247800e+01, -6.83106918e+01, -6.56008333e+01,\n",
       "                    -6.38819444e+01,  1.67666664e+01,  1.29722220e+01,\n",
       "                     1.59422220e+01,  9.92666700e+00,  1.29579400e+01,\n",
       "                     1.39150000e+01,  1.58822220e+01,  1.30161110e+01,\n",
       "                     1.50466670e+01,  1.59194440e+01,  1.55466670e+01,\n",
       "                     1.67305560e+01,  1.66766670e+01,  1.44413890e+01,\n",
       "                     1.43300000e+01,  1.54936111e+01,  5.20361100e+00,\n",
       "                     6.00101900e+00,  4.98944400e+00,  2.47386110e+01,\n",
       "                    -6.48799973e+01, -8.64166565e+01,  7.98500000e+00,\n",
       "                     6.94472200e+00,  8.90472200e+00,  6.97944400e+00,\n",
       "                     8.46388900e+00,  8.17543368e+00, -7.07992300e+01,\n",
       "                    -2.48675200e+01,  3.30578000e+01,  1.60341969e+01,\n",
       "                     1.50802780e+01,  1.36000000e+01,  8.30972200e+00,\n",
       "                     1.07594440e+01,  7.90861100e+00,  1.30333330e+01,\n",
       "                     1.07666670e+01,  1.27249000e+01,  1.10096197e+01,\n",
       "                     1.09796400e+01, -8.26600000e+00,  1.07361600e+01,\n",
       "                    -1.66700000e+01,  1.20857970e+01, -3.84799995e+01,\n",
       "                     8.42748600e+00,  2.59000000e+01,  2.18166670e+01,\n",
       "                    -4.35056000e+00, -8.92361000e+00,  4.31639000e+00,\n",
       "                    -3.53417000e+00, -4.85000000e+00, -3.14250000e+00,\n",
       "                     3.31583000e+00, -6.92361000e+00, -1.10111000e+00,\n",
       "                    -5.89750000e+00,  7.34720000e-01, -7.70472000e+00,\n",
       "                    -6.55528000e+00, -1.64994000e+01,  2.13772220e+01,\n",
       "                     2.76675400e+01,  2.94016670e+01,  2.41161111e+01,\n",
       "                     7.13333300e+00,  4.63333300e+00,  4.08333300e+00,\n",
       "                     1.83333000e-01,  6.83333300e+00, -7.50000000e-01,\n",
       "                     6.46666700e+00,  2.06666700e+00, -4.50000000e-01,\n",
       "                     1.41944000e-01,  2.15888889e+00,  5.27897222e+00,\n",
       "                     2.61000833e+00,  2.96488600e+00, -3.20416700e+00,\n",
       "                    -7.87000000e+00, -3.71305600e+00, -8.07500000e-01,\n",
       "                    -4.77444400e+00, -3.03305600e+00, -3.20500000e+00,\n",
       "                    -1.75333300e+00,  1.79444000e-01,  1.46305600e+00,\n",
       "                    -4.69146200e+00,  2.92778000e-01, -3.24290000e+00,\n",
       "                     1.12194400e+00,  1.08223000e+00, -1.18531900e+00,\n",
       "                    -2.61800000e+01, -1.43822800e+00,  2.30833330e+01,\n",
       "                     2.56666670e+01,  1.95833330e+01,  1.63200000e+01,\n",
       "                     1.00318100e+02, -1.02444440e+01, -9.89944000e+00,\n",
       "                     8.63333300e+00,  1.07000000e+01,  1.26597220e+01,\n",
       "                     1.26305000e+01,  1.25656450e+01,  3.95905556e+01,\n",
       "                     1.41822200e+02,  1.53983300e+02,  1.23010872e+02,\n",
       "                     1.26330002e+02,  1.26163111e+02,  2.10305556e+01,\n",
       "                     2.11730560e+01,  2.59055560e+01,  2.06938900e+01,\n",
       "                     1.42184000e+01,  6.56666700e+00,  6.27722200e+00,\n",
       "                     5.85361100e+00,  4.50000000e+00,  4.92361100e+00,\n",
       "                     8.25200000e+00,  1.39166670e+01,  8.88333300e+00,\n",
       "                     1.18866800e+01,  1.15333330e+01,  3.00333330e+01,\n",
       "                     5.20000000e+00,  1.10781420e+01,  2.53510000e+00,\n",
       "                     9.51666700e+00,  1.74870804e+02,  1.66660004e+02,\n",
       "                     1.69684006e+02,  2.19724190e+01,  1.57395000e+01,\n",
       "                     1.75342640e+01,  2.20666670e+01,  2.19500000e+01,\n",
       "                     1.28918823e+02,  1.53333330e+01,  2.10666670e+01,\n",
       "                     1.19140000e+01,  1.47825000e+01,  1.24030000e+01,\n",
       "                     1.31480000e+01,  1.75052800e+01,  1.55666670e+01,\n",
       "                     1.97666670e+01,  1.54720000e+01,  1.48666670e+01,\n",
       "                     1.50033330e+01,  1.45386110e+01,  1.95833330e+01,\n",
       "                     2.02833330e+01,  2.22666670e+01,  1.78605560e+01,\n",
       "                    -1.56611465e+02, -1.05236800e+02, -1.55576157e+02,\n",
       "                    -2.47999992e+01, -1.24151001e+02,  1.03515700e+02,\n",
       "                     1.84896800e+01],\n",
       "              mask=False,\n",
       "        fill_value=1e+20),\n",
       " 'dimensions': ('station',),\n",
       " 'dtype': dtype('float64'),\n",
       " 'standard_name': 'longitude',\n",
       " 'units': 'decimal degrees East',\n",
       " 'long_name': 'longitude',\n",
       " 'description': 'Geodetic longitude of measuring instrument, in decimal degrees East, following the stated horizontal datum.',\n",
       " 'axis': 'X'}"
      ]
     },
     "execution_count": 8,
     "metadata": {},
     "output_type": "execute_result"
    }
   ],
   "source": [
    "nessy.lon"
   ]
  },
  {
   "cell_type": "markdown",
   "metadata": {},
   "source": [
    "### Read variables"
   ]
  },
  {
   "cell_type": "code",
   "execution_count": 9,
   "metadata": {},
   "outputs": [
    {
     "name": "stdout",
     "output_type": "stream",
     "text": [
      "Rank 000: Loading sconco3 var (1/2)\n",
      "Rank 000: Loaded sconco3 var ((175, 720))\n",
      "Rank 000: Loading station_reference var (2/2)\n",
      "Rank 000: Loaded station_reference var ((175,))\n"
     ]
    }
   ],
   "source": [
    "nessy.load()"
   ]
  },
  {
   "cell_type": "markdown",
   "metadata": {},
   "source": [
    "## 2. Write dataset"
   ]
  },
  {
   "cell_type": "code",
   "execution_count": 10,
   "metadata": {},
   "outputs": [
    {
     "name": "stdout",
     "output_type": "stream",
     "text": [
      "Rank 000: Creating providentia_experiment.nc\n",
      "Rank 000: NetCDF ready to write\n",
      "Rank 000: Dimensions done\n",
      "Rank 000: Writing sconco3 var (1/2)\n",
      "Rank 000: Var sconco3 created (1/2)\n",
      "Rank 000: Filling sconco3)\n",
      "Rank 000: Var sconco3 data (1/2)\n",
      "Rank 000: Var sconco3 completed (1/2)\n"
     ]
    },
    {
     "name": "stderr",
     "output_type": "stream",
     "text": [
      "/esarchive/scratch/avilanova/software/NES/nes/nc_projections/points_nes_providentia.py:366: UserWarning: WARNING!!! Different data types for variable station_reference. Input dtype=<class 'str'>. Data dtype=object.\n",
      "  warnings.warn(msg)\n"
     ]
    },
    {
     "name": "stdout",
     "output_type": "stream",
     "text": [
      "Rank 000: Writing station_reference var (2/2)\n",
      "Rank 000: Var station_reference created (2/2)\n",
      "Rank 000: Filling station_reference)\n",
      "Rank 000: Var station_reference data (2/2)\n",
      "Rank 000: Var station_reference completed (2/2)\n"
     ]
    }
   ],
   "source": [
    "nessy.to_netcdf('providentia_experiment.nc', info=True)"
   ]
  }
 ],
 "metadata": {
  "kernelspec": {
   "display_name": "Python 3",
   "language": "python",
   "name": "python3"
  },
  "language_info": {
   "codemirror_mode": {
    "name": "ipython",
    "version": 3
   },
   "file_extension": ".py",
   "mimetype": "text/x-python",
   "name": "python",
   "nbconvert_exporter": "python",
   "pygments_lexer": "ipython3",
   "version": "3.7.4"
  }
 },
 "nbformat": 4,
 "nbformat_minor": 4
}
