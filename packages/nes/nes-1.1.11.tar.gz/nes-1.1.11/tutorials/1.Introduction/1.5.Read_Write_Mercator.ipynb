{
 "cells": [
  {
   "cell_type": "markdown",
   "metadata": {},
   "source": [
    "# How to read and write Mercator grids"
   ]
  },
  {
   "cell_type": "code",
   "execution_count": 1,
   "metadata": {},
   "outputs": [],
   "source": [
    "import nes\n",
    "import matplotlib\n",
    "import matplotlib.pyplot as plt\n",
    "import geopandas as gpd"
   ]
  },
  {
   "cell_type": "code",
   "execution_count": 2,
   "metadata": {},
   "outputs": [],
   "source": [
    "%matplotlib inline"
   ]
  },
  {
   "cell_type": "markdown",
   "metadata": {},
   "source": [
    "## 1. Open dataset"
   ]
  },
  {
   "cell_type": "code",
   "execution_count": 3,
   "metadata": {},
   "outputs": [],
   "source": [
    "# Original path: None (generated with NES)\n",
    "# Mercator grid\n",
    "path = '/gpfs/projects/bsc32/models/NES_tutorial_data/mercator_grid.nc'"
   ]
  },
  {
   "cell_type": "code",
   "execution_count": 4,
   "metadata": {},
   "outputs": [
    {
     "data": {
      "text/plain": [
       "<nes.nc_projections.mercator_nes.MercatorNes at 0x7f54825ec0d0>"
      ]
     },
     "execution_count": 4,
     "metadata": {},
     "output_type": "execute_result"
    }
   ],
   "source": [
    "nessy = nes.open_netcdf(path, info=True)\n",
    "nessy"
   ]
  },
  {
   "cell_type": "markdown",
   "metadata": {},
   "source": [
    "### Read projection"
   ]
  },
  {
   "cell_type": "code",
   "execution_count": 5,
   "metadata": {},
   "outputs": [
    {
     "data": {
      "text/plain": [
       "<Other Coordinate Operation Transformer: merc>\n",
       "Description: PROJ-based coordinate operation\n",
       "Area of Use:\n",
       "- undefined"
      ]
     },
     "execution_count": 5,
     "metadata": {},
     "output_type": "execute_result"
    }
   ],
   "source": [
    "nessy.projection"
   ]
  },
  {
   "cell_type": "code",
   "execution_count": 6,
   "metadata": {},
   "outputs": [
    {
     "data": {
      "text/plain": [
       "{'grid_mapping_name': 'mercator',\n",
       " 'standard_parallel': np.float64(-1.5),\n",
       " 'longitude_of_projection_origin': np.float64(-18.0)}"
      ]
     },
     "execution_count": 6,
     "metadata": {},
     "output_type": "execute_result"
    }
   ],
   "source": [
    "nessy.projection_data"
   ]
  },
  {
   "cell_type": "markdown",
   "metadata": {},
   "source": [
    "### Read coordinates"
   ]
  },
  {
   "cell_type": "code",
   "execution_count": 7,
   "metadata": {},
   "outputs": [
    {
     "data": {
      "text/plain": [
       "[datetime.datetime(1996, 12, 31, 0, 0)]"
      ]
     },
     "execution_count": 7,
     "metadata": {},
     "output_type": "execute_result"
    }
   ],
   "source": [
    "nessy.time"
   ]
  },
  {
   "cell_type": "code",
   "execution_count": 8,
   "metadata": {},
   "outputs": [
    {
     "data": {
      "text/plain": [
       "{'data': masked_array(data=[0.0],\n",
       "              mask=[False],\n",
       "        fill_value=1e+20),\n",
       " 'dimensions': ('lev',),\n",
       " 'dtype': dtype('float64'),\n",
       " 'units': '1',\n",
       " 'positive': 'up'}"
      ]
     },
     "execution_count": 8,
     "metadata": {},
     "output_type": "execute_result"
    }
   ],
   "source": [
    "nessy.lev"
   ]
  },
  {
   "cell_type": "code",
   "execution_count": 9,
   "metadata": {},
   "outputs": [
    {
     "data": {
      "text/plain": [
       "{'data': masked_array(data=[-101017.5, -51017.5, -1017.5, 48982.5, 98982.5,\n",
       "                    148982.5, 198982.5, 248982.5, 298982.5, 348982.5,\n",
       "                    398982.5, 448982.5, 498982.5, 548982.5, 598982.5,\n",
       "                    648982.5, 698982.5, 748982.5, 798982.5, 848982.5,\n",
       "                    898982.5, 948982.5, 998982.5, 1048982.5, 1098982.5,\n",
       "                    1148982.5, 1198982.5, 1248982.5, 1298982.5, 1348982.5,\n",
       "                    1398982.5, 1448982.5, 1498982.5, 1548982.5, 1598982.5,\n",
       "                    1648982.5, 1698982.5, 1748982.5, 1798982.5, 1848982.5,\n",
       "                    1898982.5, 1948982.5, 1998982.5, 2048982.5, 2098982.5,\n",
       "                    2148982.5, 2198982.5, 2248982.5, 2298982.5, 2348982.5,\n",
       "                    2398982.5, 2448982.5, 2498982.5, 2548982.5, 2598982.5,\n",
       "                    2648982.5, 2698982.5, 2748982.5, 2798982.5, 2848982.5,\n",
       "                    2898982.5, 2948982.5, 2998982.5, 3048982.5, 3098982.5,\n",
       "                    3148982.5, 3198982.5, 3248982.5, 3298982.5, 3348982.5,\n",
       "                    3398982.5, 3448982.5, 3498982.5, 3548982.5, 3598982.5,\n",
       "                    3648982.5, 3698982.5, 3748982.5, 3798982.5, 3848982.5,\n",
       "                    3898982.5, 3948982.5, 3998982.5, 4048982.5, 4098982.5,\n",
       "                    4148982.5, 4198982.5, 4248982.5, 4298982.5, 4348982.5,\n",
       "                    4398982.5, 4448982.5, 4498982.5, 4548982.5, 4598982.5,\n",
       "                    4648982.5, 4698982.5, 4748982.5, 4798982.5, 4848982.5,\n",
       "                    4898982.5, 4948982.5, 4998982.5, 5048982.5, 5098982.5,\n",
       "                    5148982.5, 5198982.5, 5248982.5, 5298982.5, 5348982.5,\n",
       "                    5398982.5, 5448982.5, 5498982.5, 5548982.5, 5598982.5,\n",
       "                    5648982.5, 5698982.5, 5748982.5, 5798982.5, 5848982.5,\n",
       "                    5898982.5, 5948982.5, 5998982.5, 6048982.5, 6098982.5,\n",
       "                    6148982.5, 6198982.5, 6248982.5, 6298982.5, 6348982.5,\n",
       "                    6398982.5, 6448982.5, 6498982.5, 6548982.5, 6598982.5,\n",
       "                    6648982.5, 6698982.5, 6748982.5, 6798982.5, 6848982.5,\n",
       "                    6898982.5, 6948982.5, 6998982.5, 7048982.5, 7098982.5,\n",
       "                    7148982.5, 7198982.5, 7248982.5, 7298982.5, 7348982.5,\n",
       "                    7398982.5, 7448982.5, 7498982.5, 7548982.5, 7598982.5,\n",
       "                    7648982.5, 7698982.5, 7748982.5, 7798982.5, 7848982.5,\n",
       "                    7898982.5, 7948982.5, 7998982.5, 8048982.5, 8098982.5,\n",
       "                    8148982.5, 8198982.5, 8248982.5, 8298982.5, 8348982.5,\n",
       "                    8398982.5, 8448982.5, 8498982.5, 8548982.5, 8598982.5,\n",
       "                    8648982.5, 8698982.5, 8748982.5, 8798982.5, 8848982.5,\n",
       "                    8898982.5, 8948982.5, 8998982.5, 9048982.5, 9098982.5,\n",
       "                    9148982.5, 9198982.5, 9248982.5, 9298982.5, 9348982.5,\n",
       "                    9398982.5, 9448982.5, 9498982.5, 9548982.5, 9598982.5,\n",
       "                    9648982.5, 9698982.5, 9748982.5, 9798982.5, 9848982.5,\n",
       "                    9898982.5, 9948982.5, 9998982.5, 10048982.5,\n",
       "                    10098982.5, 10148982.5, 10198982.5, 10248982.5,\n",
       "                    10298982.5, 10348982.5],\n",
       "              mask=[False, False, False, False, False, False, False, False,\n",
       "                    False, False, False, False, False, False, False, False,\n",
       "                    False, False, False, False, False, False, False, False,\n",
       "                    False, False, False, False, False, False, False, False,\n",
       "                    False, False, False, False, False, False, False, False,\n",
       "                    False, False, False, False, False, False, False, False,\n",
       "                    False, False, False, False, False, False, False, False,\n",
       "                    False, False, False, False, False, False, False, False,\n",
       "                    False, False, False, False, False, False, False, False,\n",
       "                    False, False, False, False, False, False, False, False,\n",
       "                    False, False, False, False, False, False, False, False,\n",
       "                    False, False, False, False, False, False, False, False,\n",
       "                    False, False, False, False, False, False, False, False,\n",
       "                    False, False, False, False, False, False, False, False,\n",
       "                    False, False, False, False, False, False, False, False,\n",
       "                    False, False, False, False, False, False, False, False,\n",
       "                    False, False, False, False, False, False, False, False,\n",
       "                    False, False, False, False, False, False, False, False,\n",
       "                    False, False, False, False, False, False, False, False,\n",
       "                    False, False, False, False, False, False, False, False,\n",
       "                    False, False, False, False, False, False, False, False,\n",
       "                    False, False, False, False, False, False, False, False,\n",
       "                    False, False, False, False, False, False, False, False,\n",
       "                    False, False, False, False, False, False, False, False,\n",
       "                    False, False, False, False, False, False, False, False,\n",
       "                    False, False, False, False, False, False, False, False,\n",
       "                    False, False],\n",
       "        fill_value=1e+20),\n",
       " 'dimensions': ('x',),\n",
       " 'dtype': dtype('float64'),\n",
       " 'long_name': 'x coordinate of projection',\n",
       " 'units': 'm',\n",
       " 'standard_name': 'projection_x_coordinate'}"
      ]
     },
     "execution_count": 9,
     "metadata": {},
     "output_type": "execute_result"
    }
   ],
   "source": [
    "nessy.x"
   ]
  },
  {
   "cell_type": "code",
   "execution_count": 10,
   "metadata": {},
   "outputs": [
    {
     "data": {
      "text/plain": [
       "{'data': masked_array(data=[-5382460.0, -5332460.0, -5282460.0, -5232460.0,\n",
       "                    -5182460.0, -5132460.0, -5082460.0, -5032460.0,\n",
       "                    -4982460.0, -4932460.0, -4882460.0, -4832460.0,\n",
       "                    -4782460.0, -4732460.0, -4682460.0, -4632460.0,\n",
       "                    -4582460.0, -4532460.0, -4482460.0, -4432460.0,\n",
       "                    -4382460.0, -4332460.0, -4282460.0, -4232460.0,\n",
       "                    -4182460.0, -4132460.0, -4082460.0, -4032460.0,\n",
       "                    -3982460.0, -3932460.0, -3882460.0, -3832460.0,\n",
       "                    -3782460.0, -3732460.0, -3682460.0, -3632460.0,\n",
       "                    -3582460.0, -3532460.0, -3482460.0, -3432460.0,\n",
       "                    -3382460.0, -3332460.0, -3282460.0, -3232460.0,\n",
       "                    -3182460.0, -3132460.0, -3082460.0, -3032460.0,\n",
       "                    -2982460.0, -2932460.0, -2882460.0, -2832460.0,\n",
       "                    -2782460.0, -2732460.0, -2682460.0, -2632460.0,\n",
       "                    -2582460.0, -2532460.0, -2482460.0, -2432460.0,\n",
       "                    -2382460.0, -2332460.0, -2282460.0, -2232460.0,\n",
       "                    -2182460.0, -2132460.0, -2082460.0, -2032460.0,\n",
       "                    -1982460.0, -1932460.0, -1882460.0, -1832460.0,\n",
       "                    -1782460.0, -1732460.0, -1682460.0, -1632460.0,\n",
       "                    -1582460.0, -1532460.0, -1482460.0, -1432460.0,\n",
       "                    -1382460.0, -1332460.0, -1282460.0, -1232460.0,\n",
       "                    -1182460.0, -1132460.0, -1082460.0, -1032460.0,\n",
       "                    -982460.0, -932460.0, -882460.0, -832460.0, -782460.0,\n",
       "                    -732460.0, -682460.0, -632460.0, -582460.0, -532460.0,\n",
       "                    -482460.0, -432460.0, -382460.0, -332460.0, -282460.0,\n",
       "                    -232460.0, -182460.0, -132460.0, -82460.0, -32460.0,\n",
       "                    17540.0, 67540.0, 117540.0, 167540.0, 217540.0,\n",
       "                    267540.0, 317540.0, 367540.0, 417540.0, 467540.0,\n",
       "                    517540.0, 567540.0, 617540.0, 667540.0, 717540.0,\n",
       "                    767540.0, 817540.0, 867540.0, 917540.0, 967540.0,\n",
       "                    1017540.0, 1067540.0, 1117540.0, 1167540.0, 1217540.0,\n",
       "                    1267540.0, 1317540.0, 1367540.0, 1417540.0, 1467540.0,\n",
       "                    1517540.0, 1567540.0, 1617540.0, 1667540.0, 1717540.0,\n",
       "                    1767540.0, 1817540.0, 1867540.0, 1917540.0, 1967540.0,\n",
       "                    2017540.0, 2067540.0, 2117540.0, 2167540.0, 2217540.0,\n",
       "                    2267540.0, 2317540.0, 2367540.0, 2417540.0, 2467540.0,\n",
       "                    2517540.0, 2567540.0, 2617540.0, 2667540.0, 2717540.0,\n",
       "                    2767540.0, 2817540.0, 2867540.0, 2917540.0, 2967540.0,\n",
       "                    3017540.0, 3067540.0, 3117540.0, 3167540.0, 3217540.0,\n",
       "                    3267540.0, 3317540.0, 3367540.0, 3417540.0, 3467540.0,\n",
       "                    3517540.0, 3567540.0, 3617540.0, 3667540.0, 3717540.0,\n",
       "                    3767540.0, 3817540.0, 3867540.0, 3917540.0, 3967540.0,\n",
       "                    4017540.0, 4067540.0, 4117540.0, 4167540.0, 4217540.0,\n",
       "                    4267540.0, 4317540.0, 4367540.0, 4417540.0, 4467540.0,\n",
       "                    4517540.0, 4567540.0, 4617540.0, 4667540.0, 4717540.0,\n",
       "                    4767540.0, 4817540.0, 4867540.0, 4917540.0, 4967540.0,\n",
       "                    5017540.0, 5067540.0, 5117540.0, 5167540.0, 5217540.0,\n",
       "                    5267540.0, 5317540.0, 5367540.0, 5417540.0, 5467540.0,\n",
       "                    5517540.0, 5567540.0, 5617540.0, 5667540.0, 5717540.0,\n",
       "                    5767540.0, 5817540.0, 5867540.0, 5917540.0, 5967540.0,\n",
       "                    6017540.0, 6067540.0, 6117540.0, 6167540.0, 6217540.0,\n",
       "                    6267540.0, 6317540.0, 6367540.0],\n",
       "              mask=[False, False, False, False, False, False, False, False,\n",
       "                    False, False, False, False, False, False, False, False,\n",
       "                    False, False, False, False, False, False, False, False,\n",
       "                    False, False, False, False, False, False, False, False,\n",
       "                    False, False, False, False, False, False, False, False,\n",
       "                    False, False, False, False, False, False, False, False,\n",
       "                    False, False, False, False, False, False, False, False,\n",
       "                    False, False, False, False, False, False, False, False,\n",
       "                    False, False, False, False, False, False, False, False,\n",
       "                    False, False, False, False, False, False, False, False,\n",
       "                    False, False, False, False, False, False, False, False,\n",
       "                    False, False, False, False, False, False, False, False,\n",
       "                    False, False, False, False, False, False, False, False,\n",
       "                    False, False, False, False, False, False, False, False,\n",
       "                    False, False, False, False, False, False, False, False,\n",
       "                    False, False, False, False, False, False, False, False,\n",
       "                    False, False, False, False, False, False, False, False,\n",
       "                    False, False, False, False, False, False, False, False,\n",
       "                    False, False, False, False, False, False, False, False,\n",
       "                    False, False, False, False, False, False, False, False,\n",
       "                    False, False, False, False, False, False, False, False,\n",
       "                    False, False, False, False, False, False, False, False,\n",
       "                    False, False, False, False, False, False, False, False,\n",
       "                    False, False, False, False, False, False, False, False,\n",
       "                    False, False, False, False, False, False, False, False,\n",
       "                    False, False, False, False, False, False, False, False,\n",
       "                    False, False, False, False, False, False, False, False,\n",
       "                    False, False, False, False, False, False, False, False,\n",
       "                    False, False, False, False, False, False, False, False,\n",
       "                    False, False, False, False],\n",
       "        fill_value=1e+20),\n",
       " 'dimensions': ('y',),\n",
       " 'dtype': dtype('float64'),\n",
       " 'long_name': 'y coordinate of projection',\n",
       " 'units': 'm',\n",
       " 'standard_name': 'projection_y_coordinate'}"
      ]
     },
     "execution_count": 10,
     "metadata": {},
     "output_type": "execute_result"
    }
   ],
   "source": [
    "nessy.y"
   ]
  },
  {
   "cell_type": "markdown",
   "metadata": {},
   "source": [
    "Variables are built with `x`, `y`, `lev` and `time`as main dimensions, but the coordinates `lat` and `lon` remain accessible"
   ]
  },
  {
   "cell_type": "code",
   "execution_count": 11,
   "metadata": {},
   "outputs": [
    {
     "data": {
      "text/plain": [
       "{'data': masked_array(\n",
       "   data=[[-43.665382599283845, -43.665382599283845, -43.665382599283845,\n",
       "          ..., -43.665382599283845, -43.665382599283845,\n",
       "          -43.665382599283845],\n",
       "         [-43.3383198281556, -43.3383198281556, -43.3383198281556, ...,\n",
       "          -43.3383198281556, -43.3383198281556, -43.3383198281556],\n",
       "         [-43.00947315658753, -43.00947315658753, -43.00947315658753, ...,\n",
       "          -43.00947315658753, -43.00947315658753, -43.00947315658753],\n",
       "         ...,\n",
       "         [49.15978847400304, 49.15978847400304, 49.15978847400304, ...,\n",
       "          49.15978847400304, 49.15978847400304, 49.15978847400304],\n",
       "         [49.45358158053643, 49.45358158053643, 49.45358158053643, ...,\n",
       "          49.45358158053643, 49.45358158053643, 49.45358158053643],\n",
       "         [49.74561434108755, 49.74561434108755, 49.74561434108755, ...,\n",
       "          49.74561434108755, 49.74561434108755, 49.74561434108755]],\n",
       "   mask=[[False, False, False, ..., False, False, False],\n",
       "         [False, False, False, ..., False, False, False],\n",
       "         [False, False, False, ..., False, False, False],\n",
       "         ...,\n",
       "         [False, False, False, ..., False, False, False],\n",
       "         [False, False, False, ..., False, False, False],\n",
       "         [False, False, False, ..., False, False, False]],\n",
       "   fill_value=1e+20),\n",
       " 'dimensions': ('y', 'x'),\n",
       " 'dtype': dtype('float64'),\n",
       " 'units': 'degrees_north',\n",
       " 'axis': 'Y',\n",
       " 'long_name': 'latitude coordinate',\n",
       " 'standard_name': 'latitude'}"
      ]
     },
     "execution_count": 11,
     "metadata": {},
     "output_type": "execute_result"
    }
   ],
   "source": [
    "nessy.lat"
   ]
  },
  {
   "cell_type": "code",
   "execution_count": 12,
   "metadata": {},
   "outputs": [
    {
     "data": {
      "text/plain": [
       "{'data': masked_array(\n",
       "   data=[[-18.907764629055805, -18.458454049673122, -18.00914347029044,\n",
       "          ..., 74.09952530315982, 74.54883588254252, 74.99814646192519],\n",
       "         [-18.907764629055805, -18.458454049673122, -18.00914347029044,\n",
       "          ..., 74.09952530315982, 74.54883588254252, 74.99814646192519],\n",
       "         [-18.907764629055805, -18.458454049673122, -18.00914347029044,\n",
       "          ..., 74.09952530315982, 74.54883588254252, 74.99814646192519],\n",
       "         ...,\n",
       "         [-18.907764629055805, -18.458454049673122, -18.00914347029044,\n",
       "          ..., 74.09952530315982, 74.54883588254252, 74.99814646192519],\n",
       "         [-18.907764629055805, -18.458454049673122, -18.00914347029044,\n",
       "          ..., 74.09952530315982, 74.54883588254252, 74.99814646192519],\n",
       "         [-18.907764629055805, -18.458454049673122, -18.00914347029044,\n",
       "          ..., 74.09952530315982, 74.54883588254252, 74.99814646192519]],\n",
       "   mask=[[False, False, False, ..., False, False, False],\n",
       "         [False, False, False, ..., False, False, False],\n",
       "         [False, False, False, ..., False, False, False],\n",
       "         ...,\n",
       "         [False, False, False, ..., False, False, False],\n",
       "         [False, False, False, ..., False, False, False],\n",
       "         [False, False, False, ..., False, False, False]],\n",
       "   fill_value=1e+20),\n",
       " 'dimensions': ('y', 'x'),\n",
       " 'dtype': dtype('float64'),\n",
       " 'units': 'degrees_east',\n",
       " 'axis': 'X',\n",
       " 'long_name': 'longitude coordinate',\n",
       " 'standard_name': 'longitude'}"
      ]
     },
     "execution_count": 12,
     "metadata": {},
     "output_type": "execute_result"
    }
   ],
   "source": [
    "nessy.lon"
   ]
  },
  {
   "cell_type": "markdown",
   "metadata": {},
   "source": [
    "### Read variables"
   ]
  },
  {
   "cell_type": "markdown",
   "metadata": {},
   "source": [
    "This dataset has no variables data"
   ]
  },
  {
   "cell_type": "code",
   "execution_count": 13,
   "metadata": {},
   "outputs": [
    {
     "data": {
      "text/plain": [
       "{}"
      ]
     },
     "execution_count": 13,
     "metadata": {},
     "output_type": "execute_result"
    }
   ],
   "source": [
    "nessy.variables"
   ]
  },
  {
   "cell_type": "markdown",
   "metadata": {},
   "source": [
    "## 2. Write dataset"
   ]
  },
  {
   "cell_type": "markdown",
   "metadata": {},
   "source": [
    "### Write NetCDF"
   ]
  },
  {
   "cell_type": "code",
   "execution_count": 14,
   "metadata": {},
   "outputs": [
    {
     "name": "stdout",
     "output_type": "stream",
     "text": [
      "Rank 000: Creating mercator_grid.nc\n",
      "Rank 000: NetCDF ready to write\n",
      "Rank 000: Dimensions done\n"
     ]
    }
   ],
   "source": [
    "nessy.to_netcdf('mercator_grid.nc', info=True)"
   ]
  },
  {
   "cell_type": "markdown",
   "metadata": {},
   "source": [
    "### Write shapefile"
   ]
  },
  {
   "cell_type": "code",
   "execution_count": 15,
   "metadata": {},
   "outputs": [
    {
     "name": "stderr",
     "output_type": "stream",
     "text": [
      "/home/bsc/bsc032781/.local/lib/python3.9/site-packages/nes/nc_projections/default_nes.py:3805: UserWarning: No vertical level has been specified. The first one will be selected.\n",
      "  warn(msg)\n",
      "/home/bsc/bsc032781/.local/lib/python3.9/site-packages/nes/nc_projections/default_nes.py:3816: UserWarning: No time has been specified. The first one will be selected.\n",
      "  warn(msg)\n"
     ]
    }
   ],
   "source": [
    "nessy.to_shapefile('mercator_grid_shp')"
   ]
  }
 ],
 "metadata": {
  "kernelspec": {
   "display_name": "Python 3 (ipykernel)",
   "language": "python",
   "name": "python3"
  },
  "language_info": {
   "codemirror_mode": {
    "name": "ipython",
    "version": 3
   },
   "file_extension": ".py",
   "mimetype": "text/x-python",
   "name": "python",
   "nbconvert_exporter": "python",
   "pygments_lexer": "ipython3",
   "version": "3.9.16"
  }
 },
 "nbformat": 4,
 "nbformat_minor": 4
}
