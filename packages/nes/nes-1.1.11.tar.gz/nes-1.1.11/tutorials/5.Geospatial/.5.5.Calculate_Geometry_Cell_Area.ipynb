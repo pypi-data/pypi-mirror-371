{
 "cells": [
  {
   "cell_type": "markdown",
   "metadata": {},
   "source": [
    "# Calculate the area of each cell of a set of geometries"
   ]
  },
  {
   "cell_type": "code",
   "execution_count": 1,
   "metadata": {},
   "outputs": [],
   "source": [
    "import nes"
   ]
  },
  {
   "cell_type": "markdown",
   "metadata": {},
   "source": [
    "## 1. Get geometries from grid"
   ]
  },
  {
   "cell_type": "code",
   "execution_count": 2,
   "metadata": {},
   "outputs": [],
   "source": [
    "lat_1 = 37\n",
    "lat_2 = 43\n",
    "lon_0 = -3\n",
    "lat_0 = 40\n",
    "nx = 10\n",
    "ny = 15\n",
    "inc_x = 4000\n",
    "inc_y = 4000\n",
    "x_0 = -807847.688\n",
    "y_0 = -797137.125\n",
    "lcc_grid = nes.create_nes(comm=None, info=False, projection='lcc',\n",
    "                          lat_1=lat_1, lat_2=lat_2, lon_0=lon_0, lat_0=lat_0, \n",
    "                          nx=nx, ny=ny, inc_x=inc_x, inc_y=inc_y, x_0=x_0, y_0=y_0)"
   ]
  },
  {
   "cell_type": "code",
   "execution_count": 3,
   "metadata": {},
   "outputs": [
    {
     "data": {
      "text/html": [
       "<div>\n",
       "<style scoped>\n",
       "    .dataframe tbody tr th:only-of-type {\n",
       "        vertical-align: middle;\n",
       "    }\n",
       "\n",
       "    .dataframe tbody tr th {\n",
       "        vertical-align: top;\n",
       "    }\n",
       "\n",
       "    .dataframe thead th {\n",
       "        text-align: right;\n",
       "    }\n",
       "</style>\n",
       "<table border=\"1\" class=\"dataframe\">\n",
       "  <thead>\n",
       "    <tr style=\"text-align: right;\">\n",
       "      <th></th>\n",
       "      <th>geometry</th>\n",
       "    </tr>\n",
       "    <tr>\n",
       "      <th>FID</th>\n",
       "      <th></th>\n",
       "    </tr>\n",
       "  </thead>\n",
       "  <tbody>\n",
       "    <tr>\n",
       "      <th>0</th>\n",
       "      <td>POLYGON ((-11.58393 32.47507, -11.54169 32.478...</td>\n",
       "    </tr>\n",
       "    <tr>\n",
       "      <th>1</th>\n",
       "      <td>POLYGON ((-11.54169 32.47851, -11.49944 32.481...</td>\n",
       "    </tr>\n",
       "    <tr>\n",
       "      <th>2</th>\n",
       "      <td>POLYGON ((-11.49944 32.48192, -11.45719 32.485...</td>\n",
       "    </tr>\n",
       "    <tr>\n",
       "      <th>3</th>\n",
       "      <td>POLYGON ((-11.45719 32.48533, -11.41494 32.488...</td>\n",
       "    </tr>\n",
       "    <tr>\n",
       "      <th>4</th>\n",
       "      <td>POLYGON ((-11.41494 32.48871, -11.37268 32.492...</td>\n",
       "    </tr>\n",
       "    <tr>\n",
       "      <th>...</th>\n",
       "      <td>...</td>\n",
       "    </tr>\n",
       "    <tr>\n",
       "      <th>145</th>\n",
       "      <td>POLYGON ((-11.42882 32.99135, -11.38628 32.994...</td>\n",
       "    </tr>\n",
       "    <tr>\n",
       "      <th>146</th>\n",
       "      <td>POLYGON ((-11.38628 32.99473, -11.34373 32.998...</td>\n",
       "    </tr>\n",
       "    <tr>\n",
       "      <th>147</th>\n",
       "      <td>POLYGON ((-11.34373 32.99809, -11.30118 33.001...</td>\n",
       "    </tr>\n",
       "    <tr>\n",
       "      <th>148</th>\n",
       "      <td>POLYGON ((-11.30118 33.00143, -11.25863 33.004...</td>\n",
       "    </tr>\n",
       "    <tr>\n",
       "      <th>149</th>\n",
       "      <td>POLYGON ((-11.25863 33.00476, -11.21607 33.008...</td>\n",
       "    </tr>\n",
       "  </tbody>\n",
       "</table>\n",
       "<p>150 rows × 1 columns</p>\n",
       "</div>"
      ],
      "text/plain": [
       "                                              geometry\n",
       "FID                                                   \n",
       "0    POLYGON ((-11.58393 32.47507, -11.54169 32.478...\n",
       "1    POLYGON ((-11.54169 32.47851, -11.49944 32.481...\n",
       "2    POLYGON ((-11.49944 32.48192, -11.45719 32.485...\n",
       "3    POLYGON ((-11.45719 32.48533, -11.41494 32.488...\n",
       "4    POLYGON ((-11.41494 32.48871, -11.37268 32.492...\n",
       "..                                                 ...\n",
       "145  POLYGON ((-11.42882 32.99135, -11.38628 32.994...\n",
       "146  POLYGON ((-11.38628 32.99473, -11.34373 32.998...\n",
       "147  POLYGON ((-11.34373 32.99809, -11.30118 33.001...\n",
       "148  POLYGON ((-11.30118 33.00143, -11.25863 33.004...\n",
       "149  POLYGON ((-11.25863 33.00476, -11.21607 33.008...\n",
       "\n",
       "[150 rows x 1 columns]"
      ]
     },
     "execution_count": 3,
     "metadata": {},
     "output_type": "execute_result"
    }
   ],
   "source": [
    "lcc_grid.create_shapefile()"
   ]
  },
  {
   "cell_type": "code",
   "execution_count": 4,
   "metadata": {},
   "outputs": [
    {
     "data": {
      "text/plain": [
       "<GeometryArray>\n",
       "[<shapely.geometry.polygon.Polygon object at 0x7f760ef87750>,\n",
       " <shapely.geometry.polygon.Polygon object at 0x7f760ef87950>,\n",
       " <shapely.geometry.polygon.Polygon object at 0x7f760ef87f10>,\n",
       " <shapely.geometry.polygon.Polygon object at 0x7f760ef87a10>,\n",
       " <shapely.geometry.polygon.Polygon object at 0x7f760ef87750>,\n",
       " <shapely.geometry.polygon.Polygon object at 0x7f760ef87f10>,\n",
       " <shapely.geometry.polygon.Polygon object at 0x7f760ef87950>,\n",
       " <shapely.geometry.polygon.Polygon object at 0x7f760ef87f50>,\n",
       " <shapely.geometry.polygon.Polygon object at 0x7f760ef87f10>,\n",
       " <shapely.geometry.polygon.Polygon object at 0x7f760ef87f50>,\n",
       " ...\n",
       " <shapely.geometry.polygon.Polygon object at 0x7f760ef87890>,\n",
       " <shapely.geometry.polygon.Polygon object at 0x7f760ef87950>,\n",
       " <shapely.geometry.polygon.Polygon object at 0x7f760ef87a10>,\n",
       " <shapely.geometry.polygon.Polygon object at 0x7f760ef87f10>,\n",
       " <shapely.geometry.polygon.Polygon object at 0x7f760ef87890>,\n",
       " <shapely.geometry.polygon.Polygon object at 0x7f760ef87a10>,\n",
       " <shapely.geometry.polygon.Polygon object at 0x7f760ef87950>,\n",
       " <shapely.geometry.polygon.Polygon object at 0x7f760ef87890>,\n",
       " <shapely.geometry.polygon.Polygon object at 0x7f760ef87a10>,\n",
       " <shapely.geometry.polygon.Polygon object at 0x7f760ef87890>]\n",
       "Length: 150, dtype: geometry"
      ]
     },
     "execution_count": 4,
     "metadata": {},
     "output_type": "execute_result"
    }
   ],
   "source": [
    "geometry_list = lcc_grid.shapefile['geometry'].values\n",
    "geometry_list"
   ]
  },
  {
   "cell_type": "markdown",
   "metadata": {},
   "source": [
    "## 2. Calculate area of each polygon"
   ]
  },
  {
   "cell_type": "code",
   "execution_count": 5,
   "metadata": {},
   "outputs": [
    {
     "data": {
      "text/plain": [
       "array([15830419.37602491, 15830657.31464759, 15830893.98187641,\n",
       "       15831129.37902908, 15831363.50737192, 15831596.36818251,\n",
       "       15831827.96271216, 15832058.29223234, 15832287.3580128 ,\n",
       "       15832515.16128843, 15832888.43944364, 15833125.4618577 ,\n",
       "       15833361.21722112, 15833595.70682441, 15833828.93193695,\n",
       "       15834060.89385057, 15834291.59384502, 15834521.03319032,\n",
       "       15834749.2131148 , 15834976.13488906, 15835346.79240354,\n",
       "       15835582.8966068 , 15835817.73809013, 15836051.31816116,\n",
       "       15836283.63810613, 15836514.69920246, 15836744.50270247,\n",
       "       15836973.04988706, 15837200.34204102, 15837426.38040528,\n",
       "       15837794.42326163, 15838029.60727211, 15838263.53292125,\n",
       "       15838496.20149222, 15838727.61427387, 15838957.77256741,\n",
       "       15839186.6776418 , 15839414.33076289, 15839640.73319616,\n",
       "       15839865.88622452, 15840231.32048458, 15840465.58229638,\n",
       "       15840698.59009752, 15840930.34519075, 15841160.84885779,\n",
       "       15841390.10239228, 15841618.10708416, 15841844.86421011,\n",
       "       15842070.37502717, 15842294.64079978, 15842657.47252579,\n",
       "       15842890.8101492 , 15843122.89812364, 15843353.73774392,\n",
       "       15843583.33033225, 15843811.67716125, 15844038.77951487,\n",
       "       15844264.63868577, 15844489.2559287 , 15844712.63252152,\n",
       "       15845072.86781775, 15845305.27923895, 15845536.44539522,\n",
       "       15845766.36759449, 15845995.04712501, 15846222.4852872 ,\n",
       "       15846448.68336277, 15846673.64263782, 15846897.36439707,\n",
       "       15847119.84990175, 15847477.49487919, 15847708.97812176,\n",
       "       15847939.22047551, 15848168.22324328, 15848395.9877448 ,\n",
       "       15848622.51527306, 15848847.8071165 , 15849071.86456124,\n",
       "       15849294.68888149, 15849516.28136931, 15849871.34221948,\n",
       "       15850101.89526329, 15850331.21182007, 15850559.293196  ,\n",
       "       15850786.14069547, 15851011.75562783, 15851236.13929178,\n",
       "       15851459.2929683 , 15851681.21793849, 15851901.91547563,\n",
       "       15852254.39832998, 15852484.01919013, 15852712.40796391,\n",
       "       15852939.56596235, 15853165.49449526, 15853390.19487267,\n",
       "       15853613.66838107, 15853835.91632964, 15854056.94000432,\n",
       "       15854276.74067481, 15854626.65180506, 15854855.33845814,\n",
       "       15855082.79744119, 15855309.03006979, 15855534.03765641,\n",
       "       15855757.82150882, 15855980.3829386 , 15856201.72323178,\n",
       "       15856421.84367417, 15856640.74556485, 15856988.09116465,\n",
       "       15857215.84163662, 15857442.36884046, 15857667.67411114,\n",
       "       15857891.75877949, 15858114.62415727, 15858336.27153077,\n",
       "       15858556.70220796, 15858775.91748785, 15858993.91865496,\n",
       "       15859338.70502081, 15859565.51727597, 15859791.11070865,\n",
       "       15860015.48665859, 15860238.64643876, 15860460.59134635,\n",
       "       15860681.3227187 , 15860900.84184616, 15861119.15002387,\n",
       "       15861336.24853621, 15861678.48197006, 15861904.35401631,\n",
       "       15862129.01168405, 15862352.45630977, 15862574.68920346,\n",
       "       15862795.71170322, 15863015.52510921, 15863234.13072645,\n",
       "       15863451.52986768, 15863667.72381984, 15864007.41061145,\n",
       "       15864232.34043731, 15864456.06035349, 15864678.57167045,\n",
       "       15864899.87571356, 15865119.97382447, 15865338.86731228,\n",
       "       15865556.55748565, 15865773.04563914, 15865988.33307546])"
      ]
     },
     "execution_count": 5,
     "metadata": {},
     "output_type": "execute_result"
    }
   ],
   "source": [
    "geometry_area = calculate_geometry_area(geometry_list)\n",
    "geometry_area"
   ]
  }
 ],
 "metadata": {
  "kernelspec": {
   "display_name": "Python 3",
   "language": "python",
   "name": "python3"
  },
  "language_info": {
   "codemirror_mode": {
    "name": "ipython",
    "version": 3
   },
   "file_extension": ".py",
   "mimetype": "text/x-python",
   "name": "python",
   "nbconvert_exporter": "python",
   "pygments_lexer": "ipython3",
   "version": "3.7.4"
  },
  "vscode": {
   "interpreter": {
    "hash": "31f2aee4e71d21fbe5cf8b01ff0e069b9275f58929596ceb00d14d90e3e16cd6"
   }
  }
 },
 "nbformat": 4,
 "nbformat_minor": 4
}
