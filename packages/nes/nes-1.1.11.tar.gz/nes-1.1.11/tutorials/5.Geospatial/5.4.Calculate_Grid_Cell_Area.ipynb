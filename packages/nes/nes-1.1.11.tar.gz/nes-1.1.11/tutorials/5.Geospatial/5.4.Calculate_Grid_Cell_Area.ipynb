{
 "cells": [
  {
   "cell_type": "markdown",
   "metadata": {},
   "source": [
    "# Calculate the area of each cell of a grid"
   ]
  },
  {
   "cell_type": "code",
   "execution_count": 1,
   "metadata": {},
   "outputs": [],
   "source": [
    "import nes\n",
    "import numpy as np\n",
    "import xarray as xr\n",
    "import matplotlib.pyplot as plt"
   ]
  },
  {
   "cell_type": "code",
   "execution_count": 2,
   "metadata": {},
   "outputs": [],
   "source": [
    "%matplotlib inline"
   ]
  },
  {
   "cell_type": "markdown",
   "metadata": {},
   "source": [
    "## 1. Create dataset"
   ]
  },
  {
   "cell_type": "markdown",
   "metadata": {},
   "source": [
    "### Define grid details\n",
    "\n",
    "This corresponds to a regular grid for CALIOPE IP"
   ]
  },
  {
   "cell_type": "code",
   "execution_count": 3,
   "metadata": {},
   "outputs": [],
   "source": [
    "projection='lcc'\n",
    "lat_1 = 37\n",
    "lat_2 = 43\n",
    "lon_0 = -3\n",
    "lat_0 = 40\n",
    "nx = 10\n",
    "ny = 15\n",
    "inc_x = 4000\n",
    "inc_y = 4000\n",
    "x_0 = -807847.688\n",
    "y_0 = -797137.125\n",
    "nessy = nes.create_nes(comm=None, info=False, projection=projection,\n",
    "                       lat_1=lat_1, lat_2=lat_2, lon_0=lon_0, lat_0=lat_0, \n",
    "                       nx=nx, ny=ny, inc_x=inc_x, inc_y=inc_y, x_0=x_0, y_0=y_0)"
   ]
  },
  {
   "cell_type": "markdown",
   "metadata": {},
   "source": [
    "We add data to our recently created grid and coordinate bounds, so we can calculate the cell area using CDO"
   ]
  },
  {
   "cell_type": "code",
   "execution_count": 4,
   "metadata": {},
   "outputs": [],
   "source": [
    "nessy.variables['aux'] = {'data': np.ones((1, 1, len(nessy.y['data']), len(nessy.x['data'])))}"
   ]
  },
  {
   "cell_type": "code",
   "execution_count": 5,
   "metadata": {},
   "outputs": [
    {
     "data": {
      "text/html": [
       "<div>\n",
       "<style scoped>\n",
       "    .dataframe tbody tr th:only-of-type {\n",
       "        vertical-align: middle;\n",
       "    }\n",
       "\n",
       "    .dataframe tbody tr th {\n",
       "        vertical-align: top;\n",
       "    }\n",
       "\n",
       "    .dataframe thead th {\n",
       "        text-align: right;\n",
       "    }\n",
       "</style>\n",
       "<table border=\"1\" class=\"dataframe\">\n",
       "  <thead>\n",
       "    <tr style=\"text-align: right;\">\n",
       "      <th></th>\n",
       "      <th>geometry</th>\n",
       "    </tr>\n",
       "    <tr>\n",
       "      <th>FID</th>\n",
       "      <th></th>\n",
       "    </tr>\n",
       "  </thead>\n",
       "  <tbody>\n",
       "    <tr>\n",
       "      <th>0</th>\n",
       "      <td>POLYGON ((-11.58393 32.47507, -11.54169 32.478...</td>\n",
       "    </tr>\n",
       "    <tr>\n",
       "      <th>1</th>\n",
       "      <td>POLYGON ((-11.54169 32.47851, -11.49944 32.481...</td>\n",
       "    </tr>\n",
       "    <tr>\n",
       "      <th>2</th>\n",
       "      <td>POLYGON ((-11.49944 32.48192, -11.45719 32.485...</td>\n",
       "    </tr>\n",
       "    <tr>\n",
       "      <th>3</th>\n",
       "      <td>POLYGON ((-11.45719 32.48533, -11.41494 32.488...</td>\n",
       "    </tr>\n",
       "    <tr>\n",
       "      <th>4</th>\n",
       "      <td>POLYGON ((-11.41494 32.48871, -11.37268 32.492...</td>\n",
       "    </tr>\n",
       "    <tr>\n",
       "      <th>...</th>\n",
       "      <td>...</td>\n",
       "    </tr>\n",
       "    <tr>\n",
       "      <th>145</th>\n",
       "      <td>POLYGON ((-11.42882 32.99135, -11.38628 32.994...</td>\n",
       "    </tr>\n",
       "    <tr>\n",
       "      <th>146</th>\n",
       "      <td>POLYGON ((-11.38628 32.99473, -11.34373 32.998...</td>\n",
       "    </tr>\n",
       "    <tr>\n",
       "      <th>147</th>\n",
       "      <td>POLYGON ((-11.34373 32.99809, -11.30118 33.001...</td>\n",
       "    </tr>\n",
       "    <tr>\n",
       "      <th>148</th>\n",
       "      <td>POLYGON ((-11.30118 33.00143, -11.25863 33.004...</td>\n",
       "    </tr>\n",
       "    <tr>\n",
       "      <th>149</th>\n",
       "      <td>POLYGON ((-11.25863 33.00476, -11.21607 33.008...</td>\n",
       "    </tr>\n",
       "  </tbody>\n",
       "</table>\n",
       "<p>150 rows × 1 columns</p>\n",
       "</div>"
      ],
      "text/plain": [
       "                                              geometry\n",
       "FID                                                   \n",
       "0    POLYGON ((-11.58393 32.47507, -11.54169 32.478...\n",
       "1    POLYGON ((-11.54169 32.47851, -11.49944 32.481...\n",
       "2    POLYGON ((-11.49944 32.48192, -11.45719 32.485...\n",
       "3    POLYGON ((-11.45719 32.48533, -11.41494 32.488...\n",
       "4    POLYGON ((-11.41494 32.48871, -11.37268 32.492...\n",
       "..                                                 ...\n",
       "145  POLYGON ((-11.42882 32.99135, -11.38628 32.994...\n",
       "146  POLYGON ((-11.38628 32.99473, -11.34373 32.998...\n",
       "147  POLYGON ((-11.34373 32.99809, -11.30118 33.001...\n",
       "148  POLYGON ((-11.30118 33.00143, -11.25863 33.004...\n",
       "149  POLYGON ((-11.25863 33.00476, -11.21607 33.008...\n",
       "\n",
       "[150 rows x 1 columns]"
      ]
     },
     "execution_count": 5,
     "metadata": {},
     "output_type": "execute_result"
    }
   ],
   "source": [
    "nessy.create_shapefile()"
   ]
  },
  {
   "cell_type": "markdown",
   "metadata": {},
   "source": [
    "We write the NetCDF file"
   ]
  },
  {
   "cell_type": "code",
   "execution_count": 6,
   "metadata": {},
   "outputs": [],
   "source": [
    "nessy.to_netcdf('lcc_grid.nc')"
   ]
  },
  {
   "cell_type": "markdown",
   "metadata": {},
   "source": [
    "## 2. Calculate cell area with NES"
   ]
  },
  {
   "cell_type": "markdown",
   "metadata": {},
   "source": [
    "We calculate the area of each cell according to Huilier's theorem, as in CDO (written in C)\n",
    "\n",
    "Reference: https://earth.bsc.es/gitlab/ces/cdo/-/blob/master/src/grid_area.c"
   ]
  },
  {
   "cell_type": "code",
   "execution_count": 7,
   "metadata": {},
   "outputs": [
    {
     "data": {
      "text/plain": [
       "{'data': array([[15830419.37602062, 15830657.31464759, 15830893.9818806 ,\n",
       "         15831129.37902967, 15831363.50736617, 15831596.3681775 ,\n",
       "         15831827.96270714, 15832058.29223234, 15832287.3580128 ,\n",
       "         15832515.16128502],\n",
       "        [15832888.43944878, 15833125.4618577 , 15833361.21722112,\n",
       "         15833595.70683101, 15833828.93195019, 15834060.89386689,\n",
       "         15834291.59385652, 15834521.03319032, 15834749.2131148 ,\n",
       "         15834976.13488405],\n",
       "        [15835346.79239709, 15835582.8966068 , 15835817.73809013,\n",
       "         15836051.31816116, 15836283.63810146, 15836514.69919126,\n",
       "         15836744.50269644, 15836973.04988706, 15837200.34204102,\n",
       "         15837426.38041017],\n",
       "        [15837794.42326939, 15838029.60727211, 15838263.53291627,\n",
       "         15838496.20148725, 15838727.61427387, 15838957.77256098,\n",
       "         15839186.67763537, 15839414.3307679 , 15839640.73320756,\n",
       "         15839865.88623092],\n",
       "        [15840231.32048458, 15840465.58230139, 15840698.59010649,\n",
       "         15840930.34519676, 15841160.84886278, 15841390.10240162,\n",
       "         15841618.10709215, 15841844.86420535, 15842070.37501704,\n",
       "         15842294.64079198],\n",
       "        [15842657.47252579, 15842890.81014255, 15843122.89811086,\n",
       "         15843353.73774392, 15843583.33032828, 15843811.67715545,\n",
       "         15844038.77951487, 15844264.63868577, 15844489.25593512,\n",
       "         15844712.63252794],\n",
       "        [15845072.86781775, 15845305.27924886, 15845536.44540696,\n",
       "         15845766.36759449, 15845995.04712501, 15846222.4852872 ,\n",
       "         15846448.68336277, 15846673.64263782, 15846897.3643921 ,\n",
       "         15847119.84989485],\n",
       "        [15847477.49487919, 15847708.97811753, 15847939.22046836,\n",
       "         15848168.22324328, 15848395.9877448 , 15848622.51527306,\n",
       "         15848847.8071165 , 15849071.86456625, 15849294.68889224,\n",
       "         15849516.28137503],\n",
       "        [15849871.34220659, 15850101.89525831, 15850331.21182007,\n",
       "         15850559.293196  , 15850786.14069547, 15851011.75562783,\n",
       "         15851236.13928748, 15851459.29295979, 15851681.21792792,\n",
       "         15851901.9154695 ],\n",
       "        [15852254.39834481, 15852484.01920091, 15852712.40796247,\n",
       "         15852939.56594949, 15853165.49448883, 15853390.19487267,\n",
       "         15853613.66838524, 15853835.91633486, 15854056.94000432,\n",
       "         15854276.74068052],\n",
       "        [15854626.65179864, 15854855.33846037, 15855082.7974463 ,\n",
       "         15855309.03008198, 15855534.03766384, 15855757.82150882,\n",
       "         15855980.3829386 , 15856201.72323178, 15856421.84366918,\n",
       "         15856640.74555583],\n",
       "        [15856988.09117283, 15857215.84163193, 15857442.36883262,\n",
       "         15857667.67411757, 15857891.75878592, 15858114.62415727,\n",
       "         15858336.27153077, 15858556.70220796, 15858775.91749203,\n",
       "         15858993.91866019],\n",
       "        [15859338.70502081, 15859565.51727597, 15859791.11070865,\n",
       "         15860015.486654  , 15860238.64643105, 15860460.59134635,\n",
       "         15860681.32271516, 15860900.84184261, 15861119.15002387,\n",
       "         15861336.24853621],\n",
       "        [15861678.48196365, 15861904.35400991, 15862129.01168405,\n",
       "         15862352.45630977, 15862574.68919848, 15862795.71169823,\n",
       "         15863015.52511272, 15863234.13073009, 15863451.52986768,\n",
       "         15863667.72381416],\n",
       "        [15864007.41061244, 15864232.34044404, 15864456.06034704,\n",
       "         15864678.57166399, 15864899.87571753, 15865119.97383105,\n",
       "         15865338.86731228, 15865556.55748565, 15865773.04563914,\n",
       "         15865988.33308532]])}"
      ]
     },
     "execution_count": 7,
     "metadata": {},
     "output_type": "execute_result"
    }
   ],
   "source": [
    "nessy.calculate_grid_area()\n",
    "nessy.cell_measures['cell_area']"
   ]
  },
  {
   "cell_type": "code",
   "execution_count": 8,
   "metadata": {},
   "outputs": [],
   "source": [
    "nessy.to_netcdf('lcc_grid_nes_area.nc')"
   ]
  },
  {
   "cell_type": "markdown",
   "metadata": {},
   "source": [
    "## 4. Calculate cell area with CDO"
   ]
  },
  {
   "cell_type": "markdown",
   "metadata": {},
   "source": [
    "In the terminal:\n",
    "\n",
    "```\n",
    "module load CDO\n",
    "\n",
    "cdo gridarea lcc_grid.nc lcc_grid_cdo_area.nc\n",
    "```"
   ]
  },
  {
   "cell_type": "markdown",
   "metadata": {},
   "source": [
    "## 6. Compare results from NES and CDO"
   ]
  },
  {
   "cell_type": "markdown",
   "metadata": {},
   "source": [
    "### Merge results"
   ]
  },
  {
   "cell_type": "markdown",
   "metadata": {},
   "source": [
    "We create the `results` dataframe to store the cell areas calculated to compare NES"
   ]
  },
  {
   "cell_type": "code",
   "execution_count": 9,
   "metadata": {},
   "outputs": [
    {
     "data": {
      "text/html": [
       "<div>\n",
       "<style scoped>\n",
       "    .dataframe tbody tr th:only-of-type {\n",
       "        vertical-align: middle;\n",
       "    }\n",
       "\n",
       "    .dataframe tbody tr th {\n",
       "        vertical-align: top;\n",
       "    }\n",
       "\n",
       "    .dataframe thead th {\n",
       "        text-align: right;\n",
       "    }\n",
       "</style>\n",
       "<table border=\"1\" class=\"dataframe\">\n",
       "  <thead>\n",
       "    <tr style=\"text-align: right;\">\n",
       "      <th></th>\n",
       "      <th>geometry</th>\n",
       "    </tr>\n",
       "    <tr>\n",
       "      <th>FID</th>\n",
       "      <th></th>\n",
       "    </tr>\n",
       "  </thead>\n",
       "  <tbody>\n",
       "    <tr>\n",
       "      <th>0</th>\n",
       "      <td>POLYGON ((-11.58393 32.47507, -11.54169 32.478...</td>\n",
       "    </tr>\n",
       "    <tr>\n",
       "      <th>1</th>\n",
       "      <td>POLYGON ((-11.54169 32.47851, -11.49944 32.481...</td>\n",
       "    </tr>\n",
       "    <tr>\n",
       "      <th>2</th>\n",
       "      <td>POLYGON ((-11.49944 32.48192, -11.45719 32.485...</td>\n",
       "    </tr>\n",
       "    <tr>\n",
       "      <th>3</th>\n",
       "      <td>POLYGON ((-11.45719 32.48533, -11.41494 32.488...</td>\n",
       "    </tr>\n",
       "    <tr>\n",
       "      <th>4</th>\n",
       "      <td>POLYGON ((-11.41494 32.48871, -11.37268 32.492...</td>\n",
       "    </tr>\n",
       "    <tr>\n",
       "      <th>...</th>\n",
       "      <td>...</td>\n",
       "    </tr>\n",
       "    <tr>\n",
       "      <th>145</th>\n",
       "      <td>POLYGON ((-11.42882 32.99135, -11.38628 32.994...</td>\n",
       "    </tr>\n",
       "    <tr>\n",
       "      <th>146</th>\n",
       "      <td>POLYGON ((-11.38628 32.99473, -11.34373 32.998...</td>\n",
       "    </tr>\n",
       "    <tr>\n",
       "      <th>147</th>\n",
       "      <td>POLYGON ((-11.34373 32.99809, -11.30118 33.001...</td>\n",
       "    </tr>\n",
       "    <tr>\n",
       "      <th>148</th>\n",
       "      <td>POLYGON ((-11.30118 33.00143, -11.25863 33.004...</td>\n",
       "    </tr>\n",
       "    <tr>\n",
       "      <th>149</th>\n",
       "      <td>POLYGON ((-11.25863 33.00476, -11.21607 33.008...</td>\n",
       "    </tr>\n",
       "  </tbody>\n",
       "</table>\n",
       "<p>150 rows × 1 columns</p>\n",
       "</div>"
      ],
      "text/plain": [
       "                                              geometry\n",
       "FID                                                   \n",
       "0    POLYGON ((-11.58393 32.47507, -11.54169 32.478...\n",
       "1    POLYGON ((-11.54169 32.47851, -11.49944 32.481...\n",
       "2    POLYGON ((-11.49944 32.48192, -11.45719 32.485...\n",
       "3    POLYGON ((-11.45719 32.48533, -11.41494 32.488...\n",
       "4    POLYGON ((-11.41494 32.48871, -11.37268 32.492...\n",
       "..                                                 ...\n",
       "145  POLYGON ((-11.42882 32.99135, -11.38628 32.994...\n",
       "146  POLYGON ((-11.38628 32.99473, -11.34373 32.998...\n",
       "147  POLYGON ((-11.34373 32.99809, -11.30118 33.001...\n",
       "148  POLYGON ((-11.30118 33.00143, -11.25863 33.004...\n",
       "149  POLYGON ((-11.25863 33.00476, -11.21607 33.008...\n",
       "\n",
       "[150 rows x 1 columns]"
      ]
     },
     "execution_count": 9,
     "metadata": {},
     "output_type": "execute_result"
    }
   ],
   "source": [
    "results = nessy.shapefile\n",
    "results "
   ]
  },
  {
   "cell_type": "markdown",
   "metadata": {},
   "source": [
    "Since the file resulting from CDO (`lcc_grid_cdo_area.nc`) is not CF compliant, we get its values using xarray"
   ]
  },
  {
   "cell_type": "code",
   "execution_count": 10,
   "metadata": {},
   "outputs": [],
   "source": [
    "results['area_cdo'] = xr.open_dataset('/gpfs/projects/bsc32/models/NES_tutorial_data/lcc_grid_cdo_area.nc').cell_area.values.ravel()"
   ]
  },
  {
   "cell_type": "code",
   "execution_count": 11,
   "metadata": {},
   "outputs": [],
   "source": [
    "results['area_nes'] = nessy.cell_measures['cell_area']['data'].ravel()"
   ]
  },
  {
   "cell_type": "code",
   "execution_count": 12,
   "metadata": {},
   "outputs": [
    {
     "data": {
      "text/html": [
       "<div>\n",
       "<style scoped>\n",
       "    .dataframe tbody tr th:only-of-type {\n",
       "        vertical-align: middle;\n",
       "    }\n",
       "\n",
       "    .dataframe tbody tr th {\n",
       "        vertical-align: top;\n",
       "    }\n",
       "\n",
       "    .dataframe thead th {\n",
       "        text-align: right;\n",
       "    }\n",
       "</style>\n",
       "<table border=\"1\" class=\"dataframe\">\n",
       "  <thead>\n",
       "    <tr style=\"text-align: right;\">\n",
       "      <th></th>\n",
       "      <th>geometry</th>\n",
       "      <th>area_cdo</th>\n",
       "      <th>area_nes</th>\n",
       "    </tr>\n",
       "    <tr>\n",
       "      <th>FID</th>\n",
       "      <th></th>\n",
       "      <th></th>\n",
       "      <th></th>\n",
       "    </tr>\n",
       "  </thead>\n",
       "  <tbody>\n",
       "    <tr>\n",
       "      <th>0</th>\n",
       "      <td>POLYGON ((-11.58393 32.47507, -11.54169 32.478...</td>\n",
       "      <td>1.584877e+07</td>\n",
       "      <td>1.583042e+07</td>\n",
       "    </tr>\n",
       "    <tr>\n",
       "      <th>1</th>\n",
       "      <td>POLYGON ((-11.54169 32.47851, -11.49944 32.481...</td>\n",
       "      <td>1.584900e+07</td>\n",
       "      <td>1.583066e+07</td>\n",
       "    </tr>\n",
       "    <tr>\n",
       "      <th>2</th>\n",
       "      <td>POLYGON ((-11.49944 32.48192, -11.45719 32.485...</td>\n",
       "      <td>1.584924e+07</td>\n",
       "      <td>1.583089e+07</td>\n",
       "    </tr>\n",
       "    <tr>\n",
       "      <th>3</th>\n",
       "      <td>POLYGON ((-11.45719 32.48533, -11.41494 32.488...</td>\n",
       "      <td>1.584948e+07</td>\n",
       "      <td>1.583113e+07</td>\n",
       "    </tr>\n",
       "    <tr>\n",
       "      <th>4</th>\n",
       "      <td>POLYGON ((-11.41494 32.48871, -11.37268 32.492...</td>\n",
       "      <td>1.584971e+07</td>\n",
       "      <td>1.583136e+07</td>\n",
       "    </tr>\n",
       "    <tr>\n",
       "      <th>...</th>\n",
       "      <td>...</td>\n",
       "      <td>...</td>\n",
       "      <td>...</td>\n",
       "    </tr>\n",
       "    <tr>\n",
       "      <th>145</th>\n",
       "      <td>POLYGON ((-11.42882 32.99135, -11.38628 32.994...</td>\n",
       "      <td>1.588347e+07</td>\n",
       "      <td>1.586512e+07</td>\n",
       "    </tr>\n",
       "    <tr>\n",
       "      <th>146</th>\n",
       "      <td>POLYGON ((-11.38628 32.99473, -11.34373 32.998...</td>\n",
       "      <td>1.588369e+07</td>\n",
       "      <td>1.586534e+07</td>\n",
       "    </tr>\n",
       "    <tr>\n",
       "      <th>147</th>\n",
       "      <td>POLYGON ((-11.34373 32.99809, -11.30118 33.001...</td>\n",
       "      <td>1.588390e+07</td>\n",
       "      <td>1.586556e+07</td>\n",
       "    </tr>\n",
       "    <tr>\n",
       "      <th>148</th>\n",
       "      <td>POLYGON ((-11.30118 33.00143, -11.25863 33.004...</td>\n",
       "      <td>1.588412e+07</td>\n",
       "      <td>1.586577e+07</td>\n",
       "    </tr>\n",
       "    <tr>\n",
       "      <th>149</th>\n",
       "      <td>POLYGON ((-11.25863 33.00476, -11.21607 33.008...</td>\n",
       "      <td>1.588433e+07</td>\n",
       "      <td>1.586599e+07</td>\n",
       "    </tr>\n",
       "  </tbody>\n",
       "</table>\n",
       "<p>150 rows × 3 columns</p>\n",
       "</div>"
      ],
      "text/plain": [
       "                                              geometry      area_cdo  \\\n",
       "FID                                                                    \n",
       "0    POLYGON ((-11.58393 32.47507, -11.54169 32.478...  1.584877e+07   \n",
       "1    POLYGON ((-11.54169 32.47851, -11.49944 32.481...  1.584900e+07   \n",
       "2    POLYGON ((-11.49944 32.48192, -11.45719 32.485...  1.584924e+07   \n",
       "3    POLYGON ((-11.45719 32.48533, -11.41494 32.488...  1.584948e+07   \n",
       "4    POLYGON ((-11.41494 32.48871, -11.37268 32.492...  1.584971e+07   \n",
       "..                                                 ...           ...   \n",
       "145  POLYGON ((-11.42882 32.99135, -11.38628 32.994...  1.588347e+07   \n",
       "146  POLYGON ((-11.38628 32.99473, -11.34373 32.998...  1.588369e+07   \n",
       "147  POLYGON ((-11.34373 32.99809, -11.30118 33.001...  1.588390e+07   \n",
       "148  POLYGON ((-11.30118 33.00143, -11.25863 33.004...  1.588412e+07   \n",
       "149  POLYGON ((-11.25863 33.00476, -11.21607 33.008...  1.588433e+07   \n",
       "\n",
       "         area_nes  \n",
       "FID                \n",
       "0    1.583042e+07  \n",
       "1    1.583066e+07  \n",
       "2    1.583089e+07  \n",
       "3    1.583113e+07  \n",
       "4    1.583136e+07  \n",
       "..            ...  \n",
       "145  1.586512e+07  \n",
       "146  1.586534e+07  \n",
       "147  1.586556e+07  \n",
       "148  1.586577e+07  \n",
       "149  1.586599e+07  \n",
       "\n",
       "[150 rows x 3 columns]"
      ]
     },
     "execution_count": 12,
     "metadata": {},
     "output_type": "execute_result"
    }
   ],
   "source": [
    "results"
   ]
  },
  {
   "cell_type": "markdown",
   "metadata": {},
   "source": [
    "### Differences"
   ]
  },
  {
   "cell_type": "markdown",
   "metadata": {},
   "source": [
    "Differences are relatively big because we consider the radius minor and major axes of the Earth to be:\n",
    "```\n",
    "Minor = 6356752.3142 \n",
    "Major = 6378137\n",
    "```\n",
    "These come from the definition of WGS84 in the Cartopy source code and give us a relative difference of approximately 0.12%. \n",
    "\n",
    "If we change them to be as it is defined in CDO:\n",
    "```\n",
    "6371000.0\n",
    "```\n",
    "The relative difference is about 0.03%."
   ]
  },
  {
   "cell_type": "markdown",
   "metadata": {},
   "source": [
    "#### Absolute differences"
   ]
  },
  {
   "cell_type": "code",
   "execution_count": 13,
   "metadata": {},
   "outputs": [
    {
     "data": {
      "text/plain": [
       "FID\n",
       "0     -18346.478591\n",
       "1     -18346.515863\n",
       "2     -18346.552797\n",
       "3     -18346.589390\n",
       "4     -18346.625647\n",
       "           ...     \n",
       "145   -18346.387763\n",
       "146   -18346.402289\n",
       "147   -18346.416586\n",
       "148   -18346.430659\n",
       "149   -18346.444509\n",
       "Length: 150, dtype: float64"
      ]
     },
     "execution_count": 13,
     "metadata": {},
     "output_type": "execute_result"
    }
   ],
   "source": [
    "(results['area_nes']-results['area_cdo'])"
   ]
  },
  {
   "cell_type": "code",
   "execution_count": 14,
   "metadata": {},
   "outputs": [
    {
     "data": {
      "text/plain": [
       "np.float64(-18346.737697358058)"
      ]
     },
     "execution_count": 14,
     "metadata": {},
     "output_type": "execute_result"
    }
   ],
   "source": [
    "((results['area_nes']-results['area_cdo'])).mean()"
   ]
  },
  {
   "cell_type": "code",
   "execution_count": 15,
   "metadata": {},
   "outputs": [
    {
     "data": {
      "text/plain": [
       "np.float64(-18346.311654422432)"
      ]
     },
     "execution_count": 15,
     "metadata": {},
     "output_type": "execute_result"
    }
   ],
   "source": [
    "((results['area_nes']-results['area_cdo'])).max()"
   ]
  },
  {
   "cell_type": "code",
   "execution_count": 16,
   "metadata": {},
   "outputs": [
    {
     "data": {
      "text/plain": [
       "np.float64(-18347.010924736038)"
      ]
     },
     "execution_count": 16,
     "metadata": {},
     "output_type": "execute_result"
    }
   ],
   "source": [
    "((results['area_nes']-results['area_cdo'])).min()"
   ]
  },
  {
   "cell_type": "markdown",
   "metadata": {},
   "source": [
    "#### Relative differences"
   ]
  },
  {
   "cell_type": "code",
   "execution_count": 17,
   "metadata": {},
   "outputs": [
    {
     "data": {
      "text/plain": [
       "FID\n",
       "0     -0.115760\n",
       "1     -0.115758\n",
       "2     -0.115757\n",
       "3     -0.115755\n",
       "4     -0.115754\n",
       "         ...   \n",
       "145   -0.115506\n",
       "146   -0.115505\n",
       "147   -0.115503\n",
       "148   -0.115502\n",
       "149   -0.115500\n",
       "Length: 150, dtype: float64"
      ]
     },
     "execution_count": 17,
     "metadata": {},
     "output_type": "execute_result"
    }
   ],
   "source": [
    "(results['area_nes']-results['area_cdo'])*100/results['area_cdo']"
   ]
  },
  {
   "cell_type": "code",
   "execution_count": 18,
   "metadata": {},
   "outputs": [
    {
     "data": {
      "text/plain": [
       "np.float64(-0.11563013960524898)"
      ]
     },
     "execution_count": 18,
     "metadata": {},
     "output_type": "execute_result"
    }
   ],
   "source": [
    "((results['area_nes']-results['area_cdo'])*100/results['area_cdo']).mean()"
   ]
  },
  {
   "cell_type": "code",
   "execution_count": 19,
   "metadata": {},
   "outputs": [
    {
     "data": {
      "text/plain": [
       "np.float64(-0.11550023822922381)"
      ]
     },
     "execution_count": 19,
     "metadata": {},
     "output_type": "execute_result"
    }
   ],
   "source": [
    "((results['area_nes']-results['area_cdo'])*100/results['area_cdo']).max()"
   ]
  },
  {
   "cell_type": "code",
   "execution_count": 20,
   "metadata": {},
   "outputs": [
    {
     "data": {
      "text/plain": [
       "np.float64(-0.11575966708957625)"
      ]
     },
     "execution_count": 20,
     "metadata": {},
     "output_type": "execute_result"
    }
   ],
   "source": [
    "((results['area_nes']-results['area_cdo'])*100/results['area_cdo']).min()"
   ]
  }
 ],
 "metadata": {
  "kernelspec": {
   "display_name": "Python 3 (ipykernel)",
   "language": "python",
   "name": "python3"
  },
  "language_info": {
   "codemirror_mode": {
    "name": "ipython",
    "version": 3
   },
   "file_extension": ".py",
   "mimetype": "text/x-python",
   "name": "python",
   "nbconvert_exporter": "python",
   "pygments_lexer": "ipython3",
   "version": "3.9.16"
  },
  "vscode": {
   "interpreter": {
    "hash": "31f2aee4e71d21fbe5cf8b01ff0e069b9275f58929596ceb00d14d90e3e16cd6"
   }
  }
 },
 "nbformat": 4,
 "nbformat_minor": 4
}
