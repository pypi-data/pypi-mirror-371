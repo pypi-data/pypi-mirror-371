{
 "cells": [
  {
   "cell_type": "markdown",
   "metadata": {},
   "source": [
    "# How to create shapefiles"
   ]
  },
  {
   "cell_type": "code",
   "execution_count": 1,
   "metadata": {},
   "outputs": [],
   "source": [
    "import nes\n",
    "import datetime"
   ]
  },
  {
   "cell_type": "code",
   "execution_count": 2,
   "metadata": {},
   "outputs": [],
   "source": [
    "%matplotlib inline"
   ]
  },
  {
   "cell_type": "markdown",
   "metadata": {},
   "source": [
    "## 1. From grids that have already been created"
   ]
  },
  {
   "cell_type": "code",
   "execution_count": 3,
   "metadata": {},
   "outputs": [],
   "source": [
    "# Original path: /gpfs/scratch/bsc32/bsc32538/original_files/franco_interp.nc\n",
    "# Regular lat-lon grid from MONARCH\n",
    "grid_path = '/gpfs/projects/bsc32/models/NES_tutorial_data/franco_interp.nc'\n",
    "grid = nes.open_netcdf(path=grid_path, info=True)"
   ]
  },
  {
   "cell_type": "code",
   "execution_count": 4,
   "metadata": {},
   "outputs": [
    {
     "name": "stdout",
     "output_type": "stream",
     "text": [
      "The history saving thread hit an unexpected error (OperationalError('database is locked')).History will not be written to the database.\n",
      "Rank 000: Loading sconcno2 var (1/1)\n",
      "Rank 000: Loaded sconcno2 var ((25, 1, 115, 165))\n"
     ]
    }
   ],
   "source": [
    "grid.load()"
   ]
  },
  {
   "cell_type": "code",
   "execution_count": 5,
   "metadata": {},
   "outputs": [],
   "source": [
    "grid.to_shapefile(path='regular_shp', \n",
    "                  time=datetime.datetime(2019, 1, 1, 10, 0), \n",
    "                  lev=0, var_list=['sconcno2'])"
   ]
  },
  {
   "cell_type": "code",
   "execution_count": 6,
   "metadata": {},
   "outputs": [
    {
     "data": {
      "text/html": [
       "<div>\n",
       "<style scoped>\n",
       "    .dataframe tbody tr th:only-of-type {\n",
       "        vertical-align: middle;\n",
       "    }\n",
       "\n",
       "    .dataframe tbody tr th {\n",
       "        vertical-align: top;\n",
       "    }\n",
       "\n",
       "    .dataframe thead th {\n",
       "        text-align: right;\n",
       "    }\n",
       "</style>\n",
       "<table border=\"1\" class=\"dataframe\">\n",
       "  <thead>\n",
       "    <tr style=\"text-align: right;\">\n",
       "      <th></th>\n",
       "      <th>geometry</th>\n",
       "      <th>sconcno2</th>\n",
       "    </tr>\n",
       "    <tr>\n",
       "      <th>FID</th>\n",
       "      <th></th>\n",
       "      <th></th>\n",
       "    </tr>\n",
       "  </thead>\n",
       "  <tbody>\n",
       "    <tr>\n",
       "      <th>0</th>\n",
       "      <td>POLYGON ((-11.85000 33.85000, -11.75000 33.850...</td>\n",
       "      <td>0.000288</td>\n",
       "    </tr>\n",
       "    <tr>\n",
       "      <th>1</th>\n",
       "      <td>POLYGON ((-11.75000 33.85000, -11.65000 33.850...</td>\n",
       "      <td>0.000271</td>\n",
       "    </tr>\n",
       "    <tr>\n",
       "      <th>2</th>\n",
       "      <td>POLYGON ((-11.65000 33.85000, -11.55000 33.850...</td>\n",
       "      <td>0.000258</td>\n",
       "    </tr>\n",
       "    <tr>\n",
       "      <th>3</th>\n",
       "      <td>POLYGON ((-11.55000 33.85000, -11.45000 33.850...</td>\n",
       "      <td>0.000254</td>\n",
       "    </tr>\n",
       "    <tr>\n",
       "      <th>4</th>\n",
       "      <td>POLYGON ((-11.45000 33.85000, -11.35000 33.850...</td>\n",
       "      <td>0.000262</td>\n",
       "    </tr>\n",
       "    <tr>\n",
       "      <th>...</th>\n",
       "      <td>...</td>\n",
       "      <td>...</td>\n",
       "    </tr>\n",
       "    <tr>\n",
       "      <th>18970</th>\n",
       "      <td>POLYGON ((4.15000 45.25000, 4.25000 45.25000, ...</td>\n",
       "      <td>0.003521</td>\n",
       "    </tr>\n",
       "    <tr>\n",
       "      <th>18971</th>\n",
       "      <td>POLYGON ((4.25000 45.25000, 4.35000 45.25000, ...</td>\n",
       "      <td>0.003924</td>\n",
       "    </tr>\n",
       "    <tr>\n",
       "      <th>18972</th>\n",
       "      <td>POLYGON ((4.35000 45.25000, 4.45000 45.25000, ...</td>\n",
       "      <td>0.004454</td>\n",
       "    </tr>\n",
       "    <tr>\n",
       "      <th>18973</th>\n",
       "      <td>POLYGON ((4.45000 45.25000, 4.55000 45.25000, ...</td>\n",
       "      <td>0.004619</td>\n",
       "    </tr>\n",
       "    <tr>\n",
       "      <th>18974</th>\n",
       "      <td>POLYGON ((4.55000 45.25000, 4.65000 45.25000, ...</td>\n",
       "      <td>0.004712</td>\n",
       "    </tr>\n",
       "  </tbody>\n",
       "</table>\n",
       "<p>18975 rows × 2 columns</p>\n",
       "</div>"
      ],
      "text/plain": [
       "                                                geometry  sconcno2\n",
       "FID                                                               \n",
       "0      POLYGON ((-11.85000 33.85000, -11.75000 33.850...  0.000288\n",
       "1      POLYGON ((-11.75000 33.85000, -11.65000 33.850...  0.000271\n",
       "2      POLYGON ((-11.65000 33.85000, -11.55000 33.850...  0.000258\n",
       "3      POLYGON ((-11.55000 33.85000, -11.45000 33.850...  0.000254\n",
       "4      POLYGON ((-11.45000 33.85000, -11.35000 33.850...  0.000262\n",
       "...                                                  ...       ...\n",
       "18970  POLYGON ((4.15000 45.25000, 4.25000 45.25000, ...  0.003521\n",
       "18971  POLYGON ((4.25000 45.25000, 4.35000 45.25000, ...  0.003924\n",
       "18972  POLYGON ((4.35000 45.25000, 4.45000 45.25000, ...  0.004454\n",
       "18973  POLYGON ((4.45000 45.25000, 4.55000 45.25000, ...  0.004619\n",
       "18974  POLYGON ((4.55000 45.25000, 4.65000 45.25000, ...  0.004712\n",
       "\n",
       "[18975 rows x 2 columns]"
      ]
     },
     "execution_count": 6,
     "metadata": {},
     "output_type": "execute_result"
    }
   ],
   "source": [
    "grid.shapefile"
   ]
  },
  {
   "cell_type": "code",
   "execution_count": 7,
   "metadata": {},
   "outputs": [
    {
     "data": {
      "text/plain": [
       "<matplotlib.axes._subplots.AxesSubplot at 0x7f3366e00e90>"
      ]
     },
     "execution_count": 7,
     "metadata": {},
     "output_type": "execute_result"
    },
    {
     "data": {
      "image/png": "[encoded data removed]",
      "text/plain": [
       "<Figure size 432x288 with 1 Axes>"
      ]
     },
     "metadata": {
      "needs_background": "light"
     },
     "output_type": "display_data"
    }
   ],
   "source": [
    "grid.shapefile.plot()"
   ]
  },
  {
   "cell_type": "code",
   "execution_count": 8,
   "metadata": {},
   "outputs": [
    {
     "data": {
      "text/plain": [
       "<matplotlib.axes._subplots.AxesSubplot at 0x7f3366dab750>"
      ]
     },
     "execution_count": 8,
     "metadata": {},
     "output_type": "execute_result"
    },
    {
     "data": {
      "image/png": "[encoded data removed]",
      "text/plain": [
       "<Figure size 432x288 with 1 Axes>"
      ]
     },
     "metadata": {
      "needs_background": "light"
     },
     "output_type": "display_data"
    }
   ],
   "source": [
    "grid.shapefile[:10].plot()"
   ]
  },
  {
   "cell_type": "markdown",
   "metadata": {},
   "source": [
    "## 2. From grids created from scratch"
   ]
  },
  {
   "cell_type": "markdown",
   "metadata": {},
   "source": [
    "### Regular lat-lon grid"
   ]
  },
  {
   "cell_type": "code",
   "execution_count": 9,
   "metadata": {},
   "outputs": [],
   "source": [
    "lat_orig = 41.1\n",
    "lon_orig = 1.8\n",
    "inc_lat = 0.1\n",
    "inc_lon = 0.1\n",
    "n_lat = 50\n",
    "n_lon = 100\n",
    "regular_grid = nes.create_nes(comm=None, info=False, projection='regular',\n",
    "                              lat_orig=lat_orig, lon_orig=lon_orig, inc_lat=inc_lat, inc_lon=inc_lon, \n",
    "                              n_lat=n_lat, n_lon=n_lon)"
   ]
  },
  {
   "cell_type": "code",
   "execution_count": 10,
   "metadata": {},
   "outputs": [
    {
     "data": {
      "text/html": [
       "<div>\n",
       "<style scoped>\n",
       "    .dataframe tbody tr th:only-of-type {\n",
       "        vertical-align: middle;\n",
       "    }\n",
       "\n",
       "    .dataframe tbody tr th {\n",
       "        vertical-align: top;\n",
       "    }\n",
       "\n",
       "    .dataframe thead th {\n",
       "        text-align: right;\n",
       "    }\n",
       "</style>\n",
       "<table border=\"1\" class=\"dataframe\">\n",
       "  <thead>\n",
       "    <tr style=\"text-align: right;\">\n",
       "      <th></th>\n",
       "      <th>geometry</th>\n",
       "    </tr>\n",
       "    <tr>\n",
       "      <th>FID</th>\n",
       "      <th></th>\n",
       "    </tr>\n",
       "  </thead>\n",
       "  <tbody>\n",
       "    <tr>\n",
       "      <th>0</th>\n",
       "      <td>POLYGON ((1.80000 41.10000, 1.90000 41.10000, ...</td>\n",
       "    </tr>\n",
       "    <tr>\n",
       "      <th>1</th>\n",
       "      <td>POLYGON ((1.90000 41.10000, 2.00000 41.10000, ...</td>\n",
       "    </tr>\n",
       "    <tr>\n",
       "      <th>2</th>\n",
       "      <td>POLYGON ((2.00000 41.10000, 2.10000 41.10000, ...</td>\n",
       "    </tr>\n",
       "    <tr>\n",
       "      <th>3</th>\n",
       "      <td>POLYGON ((2.10000 41.10000, 2.20000 41.10000, ...</td>\n",
       "    </tr>\n",
       "    <tr>\n",
       "      <th>4</th>\n",
       "      <td>POLYGON ((2.20000 41.10000, 2.30000 41.10000, ...</td>\n",
       "    </tr>\n",
       "    <tr>\n",
       "      <th>...</th>\n",
       "      <td>...</td>\n",
       "    </tr>\n",
       "    <tr>\n",
       "      <th>4995</th>\n",
       "      <td>POLYGON ((11.30000 46.00000, 11.40000 46.00000...</td>\n",
       "    </tr>\n",
       "    <tr>\n",
       "      <th>4996</th>\n",
       "      <td>POLYGON ((11.40000 46.00000, 11.50000 46.00000...</td>\n",
       "    </tr>\n",
       "    <tr>\n",
       "      <th>4997</th>\n",
       "      <td>POLYGON ((11.50000 46.00000, 11.60000 46.00000...</td>\n",
       "    </tr>\n",
       "    <tr>\n",
       "      <th>4998</th>\n",
       "      <td>POLYGON ((11.60000 46.00000, 11.70000 46.00000...</td>\n",
       "    </tr>\n",
       "    <tr>\n",
       "      <th>4999</th>\n",
       "      <td>POLYGON ((11.70000 46.00000, 11.80000 46.00000...</td>\n",
       "    </tr>\n",
       "  </tbody>\n",
       "</table>\n",
       "<p>5000 rows × 1 columns</p>\n",
       "</div>"
      ],
      "text/plain": [
       "                                               geometry\n",
       "FID                                                    \n",
       "0     POLYGON ((1.80000 41.10000, 1.90000 41.10000, ...\n",
       "1     POLYGON ((1.90000 41.10000, 2.00000 41.10000, ...\n",
       "2     POLYGON ((2.00000 41.10000, 2.10000 41.10000, ...\n",
       "3     POLYGON ((2.10000 41.10000, 2.20000 41.10000, ...\n",
       "4     POLYGON ((2.20000 41.10000, 2.30000 41.10000, ...\n",
       "...                                                 ...\n",
       "4995  POLYGON ((11.30000 46.00000, 11.40000 46.00000...\n",
       "4996  POLYGON ((11.40000 46.00000, 11.50000 46.00000...\n",
       "4997  POLYGON ((11.50000 46.00000, 11.60000 46.00000...\n",
       "4998  POLYGON ((11.60000 46.00000, 11.70000 46.00000...\n",
       "4999  POLYGON ((11.70000 46.00000, 11.80000 46.00000...\n",
       "\n",
       "[5000 rows x 1 columns]"
      ]
     },
     "execution_count": 10,
     "metadata": {},
     "output_type": "execute_result"
    }
   ],
   "source": [
    "regular_grid.create_shapefile()"
   ]
  },
  {
   "cell_type": "code",
   "execution_count": 11,
   "metadata": {},
   "outputs": [
    {
     "data": {
      "text/html": [
       "<div>\n",
       "<style scoped>\n",
       "    .dataframe tbody tr th:only-of-type {\n",
       "        vertical-align: middle;\n",
       "    }\n",
       "\n",
       "    .dataframe tbody tr th {\n",
       "        vertical-align: top;\n",
       "    }\n",
       "\n",
       "    .dataframe thead th {\n",
       "        text-align: right;\n",
       "    }\n",
       "</style>\n",
       "<table border=\"1\" class=\"dataframe\">\n",
       "  <thead>\n",
       "    <tr style=\"text-align: right;\">\n",
       "      <th></th>\n",
       "      <th>geometry</th>\n",
       "    </tr>\n",
       "    <tr>\n",
       "      <th>FID</th>\n",
       "      <th></th>\n",
       "    </tr>\n",
       "  </thead>\n",
       "  <tbody>\n",
       "    <tr>\n",
       "      <th>0</th>\n",
       "      <td>POLYGON ((1.80000 41.10000, 1.90000 41.10000, ...</td>\n",
       "    </tr>\n",
       "    <tr>\n",
       "      <th>1</th>\n",
       "      <td>POLYGON ((1.90000 41.10000, 2.00000 41.10000, ...</td>\n",
       "    </tr>\n",
       "    <tr>\n",
       "      <th>2</th>\n",
       "      <td>POLYGON ((2.00000 41.10000, 2.10000 41.10000, ...</td>\n",
       "    </tr>\n",
       "    <tr>\n",
       "      <th>3</th>\n",
       "      <td>POLYGON ((2.10000 41.10000, 2.20000 41.10000, ...</td>\n",
       "    </tr>\n",
       "    <tr>\n",
       "      <th>4</th>\n",
       "      <td>POLYGON ((2.20000 41.10000, 2.30000 41.10000, ...</td>\n",
       "    </tr>\n",
       "    <tr>\n",
       "      <th>...</th>\n",
       "      <td>...</td>\n",
       "    </tr>\n",
       "    <tr>\n",
       "      <th>4995</th>\n",
       "      <td>POLYGON ((11.30000 46.00000, 11.40000 46.00000...</td>\n",
       "    </tr>\n",
       "    <tr>\n",
       "      <th>4996</th>\n",
       "      <td>POLYGON ((11.40000 46.00000, 11.50000 46.00000...</td>\n",
       "    </tr>\n",
       "    <tr>\n",
       "      <th>4997</th>\n",
       "      <td>POLYGON ((11.50000 46.00000, 11.60000 46.00000...</td>\n",
       "    </tr>\n",
       "    <tr>\n",
       "      <th>4998</th>\n",
       "      <td>POLYGON ((11.60000 46.00000, 11.70000 46.00000...</td>\n",
       "    </tr>\n",
       "    <tr>\n",
       "      <th>4999</th>\n",
       "      <td>POLYGON ((11.70000 46.00000, 11.80000 46.00000...</td>\n",
       "    </tr>\n",
       "  </tbody>\n",
       "</table>\n",
       "<p>5000 rows × 1 columns</p>\n",
       "</div>"
      ],
      "text/plain": [
       "                                               geometry\n",
       "FID                                                    \n",
       "0     POLYGON ((1.80000 41.10000, 1.90000 41.10000, ...\n",
       "1     POLYGON ((1.90000 41.10000, 2.00000 41.10000, ...\n",
       "2     POLYGON ((2.00000 41.10000, 2.10000 41.10000, ...\n",
       "3     POLYGON ((2.10000 41.10000, 2.20000 41.10000, ...\n",
       "4     POLYGON ((2.20000 41.10000, 2.30000 41.10000, ...\n",
       "...                                                 ...\n",
       "4995  POLYGON ((11.30000 46.00000, 11.40000 46.00000...\n",
       "4996  POLYGON ((11.40000 46.00000, 11.50000 46.00000...\n",
       "4997  POLYGON ((11.50000 46.00000, 11.60000 46.00000...\n",
       "4998  POLYGON ((11.60000 46.00000, 11.70000 46.00000...\n",
       "4999  POLYGON ((11.70000 46.00000, 11.80000 46.00000...\n",
       "\n",
       "[5000 rows x 1 columns]"
      ]
     },
     "execution_count": 11,
     "metadata": {},
     "output_type": "execute_result"
    }
   ],
   "source": [
    "regular_grid.shapefile"
   ]
  },
  {
   "cell_type": "code",
   "execution_count": 12,
   "metadata": {},
   "outputs": [
    {
     "data": {
      "text/plain": [
       "<matplotlib.axes._subplots.AxesSubplot at 0x7f3366d94d90>"
      ]
     },
     "execution_count": 12,
     "metadata": {},
     "output_type": "execute_result"
    },
    {
     "data": {
      "image/png": "[encoded data removed]",
      "text/plain": [
       "<Figure size 432x288 with 1 Axes>"
      ]
     },
     "metadata": {
      "needs_background": "light"
     },
     "output_type": "display_data"
    }
   ],
   "source": [
    "regular_grid.shapefile.plot()"
   ]
  },
  {
   "cell_type": "code",
   "execution_count": 13,
   "metadata": {},
   "outputs": [
    {
     "data": {
      "text/plain": [
       "<matplotlib.axes._subplots.AxesSubplot at 0x7f3366d4a910>"
      ]
     },
     "execution_count": 13,
     "metadata": {},
     "output_type": "execute_result"
    },
    {
     "data": {
      "image/png": "[encoded data removed]",
      "text/plain": [
       "<Figure size 432x288 with 1 Axes>"
      ]
     },
     "metadata": {
      "needs_background": "light"
     },
     "output_type": "display_data"
    }
   ],
   "source": [
    "regular_grid.shapefile[:10].plot()"
   ]
  },
  {
   "cell_type": "markdown",
   "metadata": {},
   "source": [
    "### Rotated grid"
   ]
  },
  {
   "cell_type": "code",
   "execution_count": 14,
   "metadata": {},
   "outputs": [],
   "source": [
    "centre_lat = 51\n",
    "centre_lon = 10\n",
    "west_boundary = -35\n",
    "south_boundary = -27\n",
    "inc_rlat = 0.2\n",
    "inc_rlon = 0.2\n",
    "rotated_grid = nes.create_nes(comm=None, info=False, projection='rotated',\n",
    "                              centre_lat=centre_lat, centre_lon=centre_lon,\n",
    "                              west_boundary=west_boundary, south_boundary=south_boundary,\n",
    "                              inc_rlat=inc_rlat, inc_rlon=inc_rlon)"
   ]
  },
  {
   "cell_type": "code",
   "execution_count": 15,
   "metadata": {},
   "outputs": [
    {
     "data": {
      "text/html": [
       "<div>\n",
       "<style scoped>\n",
       "    .dataframe tbody tr th:only-of-type {\n",
       "        vertical-align: middle;\n",
       "    }\n",
       "\n",
       "    .dataframe tbody tr th {\n",
       "        vertical-align: top;\n",
       "    }\n",
       "\n",
       "    .dataframe thead th {\n",
       "        text-align: right;\n",
       "    }\n",
       "</style>\n",
       "<table border=\"1\" class=\"dataframe\">\n",
       "  <thead>\n",
       "    <tr style=\"text-align: right;\">\n",
       "      <th></th>\n",
       "      <th>geometry</th>\n",
       "    </tr>\n",
       "    <tr>\n",
       "      <th>FID</th>\n",
       "      <th></th>\n",
       "    </tr>\n",
       "  </thead>\n",
       "  <tbody>\n",
       "    <tr>\n",
       "      <th>0</th>\n",
       "      <td>POLYGON ((-22.21497 16.22040, -22.05071 16.303...</td>\n",
       "    </tr>\n",
       "    <tr>\n",
       "      <th>1</th>\n",
       "      <td>POLYGON ((-22.05071 16.30307, -21.88618 16.385...</td>\n",
       "    </tr>\n",
       "    <tr>\n",
       "      <th>2</th>\n",
       "      <td>POLYGON ((-21.88618 16.38536, -21.72137 16.467...</td>\n",
       "    </tr>\n",
       "    <tr>\n",
       "      <th>3</th>\n",
       "      <td>POLYGON ((-21.72137 16.46727, -21.55629 16.548...</td>\n",
       "    </tr>\n",
       "    <tr>\n",
       "      <th>4</th>\n",
       "      <td>POLYGON ((-21.55629 16.54881, -21.39094 16.629...</td>\n",
       "    </tr>\n",
       "    <tr>\n",
       "      <th>...</th>\n",
       "      <td>...</td>\n",
       "    </tr>\n",
       "    <tr>\n",
       "      <th>95116</th>\n",
       "      <td>POLYGON ((87.25127 59.16191, 87.43401 59.01025...</td>\n",
       "    </tr>\n",
       "    <tr>\n",
       "      <th>95117</th>\n",
       "      <td>POLYGON ((87.43401 59.01025, 87.61561 58.85850...</td>\n",
       "    </tr>\n",
       "    <tr>\n",
       "      <th>95118</th>\n",
       "      <td>POLYGON ((87.61561 58.85850, 87.79608 58.70663...</td>\n",
       "    </tr>\n",
       "    <tr>\n",
       "      <th>95119</th>\n",
       "      <td>POLYGON ((87.79608 58.70663, 87.97545 58.55466...</td>\n",
       "    </tr>\n",
       "    <tr>\n",
       "      <th>95120</th>\n",
       "      <td>POLYGON ((87.97545 58.55466, 88.15372 58.40259...</td>\n",
       "    </tr>\n",
       "  </tbody>\n",
       "</table>\n",
       "<p>95121 rows × 1 columns</p>\n",
       "</div>"
      ],
      "text/plain": [
       "                                                geometry\n",
       "FID                                                     \n",
       "0      POLYGON ((-22.21497 16.22040, -22.05071 16.303...\n",
       "1      POLYGON ((-22.05071 16.30307, -21.88618 16.385...\n",
       "2      POLYGON ((-21.88618 16.38536, -21.72137 16.467...\n",
       "3      POLYGON ((-21.72137 16.46727, -21.55629 16.548...\n",
       "4      POLYGON ((-21.55629 16.54881, -21.39094 16.629...\n",
       "...                                                  ...\n",
       "95116  POLYGON ((87.25127 59.16191, 87.43401 59.01025...\n",
       "95117  POLYGON ((87.43401 59.01025, 87.61561 58.85850...\n",
       "95118  POLYGON ((87.61561 58.85850, 87.79608 58.70663...\n",
       "95119  POLYGON ((87.79608 58.70663, 87.97545 58.55466...\n",
       "95120  POLYGON ((87.97545 58.55466, 88.15372 58.40259...\n",
       "\n",
       "[95121 rows x 1 columns]"
      ]
     },
     "execution_count": 15,
     "metadata": {},
     "output_type": "execute_result"
    }
   ],
   "source": [
    "rotated_grid.create_shapefile()"
   ]
  },
  {
   "cell_type": "code",
   "execution_count": 16,
   "metadata": {},
   "outputs": [
    {
     "data": {
      "text/html": [
       "<div>\n",
       "<style scoped>\n",
       "    .dataframe tbody tr th:only-of-type {\n",
       "        vertical-align: middle;\n",
       "    }\n",
       "\n",
       "    .dataframe tbody tr th {\n",
       "        vertical-align: top;\n",
       "    }\n",
       "\n",
       "    .dataframe thead th {\n",
       "        text-align: right;\n",
       "    }\n",
       "</style>\n",
       "<table border=\"1\" class=\"dataframe\">\n",
       "  <thead>\n",
       "    <tr style=\"text-align: right;\">\n",
       "      <th></th>\n",
       "      <th>geometry</th>\n",
       "    </tr>\n",
       "    <tr>\n",
       "      <th>FID</th>\n",
       "      <th></th>\n",
       "    </tr>\n",
       "  </thead>\n",
       "  <tbody>\n",
       "    <tr>\n",
       "      <th>0</th>\n",
       "      <td>POLYGON ((-22.21497 16.22040, -22.05071 16.303...</td>\n",
       "    </tr>\n",
       "    <tr>\n",
       "      <th>1</th>\n",
       "      <td>POLYGON ((-22.05071 16.30307, -21.88618 16.385...</td>\n",
       "    </tr>\n",
       "    <tr>\n",
       "      <th>2</th>\n",
       "      <td>POLYGON ((-21.88618 16.38536, -21.72137 16.467...</td>\n",
       "    </tr>\n",
       "    <tr>\n",
       "      <th>3</th>\n",
       "      <td>POLYGON ((-21.72137 16.46727, -21.55629 16.548...</td>\n",
       "    </tr>\n",
       "    <tr>\n",
       "      <th>4</th>\n",
       "      <td>POLYGON ((-21.55629 16.54881, -21.39094 16.629...</td>\n",
       "    </tr>\n",
       "    <tr>\n",
       "      <th>...</th>\n",
       "      <td>...</td>\n",
       "    </tr>\n",
       "    <tr>\n",
       "      <th>95116</th>\n",
       "      <td>POLYGON ((87.25127 59.16191, 87.43401 59.01025...</td>\n",
       "    </tr>\n",
       "    <tr>\n",
       "      <th>95117</th>\n",
       "      <td>POLYGON ((87.43401 59.01025, 87.61561 58.85850...</td>\n",
       "    </tr>\n",
       "    <tr>\n",
       "      <th>95118</th>\n",
       "      <td>POLYGON ((87.61561 58.85850, 87.79608 58.70663...</td>\n",
       "    </tr>\n",
       "    <tr>\n",
       "      <th>95119</th>\n",
       "      <td>POLYGON ((87.79608 58.70663, 87.97545 58.55466...</td>\n",
       "    </tr>\n",
       "    <tr>\n",
       "      <th>95120</th>\n",
       "      <td>POLYGON ((87.97545 58.55466, 88.15372 58.40259...</td>\n",
       "    </tr>\n",
       "  </tbody>\n",
       "</table>\n",
       "<p>95121 rows × 1 columns</p>\n",
       "</div>"
      ],
      "text/plain": [
       "                                                geometry\n",
       "FID                                                     \n",
       "0      POLYGON ((-22.21497 16.22040, -22.05071 16.303...\n",
       "1      POLYGON ((-22.05071 16.30307, -21.88618 16.385...\n",
       "2      POLYGON ((-21.88618 16.38536, -21.72137 16.467...\n",
       "3      POLYGON ((-21.72137 16.46727, -21.55629 16.548...\n",
       "4      POLYGON ((-21.55629 16.54881, -21.39094 16.629...\n",
       "...                                                  ...\n",
       "95116  POLYGON ((87.25127 59.16191, 87.43401 59.01025...\n",
       "95117  POLYGON ((87.43401 59.01025, 87.61561 58.85850...\n",
       "95118  POLYGON ((87.61561 58.85850, 87.79608 58.70663...\n",
       "95119  POLYGON ((87.79608 58.70663, 87.97545 58.55466...\n",
       "95120  POLYGON ((87.97545 58.55466, 88.15372 58.40259...\n",
       "\n",
       "[95121 rows x 1 columns]"
      ]
     },
     "execution_count": 16,
     "metadata": {},
     "output_type": "execute_result"
    }
   ],
   "source": [
    "rotated_grid.shapefile"
   ]
  },
  {
   "cell_type": "code",
   "execution_count": 17,
   "metadata": {},
   "outputs": [
    {
     "data": {
      "text/plain": [
       "<matplotlib.axes._subplots.AxesSubplot at 0x7f3366ca3ad0>"
      ]
     },
     "execution_count": 17,
     "metadata": {},
     "output_type": "execute_result"
    },
    {
     "data": {
      "image/png": "[encoded data removed]",
      "text/plain": [
       "<Figure size 432x288 with 1 Axes>"
      ]
     },
     "metadata": {
      "needs_background": "light"
     },
     "output_type": "display_data"
    }
   ],
   "source": [
    "rotated_grid.shapefile.plot()"
   ]
  },
  {
   "cell_type": "code",
   "execution_count": 18,
   "metadata": {},
   "outputs": [
    {
     "data": {
      "text/plain": [
       "<matplotlib.axes._subplots.AxesSubplot at 0x7f336636b510>"
      ]
     },
     "execution_count": 18,
     "metadata": {},
     "output_type": "execute_result"
    },
    {
     "data": {
      "image/png": "[encoded data removed]",
      "text/plain": [
       "<Figure size 432x288 with 1 Axes>"
      ]
     },
     "metadata": {
      "needs_background": "light"
     },
     "output_type": "display_data"
    }
   ],
   "source": [
    "rotated_grid.shapefile[:10].plot()"
   ]
  },
  {
   "cell_type": "markdown",
   "metadata": {},
   "source": [
    "### LCC grid"
   ]
  },
  {
   "cell_type": "code",
   "execution_count": 19,
   "metadata": {},
   "outputs": [],
   "source": [
    "lat_1 = 37\n",
    "lat_2 = 43\n",
    "lon_0 = -3\n",
    "lat_0 = 40\n",
    "nx = 100\n",
    "ny = 200\n",
    "inc_x = 4000\n",
    "inc_y = 4000\n",
    "x_0 = -807847.688\n",
    "y_0 = -797137.125\n",
    "lcc_grid = nes.create_nes(comm=None, info=False, projection='lcc',\n",
    "                          lat_1=lat_1, lat_2=lat_2, lon_0=lon_0, lat_0=lat_0, \n",
    "                          nx=nx, ny=ny, inc_x=inc_x, inc_y=inc_y, x_0=x_0, y_0=y_0)"
   ]
  },
  {
   "cell_type": "code",
   "execution_count": 20,
   "metadata": {},
   "outputs": [
    {
     "data": {
      "text/html": [
       "<div>\n",
       "<style scoped>\n",
       "    .dataframe tbody tr th:only-of-type {\n",
       "        vertical-align: middle;\n",
       "    }\n",
       "\n",
       "    .dataframe tbody tr th {\n",
       "        vertical-align: top;\n",
       "    }\n",
       "\n",
       "    .dataframe thead th {\n",
       "        text-align: right;\n",
       "    }\n",
       "</style>\n",
       "<table border=\"1\" class=\"dataframe\">\n",
       "  <thead>\n",
       "    <tr style=\"text-align: right;\">\n",
       "      <th></th>\n",
       "      <th>geometry</th>\n",
       "    </tr>\n",
       "    <tr>\n",
       "      <th>FID</th>\n",
       "      <th></th>\n",
       "    </tr>\n",
       "  </thead>\n",
       "  <tbody>\n",
       "    <tr>\n",
       "      <th>0</th>\n",
       "      <td>POLYGON ((-11.58393 32.47507, -11.54169 32.478...</td>\n",
       "    </tr>\n",
       "    <tr>\n",
       "      <th>1</th>\n",
       "      <td>POLYGON ((-11.54169 32.47851, -11.49944 32.481...</td>\n",
       "    </tr>\n",
       "    <tr>\n",
       "      <th>2</th>\n",
       "      <td>POLYGON ((-11.49944 32.48192, -11.45719 32.485...</td>\n",
       "    </tr>\n",
       "    <tr>\n",
       "      <th>3</th>\n",
       "      <td>POLYGON ((-11.45719 32.48533, -11.41494 32.488...</td>\n",
       "    </tr>\n",
       "    <tr>\n",
       "      <th>4</th>\n",
       "      <td>POLYGON ((-11.41494 32.48871, -11.37268 32.492...</td>\n",
       "    </tr>\n",
       "    <tr>\n",
       "      <th>...</th>\n",
       "      <td>...</td>\n",
       "    </tr>\n",
       "    <tr>\n",
       "      <th>19995</th>\n",
       "      <td>POLYGON ((-8.03489 39.88059, -7.98792 39.88262...</td>\n",
       "    </tr>\n",
       "    <tr>\n",
       "      <th>19996</th>\n",
       "      <td>POLYGON ((-7.98792 39.88262, -7.94094 39.88464...</td>\n",
       "    </tr>\n",
       "    <tr>\n",
       "      <th>19997</th>\n",
       "      <td>POLYGON ((-7.94094 39.88464, -7.89397 39.88663...</td>\n",
       "    </tr>\n",
       "    <tr>\n",
       "      <th>19998</th>\n",
       "      <td>POLYGON ((-7.89397 39.88663, -7.84698 39.88860...</td>\n",
       "    </tr>\n",
       "    <tr>\n",
       "      <th>19999</th>\n",
       "      <td>POLYGON ((-7.84698 39.88860, -7.80000 39.89055...</td>\n",
       "    </tr>\n",
       "  </tbody>\n",
       "</table>\n",
       "<p>20000 rows × 1 columns</p>\n",
       "</div>"
      ],
      "text/plain": [
       "                                                geometry\n",
       "FID                                                     \n",
       "0      POLYGON ((-11.58393 32.47507, -11.54169 32.478...\n",
       "1      POLYGON ((-11.54169 32.47851, -11.49944 32.481...\n",
       "2      POLYGON ((-11.49944 32.48192, -11.45719 32.485...\n",
       "3      POLYGON ((-11.45719 32.48533, -11.41494 32.488...\n",
       "4      POLYGON ((-11.41494 32.48871, -11.37268 32.492...\n",
       "...                                                  ...\n",
       "19995  POLYGON ((-8.03489 39.88059, -7.98792 39.88262...\n",
       "19996  POLYGON ((-7.98792 39.88262, -7.94094 39.88464...\n",
       "19997  POLYGON ((-7.94094 39.88464, -7.89397 39.88663...\n",
       "19998  POLYGON ((-7.89397 39.88663, -7.84698 39.88860...\n",
       "19999  POLYGON ((-7.84698 39.88860, -7.80000 39.89055...\n",
       "\n",
       "[20000 rows x 1 columns]"
      ]
     },
     "execution_count": 20,
     "metadata": {},
     "output_type": "execute_result"
    }
   ],
   "source": [
    "lcc_grid.create_shapefile()"
   ]
  },
  {
   "cell_type": "code",
   "execution_count": 21,
   "metadata": {},
   "outputs": [
    {
     "data": {
      "text/html": [
       "<div>\n",
       "<style scoped>\n",
       "    .dataframe tbody tr th:only-of-type {\n",
       "        vertical-align: middle;\n",
       "    }\n",
       "\n",
       "    .dataframe tbody tr th {\n",
       "        vertical-align: top;\n",
       "    }\n",
       "\n",
       "    .dataframe thead th {\n",
       "        text-align: right;\n",
       "    }\n",
       "</style>\n",
       "<table border=\"1\" class=\"dataframe\">\n",
       "  <thead>\n",
       "    <tr style=\"text-align: right;\">\n",
       "      <th></th>\n",
       "      <th>geometry</th>\n",
       "    </tr>\n",
       "    <tr>\n",
       "      <th>FID</th>\n",
       "      <th></th>\n",
       "    </tr>\n",
       "  </thead>\n",
       "  <tbody>\n",
       "    <tr>\n",
       "      <th>0</th>\n",
       "      <td>POLYGON ((-11.58393 32.47507, -11.54169 32.478...</td>\n",
       "    </tr>\n",
       "    <tr>\n",
       "      <th>1</th>\n",
       "      <td>POLYGON ((-11.54169 32.47851, -11.49944 32.481...</td>\n",
       "    </tr>\n",
       "    <tr>\n",
       "      <th>2</th>\n",
       "      <td>POLYGON ((-11.49944 32.48192, -11.45719 32.485...</td>\n",
       "    </tr>\n",
       "    <tr>\n",
       "      <th>3</th>\n",
       "      <td>POLYGON ((-11.45719 32.48533, -11.41494 32.488...</td>\n",
       "    </tr>\n",
       "    <tr>\n",
       "      <th>4</th>\n",
       "      <td>POLYGON ((-11.41494 32.48871, -11.37268 32.492...</td>\n",
       "    </tr>\n",
       "    <tr>\n",
       "      <th>...</th>\n",
       "      <td>...</td>\n",
       "    </tr>\n",
       "    <tr>\n",
       "      <th>19995</th>\n",
       "      <td>POLYGON ((-8.03489 39.88059, -7.98792 39.88262...</td>\n",
       "    </tr>\n",
       "    <tr>\n",
       "      <th>19996</th>\n",
       "      <td>POLYGON ((-7.98792 39.88262, -7.94094 39.88464...</td>\n",
       "    </tr>\n",
       "    <tr>\n",
       "      <th>19997</th>\n",
       "      <td>POLYGON ((-7.94094 39.88464, -7.89397 39.88663...</td>\n",
       "    </tr>\n",
       "    <tr>\n",
       "      <th>19998</th>\n",
       "      <td>POLYGON ((-7.89397 39.88663, -7.84698 39.88860...</td>\n",
       "    </tr>\n",
       "    <tr>\n",
       "      <th>19999</th>\n",
       "      <td>POLYGON ((-7.84698 39.88860, -7.80000 39.89055...</td>\n",
       "    </tr>\n",
       "  </tbody>\n",
       "</table>\n",
       "<p>20000 rows × 1 columns</p>\n",
       "</div>"
      ],
      "text/plain": [
       "                                                geometry\n",
       "FID                                                     \n",
       "0      POLYGON ((-11.58393 32.47507, -11.54169 32.478...\n",
       "1      POLYGON ((-11.54169 32.47851, -11.49944 32.481...\n",
       "2      POLYGON ((-11.49944 32.48192, -11.45719 32.485...\n",
       "3      POLYGON ((-11.45719 32.48533, -11.41494 32.488...\n",
       "4      POLYGON ((-11.41494 32.48871, -11.37268 32.492...\n",
       "...                                                  ...\n",
       "19995  POLYGON ((-8.03489 39.88059, -7.98792 39.88262...\n",
       "19996  POLYGON ((-7.98792 39.88262, -7.94094 39.88464...\n",
       "19997  POLYGON ((-7.94094 39.88464, -7.89397 39.88663...\n",
       "19998  POLYGON ((-7.89397 39.88663, -7.84698 39.88860...\n",
       "19999  POLYGON ((-7.84698 39.88860, -7.80000 39.89055...\n",
       "\n",
       "[20000 rows x 1 columns]"
      ]
     },
     "execution_count": 21,
     "metadata": {},
     "output_type": "execute_result"
    }
   ],
   "source": [
    "lcc_grid.shapefile"
   ]
  },
  {
   "cell_type": "code",
   "execution_count": 22,
   "metadata": {},
   "outputs": [
    {
     "data": {
      "text/plain": [
       "<matplotlib.axes._subplots.AxesSubplot at 0x7f3366c16510>"
      ]
     },
     "execution_count": 22,
     "metadata": {},
     "output_type": "execute_result"
    },
    {
     "data": {
      "image/png": "[encoded data removed]",
      "text/plain": [
       "<Figure size 432x288 with 1 Axes>"
      ]
     },
     "metadata": {
      "needs_background": "light"
     },
     "output_type": "display_data"
    }
   ],
   "source": [
    "lcc_grid.shapefile.plot()"
   ]
  },
  {
   "cell_type": "code",
   "execution_count": 23,
   "metadata": {},
   "outputs": [
    {
     "data": {
      "text/plain": [
       "<matplotlib.axes._subplots.AxesSubplot at 0x7f335f495210>"
      ]
     },
     "execution_count": 23,
     "metadata": {},
     "output_type": "execute_result"
    },
    {
     "data": {
      "image/png": "[encoded data removed]",
      "text/plain": [
       "<Figure size 432x288 with 1 Axes>"
      ]
     },
     "metadata": {
      "needs_background": "light"
     },
     "output_type": "display_data"
    }
   ],
   "source": [
    "lcc_grid.shapefile[:10].plot()"
   ]
  },
  {
   "cell_type": "markdown",
   "metadata": {},
   "source": [
    "### Mercator grid"
   ]
  },
  {
   "cell_type": "code",
   "execution_count": 24,
   "metadata": {},
   "outputs": [],
   "source": [
    "lat_ts = -1.5\n",
    "lon_0 = -18.0\n",
    "nx = 100\n",
    "ny = 50\n",
    "inc_x = 50000\n",
    "inc_y = 50000\n",
    "x_0 = -126017.5\n",
    "y_0 = -5407460.0\n",
    "mercator_grid = nes.create_nes(comm=None, info=False, projection='mercator',\n",
    "                               lat_ts=lat_ts, lon_0=lon_0, nx=nx, ny=ny, \n",
    "                               inc_x=inc_x, inc_y=inc_y, x_0=x_0, y_0=y_0)"
   ]
  },
  {
   "cell_type": "code",
   "execution_count": 25,
   "metadata": {},
   "outputs": [
    {
     "data": {
      "text/html": [
       "<div>\n",
       "<style scoped>\n",
       "    .dataframe tbody tr th:only-of-type {\n",
       "        vertical-align: middle;\n",
       "    }\n",
       "\n",
       "    .dataframe tbody tr th {\n",
       "        vertical-align: top;\n",
       "    }\n",
       "\n",
       "    .dataframe thead th {\n",
       "        text-align: right;\n",
       "    }\n",
       "</style>\n",
       "<table border=\"1\" class=\"dataframe\">\n",
       "  <thead>\n",
       "    <tr style=\"text-align: right;\">\n",
       "      <th></th>\n",
       "      <th>geometry</th>\n",
       "    </tr>\n",
       "    <tr>\n",
       "      <th>FID</th>\n",
       "      <th></th>\n",
       "    </tr>\n",
       "  </thead>\n",
       "  <tbody>\n",
       "    <tr>\n",
       "      <th>0</th>\n",
       "      <td>POLYGON ((-19.13242 -43.82824, -18.68311 -43.8...</td>\n",
       "    </tr>\n",
       "    <tr>\n",
       "      <th>1</th>\n",
       "      <td>POLYGON ((-18.68311 -43.82824, -18.23380 -43.8...</td>\n",
       "    </tr>\n",
       "    <tr>\n",
       "      <th>2</th>\n",
       "      <td>POLYGON ((-18.23380 -43.82824, -17.78449 -43.8...</td>\n",
       "    </tr>\n",
       "    <tr>\n",
       "      <th>3</th>\n",
       "      <td>POLYGON ((-17.78449 -43.82824, -17.33518 -43.8...</td>\n",
       "    </tr>\n",
       "    <tr>\n",
       "      <th>4</th>\n",
       "      <td>POLYGON ((-17.33518 -43.82824, -16.88587 -43.8...</td>\n",
       "    </tr>\n",
       "    <tr>\n",
       "      <th>...</th>\n",
       "      <td>...</td>\n",
       "    </tr>\n",
       "    <tr>\n",
       "      <th>4995</th>\n",
       "      <td>POLYGON ((23.55209 -25.82217, 24.00140 -25.822...</td>\n",
       "    </tr>\n",
       "    <tr>\n",
       "      <th>4996</th>\n",
       "      <td>POLYGON ((24.00140 -25.82217, 24.45071 -25.822...</td>\n",
       "    </tr>\n",
       "    <tr>\n",
       "      <th>4997</th>\n",
       "      <td>POLYGON ((24.45071 -25.82217, 24.90002 -25.822...</td>\n",
       "    </tr>\n",
       "    <tr>\n",
       "      <th>4998</th>\n",
       "      <td>POLYGON ((24.90002 -25.82217, 25.34933 -25.822...</td>\n",
       "    </tr>\n",
       "    <tr>\n",
       "      <th>4999</th>\n",
       "      <td>POLYGON ((25.34933 -25.82217, 25.79864 -25.822...</td>\n",
       "    </tr>\n",
       "  </tbody>\n",
       "</table>\n",
       "<p>5000 rows × 1 columns</p>\n",
       "</div>"
      ],
      "text/plain": [
       "                                               geometry\n",
       "FID                                                    \n",
       "0     POLYGON ((-19.13242 -43.82824, -18.68311 -43.8...\n",
       "1     POLYGON ((-18.68311 -43.82824, -18.23380 -43.8...\n",
       "2     POLYGON ((-18.23380 -43.82824, -17.78449 -43.8...\n",
       "3     POLYGON ((-17.78449 -43.82824, -17.33518 -43.8...\n",
       "4     POLYGON ((-17.33518 -43.82824, -16.88587 -43.8...\n",
       "...                                                 ...\n",
       "4995  POLYGON ((23.55209 -25.82217, 24.00140 -25.822...\n",
       "4996  POLYGON ((24.00140 -25.82217, 24.45071 -25.822...\n",
       "4997  POLYGON ((24.45071 -25.82217, 24.90002 -25.822...\n",
       "4998  POLYGON ((24.90002 -25.82217, 25.34933 -25.822...\n",
       "4999  POLYGON ((25.34933 -25.82217, 25.79864 -25.822...\n",
       "\n",
       "[5000 rows x 1 columns]"
      ]
     },
     "execution_count": 25,
     "metadata": {},
     "output_type": "execute_result"
    }
   ],
   "source": [
    "mercator_grid.create_shapefile()"
   ]
  },
  {
   "cell_type": "code",
   "execution_count": 26,
   "metadata": {},
   "outputs": [
    {
     "data": {
      "text/html": [
       "<div>\n",
       "<style scoped>\n",
       "    .dataframe tbody tr th:only-of-type {\n",
       "        vertical-align: middle;\n",
       "    }\n",
       "\n",
       "    .dataframe tbody tr th {\n",
       "        vertical-align: top;\n",
       "    }\n",
       "\n",
       "    .dataframe thead th {\n",
       "        text-align: right;\n",
       "    }\n",
       "</style>\n",
       "<table border=\"1\" class=\"dataframe\">\n",
       "  <thead>\n",
       "    <tr style=\"text-align: right;\">\n",
       "      <th></th>\n",
       "      <th>geometry</th>\n",
       "    </tr>\n",
       "    <tr>\n",
       "      <th>FID</th>\n",
       "      <th></th>\n",
       "    </tr>\n",
       "  </thead>\n",
       "  <tbody>\n",
       "    <tr>\n",
       "      <th>0</th>\n",
       "      <td>POLYGON ((-19.13242 -43.82824, -18.68311 -43.8...</td>\n",
       "    </tr>\n",
       "    <tr>\n",
       "      <th>1</th>\n",
       "      <td>POLYGON ((-18.68311 -43.82824, -18.23380 -43.8...</td>\n",
       "    </tr>\n",
       "    <tr>\n",
       "      <th>2</th>\n",
       "      <td>POLYGON ((-18.23380 -43.82824, -17.78449 -43.8...</td>\n",
       "    </tr>\n",
       "    <tr>\n",
       "      <th>3</th>\n",
       "      <td>POLYGON ((-17.78449 -43.82824, -17.33518 -43.8...</td>\n",
       "    </tr>\n",
       "    <tr>\n",
       "      <th>4</th>\n",
       "      <td>POLYGON ((-17.33518 -43.82824, -16.88587 -43.8...</td>\n",
       "    </tr>\n",
       "    <tr>\n",
       "      <th>...</th>\n",
       "      <td>...</td>\n",
       "    </tr>\n",
       "    <tr>\n",
       "      <th>4995</th>\n",
       "      <td>POLYGON ((23.55209 -25.82217, 24.00140 -25.822...</td>\n",
       "    </tr>\n",
       "    <tr>\n",
       "      <th>4996</th>\n",
       "      <td>POLYGON ((24.00140 -25.82217, 24.45071 -25.822...</td>\n",
       "    </tr>\n",
       "    <tr>\n",
       "      <th>4997</th>\n",
       "      <td>POLYGON ((24.45071 -25.82217, 24.90002 -25.822...</td>\n",
       "    </tr>\n",
       "    <tr>\n",
       "      <th>4998</th>\n",
       "      <td>POLYGON ((24.90002 -25.82217, 25.34933 -25.822...</td>\n",
       "    </tr>\n",
       "    <tr>\n",
       "      <th>4999</th>\n",
       "      <td>POLYGON ((25.34933 -25.82217, 25.79864 -25.822...</td>\n",
       "    </tr>\n",
       "  </tbody>\n",
       "</table>\n",
       "<p>5000 rows × 1 columns</p>\n",
       "</div>"
      ],
      "text/plain": [
       "                                               geometry\n",
       "FID                                                    \n",
       "0     POLYGON ((-19.13242 -43.82824, -18.68311 -43.8...\n",
       "1     POLYGON ((-18.68311 -43.82824, -18.23380 -43.8...\n",
       "2     POLYGON ((-18.23380 -43.82824, -17.78449 -43.8...\n",
       "3     POLYGON ((-17.78449 -43.82824, -17.33518 -43.8...\n",
       "4     POLYGON ((-17.33518 -43.82824, -16.88587 -43.8...\n",
       "...                                                 ...\n",
       "4995  POLYGON ((23.55209 -25.82217, 24.00140 -25.822...\n",
       "4996  POLYGON ((24.00140 -25.82217, 24.45071 -25.822...\n",
       "4997  POLYGON ((24.45071 -25.82217, 24.90002 -25.822...\n",
       "4998  POLYGON ((24.90002 -25.82217, 25.34933 -25.822...\n",
       "4999  POLYGON ((25.34933 -25.82217, 25.79864 -25.822...\n",
       "\n",
       "[5000 rows x 1 columns]"
      ]
     },
     "execution_count": 26,
     "metadata": {},
     "output_type": "execute_result"
    }
   ],
   "source": [
    "mercator_grid.shapefile"
   ]
  },
  {
   "cell_type": "code",
   "execution_count": 27,
   "metadata": {},
   "outputs": [
    {
     "data": {
      "text/plain": [
       "<matplotlib.axes._subplots.AxesSubplot at 0x7f336754b290>"
      ]
     },
     "execution_count": 27,
     "metadata": {},
     "output_type": "execute_result"
    },
    {
     "data": {
      "image/png": "[encoded data removed]",
      "text/plain": [
       "<Figure size 432x288 with 1 Axes>"
      ]
     },
     "metadata": {
      "needs_background": "light"
     },
     "output_type": "display_data"
    }
   ],
   "source": [
    "mercator_grid.shapefile.plot()"
   ]
  },
  {
   "cell_type": "code",
   "execution_count": 28,
   "metadata": {},
   "outputs": [
    {
     "data": {
      "text/plain": [
       "<matplotlib.axes._subplots.AxesSubplot at 0x7f3365c65b10>"
      ]
     },
     "execution_count": 28,
     "metadata": {},
     "output_type": "execute_result"
    },
    {
     "data": {
      "image/png": "[encoded data removed]",
      "text/plain": [
       "<Figure size 432x288 with 1 Axes>"
      ]
     },
     "metadata": {
      "needs_background": "light"
     },
     "output_type": "display_data"
    }
   ],
   "source": [
    "mercator_grid.shapefile[:10].plot()"
   ]
  }
 ],
 "metadata": {
  "kernelspec": {
   "display_name": "Python 3",
   "language": "python",
   "name": "python3"
  },
  "language_info": {
   "codemirror_mode": {
    "name": "ipython",
    "version": 3
   },
   "file_extension": ".py",
   "mimetype": "text/x-python",
   "name": "python",
   "nbconvert_exporter": "python",
   "pygments_lexer": "ipython3",
   "version": "3.7.4"
  },
  "vscode": {
   "interpreter": {
    "hash": "31f2aee4e71d21fbe5cf8b01ff0e069b9275f58929596ceb00d14d90e3e16cd6"
   }
  }
 },
 "nbformat": 4,
 "nbformat_minor": 4
}
