{
 "cells": [
  {
   "cell_type": "code",
   "execution_count": 7,
   "id": "2d5202d7",
   "metadata": {},
   "outputs": [
    {
     "name": "stdout",
     "output_type": "stream",
     "text": [
      "The autoreload extension is already loaded. To reload it, use:\n",
      "  %reload_ext autoreload\n"
     ]
    }
   ],
   "source": [
    "%load_ext autoreload\n",
    "%autoreload 2"
   ]
  },
  {
   "cell_type": "code",
   "execution_count": 8,
   "id": "a62c6607",
   "metadata": {},
   "outputs": [],
   "source": [
    "from path_extract.clmt_pilot.study import plot_experiment\n",
    "from path_extract.project_paths import CLMTPath\n",
    "# from path_extract.paths import PIER6, PATH_TO_FIGURES"
   ]
  },
  {
   "cell_type": "code",
   "execution_count": 15,
   "id": "67225d90",
   "metadata": {},
   "outputs": [],
   "source": [
    "# for i in range(3): \n",
    "project_path = CLMTPath(\"newtown_creek\") \n",
    "charts =  [plot_experiment(project_path, i, renderer= \"html\") for i in range(1)]"
   ]
  },
  {
   "cell_type": "code",
   "execution_count": 16,
   "id": "42cd7769",
   "metadata": {},
   "outputs": [
    {
     "data": {
      "text/html": [
       "\n",
       "<style>\n",
       "  #altair-viz-153ffc5eb86a48ec9ecb703b686515ec.vega-embed {\n",
       "    width: 100%;\n",
       "    display: flex;\n",
       "  }\n",
       "\n",
       "  #altair-viz-153ffc5eb86a48ec9ecb703b686515ec.vega-embed details,\n",
       "  #altair-viz-153ffc5eb86a48ec9ecb703b686515ec.vega-embed details summary {\n",
       "    position: relative;\n",
       "  }\n",
       "</style>\n",
       "<div id=\"altair-viz-153ffc5eb86a48ec9ecb703b686515ec\"></div>\n",
       "<script type=\"text/javascript\">\n",
       "  var VEGA_DEBUG = (typeof VEGA_DEBUG == \"undefined\") ? {} : VEGA_DEBUG;\n",
       "  (function(spec, embedOpt){\n",
       "    let outputDiv = document.currentScript.previousElementSibling;\n",
       "    if (outputDiv.id !== \"altair-viz-153ffc5eb86a48ec9ecb703b686515ec\") {\n",
       "      outputDiv = document.getElementById(\"altair-viz-153ffc5eb86a48ec9ecb703b686515ec\");\n",
       "    }\n",
       "\n",
       "    const paths = {\n",
       "      \"vega\": \"https://cdn.jsdelivr.net/npm/vega@5?noext\",\n",
       "      \"vega-lib\": \"https://cdn.jsdelivr.net/npm/vega-lib?noext\",\n",
       "      \"vega-lite\": \"https://cdn.jsdelivr.net/npm/vega-lite@5.20.1?noext\",\n",
       "      \"vega-embed\": \"https://cdn.jsdelivr.net/npm/vega-embed@6?noext\",\n",
       "    };\n",
       "\n",
       "    function maybeLoadScript(lib, version) {\n",
       "      var key = `${lib.replace(\"-\", \"\")}_version`;\n",
       "      return (VEGA_DEBUG[key] == version) ?\n",
       "        Promise.resolve(paths[lib]) :\n",
       "        new Promise(function(resolve, reject) {\n",
       "          var s = document.createElement('script');\n",
       "          document.getElementsByTagName(\"head\")[0].appendChild(s);\n",
       "          s.async = true;\n",
       "          s.onload = () => {\n",
       "            VEGA_DEBUG[key] = version;\n",
       "            return resolve(paths[lib]);\n",
       "          };\n",
       "          s.onerror = () => reject(`Error loading script: ${paths[lib]}`);\n",
       "          s.src = paths[lib];\n",
       "        });\n",
       "    }\n",
       "\n",
       "    function showError(err) {\n",
       "      outputDiv.innerHTML = `<div class=\"error\" style=\"color:red;\">${err}</div>`;\n",
       "      throw err;\n",
       "    }\n",
       "\n",
       "    function displayChart(vegaEmbed) {\n",
       "      vegaEmbed(outputDiv, spec, embedOpt)\n",
       "        .catch(err => showError(`Javascript Error: ${err.message}<br>This usually means there's a typo in your chart specification. See the javascript console for the full traceback.`));\n",
       "    }\n",
       "\n",
       "    if(typeof define === \"function\" && define.amd) {\n",
       "      requirejs.config({paths});\n",
       "      let deps = [\"vega-embed\"];\n",
       "      require(deps, displayChart, err => showError(`Error loading script: ${err.message}`));\n",
       "    } else {\n",
       "      maybeLoadScript(\"vega\", \"5\")\n",
       "        .then(() => maybeLoadScript(\"vega-lite\", \"5.20.1\"))\n",
       "        .then(() => maybeLoadScript(\"vega-embed\", \"6\"))\n",
       "        .catch(showError)\n",
       "        .then(() => displayChart(vegaEmbed));\n",
       "    }\n",
       "  })({\"config\": {\"view\": {\"continuousWidth\": 300, \"continuousHeight\": 300}}, \"data\": {\"name\": \"data-cb7ac69f18563fb794b291796c820627\"}, \"mark\": {\"type\": \"bar\"}, \"encoding\": {\"color\": {\"field\": \"ELEMENT\", \"legend\": null, \"type\": \"nominal\"}, \"tooltip\": {\"field\": \"ELEMENT\", \"type\": \"nominal\"}, \"x\": {\"field\": \"CUSTOM_CATEGORY\", \"title\": \"Category Names\", \"type\": \"nominal\"}, \"y\": {\"aggregate\": \"sum\", \"field\": \"VALUE\", \"title\": \"Equivalent Carbon Emissions [kg-Co2-e]\", \"type\": \"quantitative\"}}, \"title\": \"Newtown Creek -- baseline\", \"$schema\": \"https://vega.github.io/schema/vega-lite/v5.20.1.json\", \"datasets\": {\"data-cb7ac69f18563fb794b291796c820627\": [{\"SECTION\": \"Carbon Impact\", \"TYPE\": \"Embodied Carbon Emissions\", \"CATEGORY\": \"Aggregate Asphalt Hardscape\", \"ELEMENT\": \"Compacted Aggregate Base\", \"VALUE\": 32979, \"UNIT\": \"kgCO\\u2082e\", \"CUSTOM_CATEGORY\": \"Aggregate Asphalt Hardscape\"}, {\"SECTION\": \"Carbon Impact\", \"TYPE\": \"Embodied Carbon Emissions\", \"CATEGORY\": \"Aggregate Asphalt Hardscape\", \"ELEMENT\": \"Compacted Aggregate Base\", \"VALUE\": 8044, \"UNIT\": \"kgCO\\u2082e\", \"CUSTOM_CATEGORY\": \"Aggregate Asphalt Hardscape\"}, {\"SECTION\": \"Carbon Impact\", \"TYPE\": \"Embodied Carbon Emissions\", \"CATEGORY\": \"Aggregate Asphalt Hardscape\", \"ELEMENT\": \"Compacted Aggregate Base\", \"VALUE\": 58316, \"UNIT\": \"kgCO\\u2082e\", \"CUSTOM_CATEGORY\": \"Aggregate Asphalt Hardscape\"}, {\"SECTION\": \"Carbon Impact\", \"TYPE\": \"Embodied Carbon Emissions\", \"CATEGORY\": \"Aggregate Asphalt Hardscape\", \"ELEMENT\": \"Compacted Aggregate Base\", \"VALUE\": 8446, \"UNIT\": \"kgCO\\u2082e\", \"CUSTOM_CATEGORY\": \"Aggregate Asphalt Hardscape\"}, {\"SECTION\": \"Carbon Impact\", \"TYPE\": \"Embodied Carbon Emissions\", \"CATEGORY\": \"Aggregate Asphalt Hardscape\", \"ELEMENT\": \"Compacted Aggregate Base\", \"VALUE\": 7239, \"UNIT\": \"kgCO\\u2082e\", \"CUSTOM_CATEGORY\": \"Aggregate Asphalt Hardscape\"}, {\"SECTION\": \"Carbon Impact\", \"TYPE\": \"Embodied Carbon Emissions\", \"CATEGORY\": \"Brick Stone Hardscape\", \"ELEMENT\": \"Stone Curb\", \"VALUE\": 43544, \"UNIT\": \"kgCO\\u2082e\", \"CUSTOM_CATEGORY\": \"Brick Stone Hardscape\"}, {\"SECTION\": \"Carbon Impact\", \"TYPE\": \"Embodied Carbon Emissions\", \"CATEGORY\": \"Concrete Hardscape\", \"ELEMENT\": \"Cast-in-Place Concrete Paving\", \"VALUE\": 154840, \"UNIT\": \"kgCO\\u2082e\", \"CUSTOM_CATEGORY\": \"Concrete Hardscape\"}, {\"SECTION\": \"Carbon Impact\", \"TYPE\": \"Embodied Carbon Emissions\", \"CATEGORY\": \"Concrete Hardscape\", \"ELEMENT\": \"Welded Wire Mesh (Fabric) Reinforcement\", \"VALUE\": 6405, \"UNIT\": \"kgCO\\u2082e\", \"CUSTOM_CATEGORY\": \"Concrete Hardscape\"}, {\"SECTION\": \"Carbon Impact\", \"TYPE\": \"Embodied Carbon Emissions\", \"CATEGORY\": \"Concrete Hardscape\", \"ELEMENT\": \"Cast-in-Place Concrete Paving\", \"VALUE\": 254557, \"UNIT\": \"kgCO\\u2082e\", \"CUSTOM_CATEGORY\": \"Concrete Hardscape\"}, {\"SECTION\": \"Carbon Impact\", \"TYPE\": \"Embodied Carbon Emissions\", \"CATEGORY\": \"Concrete Hardscape\", \"ELEMENT\": \"Welded Wire Mesh (Fabric) Reinforcement\", \"VALUE\": 8774, \"UNIT\": \"kgCO\\u2082e\", \"CUSTOM_CATEGORY\": \"Concrete Hardscape\"}, {\"SECTION\": \"Carbon Impact\", \"TYPE\": \"Embodied Carbon Emissions\", \"CATEGORY\": \"Concrete Hardscape\", \"ELEMENT\": \"Welded Wire Mesh (Fabric) Reinforcement\", \"VALUE\": 1537, \"UNIT\": \"kgCO\\u2082e\", \"CUSTOM_CATEGORY\": \"Concrete Hardscape\"}, {\"SECTION\": \"Carbon Impact\", \"TYPE\": \"Embodied Carbon Emissions\", \"CATEGORY\": \"Concrete Hardscape\", \"ELEMENT\": \"Precast Concrete Unit Pavers\", \"VALUE\": 124910, \"UNIT\": \"kgCO\\u2082e\", \"CUSTOM_CATEGORY\": \"Concrete Hardscape\"}, {\"SECTION\": \"Carbon Impact\", \"TYPE\": \"Embodied Carbon Emissions\", \"CATEGORY\": \"Concrete Hardscape\", \"ELEMENT\": \"Welded Wire Mesh (Fabric) Reinforcement\", \"VALUE\": 14833, \"UNIT\": \"kgCO\\u2082e\", \"CUSTOM_CATEGORY\": \"Concrete Hardscape\"}, {\"SECTION\": \"Carbon Impact\", \"TYPE\": \"Embodied Carbon Emissions\", \"CATEGORY\": \"Concrete Hardscape\", \"ELEMENT\": \"Cast-in-Place Concrete Subslab\", \"VALUE\": 249465, \"UNIT\": \"kgCO\\u2082e\", \"CUSTOM_CATEGORY\": \"Concrete Hardscape\"}, {\"SECTION\": \"Carbon Impact\", \"TYPE\": \"Embodied Carbon Emissions\", \"CATEGORY\": \"Concrete Hardscape\", \"ELEMENT\": \"Precast Concrete Unit Pavers\", \"VALUE\": 52072, \"UNIT\": \"kgCO\\u2082e\", \"CUSTOM_CATEGORY\": \"Concrete Hardscape\"}, {\"SECTION\": \"Carbon Impact\", \"TYPE\": \"Embodied Carbon Emissions\", \"CATEGORY\": \"Concrete Hardscape\", \"ELEMENT\": \"Welded Wire Mesh (Fabric) Reinforcement\", \"VALUE\": 1494, \"UNIT\": \"kgCO\\u2082e\", \"CUSTOM_CATEGORY\": \"Concrete Hardscape\"}, {\"SECTION\": \"Carbon Impact\", \"TYPE\": \"Embodied Carbon Emissions\", \"CATEGORY\": \"Concrete Hardscape\", \"ELEMENT\": \"Cast-in-Place Concrete Subslab\", \"VALUE\": 43355, \"UNIT\": \"kgCO\\u2082e\", \"CUSTOM_CATEGORY\": \"Concrete Hardscape\"}, {\"SECTION\": \"Carbon Impact\", \"TYPE\": \"Embodied Carbon Emissions\", \"CATEGORY\": \"Concrete Hardscape\", \"ELEMENT\": \"Cast-in-Place Concrete Paving\", \"VALUE\": 0, \"UNIT\": \"kgCO\\u2082e\", \"CUSTOM_CATEGORY\": \"Concrete Hardscape\"}, {\"SECTION\": \"Carbon Impact\", \"TYPE\": \"Embodied Carbon Emissions\", \"CATEGORY\": \"Metal Wood Hardscape\", \"ELEMENT\": \"Tree Grates\", \"VALUE\": 22645, \"UNIT\": \"kgCO\\u2082e\", \"CUSTOM_CATEGORY\": \"Metal Wood Hardscape\"}, {\"SECTION\": \"Carbon Impact\", \"TYPE\": \"Embodied Carbon Emissions\", \"CATEGORY\": \"Playground Athletic\", \"ELEMENT\": \"EPDM Safety Surface\", \"VALUE\": 31038, \"UNIT\": \"kgCO\\u2082e\", \"CUSTOM_CATEGORY\": \"Playground Athletic\"}, {\"SECTION\": \"Carbon Impact\", \"TYPE\": \"Embodied Carbon Emissions\", \"CATEGORY\": \"Playground Athletic\", \"ELEMENT\": \"Synthetic Turf\", \"VALUE\": 15178, \"UNIT\": \"kgCO\\u2082e\", \"CUSTOM_CATEGORY\": \"Playground Athletic\"}, {\"SECTION\": \"Carbon Impact\", \"TYPE\": \"Embodied Carbon Emissions\", \"CATEGORY\": \"Site Elements\", \"ELEMENT\": \"Stone Boulders\", \"VALUE\": 23854, \"UNIT\": \"kgCO\\u2082e\", \"CUSTOM_CATEGORY\": \"Site Elements\"}, {\"SECTION\": \"Carbon Impact\", \"TYPE\": \"Embodied Carbon Emissions\", \"CATEGORY\": \"Soil Amendments\", \"ELEMENT\": \"Amended Planting Soil\", \"VALUE\": 119343, \"UNIT\": \"kgCO\\u2082e\", \"CUSTOM_CATEGORY\": \"Soil Amendments\"}, {\"SECTION\": \"Carbon Impact\", \"TYPE\": \"Embodied Carbon Emissions\", \"CATEGORY\": \"Soil Amendments\", \"ELEMENT\": \"Organic Mulch\", \"VALUE\": 27684, \"UNIT\": \"kgCO\\u2082e\", \"CUSTOM_CATEGORY\": \"Soil Amendments\"}, {\"SECTION\": \"Carbon Impact\", \"TYPE\": \"Embodied Carbon Emissions\", \"CATEGORY\": \"Soil Amendments\", \"ELEMENT\": \"Gravel Mulch\", \"VALUE\": 5472, \"UNIT\": \"kgCO\\u2082e\", \"CUSTOM_CATEGORY\": \"Soil Amendments\"}, {\"SECTION\": \"Carbon Impact\", \"TYPE\": \"Biogenic (Sequestration + Emissions)\", \"CATEGORY\": \"Lawn\", \"ELEMENT\": \"Moderate Management Lawn\", \"VALUE\": 43827, \"UNIT\": \"kgCO\\u2082e\", \"CUSTOM_CATEGORY\": \"Lawn\"}, {\"SECTION\": \"Carbon Impact\", \"TYPE\": \"Biogenic (Sequestration + Emissions)\", \"CATEGORY\": \"Perennials Perennial Grasses\", \"ELEMENT\": \"Perennials / Perennial Grasses\", \"VALUE\": -43318, \"UNIT\": \"kgCO\\u2082e\", \"CUSTOM_CATEGORY\": \"Perennials Perennial Grasses\"}, {\"SECTION\": \"Carbon Impact\", \"TYPE\": \"Biogenic (Sequestration + Emissions)\", \"CATEGORY\": \"Shrubs\", \"ELEMENT\": \"Deciduous Small Shrub\", \"VALUE\": -194215, \"UNIT\": \"kgCO\\u2082e\", \"CUSTOM_CATEGORY\": \"Shrubs\"}, {\"SECTION\": \"Carbon Impact\", \"TYPE\": \"Biogenic (Sequestration + Emissions)\", \"CATEGORY\": \"Shrubs\", \"ELEMENT\": \"Deciduous Medium Shrub\", \"VALUE\": -423819, \"UNIT\": \"kgCO\\u2082e\", \"CUSTOM_CATEGORY\": \"Shrubs\"}, {\"SECTION\": \"Carbon Impact\", \"TYPE\": \"Biogenic (Sequestration + Emissions)\", \"CATEGORY\": \"Shrubs\", \"ELEMENT\": \"Deciduous Large Shrub\", \"VALUE\": -196346, \"UNIT\": \"kgCO\\u2082e\", \"CUSTOM_CATEGORY\": \"Shrubs\"}, {\"SECTION\": \"Carbon Impact\", \"TYPE\": \"Biogenic (Sequestration + Emissions)\", \"CATEGORY\": \"Shrubs\", \"ELEMENT\": \"Evergreen Small Shrub\", \"VALUE\": -145340, \"UNIT\": \"kgCO\\u2082e\", \"CUSTOM_CATEGORY\": \"Shrubs\"}, {\"SECTION\": \"Carbon Impact\", \"TYPE\": \"Biogenic (Sequestration + Emissions)\", \"CATEGORY\": \"Shrubs\", \"ELEMENT\": \"Evergreen Medium Shrub\", \"VALUE\": -329689, \"UNIT\": \"kgCO\\u2082e\", \"CUSTOM_CATEGORY\": \"Shrubs\"}, {\"SECTION\": \"Carbon Impact\", \"TYPE\": \"Biogenic (Sequestration + Emissions)\", \"CATEGORY\": \"Shrubs\", \"ELEMENT\": \"Evergreen Large Shrub\", \"VALUE\": -7909, \"UNIT\": \"kgCO\\u2082e\", \"CUSTOM_CATEGORY\": \"Shrubs\"}, {\"SECTION\": \"Carbon Impact\", \"TYPE\": \"Biogenic (Sequestration + Emissions)\", \"CATEGORY\": \"Trees\", \"ELEMENT\": \"Deciduous Large Tree\", \"VALUE\": -185526, \"UNIT\": \"kgCO\\u2082e\", \"CUSTOM_CATEGORY\": \"Trees\"}, {\"SECTION\": \"Carbon Impact\", \"TYPE\": \"Biogenic (Sequestration + Emissions)\", \"CATEGORY\": \"Trees\", \"ELEMENT\": \"Deciduous Medium Tree\", \"VALUE\": -27599, \"UNIT\": \"kgCO\\u2082e\", \"CUSTOM_CATEGORY\": \"Trees\"}, {\"SECTION\": \"Carbon Impact\", \"TYPE\": \"Biogenic (Sequestration + Emissions)\", \"CATEGORY\": \"Trees\", \"ELEMENT\": \"Deciduous Small Tree\", \"VALUE\": -1930, \"UNIT\": \"kgCO\\u2082e\", \"CUSTOM_CATEGORY\": \"Trees\"}, {\"SECTION\": \"Carbon Impact\", \"TYPE\": \"Biogenic (Sequestration + Emissions)\", \"CATEGORY\": \"Trees\", \"ELEMENT\": \"Evergreen Large Tree\", \"VALUE\": -52361, \"UNIT\": \"kgCO\\u2082e\", \"CUSTOM_CATEGORY\": \"Trees\"}, {\"SECTION\": \"Carbon Impact\", \"TYPE\": \"Biogenic (Sequestration + Emissions)\", \"CATEGORY\": \"Trees\", \"ELEMENT\": \"Evergreen Medium Tree\", \"VALUE\": -14574, \"UNIT\": \"kgCO\\u2082e\", \"CUSTOM_CATEGORY\": \"Trees\"}, {\"SECTION\": \"Carbon Impact\", \"TYPE\": \"Biogenic (Sequestration + Emissions)\", \"CATEGORY\": \"Trees Existing To Protect\", \"ELEMENT\": \"Deciduous Medium (~11-15yrs)\", \"VALUE\": -3730, \"UNIT\": \"kgCO\\u2082e\", \"CUSTOM_CATEGORY\": \"Trees Existing To Protect\"}, {\"SECTION\": \"Carbon Impact\", \"TYPE\": \"Operational Emissions\", \"CATEGORY\": \"Landscape Water Use\", \"ELEMENT\": \"Moderate Water Use\", \"VALUE\": 239306, \"UNIT\": \"kgCO\\u2082e\", \"CUSTOM_CATEGORY\": \"Landscape Water Use\"}]}}, {\"mode\": \"vega-lite\"});\n",
       "</script>"
      ],
      "text/plain": [
       "alt.Chart(...)"
      ]
     },
     "metadata": {},
     "output_type": "display_data"
    }
   ],
   "source": [
    "charts[0].show()"
   ]
  },
  {
   "cell_type": "code",
   "execution_count": 18,
   "id": "b59c4d05",
   "metadata": {},
   "outputs": [
    {
     "ename": "IndexError",
     "evalue": "list index out of range",
     "output_type": "error",
     "traceback": [
      "\u001b[31m---------------------------------------------------------------------------\u001b[39m",
      "\u001b[31mIndexError\u001b[39m                                Traceback (most recent call last)",
      "\u001b[36mCell\u001b[39m\u001b[36m \u001b[39m\u001b[32mIn[18]\u001b[39m\u001b[32m, line 1\u001b[39m\n\u001b[32m----> \u001b[39m\u001b[32m1\u001b[39m all_chart = (charts[\u001b[32m0\u001b[39m] | \u001b[43mcharts\u001b[49m\u001b[43m[\u001b[49m\u001b[32;43m1\u001b[39;49m\u001b[43m]\u001b[49m | charts[\u001b[32m2\u001b[39m]).resolve_scale(y=\u001b[33m\"\u001b[39m\u001b[33mshared\u001b[39m\u001b[33m\"\u001b[39m).resolve_legend()\n\u001b[32m      2\u001b[39m all_chart.show()\n",
      "\u001b[31mIndexError\u001b[39m: list index out of range"
     ]
    }
   ],
   "source": [
    "all_chart = (charts[0] | charts[1] | charts[2]).resolve_scale(y=\"shared\").resolve_legend()\n",
    "all_chart.show()"
   ]
  },
  {
   "cell_type": "code",
   "execution_count": null,
   "id": "055fb7fc",
   "metadata": {},
   "outputs": [
    {
     "ename": "FileNotFoundError",
     "evalue": "[Errno 2] No such file or directory: '/Users/julietnwagwuume-ezeoke/_UILCode/gqe-phd/path_extract/figures/250701_CLMT_Pilot_Sprint/pier_6/compare.html'",
     "output_type": "error",
     "traceback": [
      "\u001b[31m---------------------------------------------------------------------------\u001b[39m",
      "\u001b[31mFileNotFoundError\u001b[39m                         Traceback (most recent call last)",
      "\u001b[36mCell\u001b[39m\u001b[36m \u001b[39m\u001b[32mIn[7]\u001b[39m\u001b[32m, line 1\u001b[39m\n\u001b[32m----> \u001b[39m\u001b[32m1\u001b[39m \u001b[43mall_chart\u001b[49m\u001b[43m.\u001b[49m\u001b[43msave\u001b[49m\u001b[43m(\u001b[49m\u001b[43mproject_path\u001b[49m\u001b[43m.\u001b[49m\u001b[43mfigures_path\u001b[49m\u001b[43m \u001b[49m\u001b[43m/\u001b[49m\u001b[43m \u001b[49m\u001b[33;43m\"\u001b[39;49m\u001b[33;43mcompare.html\u001b[39;49m\u001b[33;43m\"\u001b[39;49m\u001b[43m,\u001b[49m\u001b[43m \u001b[49m\u001b[38;5;28;43mformat\u001b[39;49m\u001b[43m=\u001b[49m\u001b[33;43m\"\u001b[39;49m\u001b[33;43mhtml\u001b[39;49m\u001b[33;43m\"\u001b[39;49m\u001b[43m)\u001b[49m\n",
      "\u001b[36mFile \u001b[39m\u001b[32m~/_UILCode/gqe-phd/path_extract/.venv/lib/python3.13/site-packages/altair/vegalite/v5/api.py:2289\u001b[39m, in \u001b[36mTopLevelMixin.save\u001b[39m\u001b[34m(self, fp, format, override_data_transformer, scale_factor, mode, vegalite_version, vega_version, vegaembed_version, embed_options, json_kwds, engine, inline, **kwargs)\u001b[39m\n\u001b[32m   2287\u001b[39m \u001b[38;5;28;01mif\u001b[39;00m override_data_transformer:\n\u001b[32m   2288\u001b[39m     \u001b[38;5;28;01mwith\u001b[39;00m data_transformers.disable_max_rows():\n\u001b[32m-> \u001b[39m\u001b[32m2289\u001b[39m         \u001b[43msave\u001b[49m\u001b[43m(\u001b[49m\u001b[43m*\u001b[49m\u001b[43m*\u001b[49m\u001b[43mkwds\u001b[49m\u001b[43m)\u001b[49m\n\u001b[32m   2290\u001b[39m \u001b[38;5;28;01melse\u001b[39;00m:\n\u001b[32m   2291\u001b[39m     save(**kwds)\n",
      "\u001b[36mFile \u001b[39m\u001b[32m~/_UILCode/gqe-phd/path_extract/.venv/lib/python3.13/site-packages/altair/utils/save.py:224\u001b[39m, in \u001b[36msave\u001b[39m\u001b[34m(chart, fp, vega_version, vegaembed_version, format, mode, vegalite_version, embed_options, json_kwds, scale_factor, engine, inline, **kwargs)\u001b[39m\n\u001b[32m    217\u001b[39m \u001b[38;5;28;01melse\u001b[39;00m:\n\u001b[32m    218\u001b[39m     \u001b[38;5;66;03m# Temporarily turn off any data transformers so that all data is inlined\u001b[39;00m\n\u001b[32m    219\u001b[39m     \u001b[38;5;66;03m# when calling chart.to_dict. This is relevant for vl-convert which cannot access\u001b[39;00m\n\u001b[32m    220\u001b[39m     \u001b[38;5;66;03m# local json files which could be created by a json data transformer. Furthermore,\u001b[39;00m\n\u001b[32m    221\u001b[39m     \u001b[38;5;66;03m# we don't exit the with statement until this function completed due to the issue\u001b[39;00m\n\u001b[32m    222\u001b[39m     \u001b[38;5;66;03m# described at https://github.com/vega/vl-convert/issues/31\u001b[39;00m\n\u001b[32m    223\u001b[39m     \u001b[38;5;28;01mwith\u001b[39;00m data_transformers.enable(\u001b[33m\"\u001b[39m\u001b[33mdefault\u001b[39m\u001b[33m\"\u001b[39m), data_transformers.disable_max_rows():\n\u001b[32m--> \u001b[39m\u001b[32m224\u001b[39m         \u001b[43mperform_save\u001b[49m\u001b[43m(\u001b[49m\u001b[43m)\u001b[49m\n",
      "\u001b[36mFile \u001b[39m\u001b[32m~/_UILCode/gqe-phd/path_extract/.venv/lib/python3.13/site-packages/altair/utils/save.py:171\u001b[39m, in \u001b[36msave.<locals>.perform_save\u001b[39m\u001b[34m()\u001b[39m\n\u001b[32m    159\u001b[39m         kwargs[\u001b[33m\"\u001b[39m\u001b[33mtemplate\u001b[39m\u001b[33m\"\u001b[39m] = \u001b[33m\"\u001b[39m\u001b[33minline\u001b[39m\u001b[33m\"\u001b[39m\n\u001b[32m    160\u001b[39m     mb_html = spec_to_mimebundle(\n\u001b[32m    161\u001b[39m         spec=spec,\n\u001b[32m    162\u001b[39m         \u001b[38;5;28mformat\u001b[39m=\u001b[38;5;28mformat\u001b[39m,\n\u001b[32m   (...)\u001b[39m\u001b[32m    169\u001b[39m         **kwargs,\n\u001b[32m    170\u001b[39m     )\n\u001b[32m--> \u001b[39m\u001b[32m171\u001b[39m     \u001b[43mwrite_file_or_filename\u001b[49m\u001b[43m(\u001b[49m\n\u001b[32m    172\u001b[39m \u001b[43m        \u001b[49m\u001b[43mfp\u001b[49m\u001b[43m,\u001b[49m\u001b[43m \u001b[49m\u001b[43mmb_html\u001b[49m\u001b[43m[\u001b[49m\u001b[33;43m\"\u001b[39;49m\u001b[33;43mtext/html\u001b[39;49m\u001b[33;43m\"\u001b[39;49m\u001b[43m]\u001b[49m\u001b[43m,\u001b[49m\u001b[43m \u001b[49m\u001b[43mmode\u001b[49m\u001b[43m=\u001b[49m\u001b[33;43m\"\u001b[39;49m\u001b[33;43mw\u001b[39;49m\u001b[33;43m\"\u001b[39;49m\u001b[43m,\u001b[49m\u001b[43m \u001b[49m\u001b[43mencoding\u001b[49m\u001b[43m=\u001b[49m\u001b[43mencoding\u001b[49m\n\u001b[32m    173\u001b[39m \u001b[43m    \u001b[49m\u001b[43m)\u001b[49m\n\u001b[32m    174\u001b[39m \u001b[38;5;28;01melif\u001b[39;00m \u001b[38;5;28mformat\u001b[39m == \u001b[33m\"\u001b[39m\u001b[33mpng\u001b[39m\u001b[33m\"\u001b[39m:\n\u001b[32m    175\u001b[39m     mb_png = spec_to_mimebundle(\n\u001b[32m    176\u001b[39m         spec=spec,\n\u001b[32m    177\u001b[39m         \u001b[38;5;28mformat\u001b[39m=\u001b[38;5;28mformat\u001b[39m,\n\u001b[32m   (...)\u001b[39m\u001b[32m    185\u001b[39m         **kwargs,\n\u001b[32m    186\u001b[39m     )\n",
      "\u001b[36mFile \u001b[39m\u001b[32m~/_UILCode/gqe-phd/path_extract/.venv/lib/python3.13/site-packages/altair/utils/save.py:26\u001b[39m, in \u001b[36mwrite_file_or_filename\u001b[39m\u001b[34m(fp, content, mode, encoding)\u001b[39m\n\u001b[32m     24\u001b[39m \u001b[38;5;250m\u001b[39m\u001b[33;03m\"\"\"Write content to fp, whether fp is a string, a pathlib Path or a file-like object.\"\"\"\u001b[39;00m\n\u001b[32m     25\u001b[39m \u001b[38;5;28;01mif\u001b[39;00m \u001b[38;5;28misinstance\u001b[39m(fp, (\u001b[38;5;28mstr\u001b[39m, pathlib.Path)):\n\u001b[32m---> \u001b[39m\u001b[32m26\u001b[39m     \u001b[38;5;28;01mwith\u001b[39;00m \u001b[43mpathlib\u001b[49m\u001b[43m.\u001b[49m\u001b[43mPath\u001b[49m\u001b[43m(\u001b[49m\u001b[43mfp\u001b[49m\u001b[43m)\u001b[49m\u001b[43m.\u001b[49m\u001b[43mopen\u001b[49m\u001b[43m(\u001b[49m\u001b[43mmode\u001b[49m\u001b[43m=\u001b[49m\u001b[43mmode\u001b[49m\u001b[43m,\u001b[49m\u001b[43m \u001b[49m\u001b[43mencoding\u001b[49m\u001b[43m=\u001b[49m\u001b[43mencoding\u001b[49m\u001b[43m)\u001b[49m \u001b[38;5;28;01mas\u001b[39;00m f:\n\u001b[32m     27\u001b[39m         f.write(content)\n\u001b[32m     28\u001b[39m \u001b[38;5;28;01melse\u001b[39;00m:\n",
      "\u001b[36mFile \u001b[39m\u001b[32m/opt/homebrew/Cellar/python@3.13/3.13.2/Frameworks/Python.framework/Versions/3.13/lib/python3.13/pathlib/_local.py:537\u001b[39m, in \u001b[36mPath.open\u001b[39m\u001b[34m(self, mode, buffering, encoding, errors, newline)\u001b[39m\n\u001b[32m    535\u001b[39m \u001b[38;5;28;01mif\u001b[39;00m \u001b[33m\"\u001b[39m\u001b[33mb\u001b[39m\u001b[33m\"\u001b[39m \u001b[38;5;129;01mnot\u001b[39;00m \u001b[38;5;129;01min\u001b[39;00m mode:\n\u001b[32m    536\u001b[39m     encoding = io.text_encoding(encoding)\n\u001b[32m--> \u001b[39m\u001b[32m537\u001b[39m \u001b[38;5;28;01mreturn\u001b[39;00m \u001b[43mio\u001b[49m\u001b[43m.\u001b[49m\u001b[43mopen\u001b[49m\u001b[43m(\u001b[49m\u001b[38;5;28;43mself\u001b[39;49m\u001b[43m,\u001b[49m\u001b[43m \u001b[49m\u001b[43mmode\u001b[49m\u001b[43m,\u001b[49m\u001b[43m \u001b[49m\u001b[43mbuffering\u001b[49m\u001b[43m,\u001b[49m\u001b[43m \u001b[49m\u001b[43mencoding\u001b[49m\u001b[43m,\u001b[49m\u001b[43m \u001b[49m\u001b[43merrors\u001b[49m\u001b[43m,\u001b[49m\u001b[43m \u001b[49m\u001b[43mnewline\u001b[49m\u001b[43m)\u001b[49m\n",
      "\u001b[31mFileNotFoundError\u001b[39m: [Errno 2] No such file or directory: '/Users/julietnwagwuume-ezeoke/_UILCode/gqe-phd/path_extract/figures/250701_CLMT_Pilot_Sprint/pier_6/compare.html'"
     ]
    }
   ],
   "source": [
    "all_chart.save(project_path.figures_path / \"compare.html\", format=\"html\")"
   ]
  }
 ],
 "metadata": {
  "kernelspec": {
   "display_name": "pathfinder",
   "language": "python",
   "name": "python3"
  },
  "language_info": {
   "codemirror_mode": {
    "name": "ipython",
    "version": 3
   },
   "file_extension": ".py",
   "mimetype": "text/x-python",
   "name": "python",
   "nbconvert_exporter": "python",
   "pygments_lexer": "ipython3",
   "version": "3.13.2"
  }
 },
 "nbformat": 4,
 "nbformat_minor": 5
}
