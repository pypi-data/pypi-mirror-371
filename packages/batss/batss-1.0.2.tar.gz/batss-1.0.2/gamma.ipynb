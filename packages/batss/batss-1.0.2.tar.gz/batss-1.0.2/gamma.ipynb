{
 "cells": [
  {
   "cell_type": "markdown",
   "id": "4a2399e3",
   "metadata": {},
   "source": [
    "# Compare geometric mean of first and last terms of terms defining mean and variance of hypo"
   ]
  },
  {
   "cell_type": "code",
   "execution_count": 33,
   "id": "827fe060",
   "metadata": {},
   "outputs": [
    {
     "name": "stdout",
     "output_type": "stream",
     "text": [
      "geom_mean_of_mean relative_error(smallest_term, largest_term)=0.189090909090909\n",
      "relative_error(mean_geom, mean_direct_np(n, k, o, g))=0.0004169272643100757\n",
      "geom_mean_of_mean relative_error(smallest_term, largest_term)=0.189090909090909\n",
      "geom_mean_of_mean(n,k,o,g)=0.0018526239393783523\n",
      "   mean_direct_np(n,k,o,g)=0.0018533963488091927\n",
      "\n",
      "geom_mean_of_var  relative_error(smallest_term, largest_term)=0.4139371900826447\n",
      "relative_error(var_geom, var_direct_np(n, k, o, g))=0.0038943987695011003\n",
      "geom_mean_of_var  relative_error(smallest_term, largest_term)=0.4139371900826447\n",
      "geom_mean_of_var(n,k,o,g)=3.4322154607577644e-07\n",
      "   var_direct_np(n,k,o,g)=3.445581876424802e-07\n"
     ]
    }
   ],
   "source": [
    "import importlib\n",
    "import gamma\n",
    "importlib.reload(gamma)\n",
    "from gamma import *\n",
    "import math\n",
    "\n",
    "n = 10**2\n",
    "k = round(math.sqrt(n))\n",
    "o = 2\n",
    "g = 1\n",
    "\n",
    "def geom_mean_of_mean(n, k, o, g):\n",
    "    smallest_term = 1/math.comb(n + (k-1)*g, o)\n",
    "    largest_term = 1/math.comb(n, o)\n",
    "    print(f'geom_mean_of_mean {relative_error(smallest_term, largest_term)=}')\n",
    "    return math.sqrt(smallest_term * largest_term) * k\n",
    "\n",
    "def geom_mean_of_var(n, k, o, g):\n",
    "    smallest_term = 1/math.comb(n + (k-1)*g, o) ** 2\n",
    "    largest_term = 1/math.comb(n, o) ** 2\n",
    "    print(f'geom_mean_of_var  {relative_error(smallest_term, largest_term)=}')\n",
    "    return math.sqrt(smallest_term * largest_term) * k\n",
    "\n",
    "# print(f'                {smallest_term*k=}')\n",
    "# print(f'                 {largest_term*k=}')\n",
    "\n",
    "mean_geom = geom_mean_of_mean(n, k, o, g)\n",
    "if mean_geom != 0:\n",
    "    print(f'{relative_error(mean_geom, mean_direct_np(n, k, o, g))=}')\n",
    "print(f'{geom_mean_of_mean(n,k,o,g)=}')\n",
    "print(f'   {mean_direct_np(n,k,o,g)=}')\n",
    "\n",
    "print()\n",
    "\n",
    "var_geom = geom_mean_of_var(n, k, o, g)\n",
    "if var_geom != 0:\n",
    "    print(f'{relative_error(var_geom, var_direct_np(n, k, o, g))=}')\n",
    "print(f'{geom_mean_of_var(n,k,o,g)=}')\n",
    "print(f'   {var_direct_np(n,k,o,g)=}')\n",
    "# print(f'           {var_hypo(n, k, o, g)=}')\n",
    "# %timeit geom_mean(n, k, o, g)\n",
    "# %timeit var_direct_np(n, k, o, g)\n",
    "# %timeit var_hypo(n, k, o, g)"
   ]
  },
  {
   "cell_type": "markdown",
   "id": "c63fab39",
   "metadata": {},
   "source": [
    "# Compare running times for sampling hypo directly vs gamma matching hypo"
   ]
  },
  {
   "cell_type": "code",
   "execution_count": 1,
   "id": "1c1adeed",
   "metadata": {},
   "outputs": [
    {
     "name": "stdout",
     "output_type": "stream",
     "text": [
      "sqrt(0.5)=0.7071067811865476 sqrt(0.25)=0.5\n"
     ]
    }
   ],
   "source": [
    "from math import sqrt\n",
    "print(f'{sqrt(0.5)=} {sqrt(0.25)=}')"
   ]
  },
  {
   "cell_type": "code",
   "execution_count": 30,
   "id": "4146ece3",
   "metadata": {},
   "outputs": [
    {
     "name": "stdout",
     "output_type": "stream",
     "text": [
      "sample_hypo: sample_hypo(rng, n, k, o, g)=2.0575438681062744e-06\n",
      "11.2 μs ± 281 ns per loop (mean ± std. dev. of 7 runs, 100,000 loops each)\n",
      "sample_gamma_matching_hypo: sample_gamma_matching_hypo(rng, n, k, o, g)=1.9735365656958827e-06\n",
      "2.26 μs ± 33.8 ns per loop (mean ± std. dev. of 7 runs, 100,000 loops each)\n"
     ]
    }
   ],
   "source": [
    "import importlib\n",
    "import gamma\n",
    "importlib.reload(gamma)\n",
    "from gamma import *\n",
    "import math\n",
    "\n",
    "seed = 1\n",
    "rng = np.random.default_rng(seed)\n",
    "n = 10**4\n",
    "k = round(math.sqrt(n))\n",
    "# o = 5\n",
    "# g = 5\n",
    "o = 2\n",
    "g = 1\n",
    "\n",
    "print(f'sample_hypo: {sample_hypo(rng, n, k, o, g)=}')\n",
    "%timeit sample_hypo(rng, n, k, o, g)\n",
    "print(f'sample_gamma_matching_hypo: {sample_gamma_matching_hypo(rng, n, k, o, g)=}')\n",
    "%timeit sample_gamma_matching_hypo(rng, n, k, o, g)"
   ]
  },
  {
   "cell_type": "code",
   "execution_count": null,
   "id": "ebeb9727",
   "metadata": {},
   "outputs": [
    {
     "name": "stdout",
     "output_type": "stream",
     "text": [
      "                     var_direct(n, k, o, g)=3.999920002933268e-35\n",
      "                 var_direct_sum(n, k, o, g)=3.999920002933273e-35\n",
      "                var_direct_fsum(n, k, o, g)=3.999920002933273e-35\n",
      "             var_direct_mp(n, k, o, g)=mpf('3.9999200029332733341415739850102e-35')\n",
      "        var_direct_mp_fsum(n, k, o, g)=mpf('3.9999200029332733347999706672799e-35')\n",
      "       var_direct_np(n, k, o, g)=np.float64(3.9999200029332736e-35)\n",
      "   var_direct_np_sum(n, k, o, g)=np.float64(3.999920002933269e-35)\n",
      "             var_direct_np_fsum(n, k, o, g)=3.999920002933273e-35\n",
      "31.1 ms ± 338 μs per loop (mean ± std. dev. of 7 runs, 10 loops each)\n",
      "33.9 ms ± 279 μs per loop (mean ± std. dev. of 7 runs, 10 loops each)\n",
      "34.7 ms ± 529 μs per loop (mean ± std. dev. of 7 runs, 10 loops each)\n",
      "3.88 s ± 190 ms per loop (mean ± std. dev. of 7 runs, 1 loop each)\n",
      "1.04 ms ± 29.1 μs per loop (mean ± std. dev. of 7 runs, 1,000 loops each)\n",
      "7.53 ms ± 183 μs per loop (mean ± std. dev. of 7 runs, 100 loops each)\n",
      "4.08 ms ± 115 μs per loop (mean ± std. dev. of 7 runs, 100 loops each)\n"
     ]
    }
   ],
   "source": [
    "import numpy as np\n",
    "import numpy.typing as npt\n",
    "import math\n",
    "from scipy.special import binom\n",
    "import gamma\n",
    "from mpmath import mpf, binomial, mp\n",
    "\n",
    "def var_direct(n: int, k: int, o: int, g: int) -> float:\n",
    "    s = 0\n",
    "    for i in range(int(k)):\n",
    "        s += 1 / math.comb(n + i*g, o) ** 2\n",
    "    return s\n",
    "\n",
    "def var_direct_sum(n: int, k: int, o: int, g: int) -> float:\n",
    "    terms = []\n",
    "    for i in range(int(k)):\n",
    "        terms.append(1 / math.comb(n + i*g, o) ** 2)\n",
    "    return sum(terms)\n",
    "\n",
    "def var_direct_fsum(n: int, k: int, o: int, g: int) -> float:\n",
    "    terms = []\n",
    "    for i in range(int(k)):\n",
    "        terms.append(1 / math.comb(n + i*g, o) ** 2)\n",
    "    return math.fsum(terms)\n",
    "\n",
    "def var_direct_mp(n: int, k: int, o: int, g: int) -> float:\n",
    "    s = mpf(0)\n",
    "    for i in range(int(k)):\n",
    "        s += 1 / math.comb(n + i*g, o) ** 2\n",
    "    return s\n",
    "\n",
    "def var_direct_mp_fsum(n: int, k: int, o: int, g: int) -> float:\n",
    "    terms = []\n",
    "    for i in range(int(k)):\n",
    "        terms.append(1 / binomial(n + i*g, o))\n",
    "    return mp.fsum(terms, squared=True)\n",
    "\n",
    "def reciprocals(n: int, k: int, o: int, g: int) -> npt.NDArray[np.float64]:\n",
    "    indices = np.arange(k)*g\n",
    "    binomial_values = binom(n + indices, o)\n",
    "    return 1.0 / binomial_values\n",
    "\n",
    "def var_direct_np(n: int, k: int, o: int, g: int) -> float:\n",
    "    return np.sum(reciprocals(n, k, o, g) ** 2)  # type: ignore\n",
    "\n",
    "def var_direct_np_sum(n: int, k: int, o: int, g: int) -> float:\n",
    "    recs = list(reciprocals(n, k, o, g) ** 2)\n",
    "    return sum(recs)  # type: ignore\n",
    "\n",
    "def var_direct_np_fsum(n: int, k: int, o: int, g: int) -> float:\n",
    "    return math.fsum(reciprocals(n, k, o, g) ** 2)  # type: ignore\n",
    "\n",
    "\n",
    "n = 10**10\n",
    "k = int(math.sqrt(n))\n",
    "o = 2\n",
    "g = 1\n",
    "\n",
    "with mp.workprec(100):\n",
    "    print(f'                     {var_direct(n, k, o, g)=}')\n",
    "    print(f'                 {var_direct_sum(n, k, o, g)=}')\n",
    "    print(f'                {var_direct_fsum(n, k, o, g)=}')\n",
    "    print(f'             {var_direct_mp(n, k, o, g)=}')\n",
    "    print(f'        {var_direct_mp_fsum(n, k, o, g)=}')\n",
    "    print(f'       {var_direct_np(n, k, o, g)=}')\n",
    "    print(f'   {var_direct_np_sum(n, k, o, g)=}')\n",
    "    print(f'             {var_direct_np_fsum(n, k, o, g)=}')\n",
    "%timeit var_direct(n, k, o, g)\n",
    "%timeit var_direct_sum(n, k, o, g)\n",
    "%timeit var_direct_fsum(n, k, o, g)\n",
    "%timeit var_direct_mp_fsum(n, k, o, g)\n",
    "%timeit var_direct_np(n, k, o, g)\n",
    "%timeit var_direct_np_sum(n, k, o, g)\n",
    "%timeit var_direct_np_fsum(n, k, o, g)\n",
    "\n",
    "# %timeit gamma.var_hypo(n, k, o, g)"
   ]
  },
  {
   "cell_type": "code",
   "execution_count": 4,
   "id": "7a4fdd9b-e64a-4ae5-a702-afc35fc67d40",
   "metadata": {},
   "outputs": [
    {
     "data": {
      "text/plain": [
       "mpf('0.17408089047688602')"
      ]
     },
     "execution_count": 4,
     "metadata": {},
     "output_type": "execute_result"
    }
   ],
   "source": [
    "from math import sqrt\n",
    "import numpy as np\n",
    "import importlib\n",
    "import gamma\n",
    "importlib.reload(gamma)\n",
    "from gamma import *\n",
    "\n",
    "m = mpf('0.095766171513448239')\n",
    "# gamma_matching_hypo(100, 10, 2, 1)\n",
    "mean_hypo_o1(25, 5, 2)"
   ]
  },
  {
   "cell_type": "code",
   "execution_count": 317,
   "id": "b9a8311e-a4db-489f-bc4a-86edef02777a",
   "metadata": {},
   "outputs": [
    {
     "name": "stdout",
     "output_type": "stream",
     "text": [
      "2.000000165480742e-08%\n"
     ]
    }
   ],
   "source": [
    "from math import comb\n",
    "def deviation(n, k, o, g):\n",
    "    min_rate = comb(n, o)\n",
    "    max_rate = comb(n+(k-1)*g, o)\n",
    "    ratio = (max_rate / min_rate - 1) * 100.0\n",
    "    return f'{ratio}%'\n",
    "\n",
    "n = 10**20\n",
    "k = round(sqrt(n))\n",
    "o = 2\n",
    "g = 1\n",
    "print(deviation(n, k, o, g))"
   ]
  },
  {
   "cell_type": "code",
   "execution_count": null,
   "id": "2311be14",
   "metadata": {},
   "outputs": [
    {
     "name": "stdout",
     "output_type": "stream",
     "text": [
      "629 ns per loop; 500000 loops, best of 7\n",
      "186 μs per loop; 2000 loops, best of 7\n"
     ]
    },
    {
     "data": {
      "text/plain": [
       "0.00018586415000001466"
      ]
     },
     "execution_count": 8,
     "metadata": {},
     "output_type": "execute_result"
    }
   ],
   "source": [
    "import timeit\n",
    "from pint import UnitRegistry\n",
    "ureg = UnitRegistry()\n",
    "\n",
    "def format_time(seconds):\n",
    "    \"\"\"Format time with appropriate units like %timeit does\"\"\"\n",
    "    if seconds >= 1.0:\n",
    "        return f\"{seconds:.3g} s\"\n",
    "    elif seconds >= 1e-3:\n",
    "        return f\"{seconds*1e3:.3g} ms\"\n",
    "    elif seconds >= 1e-6:\n",
    "        return f\"{seconds*1e6:.3g} μs\"\n",
    "    else:\n",
    "        return f\"{seconds*1e9:.3g} ns\"\n",
    "\n",
    "def smart_timeit(stmt, print_: bool = True, setup: str='pass', repeat=7):\n",
    "    \"\"\"timeit with automatic scaling and %timeit-like output\"\"\"\n",
    "    timer = timeit.Timer(stmt, setup)\n",
    "    \n",
    "    # Auto-determine number of loops\n",
    "    number, _ = timer.autorange()\n",
    "    \n",
    "    # Take multiple measurements\n",
    "    times = timer.repeat(repeat=repeat, number=number)\n",
    "    best_time = min(times)  # %timeit uses minimum, not average!\n",
    "    time_per_loop = best_time / number\n",
    "\n",
    "    if print_:\n",
    "        print(f\"{format_time(time_per_loop)} per loop; {number} loops, best of {repeat}\")\n",
    "    return time_per_loop\n",
    "\n",
    "# Usage\n",
    "smart_timeit(lambda: sum(range(100)))        # e.g., \"100000 loops, best of 7: 4.52 μs per loop\"\n",
    "smart_timeit(lambda: sum(range(10000)))      # e.g., \"1000 loops, best of 7: 294 μs per loop\"\n",
    "# pass"
   ]
  },
  {
   "cell_type": "code",
   "execution_count": null,
   "id": "fdb62ee4",
   "metadata": {},
   "outputs": [
    {
     "name": "stdout",
     "output_type": "stream",
     "text": [
      "*******************\n",
      "* n = 10^6\n",
      "mean hypo       7.135821895381961e-31\n",
      "Executed 1000 times, total time: 0.396582 seconds\n",
      "Average time per execution: 0.000396582 seconds\n"
     ]
    }
   ],
   "source": [
    "import importlib\n",
    "import gamma\n",
    "importlib.reload(gamma)\n",
    "\n",
    "for exponent in range(6, 7, 2):\n",
    "    print(f'*******************\\n* n = 10^{exponent}')\n",
    "    n = 10**exponent\n",
    "    k = round(sqrt(n))\n",
    "    o = 6\n",
    "    g = 3\n",
    "    \n",
    "    print('mean hypo      ', end = ' ')\n",
    "    print(f'{gamma.mean_hypo_polygamma_identity(n, k, o, g)}')\n",
    "    # %timeit gamma.mean_hypo(n, k, o, g)\n",
    "    timer = timeit.Timer(lambda: gamma.mean_hypo_polygamma_identity(n, k, o, g))\n",
    "    number, time_taken = timer.autorange()\n",
    "    ave = time_taken / number\n",
    "    print(f\"Average time per execution: {ave} seconds\")\n",
    "    \n",
    "    # print('mean direct np ', end = ' ')\n",
    "    # print(f'{gamma.mean_direct_np(n, k, o, g)}')\n",
    "\n",
    "    # %timeit gamma.mean_direct_np(n, k, o, g)"
   ]
  },
  {
   "cell_type": "code",
   "execution_count": 7,
   "id": "1d76dd1c",
   "metadata": {},
   "outputs": [
    {
     "name": "stdout",
     "output_type": "stream",
     "text": [
      "lt=5.183999813376004e-211, ft=5.184e-211, 0.0, math.sqrt(lt*ft)=0.0\n"
     ]
    }
   ],
   "source": [
    "import importlib\n",
    "import gamma\n",
    "importlib.reload(gamma)\n",
    "import math\n",
    "\n",
    "lt = 5.183999813376004e-211\n",
    "ft = 5.184e-211\n",
    "print(f'{lt=}, {ft=}, {lt*ft}, {math.sqrt(lt*ft)=}')"
   ]
  },
  {
   "cell_type": "code",
   "execution_count": null,
   "id": "35ed1822",
   "metadata": {},
   "outputs": [
    {
     "name": "stdout",
     "output_type": "stream",
     "text": [
      "using geometric mean shortcut for variance of hypoexponential\n",
      "           gamma.var_hypo(n, k, o, g)=5.183999906688002e-202\n",
      "gamma.var_direct_np(n, k, o, g)=np.float64(5.183999906688005e-202)\n"
     ]
    }
   ],
   "source": [
    "import numpy as np\n",
    "import math\n",
    "import importlib\n",
    "import gamma\n",
    "importlib.reload(gamma)\n",
    "\n",
    "n = 10**18\n",
    "k = round(math.sqrt(n))\n",
    "o = 6\n",
    "g = 3\n",
    "\n",
    "print(f'           {gamma.var_hypo_polygamma_identity(n, k, o, g)=}')\n",
    "print(f'{gamma.var_direct_np(n, k, o, g)=}')"
   ]
  },
  {
   "cell_type": "code",
   "execution_count": 9,
   "id": "c69fa4b6",
   "metadata": {},
   "outputs": [
    {
     "name": "stdout",
     "output_type": "stream",
     "text": [
      "\n",
      "with direct=    0, mean=6.604539183548374e-20, var=4.3619937827025823e-41\n",
      "shape=100.00000000000001, scale=6.604539183548373e-22\n",
      "with direct=    1, mean=6.610400965441237e-20, var=4.381201298553491e-41\n",
      "shape=99.73840037510644, scale=6.62773910608167e-22\n",
      "mean_direct_np\n",
      "20.2 μs ± 1.67 μs per loop (mean ± std. dev. of 7 runs, 10,000 loops each)\n",
      "mean_hypo     \n",
      "1.21 μs ± 44.8 ns per loop (mean ± std. dev. of 7 runs, 1,000,000 loops each)\n",
      "var_direct_np\n",
      "19 μs ± 1.33 μs per loop (mean ± std. dev. of 7 runs, 100,000 loops each)\n",
      "var_hypo     \n",
      "1.39 μs ± 136 ns per loop (mean ± std. dev. of 7 runs, 1,000,000 loops each)\n"
     ]
    }
   ],
   "source": [
    "import numpy as np\n",
    "import math\n",
    "import importlib\n",
    "import gamma\n",
    "importlib.reload(gamma)\n",
    "\n",
    "n = 10**4\n",
    "k = round(math.sqrt(n))\n",
    "o = 6\n",
    "g = 3\n",
    "rng = np.random.default_rng(10)\n",
    "\n",
    "geom = True\n",
    "# for _ in range(10**2):\n",
    "#     print(gamma.sample_gamma_matching_hypo(rng, n, k, o, g, geom), end=' ')\n",
    "print()\n",
    "# %timeit gamma.sample_gamma_matching_hypo(rng, n, k, o, g, geom)\n",
    "# shape, scale = gamma.gamma_params_matching_hypo(n, k, o, g, direct=True)\n",
    "shape, scale = gamma.gamma_params_matching_hypo(n, k, o, g)\n",
    "print(f'{shape=}, {scale=}')\n",
    "shape, scale = gamma.gamma_params_matching_hypo(n, k, o, g, direct=True)\n",
    "print(f'{shape=}, {scale=}')\n",
    "\n",
    "print('mean_direct_np')\n",
    "%timeit gamma.mean_direct_np(n, k, o, g)\n",
    "print('mean_hypo     ')\n",
    "%timeit gamma.mean_hypo(n, k, o, g)\n",
    "\n",
    "print('var_direct_np')\n",
    "%timeit gamma.var_direct_np(n, k, o, g)\n",
    "print('var_hypo     ')\n",
    "%timeit gamma.var_hypo(n, k, o, g)\n",
    "\n",
    "# print(f'             {gamma.gamma_params_matching_hypo(n, k, o, g)=}')\n",
    "# print(f'{gamma.gamma_params_matching_hypo(n, k, o, g, direct=True)=}')\n",
    "# shape = scale = 0.001\n",
    "# for _ in range(20):\n",
    "#     print(f'{rng.gamma(shape, scale)=}')\n",
    "    # print(f'    {rng.gamma(1, scale)=}')\n",
    "    # print(f'    {rng.gamma(shape, 1)=}')\n",
    "# %timeit rng.gamma(shape, scale)"
   ]
  },
  {
   "cell_type": "code",
   "execution_count": null,
   "id": "3dc533a5",
   "metadata": {},
   "outputs": [
    {
     "name": "stdout",
     "output_type": "stream",
     "text": [
      "gamma.mean_hypo(n, k, o, g)=0.09578262852211515\n",
      "using geometric mean shortcut for variance of hypoexponential\n",
      "    first_term=0.0001\n",
      "     last_term=8.416799932665601e-05\n",
      "relative_error=0.18810000000000002\n",
      "     geom_mean=9.174311926605505e-05\n",
      "gamma.var_hypo(n, k, o, g)=0.0009174311926605505\n"
     ]
    }
   ],
   "source": [
    "import importlib\n",
    "import gamma\n",
    "importlib.reload(gamma)\n",
    "\n",
    "n = 10**2\n",
    "k = round(math.sqrt(n))\n",
    "o = 1\n",
    "g = 1\n",
    "print(f'{gamma.mean_hypo_polygamma_identity(n, k, o, g)=}')\n",
    "print(f'{gamma.var_hypo_polygamma_identity(n, k, o, g)=}')"
   ]
  },
  {
   "cell_type": "code",
   "execution_count": 28,
   "id": "b03ebdbb-9330-47c7-8304-ec4b6847ee69",
   "metadata": {},
   "outputs": [
    {
     "name": "stdout",
     "output_type": "stream",
     "text": [
      "gammas_params=array([[9.96951502e+00, 1.85906370e-04]])\n"
     ]
    },
    {
     "data": {
      "image/png": "[encoded data removed]",
      "text/plain": [
       "<Figure size 900x400 with 1 Axes>"
      ]
     },
     "metadata": {},
     "output_type": "display_data"
    }
   ],
   "source": [
    "import math\n",
    "import numpy as np\n",
    "import importlib\n",
    "import gamma\n",
    "importlib.reload(gamma)\n",
    "\n",
    "n = 10**2\n",
    "k = round(math.sqrt(n))\n",
    "# k = n\n",
    "o = 2\n",
    "g = 1\n",
    "trials = 10**7\n",
    "seed = 8\n",
    "figsize = (9,4)\n",
    "\n",
    "# print(f'{k=}')\n",
    "rng = np.random.default_rng(seed)\n",
    "gammas_params = gamma.gammas_params_matching_hypo(n, k, o, g, 1)\n",
    "# %timeit gamma.gammas_params_matching_hypo(n, k, o, g, 1)\n",
    "print(f'{gammas_params=}')\n",
    "gammas_samples = gamma.sample_gammas_sum(rng, gammas_params, trials)\n",
    "# %timeit gamma.sample_gammas_sum(rng, gammas_params, 1)\n",
    "hypo_samples = gamma.sample_hypos(rng, n, k, o, g, trials)\n",
    "# %timeit gamma.sample_hypo(rng, n, k, o, g, 1)\n",
    "\n",
    "import matplotlib.pyplot as plt\n",
    "fig, ax = plt.subplots(figsize=figsize)\n",
    "\n",
    "ax.hist([gammas_samples, hypo_samples], bins=30, histtype='bar', \n",
    "        label=['gamma', 'hypo'], \n",
    "        color=['blue', 'orange'],\n",
    "        rwidth=0.8)\n",
    "\n",
    "ax.set_xlabel('Sample')\n",
    "ax.set_ylabel('Count')\n",
    "ax.set_title('Sampled gamma vs hypo')\n",
    "ax.legend()\n",
    "\n",
    "plt.tight_layout()\n",
    "plt.show()"
   ]
  },
  {
   "cell_type": "code",
   "execution_count": 9,
   "id": "8a942419-2409-4299-98bd-a16e1ea5a490",
   "metadata": {},
   "outputs": [
    {
     "name": "stdout",
     "output_type": "stream",
     "text": [
      "using geometric mean shortcut for variance of hypoexponential\n",
      "    first_term=4.000800120016002e-16\n",
      "     last_term=3.8462057625318347e-16\n",
      "relative_error=0.04019399039701988\n",
      "     geom_mean=3.922741449081701e-16\n",
      "with direct=    0, mean=1.980592157641351e-06, var=3.922741449081701e-14\n",
      "gammas=array([[1.00000098e+02, 1.98059022e-08]])\n"
     ]
    },
    {
     "data": {
      "image/png": "[encoded data removed]",
      "text/plain": [
       "<Figure size 900x400 with 1 Axes>"
      ]
     },
     "metadata": {},
     "output_type": "display_data"
    }
   ],
   "source": [
    "from math import sqrt\n",
    "import numpy as np\n",
    "import importlib\n",
    "import gamma\n",
    "importlib.reload(gamma)\n",
    "\n",
    "n = 10**4\n",
    "k = round(sqrt(n))\n",
    "o = 2\n",
    "g = 1\n",
    "trials = 10**7\n",
    "seed = 0\n",
    "\n",
    "# print(f'{k=}')\n",
    "rng = np.random.default_rng(seed)\n",
    "gammas = gamma.gammas_params_matching_hypo(n, k, o, g, 1)\n",
    "print(f'{gammas=}')\n",
    "gammas_samples = gamma.sample_gammas_sum(rng, gammas, trials)\n",
    "# gammas_samples = gamma.sample_hypo(rng, n, k, c, trials)\n",
    "hypo_samples = gamma.sample_hypos(rng, n, k, o, g, trials)\n",
    "\n",
    "import matplotlib.pyplot as plt\n",
    "fig, ax = plt.subplots(figsize=figsize)\n",
    "\n",
    "# Plot histograms with transparency (alpha) to see overlap\n",
    "ax.hist([gammas_samples, hypo_samples], bins=30, histtype='bar', \n",
    "        label=['gamma', 'hypo'], \n",
    "        color=['blue', 'orange'],\n",
    "        rwidth=0.8)\n",
    "\n",
    "# Add labels and legend\n",
    "ax.set_xlabel('Sample')\n",
    "ax.set_ylabel('Count')\n",
    "ax.set_title('Comparison of sampled gamma vs hypo')\n",
    "ax.legend()\n",
    "\n",
    "# Show the plot\n",
    "plt.tight_layout()\n",
    "plt.yscale('log')\n",
    "# plt.show()"
   ]
  }
 ],
 "metadata": {
  "kernelspec": {
   "display_name": ".venv",
   "language": "python",
   "name": "python3"
  },
  "language_info": {
   "codemirror_mode": {
    "name": "ipython",
    "version": 3
   },
   "file_extension": ".py",
   "mimetype": "text/x-python",
   "name": "python",
   "nbconvert_exporter": "python",
   "pygments_lexer": "ipython3",
   "version": "3.12.3"
  }
 },
 "nbformat": 4,
 "nbformat_minor": 5
}
