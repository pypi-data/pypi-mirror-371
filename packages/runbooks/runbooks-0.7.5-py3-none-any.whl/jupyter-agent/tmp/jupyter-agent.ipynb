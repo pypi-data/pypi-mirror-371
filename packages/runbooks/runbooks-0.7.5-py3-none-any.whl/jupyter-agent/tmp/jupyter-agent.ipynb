{
  "metadata": {
    "kernel_info": {
      "name": "python3"
    },
    "language_info": {
      "name": "python",
      "version": "3.12"
    }
  },
  "nbformat": 4,
  "nbformat_minor": 0,
  "cells": [
    {
      "cell_type": "markdown",
      "metadata": {},
      "source": "<p align=\"center\">\n  <img src=\"cloudops-agent.png\" alt=\"Jupyter Agent\" />\n</p>\n\n\n<p style=\"text-align:center;\">Let a LLM agent write and execute code inside a notebook!</p>"
    },
    {
      "cell_type": "code",
      "execution_count": null,
      "metadata": {},
      "source": "",
      "outputs": []
    }
  ]
}