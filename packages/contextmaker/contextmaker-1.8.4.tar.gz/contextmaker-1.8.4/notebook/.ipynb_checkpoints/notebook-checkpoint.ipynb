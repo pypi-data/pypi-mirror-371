{
 "cells": [
  {
   "cell_type": "markdown",
   "metadata": {},
   "source": [
    "# ContextMaker Tutorial\n",
    "\n",
    "Welcome to the ContextMaker tutorial! This notebook will guide you through all the main features of ContextMaker, a tool for making library documentation into formats optimized for LLM ready ingestion.\n",
    "\n",
    "---\n",
    "\n",
    "## Table of Contents\n",
    "1. [Introduction](#Introduction)\n",
    "2. [Setup](#Setup)\n",
    "3. [Basic Usage: Automatic Library Search](#Basic-Usage)\n",
    "4. [Advanced Usage: Custom Input/Output Paths & Extension](#Advanced-Usage)\n",
    "5. [Parameter Reference](#Parameter-Reference)\n",
    "6. [Error Handling Example](#Error-Handling)\n",
    "7. [Previewing the Output](#Previewing-the-Output)\n",
    "8. [Tips & Troubleshooting](#Tips)\n",
    "9. [Summary & Further Reading](#Summary)\n",
    "\n",
    "---"
   ]
  },
  {
   "cell_type": "markdown",
   "metadata": {},
   "source": [
    "## 1. Introduction <a id='Introduction'></a>\n",
    "\n",
    "**ContextMaker** is a Python tool that makes documentation from libraries (Sphinx, Markdown, Notebooks, or source) into plain text or markdown, ready for ingestion by AI agents.\n",
    "\n",
    "You can use it from the command line or as a Python API. This notebook focuses on the Python API."
   ]
  },
  {
   "cell_type": "markdown",
   "metadata": {},
   "source": [
    "## 2. Setup <a id='Setup'></a>\n",
    "\n",
    "Make sure you have installed ContextMaker and activated your environment.\n",
    "\n",
    "```bash\n",
    "python3 -m venv context_env\n",
    "source context_env/bin/activate\n",
    "pip install contextmaker\n",
    "```\n",
    "\n",
    "If you want to use Jupyter, also run:\n",
    "\n",
    "```bash\n",
    "pip install jupyter\n",
    "python -m ipykernel install --user --name context_env --display-name \"Python (context_env)\"\n",
    "```\n",
    "\n",
    "You may also need to install any libraries you want to convert (e.g., `pip install pixell`)."
   ]
  },
  {
   "cell_type": "code",
   "execution_count": null,
   "metadata": {},
   "outputs": [],
   "source": [
    "# Import the ContextMaker API\n",
    "import contextmaker\n",
    "import os"
   ]
  },
  {
   "cell_type": "markdown",
   "metadata": {},
   "source": [
    "## 3. Basic Usage: Automatic Library Search <a id='Basic-Usage'></a>\n",
    "\n",
    "You can generate documentation for a library by simply providing its name. ContextMaker will automatically search for it on your system.\n",
    "\n",
    "**Example:** Generate documentation for the `pixell` library."
   ]
  },
  {
   "cell_type": "code",
   "execution_count": null,
   "metadata": {},
   "outputs": [],
   "source": [
    "library_name = \"pixell\"\n",
    "output_file = contextmaker.make(library_name)\n",
    "print(f'Generated documentation at: {output_file}')\n",
    "\n",
    "# Preview the generated documentation\n",
    "with open(output_file, 'r') as file:\n",
    "    print(file.read()[:40])"
   ]
  },
  {
   "cell_type": "markdown",
   "metadata": {},
   "source": [
    "## 4. Advanced Usage: Custom Input/Output Paths & Extension <a id='Advanced-Usage'></a>\n",
    "\n",
    "You can specify the path to the library source and the output directory, and choose the output file extension.\n",
    "\n",
    "- `input_path`: Path to the library source code (overrides automatic search)\n",
    "- `output_path`: Directory where the documentation will be saved\n",
    "- `extension`: Output file extension: `'txt'` (default) or `'md'`\n",
    "\n",
    "**Example:** Generate Markdown documentation for a library at a custom location."
   ]
  },
  {
   "cell_type": "code",
   "execution_count": null,
   "metadata": {},
   "outputs": [],
   "source": [
    "# Change the input_path to the actual path of your library if needed\n",
    "input_path = \"/Users/chadiaitekioui/Documents/GitHub/pixell\" # Change the input_path to the actual path of your library if needed\n",
    "output_path = os.path.expanduser(\"~/my_context_output\")\n",
    "output_file = contextmaker.make(library_name, input_path=input_path, output_path=output_path, extension=\"md\")\n",
    "print(f'Generated documentation at: {output_file}')\n",
    "\n",
    "# Preview the generated documentation\n",
    "with open(output_file, 'r') as file:\n",
    "    print(file.read()[:40])"
   ]
  },
  {
   "cell_type": "markdown",
   "metadata": {},
   "source": [
    "## 5. Parameter Reference <a id='Parameter-Reference'></a>\n",
    "\n",
    "- `library_name` (str): Name of the library to convert (e.g., 'pixell', 'numpy')\n",
    "- `input_path` (str, optional): Manual path to library (overrides automatic search)\n",
    "- `output_path` (str, optional): Output directory (default: ~/your_context_library/)\n",
    "- `extension` (str, optional): Output file extension: 'txt' (default) or 'md'"
   ]
  },
  {
   "cell_type": "markdown",
   "metadata": {},
   "source": [
    "## 6. Previewing the Output <a id='Previewing-the-Output'></a>\n",
    "\n",
    "You can preview the generated documentation file directly in the notebook.\n",
    "\n",
    "**Example:** Display the first 40 lines of the generated text file."
   ]
  },
  {
   "cell_type": "code",
   "execution_count": null,
   "metadata": {},
   "outputs": [],
   "source": [
    "output_path = os.path.expanduser(\"~/your_context_library\")\n",
    "with open(f\"{output_path}/{library_name}.txt\") as f:\n",
    "    for i, line in enumerate(f):\n",
    "        if i >= 40:\n",
    "            break\n",
    "        print(line.rstrip())"
   ]
  },
  {
   "cell_type": "markdown",
   "metadata": {},
   "source": [
    "## 7. Tips & Troubleshooting <a id='Tips'></a>\n",
    "\n",
    "- If you get an ImportError, make sure the library is installed in your environment.\n",
    "- If you get a FileNotFoundError, check your `input_path` and `output_path`.\n",
    "- For large libraries, conversion may take a few minutes.\n",
    "- You can always check the log file (`conversion.log`) for more details if something goes wrong."
   ]
  },
  {
   "cell_type": "markdown",
   "metadata": {},
   "source": [
    "---\n",
    "\n",
    "## 8. Summary & Further Reading <a id='Summary'></a>\n",
    "\n",
    "- ContextMaker can convert documentation for any installed library.\n",
    "- You can use it with just the library name, or specify custom paths and formats.\n",
    "- Output is optimized for AI agent ingestion.\n",
    "\n",
    "For more details, see the [README](../README.md) or the project documentation."
   ]
  }
 ],
 "metadata": {
  "kernelspec": {
   "display_name": "contextmaker_env",
   "language": "python",
   "name": "python3"
  },
  "language_info": {
   "codemirror_mode": {
    "name": "ipython",
    "version": 3
   },
   "file_extension": ".py",
   "mimetype": "text/x-python",
   "name": "python",
   "nbconvert_exporter": "python",
   "pygments_lexer": "ipython3",
   "version": "3.12.4"
  }
 },
 "nbformat": 4,
 "nbformat_minor": 2
}
