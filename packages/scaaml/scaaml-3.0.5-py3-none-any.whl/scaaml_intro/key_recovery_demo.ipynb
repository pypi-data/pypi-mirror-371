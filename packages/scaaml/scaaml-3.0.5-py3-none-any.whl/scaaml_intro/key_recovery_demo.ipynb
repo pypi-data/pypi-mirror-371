{
 "cells": [
  {
   "cell_type": "code",
   "execution_count": 1,
   "metadata": {},
   "outputs": [],
   "source": [
    "%load_ext autoreload\n",
    "%autoreload 2"
   ]
  },
  {
   "cell_type": "code",
   "execution_count": 2,
   "metadata": {},
   "outputs": [],
   "source": [
    "import json\n",
    "import numpy as np\n",
    "from tqdm.auto import tqdm\n",
    "from collections import defaultdict\n",
    "from tensorflow.keras import metrics\n",
    "from tabulate import tabulate\n",
    "import matplotlib.pyplot as plt\n",
    "from scaaml.aes import ap_preds_to_key_preds\n",
    "from scaaml.plot import plot_trace, plot_confusion_matrix\n",
    "from scaaml.utils import tf_cap_memory, from_categorical\n",
    "from scaaml.model import get_models_by_attack_point, get_models_list, load_model_from_disk\n",
    "from scaaml.intro.generator import list_shards, load_attack_shard\n",
    "from scaaml.utils import hex_display, bytelist_to_hex"
   ]
  },
  {
   "cell_type": "markdown",
   "metadata": {},
   "source": [
    "# Environment setup"
   ]
  },
  {
   "cell_type": "code",
   "execution_count": 3,
   "metadata": {},
   "outputs": [],
   "source": [
    "target = 'stm32f415_tinyaes'\n",
    "tf_cap_memory()\n",
    "target_config = json.loads(open(\"config/\" + target + '.json').read())\n",
    "BATCH_SIZE = target_config['batch_size']\n",
    "TRACE_LEN = target_config['max_trace_len']"
   ]
  },
  {
   "cell_type": "markdown",
   "metadata": {},
   "source": [
    "## Available models"
   ]
  },
  {
   "cell_type": "code",
   "execution_count": 4,
   "metadata": {},
   "outputs": [
    {
     "name": "stdout",
     "output_type": "stream",
     "text": [
      "Attack point    status      Num available models\n",
      "--------------  --------  ----------------------\n",
      "sub_bytes_out   complete                      16\n",
      "sub_bytes_in    complete                      16\n",
      "key             complete                      16\n"
     ]
    }
   ],
   "source": [
    "available_models = get_models_by_attack_point(target_config)"
   ]
  },
  {
   "cell_type": "markdown",
   "metadata": {},
   "source": [
    "## Dataset paths"
   ]
  },
  {
   "cell_type": "code",
   "execution_count": 7,
   "metadata": {
    "scrolled": false
   },
   "outputs": [],
   "source": [
    "DATASET_GLOB = \"datasets/%s/test/*\" % target_config['algorithm']\n",
    "shard_paths  = list_shards(DATASET_GLOB, 256)"
   ]
  },
  {
   "cell_type": "markdown",
   "metadata": {},
   "source": [
    "# Single byte recovery\n",
    "\n",
    "Let's start by recovering one of the 16 bytes to get a sense of how well the attack work.\n",
    "\n",
    "**Note**: looking at model accuracy is not enough as we need to invert the attack point AND combine the traces scores. See [presentation](https://elie.net/scaaml) for more information"
   ]
  },
  {
   "cell_type": "code",
   "execution_count": 8,
   "metadata": {},
   "outputs": [
    {
     "name": "stdout",
     "output_type": "stream",
     "text": [
      "WARNING:tensorflow:SavedModel saved prior to TF 2.5 detected when loading Keras model. Please ensure that you are saving the model with model.save() or tf.keras.models.save_model(), *NOT* tf.saved_model.save(). To confirm, there should be a file named \"keras_metadata.pb\" in the SavedModel directory.\n"
     ]
    }
   ],
   "source": [
    "# let's select an attack point that have all the needed models -- Key is not a good target: it doesn't work\n",
    "ATTACK_POINT = 'sub_bytes_out'\n",
    "\n",
    "# let's also pick the key byte we want to use SCAAML to recover and load the related model\n",
    "ATTACK_BYTE = 7\n",
    "\n",
    "# load model\n",
    "model = load_model_from_disk(available_models[ATTACK_POINT][ATTACK_BYTE])"
   ]
  },
  {
   "cell_type": "markdown",
   "metadata": {},
   "source": [
    "Using our model to predicting bytes attack point value, recovering byte key and combining prediction for the 256 test keys we have in our dataset"
   ]
  },
  {
   "cell_type": "code",
   "execution_count": 9,
   "metadata": {
    "scrolled": true
   },
   "outputs": [
    {
     "name": "stderr",
     "output_type": "stream",
     "text": [
      "Recovering bytes: 100%|██████████| 256/256 [00:55<00:00,  4.59shards/s]\n"
     ]
    }
   ],
   "source": [
    "NUM_TRACES = 10  # maximum number of traces to use to recover a given key byte. 10 is already overkill\n",
    "correct_prediction_rank = defaultdict(list)\n",
    "y_pred = []\n",
    "y_true = []\n",
    "model_metrics = {\"acc\": metrics.Accuracy()}\n",
    "for shard in tqdm(shard_paths, desc='Recovering bytes', unit='shards'):\n",
    "    keys, pts, x, y = load_attack_shard(shard, ATTACK_BYTE, ATTACK_POINT, TRACE_LEN, num_traces=NUM_TRACES)\n",
    "\n",
    "    # prediction\n",
    "    predictions = model.predict(x)\n",
    "    \n",
    "    # computing byte prediction from intermediate predictions\n",
    "    key_preds = ap_preds_to_key_preds(predictions, pts, ATTACK_POINT)\n",
    "    \n",
    "    c_preds = from_categorical(predictions)\n",
    "    c_y = from_categorical(y)\n",
    "    # metric tracking\n",
    "    for metric in model_metrics.values():\n",
    "        metric.update_state(c_y, c_preds)\n",
    "    # for the confusion matrix\n",
    "    y_pred.extend(c_preds)\n",
    "    y_true.extend(c_y)\n",
    "    \n",
    "    # accumulating probabilities and checking correct guess position.\n",
    "    # if all goes well it will be at position 0 (highest probability)\n",
    "    # see below on how to use for the real attack\n",
    "    \n",
    "    \n",
    "    key = keys[0] # all the same in the same shard - not used in real attack\n",
    "    vals = np.zeros((256))\n",
    "    for trace_count, kp in enumerate(key_preds):\n",
    "        vals = vals  + np.log10(kp + 1e-22) \n",
    "        guess_ranks = (np.argsort(vals, )[-256:][::-1])\n",
    "        byte_rank = list(guess_ranks).index(key)\n",
    "        correct_prediction_rank[trace_count].append(byte_rank)\n"
   ]
  },
  {
   "cell_type": "markdown",
   "metadata": {},
   "source": [
    "## checking model accuracy & confusion matrix\n",
    "the model accuracy is very good given that the baseline is 1/256 > 0.04. However accuracy is not enough to assess of \n",
    "effective the attack is. Instead you need to look at how many traces it takes to recovers 100% of the sub_bytes as visible below.\n",
    "\n",
    "Looking at the confusion matrix shows that the model perform equaly well on all the predicted value and generalized well: we see a crisp diagonal with no obvious weak points"
   ]
  },
  {
   "cell_type": "code",
   "execution_count": 10,
   "metadata": {},
   "outputs": [
    {
     "name": "stdout",
     "output_type": "stream",
     "text": [
      "Accuracy: 0.45\n"
     ]
    }
   ],
   "source": [
    "print(\"Accuracy: %.2f\" % model_metrics['acc'].result())"
   ]
  },
  {
   "cell_type": "code",
   "execution_count": 11,
   "metadata": {
    "scrolled": false
   },
   "outputs": [
    {
     "data": {
      "image/png": "[encoded data removed]",
      "text/plain": [
       "<Figure size 576x432 with 2 Axes>"
      ]
     },
     "metadata": {
      "needs_background": "light"
     },
     "output_type": "display_data"
    }
   ],
   "source": [
    "plot_confusion_matrix(y_true, y_pred, normalize=True, title=\"%s byte %s prediction confusion matrix\" % (ATTACK_POINT, ATTACK_BYTE))"
   ]
  },
  {
   "cell_type": "markdown",
   "metadata": {},
   "source": [
    "## byte recovery efficiency\n"
   ]
  },
  {
   "cell_type": "code",
   "execution_count": 12,
   "metadata": {
    "scrolled": false
   },
   "outputs": [
    {
     "data": {
      "image/png": "[encoded data removed]",
      "text/plain": [
       "<Figure size 432x288 with 1 Axes>"
      ]
     },
     "metadata": {
      "needs_background": "light"
     },
     "output_type": "display_data"
    }
   ],
   "source": [
    "NUM_TRACES_TO_PLOT = 10\n",
    "avg_preds = np.array([correct_prediction_rank[i].count(0) for i in range(NUM_TRACES_TO_PLOT)])\n",
    "y = avg_preds / len(correct_prediction_rank[0]) * 100 \n",
    "x = [i + 1 for i in range(NUM_TRACES_TO_PLOT)]\n",
    "plt.plot(x, y)\n",
    "plt.xlabel(\"Num traces\")\n",
    "plt.ylabel(\"Recovery success rate in %\")\n",
    "plt.title(\"%s ap:%s byte:%s recovery performance\" % (target_config['algorithm'], ATTACK_POINT, ATTACK_BYTE))\n",
    "plt.show()"
   ]
  },
  {
   "cell_type": "markdown",
   "metadata": {},
   "source": [
    "## metric computations\n",
    "\n",
    "Let's look at some of the various performances metrics that are used to evaluate attack efficency.\n",
    "- In the worst case for the implementation the attacker can recover ~40% of the key with a single trace.\n",
    "- The best case is not really better: 4 traces is all you need."
   ]
  },
  {
   "cell_type": "code",
   "execution_count": 13,
   "metadata": {},
   "outputs": [
    {
     "name": "stdout",
     "output_type": "stream",
     "text": [
      "metric              num traces  % of keys\n",
      "----------------  ------------  -----------\n",
      "min traces                1     42.6\n",
      "max traces                4     100.0\n",
      "cumulative score         83.79  -\n"
     ]
    }
   ],
   "source": [
    "min_traces = 0\n",
    "max_traces = 0\n",
    "cumulative_aa = 0\n",
    "for idx, val in enumerate(y):\n",
    "    cumulative_aa += val\n",
    "    if not min_traces and val > 0:\n",
    "        min_traces = idx + 1\n",
    "    if not max_traces and val == 100.0:\n",
    "        max_traces = idx + 1\n",
    "        break \n",
    "\n",
    "cumulative_aa = round( cumulative_aa / (idx + 1), 2) # divide by the number of steps\n",
    "\n",
    "rows = [\n",
    "    [\"min traces\", min_traces, round(y[min_traces -1 ], 1)],\n",
    "    [\"max traces\", max_traces, round(y[max_traces - 1], 1)],\n",
    "    [\"cumulative score\", cumulative_aa, '-'] \n",
    "]\n",
    "print(tabulate(rows, headers=['metric', 'num traces', '% of keys']))"
   ]
  },
  {
   "cell_type": "markdown",
   "metadata": {},
   "source": [
    "# recover the full keys"
   ]
  },
  {
   "cell_type": "code",
   "execution_count": 14,
   "metadata": {},
   "outputs": [],
   "source": [
    "ATTACK_POINT = 'sub_bytes_out' # let's pick an attack point- Key is not a good target: it doesn't work for TinyAEs\n",
    "TARGET_SHARD = 42 # a shard == a different key. Pick the one you would like\n",
    "NUM_TRACES = 5  # how many traces to use - as seen in single byte, 5 traces is enough"
   ]
  },
  {
   "cell_type": "code",
   "execution_count": 15,
   "metadata": {},
   "outputs": [
    {
     "name": "stderr",
     "output_type": "stream",
     "text": [
      "guessing key:   0%|          | 0/16 [00:00<?, ?guesses/s]"
     ]
    },
    {
     "name": "stdout",
     "output_type": "stream",
     "text": [
      "WARNING:tensorflow:SavedModel saved prior to TF 2.5 detected when loading Keras model. Please ensure that you are saving the model with model.save() or tf.keras.models.save_model(), *NOT* tf.saved_model.save(). To confirm, there should be a file named \"keras_metadata.pb\" in the SavedModel directory.\n"
     ]
    },
    {
     "name": "stderr",
     "output_type": "stream",
     "text": [
      "guessing key:   6%|▋         | 1/16 [00:08<02:01,  8.09s/guesses, Recovered key=2A, Real key=2A]"
     ]
    },
    {
     "name": "stdout",
     "output_type": "stream",
     "text": [
      "WARNING:tensorflow:SavedModel saved prior to TF 2.5 detected when loading Keras model. Please ensure that you are saving the model with model.save() or tf.keras.models.save_model(), *NOT* tf.saved_model.save(). To confirm, there should be a file named \"keras_metadata.pb\" in the SavedModel directory.\n"
     ]
    },
    {
     "name": "stderr",
     "output_type": "stream",
     "text": [
      "guessing key:  12%|█▎        | 2/16 [00:16<01:55,  8.28s/guesses, Recovered key=2A D3, Real key=2A D3]"
     ]
    },
    {
     "name": "stdout",
     "output_type": "stream",
     "text": [
      "WARNING:tensorflow:SavedModel saved prior to TF 2.5 detected when loading Keras model. Please ensure that you are saving the model with model.save() or tf.keras.models.save_model(), *NOT* tf.saved_model.save(). To confirm, there should be a file named \"keras_metadata.pb\" in the SavedModel directory.\n"
     ]
    },
    {
     "name": "stderr",
     "output_type": "stream",
     "text": [
      "guessing key:  19%|█▉        | 3/16 [00:24<01:48,  8.32s/guesses, Recovered key=2A D3 5D, Real key=2A D3 5D]"
     ]
    },
    {
     "name": "stdout",
     "output_type": "stream",
     "text": [
      "WARNING:tensorflow:SavedModel saved prior to TF 2.5 detected when loading Keras model. Please ensure that you are saving the model with model.save() or tf.keras.models.save_model(), *NOT* tf.saved_model.save(). To confirm, there should be a file named \"keras_metadata.pb\" in the SavedModel directory.\n",
      "WARNING:tensorflow:5 out of the last 260 calls to <function Model.make_predict_function.<locals>.predict_function at 0x00000245176AF040> triggered tf.function retracing. Tracing is expensive and the excessive number of tracings could be due to (1) creating @tf.function repeatedly in a loop, (2) passing tensors with different shapes, (3) passing Python objects instead of tensors. For (1), please define your @tf.function outside of the loop. For (2), @tf.function has experimental_relax_shapes=True option that relaxes argument shapes that can avoid unnecessary retracing. For (3), please refer to https://www.tensorflow.org/guide/function#controlling_retracing and https://www.tensorflow.org/api_docs/python/tf/function for  more details.\n"
     ]
    },
    {
     "name": "stderr",
     "output_type": "stream",
     "text": [
      "guessing key:  25%|██▌       | 4/16 [00:33<01:41,  8.50s/guesses, Recovered key=2A D3 5D CA, Real key=2A D3 5D CA]"
     ]
    },
    {
     "name": "stdout",
     "output_type": "stream",
     "text": [
      "WARNING:tensorflow:SavedModel saved prior to TF 2.5 detected when loading Keras model. Please ensure that you are saving the model with model.save() or tf.keras.models.save_model(), *NOT* tf.saved_model.save(). To confirm, there should be a file named \"keras_metadata.pb\" in the SavedModel directory.\n",
      "WARNING:tensorflow:6 out of the last 261 calls to <function Model.make_predict_function.<locals>.predict_function at 0x000002446BE531F0> triggered tf.function retracing. Tracing is expensive and the excessive number of tracings could be due to (1) creating @tf.function repeatedly in a loop, (2) passing tensors with different shapes, (3) passing Python objects instead of tensors. For (1), please define your @tf.function outside of the loop. For (2), @tf.function has experimental_relax_shapes=True option that relaxes argument shapes that can avoid unnecessary retracing. For (3), please refer to https://www.tensorflow.org/guide/function#controlling_retracing and https://www.tensorflow.org/api_docs/python/tf/function for  more details.\n"
     ]
    },
    {
     "name": "stderr",
     "output_type": "stream",
     "text": [
      "guessing key:  31%|███▏      | 5/16 [00:41<01:31,  8.34s/guesses, Recovered key=2A D3 5D CA BE, Real key=2A D3 5D CA BE]"
     ]
    },
    {
     "name": "stdout",
     "output_type": "stream",
     "text": [
      "WARNING:tensorflow:SavedModel saved prior to TF 2.5 detected when loading Keras model. Please ensure that you are saving the model with model.save() or tf.keras.models.save_model(), *NOT* tf.saved_model.save(). To confirm, there should be a file named \"keras_metadata.pb\" in the SavedModel directory.\n"
     ]
    },
    {
     "name": "stderr",
     "output_type": "stream",
     "text": [
      "guessing key:  38%|███▊      | 6/16 [00:50<01:23,  8.37s/guesses, Recovered key=2A D3 5D CA BE 64, Real key=2A D3 5D CA BE 64]"
     ]
    },
    {
     "name": "stdout",
     "output_type": "stream",
     "text": [
      "WARNING:tensorflow:SavedModel saved prior to TF 2.5 detected when loading Keras model. Please ensure that you are saving the model with model.save() or tf.keras.models.save_model(), *NOT* tf.saved_model.save(). To confirm, there should be a file named \"keras_metadata.pb\" in the SavedModel directory.\n"
     ]
    },
    {
     "name": "stderr",
     "output_type": "stream",
     "text": [
      "guessing key:  44%|████▍     | 7/16 [00:58<01:15,  8.42s/guesses, Recovered key=2A D3 5D CA BE 64 56, Real key=2A D3 5D CA BE 64 56]"
     ]
    },
    {
     "name": "stdout",
     "output_type": "stream",
     "text": [
      "WARNING:tensorflow:SavedModel saved prior to TF 2.5 detected when loading Keras model. Please ensure that you are saving the model with model.save() or tf.keras.models.save_model(), *NOT* tf.saved_model.save(). To confirm, there should be a file named \"keras_metadata.pb\" in the SavedModel directory.\n"
     ]
    },
    {
     "name": "stderr",
     "output_type": "stream",
     "text": [
      "guessing key:  50%|█████     | 8/16 [01:06<01:07,  8.39s/guesses, Recovered key=2A D3 5D CA BE 64 56 F3, Real key=2A D3 5D CA BE 64 56 F3]"
     ]
    },
    {
     "name": "stdout",
     "output_type": "stream",
     "text": [
      "WARNING:tensorflow:SavedModel saved prior to TF 2.5 detected when loading Keras model. Please ensure that you are saving the model with model.save() or tf.keras.models.save_model(), *NOT* tf.saved_model.save(). To confirm, there should be a file named \"keras_metadata.pb\" in the SavedModel directory.\n"
     ]
    },
    {
     "name": "stderr",
     "output_type": "stream",
     "text": [
      "guessing key:  56%|█████▋    | 9/16 [01:15<00:58,  8.39s/guesses, Recovered key=2A D3 5D CA BE 64 56 F3 73, Real key=2A D3 5D CA BE 64 56 F3 73]"
     ]
    },
    {
     "name": "stdout",
     "output_type": "stream",
     "text": [
      "WARNING:tensorflow:SavedModel saved prior to TF 2.5 detected when loading Keras model. Please ensure that you are saving the model with model.save() or tf.keras.models.save_model(), *NOT* tf.saved_model.save(). To confirm, there should be a file named \"keras_metadata.pb\" in the SavedModel directory.\n"
     ]
    },
    {
     "name": "stderr",
     "output_type": "stream",
     "text": [
      "guessing key:  62%|██████▎   | 10/16 [01:23<00:50,  8.39s/guesses, Recovered key=2A D3 5D CA BE 64 56 F3 73 94, Real key=2A D3 5D CA BE 64 56 F3 73 94]"
     ]
    },
    {
     "name": "stdout",
     "output_type": "stream",
     "text": [
      "WARNING:tensorflow:SavedModel saved prior to TF 2.5 detected when loading Keras model. Please ensure that you are saving the model with model.save() or tf.keras.models.save_model(), *NOT* tf.saved_model.save(). To confirm, there should be a file named \"keras_metadata.pb\" in the SavedModel directory.\n"
     ]
    },
    {
     "name": "stderr",
     "output_type": "stream",
     "text": [
      "guessing key:  69%|██████▉   | 11/16 [01:32<00:42,  8.51s/guesses, Recovered key=2A D3 5D CA BE 64 56 F3 73 94 AA, Real key=2A D3 5D CA BE 64 56 F3 73 94 AA]"
     ]
    },
    {
     "name": "stdout",
     "output_type": "stream",
     "text": [
      "WARNING:tensorflow:SavedModel saved prior to TF 2.5 detected when loading Keras model. Please ensure that you are saving the model with model.save() or tf.keras.models.save_model(), *NOT* tf.saved_model.save(). To confirm, there should be a file named \"keras_metadata.pb\" in the SavedModel directory.\n"
     ]
    },
    {
     "name": "stderr",
     "output_type": "stream",
     "text": [
      "guessing key:  75%|███████▌  | 12/16 [01:41<00:34,  8.60s/guesses, Recovered key=2A D3 5D CA BE 64 56 F3 73 94 AA C7, Real key=2A D3 5D CA BE 64 56 F3 73 94 AA C7]"
     ]
    },
    {
     "name": "stdout",
     "output_type": "stream",
     "text": [
      "WARNING:tensorflow:SavedModel saved prior to TF 2.5 detected when loading Keras model. Please ensure that you are saving the model with model.save() or tf.keras.models.save_model(), *NOT* tf.saved_model.save(). To confirm, there should be a file named \"keras_metadata.pb\" in the SavedModel directory.\n"
     ]
    },
    {
     "name": "stderr",
     "output_type": "stream",
     "text": [
      "guessing key:  81%|████████▏ | 13/16 [01:49<00:25,  8.59s/guesses, Recovered key=2A D3 5D CA BE 64 56 F3 73 94 AA C7 EB, Real key=2A D3 5D CA BE 64 56 F3 73 94 AA C7 EB]"
     ]
    },
    {
     "name": "stdout",
     "output_type": "stream",
     "text": [
      "WARNING:tensorflow:SavedModel saved prior to TF 2.5 detected when loading Keras model. Please ensure that you are saving the model with model.save() or tf.keras.models.save_model(), *NOT* tf.saved_model.save(). To confirm, there should be a file named \"keras_metadata.pb\" in the SavedModel directory.\n"
     ]
    },
    {
     "name": "stderr",
     "output_type": "stream",
     "text": [
      "guessing key:  88%|████████▊ | 14/16 [01:58<00:17,  8.58s/guesses, Recovered key=2A D3 5D CA BE 64 56 F3 73 94 AA C7 EB 0C, Real key=2A D3 5D CA BE 64 56 F3 73 94 AA C7 EB 0C]"
     ]
    },
    {
     "name": "stdout",
     "output_type": "stream",
     "text": [
      "WARNING:tensorflow:SavedModel saved prior to TF 2.5 detected when loading Keras model. Please ensure that you are saving the model with model.save() or tf.keras.models.save_model(), *NOT* tf.saved_model.save(). To confirm, there should be a file named \"keras_metadata.pb\" in the SavedModel directory.\n"
     ]
    },
    {
     "name": "stderr",
     "output_type": "stream",
     "text": [
      "guessing key:  94%|█████████▍| 15/16 [02:06<00:08,  8.53s/guesses, Recovered key=2A D3 5D CA BE 64 56 F3 73 94 AA C7 EB 0C 74, Real key=2A D3 5D CA BE 64 56 F3 73 94 AA C7 EB 0C 74]"
     ]
    },
    {
     "name": "stdout",
     "output_type": "stream",
     "text": [
      "WARNING:tensorflow:SavedModel saved prior to TF 2.5 detected when loading Keras model. Please ensure that you are saving the model with model.save() or tf.keras.models.save_model(), *NOT* tf.saved_model.save(). To confirm, there should be a file named \"keras_metadata.pb\" in the SavedModel directory.\n"
     ]
    },
    {
     "name": "stderr",
     "output_type": "stream",
     "text": [
      "guessing key: 100%|██████████| 16/16 [02:15<00:00,  8.47s/guesses, Recovered key=2A D3 5D CA BE 64 56 F3 73 94 AA C7 EB 0C 74 E7, Real key=2A D3 5D CA BE 64 56 F3 73 94 AA C7 EB 0C 74 E7]\n"
     ]
    }
   ],
   "source": [
    "# perfoming 16x the byte recovery algorithm showecased above - one for each key byte\n",
    "real_key = [] # what we are supposed to find\n",
    "recovered_key = [] # what we predicted\n",
    "pb = tqdm(total=16, desc=\"guessing key\", unit='guesses')\n",
    "for ATTACK_BYTE in range(16):\n",
    "    # data\n",
    "    keys, pts, x, y = load_attack_shard(shard_paths[TARGET_SHARD], ATTACK_BYTE, ATTACK_POINT, TRACE_LEN, num_traces=NUM_TRACES, full_key=True)\n",
    "    real_key.append(keys[0])\n",
    "    \n",
    "    # load model\n",
    "    model = load_model_from_disk(available_models[ATTACK_POINT][ATTACK_BYTE])\n",
    "    \n",
    "    # prediction\n",
    "    predictions = model.predict(x)\n",
    "    \n",
    "    # computing byte prediction from intermediate predictions\n",
    "    key_preds = ap_preds_to_key_preds(predictions, pts, ATTACK_POINT)\n",
    "    \n",
    "    # accumulating probabity\n",
    "    vals = np.zeros((256))\n",
    "    for trace_count, kp in enumerate(key_preds):\n",
    "        vals = vals  + np.log10(kp + 1e-22)\n",
    "    \n",
    "    # order predictions by probability\n",
    "    guess_ranks = (np.argsort(vals, )[-256:][::-1])\n",
    "    \n",
    "    # take strongest guess as our key guess\n",
    "    recovered_key.append(guess_ranks[0])\n",
    "    \n",
    "    # update display\n",
    "    pb.set_postfix({'Recovered key': bytelist_to_hex(recovered_key), \"Real key\": bytelist_to_hex(real_key)})\n",
    "    pb.update()\n",
    "    \n",
    "    \n",
    "pb.close()"
   ]
  },
  {
   "cell_type": "code",
   "execution_count": 16,
   "metadata": {},
   "outputs": [
    {
     "name": "stdout",
     "output_type": "stream",
     "text": [
      "\u001b[32mreal key\t2A D3 5D CA BE 64 56 F3 73 94 AA C7 EB 0C 74 E7\u001b[0m\n",
      "\u001b[32mrecovered key\t2A D3 5D CA BE 64 56 F3 73 94 AA C7 EB 0C 74 E7\u001b[0m\n"
     ]
    }
   ],
   "source": [
    "# check that everything worked out: the recovered key match the real keys\n",
    "hex_display(real_key, 'real key')\n",
    "hex_display(recovered_key, 'recovered key')"
   ]
  },
  {
   "cell_type": "markdown",
   "metadata": {},
   "source": [
    "# Congratulation\n",
    "you were able to use deep learning to recover an AES key with only a few traces.\n",
    "For more information check out [papers/tutorials](https://elie.net/scaaml/)"
   ]
  }
 ],
 "metadata": {
  "interpreter": {
   "hash": "01a8bb8dc2a583f66dddeb9cbfb4066f628ca6435d0966f49dcad258cbbf42e8"
  },
  "kernelspec": {
   "display_name": "Python 3.8.10 64-bit ('venv': venv)",
   "name": "python3"
  },
  "language_info": {
   "codemirror_mode": {
    "name": "ipython",
    "version": 3
   },
   "file_extension": ".py",
   "mimetype": "text/x-python",
   "name": "python",
   "nbconvert_exporter": "python",
   "pygments_lexer": "ipython3",
   "version": "3.8.10"
  }
 },
 "nbformat": 4,
 "nbformat_minor": 2
}
