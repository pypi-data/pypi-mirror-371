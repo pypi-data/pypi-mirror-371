{
 "cells": [
  {
   "cell_type": "markdown",
   "id": "1772a2d7",
   "metadata": {},
   "source": [
    "---\n",
    "title: xopr Demo Notebook\n",
    "description: Basic demonstration of the core data loading functions of xopr\n",
    "date: 2025-08-06\n",
    "---\n",
    "\n",
    "This is a basic demonstration of the core features of xopr for loading and plotting radar data."
   ]
  },
  {
   "cell_type": "code",
   "execution_count": null,
   "id": "1d5a6e4b",
   "metadata": {},
   "outputs": [],
   "source": [
    "%load_ext autoreload\n",
    "%autoreload 2\n",
    "\n",
    "import numpy as np\n",
    "import xarray as xr\n",
    "import hvplot.xarray\n",
    "import geoviews as gv\n",
    "import geoviews.feature as gf\n",
    "import cartopy.crs as ccrs\n",
    "import matplotlib.pyplot as plt\n",
    "\n",
    "import xopr\n",
    "\n",
    "hvplot.extension('bokeh')"
   ]
  },
  {
   "cell_type": "markdown",
   "id": "9690ff00",
   "metadata": {},
   "source": [
    "You'll first establish an OPR session. This object serves to contain any needed information about how to connect to OPR and to the STAC API.\n",
    "\n",
    "Generally, you can just use `opr = xopr.OPRConnection()`, but you may want to customize other options. The most common would be to create a local radar cache, which you can do as shown in the cell below.\n",
    "\n",
    "If you specify a `cache_dir`, then [fsspec](https://filesystem-spec.readthedocs.io/en/latest/features.html) will automatically manage a cache of any radar data that you need to download. This makes re-running things fast."
   ]
  },
  {
   "cell_type": "code",
   "execution_count": null,
   "id": "9a567aae",
   "metadata": {},
   "outputs": [],
   "source": [
    "# Establish an OPR session\n",
    "# You'll probably want to set a cache directory if you're running this locally to speed\n",
    "# up subsequent requests. You can do other things like customize the STAC API endpoint,\n",
    "# but you shouldn't need to do that for most use cases.\n",
    "opr = xopr.OPRConnection(cache_dir=\"radar_cache\")\n",
    "\n",
    "# Or you can open a connection without a cache directory (for example, if you're parallelizing\n",
    "# this on a cloud cluster without persistent storage).\n",
    "#opr = xopr.OPRConnection()"
   ]
  },
  {
   "cell_type": "markdown",
   "id": "1617a5da",
   "metadata": {},
   "source": [
    "In the STAC catalog, every season (an entity such as `2022_Antarctica_BaslerMKB`) is a distinct collection. You can list the available collections.\n",
    "\n",
    ":::{warning}\n",
    "We haven't loaded the entire data catalog into our STAC catalog yet. It's still just a small testing set. So keep in mind that the seasons you can access (for now) are limited.\n",
    ":::"
   ]
  },
  {
   "cell_type": "code",
   "execution_count": null,
   "id": "196852ad",
   "metadata": {},
   "outputs": [],
   "source": [
    "# List the available OPR datasets\n",
    "collections = opr.get_collections()\n",
    "print([c['id'] for c in collections])\n",
    "selected_collection = '2022_Antarctica_BaslerMKB'  # Select a collection for demonstration\n",
    "print(f\"Selected collection: {selected_collection}\")"
   ]
  },
  {
   "cell_type": "markdown",
   "id": "c86bfa74",
   "metadata": {},
   "source": [
    "Similarly, you can list available flights for a given season. When we add a season into the STAC catalog, we add every flight for which a `CSARP_standard` product is available. (And we also link to other data products, if those are available.)"
   ]
  },
  {
   "cell_type": "code",
   "execution_count": null,
   "id": "66ef1fac",
   "metadata": {},
   "outputs": [],
   "source": [
    "# List flights in the selected collection\n",
    "flights = opr.get_flights(selected_collection)\n",
    "print(f\"Found {len(flights)} flights in collection {selected_collection}\")\n",
    "print(f\"The first 3 flights are: {[f['flight_id'] for f in flights[:3]]}\")"
   ]
  },
  {
   "cell_type": "markdown",
   "id": "efb5d70f",
   "metadata": {},
   "source": [
    "Once you pick a flight, we can actually start loading data. How much data this needs to transfer will vary depending on both how long the flight is and how the underlying data is stored.\n",
    "\n",
    "We're working on migrating OPR data files to be cloud-optimized, however most of them aren't and some of them are old-school MATLAB v5 files. xopr is designed to hide these differences from you as much as possible, but that can only go so far."
   ]
  },
  {
   "cell_type": "code",
   "execution_count": null,
   "id": "089dd1ac",
   "metadata": {},
   "outputs": [],
   "source": [
    "selected_flight = '20230109_01' # Or from the list of flights like this: flights[0]['flight_id']\n",
    "print(f\"Selected flight: {selected_flight}\")\n",
    "\n",
    "stac_items = opr.query_frames(seasons=[selected_collection], flight_ids=[selected_flight])\n",
    "frames = opr.load_frames(stac_items)"
   ]
  },
  {
   "cell_type": "markdown",
   "id": "7fb77cd6",
   "metadata": {},
   "source": [
    "Let's look a single frame. This corresponds to a single `.mat` file that you might download from the OPR website. The structure of this should look familiar to you.\n",
    "\n",
    "If you've tried directly loading one of these files in Python, you'll probably know that there are some quirks. We try to handle those behind the scenes and give you a nicely-formatted [xarray Dataset](https://docs.xarray.dev/en/stable/generated/xarray.Dataset.html).\n",
    "\n",
    "If you've never heard of xarray, this might be a good time to go read the [xarray overview doc](https://docs.xarray.dev/en/stable/getting-started-guide/why-xarray.html).\n",
    "\n",
    ":::{tip}\n",
    "We're aspirationally aiming for this representation to be CF-compliant. We're not there yet, but that's the goal. If you've never heard of CF-compliance, then you can safely ignore this and you probably don't care. But if you're curious, you can read about [CF Metadata Conventions](https://cfconventions.org/).\n",
    ":::"
   ]
  },
  {
   "cell_type": "markdown",
   "id": "9185f45d",
   "metadata": {},
   "source": [
    "```{tip}\n",
    "xOPR produces datasets with very long nested attributes. In order to provide a nicer notebook preview of them, we've included an xarray accessor that provides an improved `_repr_html_` function. If you want nice previews of nested dictionaries of attributes, you can use:\n",
    "\n",
    "`radar_ds.xopr`\n",
    "```"
   ]
  },
  {
   "cell_type": "code",
   "execution_count": null,
   "id": "4d075dd2",
   "metadata": {},
   "outputs": [],
   "source": [
    "# Inspect an individual frame\n",
    "frames[0].xopr"
   ]
  },
  {
   "cell_type": "markdown",
   "id": "849c06df",
   "metadata": {},
   "source": [
    "Merging frames together to get a full flight line is easy with built-in xarray functions.\n",
    "\n",
    ":::{tip} You can also pass `merge_flights=True` to `load_frames` and you'll get back a list with one dataset per flight. :::"
   ]
  },
  {
   "cell_type": "code",
   "execution_count": null,
   "id": "b65d9bf4",
   "metadata": {},
   "outputs": [],
   "source": [
    "from xopr.util import merge_dicts_no_conflicts\n",
    "\n",
    "# Combine the frames into a single xarray Dataset representing the flight line\n",
    "flight_line = xr.concat(frames, dim='slow_time', combine_attrs=merge_dicts_no_conflicts).sortby('slow_time')\n",
    "flight_line.xopr"
   ]
  },
  {
   "cell_type": "markdown",
   "id": "8a110ca7",
   "metadata": {},
   "source": [
    "This is an example of one way to make a plot of where this flight line is. This plot is [Bokeh](https://bokeh.org/)-based, so it's fully interactive. Use the tools on the right to pan and zoom."
   ]
  },
  {
   "cell_type": "code",
   "execution_count": null,
   "id": "4f5fa3f5",
   "metadata": {},
   "outputs": [],
   "source": [
    "# Plot a map of where the data was collected with a basemap on an EPSG:3031 projection\n",
    "proj = ccrs.Stereographic(central_latitude=-90, true_scale_latitude=-71)\n",
    "coords = flight_line[['Longitude', 'Latitude']].to_dataframe().dropna()\n",
    "line_plot = gv.Points([coords.values]).opts(size=1)\n",
    "start_point = gv.Points([coords.iloc[0].values]).opts(color='green', size=5, projection=proj)\n",
    "(gf.ocean * gf.coastline * line_plot * start_point).opts(projection=proj, aspect='equal')"
   ]
  },
  {
   "cell_type": "markdown",
   "id": "5aa6f4b7",
   "metadata": {},
   "source": [
    "Another common radar operation is stacking. Depending on our goals, we might want to do that in one of a couple of ways.\n",
    "\n",
    "If we want to stack every 10 traces, we can do something like this:\n",
    "\n",
    "```python\n",
    "stacked = flight_line.Data.rolling(slow_time=10, center=True).mean()\n",
    "```\n",
    "\n",
    "If our goal is to display a radargram, it might be more useful to average over fixed-time windows, which we can do like this:\n",
    "\n",
    "```python\n",
    "stacked = flight_line.resample(slow_time='2s').mean()\n",
    "```\n",
    "\n",
    "The advantage of the latter approach is that you end up with a uniform spacing in the `slow_time` dimension. This allows for more efficient plotting (`imshow` can only be used with fixed spacing -- try `pcolormesh` if your spacing is variable)."
   ]
  },
  {
   "cell_type": "code",
   "execution_count": null,
   "id": "58f960b3",
   "metadata": {},
   "outputs": [],
   "source": [
    "#stacked = flight_line.Data.rolling(slow_time=10, center=True).mean()\n",
    "stacked = flight_line.resample(slow_time='2s').mean()\n",
    "pwr_dB = 10*np.log10(np.abs(stacked.Data))"
   ]
  },
  {
   "cell_type": "markdown",
   "id": "b960a6cf",
   "metadata": {},
   "source": [
    "OPR data often also includes traced layers (surface, bed, and occasionally internal layers). There are two distinct formats that OPR uses, which you may be familiar with from the CReSIS `imb.picker` tool. One is a database that stores layer picks. The other is a layer file that is available as a separate data product.\n",
    "\n",
    "xopr allows you to fetch the relevant layer information from either source. In the cell below, we first try to load from the OPS database. If that fails (because there is no data for the currently selected flight) then we load the layer files. In the background, the former works by querying the OPS API and the latter uses thes STAC catalog.\n",
    "\n",
    "Once again, we do our best to hide the different formats. Once you've loaded the layers either way, you'll get a dictionary mapping layer IDs to xarray Datasets of the same basic structure.\n",
    "\n",
    ":::{tip}\n",
    "How to handle layers is still very much under development. We would love feedback on this topic.\n",
    ":::"
   ]
  },
  {
   "cell_type": "code",
   "execution_count": null,
   "id": "0a652e16",
   "metadata": {},
   "outputs": [],
   "source": [
    "stacked.xopr"
   ]
  },
  {
   "cell_type": "code",
   "execution_count": null,
   "id": "f103a68d",
   "metadata": {},
   "outputs": [],
   "source": [
    "layers = None\n",
    "try:\n",
    "    layers = opr.get_layers_db(stacked)  # Fetch layers from the database\n",
    "except Exception as e:\n",
    "    print(f\"Error fetching layers: {e}\")\n",
    "    print(\"Trying to load layers from file instead...\")\n",
    "\n",
    "    layers = opr.get_layers_files(stacked)"
   ]
  },
  {
   "cell_type": "code",
   "execution_count": null,
   "id": "1516535a",
   "metadata": {},
   "outputs": [],
   "source": [
    "layers[1] # Display the surface layer as an example"
   ]
  },
  {
   "cell_type": "markdown",
   "id": "91dad714",
   "metadata": {},
   "source": [
    "Finally, let's make a radargram. If we were successful in loading layers, we will also plot the surface and bed layers here.\n",
    "\n",
    ":::{tip}\n",
    "`imshow` is a very fast way of plotting regulary-spaced 2D data. It works great if your `slow_time` spacing is uniform, as it is here because we already resampled during stacking. If you have non-uniformly spaced data, you must use `pcolormesh` or another plotting tool that can handle non-uniformly spaced data.\n",
    ":::"
   ]
  },
  {
   "cell_type": "code",
   "execution_count": null,
   "id": "8123f0d5",
   "metadata": {},
   "outputs": [],
   "source": [
    "fig, ax = plt.subplots(figsize=(15, 4))\n",
    "pwr_dB.plot.imshow(x='slow_time', cmap='gray', ax=ax)\n",
    "ax.invert_yaxis()\n",
    "\n",
    "if layers:\n",
    "    layers[1]['twtt'].plot(ax=ax, x='slow_time', linestyle=':', label='Surface')\n",
    "    layers[2]['twtt'].plot(ax=ax, x='slow_time', linestyle='--', label='Bed')\n",
    "    ax.legend()"
   ]
  },
  {
   "cell_type": "markdown",
   "id": "32586e46",
   "metadata": {},
   "source": [
    "OPR data comes from many sources. Collecting and processing that data has required the contributions of many people over multiple decades. We want to make it easy for you, as a user, to figure out how to appropriately cite the data you've used. This is still just an early prototype, but here's an idea of what it might look like to generate a report on how to cite your data:"
   ]
  },
  {
   "cell_type": "code",
   "execution_count": null,
   "id": "20e669ee",
   "metadata": {},
   "outputs": [],
   "source": [
    "print(opr.generate_citation(flight_line))"
   ]
  },
  {
   "cell_type": "code",
   "execution_count": null,
   "id": "a567729c",
   "metadata": {},
   "outputs": [],
   "source": []
  }
 ],
 "metadata": {
  "kernelspec": {
   "display_name": "xopr",
   "language": "python",
   "name": "python3"
  },
  "language_info": {
   "codemirror_mode": {
    "name": "ipython",
    "version": 3
   },
   "file_extension": ".py",
   "mimetype": "text/x-python",
   "name": "python",
   "nbconvert_exporter": "python",
   "pygments_lexer": "ipython3",
   "version": "3.10.12"
  }
 },
 "nbformat": 4,
 "nbformat_minor": 5
}
