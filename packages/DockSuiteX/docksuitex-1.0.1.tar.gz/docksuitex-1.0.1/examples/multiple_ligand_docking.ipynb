{
 "cells": [
  {
   "cell_type": "code",
   "execution_count": null,
   "id": "e8ecb700",
   "metadata": {},
   "outputs": [],
   "source": [
    "from docksuitex import Protein, Ligand, PocketFinder, VinaDocking, AD4Docking\n",
    "from docksuitex.utils import clean_temp_folder, fetch_pdb, fetch_sdf, view_molecule, parse_vina_log_to_csv, parse_ad4_dlg_to_csv\n",
    "clean_temp_folder()\n",
    "from pathlib import Path"
   ]
  },
  {
   "cell_type": "code",
   "execution_count": null,
   "id": "2a418b6e",
   "metadata": {},
   "outputs": [],
   "source": [
    "# Fetch and prepare protein\n",
    "Protein_path = fetch_pdb(pdbid = \"1HVR\")\n",
    "prot = Protein(Protein_path)\n",
    "prot.prepare()"
   ]
  },
  {
   "cell_type": "code",
   "execution_count": null,
   "id": "8f684020",
   "metadata": {},
   "outputs": [],
   "source": [
    "# Find pockets using p2rank\n",
    "pf = PocketFinder(prot.pdb_path)\n",
    "pockets = pf.run()\n",
    "pockets"
   ]
  },
  {
   "cell_type": "code",
   "execution_count": null,
   "id": "d5b29b3c",
   "metadata": {},
   "outputs": [],
   "source": [
    "# Fetch ligands\n",
    "fetch_sdf(cid = \"338\", save_dir=\"ligands\")\n",
    "fetch_sdf(cid = \"5288826\", save_dir=\"ligands\")\n",
    "\n",
    "# Set up ligand folder\n",
    "ligand_folder = Path(\"ligands\")  # Your folder with SDF files\n",
    "ligand_files = sorted(ligand_folder.glob(\"*.sdf\"))"
   ]
  },
  {
   "cell_type": "markdown",
   "id": "0cceb7a5",
   "metadata": {},
   "source": [
    "### Docks each ligand against a single receptor (at the first pocket)."
   ]
  },
  {
   "cell_type": "code",
   "execution_count": null,
   "id": "26973ed2",
   "metadata": {},
   "outputs": [],
   "source": [
    "# Loop through each ligand\n",
    "for ligand_file in ligand_files:\n",
    "    print(f\"\\nProcessing: {ligand_file.name}\")\n",
    "    \n",
    "    # Prepare ligand\n",
    "    lig = Ligand(str(ligand_file))\n",
    "    lig.prepare(minimize=None)\n",
    "    \n",
    "    # Perform docking with first pocket\n",
    "    print(f\"Docking receptor: {prot.pdbqt_path.name}, ligand: {lig.pdbqt_path.name}\")\n",
    "    \n",
    "    # Using AutoDock4\n",
    "    ad4 = AD4Docking(\n",
    "        receptor=prot.pdbqt_path,\n",
    "        ligand=lig.pdbqt_path,\n",
    "        grid_center=pockets[0]['center'],\n",
    "\n",
    "        #Default Parameters\n",
    "        grid_size=(60,60,60),\n",
    "        spacing=0.375,     \n",
    "        dielectric=-0.1465, \n",
    "        smooth=0.5,          \n",
    "        ga_pop_size=150,\n",
    "        ga_num_evals=2500000,\n",
    "        ga_num_generations=27000,\n",
    "        ga_elitism=1,\n",
    "        ga_mutation_rate=0.02,\n",
    "        ga_crossover_rate=0.8,\n",
    "        ga_run=10,\n",
    "        rmstol=2.0,\n",
    "    )\n",
    "\n",
    "    ad4.run()\n",
    "    ad4.save_results(f\"ad4_results/{prot.pdbqt_path.stem}_{lig.pdbqt_path.stem}_pocket1_docking\")\n",
    "\n",
    "# Parse AD4 results\n",
    "parse_ad4_dlg_to_csv(\"ad4_results\", \"ad4_results/ad4_summary.csv\")\n"
   ]
  },
  {
   "cell_type": "markdown",
   "id": "72903fd4",
   "metadata": {},
   "source": [
    "### Dock each ligand against a single receptor at all the predicted protein pockets\n"
   ]
  },
  {
   "cell_type": "code",
   "execution_count": null,
   "id": "06dae6eb",
   "metadata": {},
   "outputs": [],
   "source": [
    "# Loop through each ligand\n",
    "for ligand_file in ligand_files:\n",
    "    print(f\"\\nProcessing: {ligand_file.name}\")\n",
    "    \n",
    "    # Prepare ligand\n",
    "    lig = Ligand(str(ligand_file))\n",
    "    lig.prepare(minimize=None)\n",
    "\n",
    "    # Loop through each pocket\n",
    "    for pocket in pockets: #pockets[:3], For first three pockets\n",
    "        center = pocket[\"center\"]\n",
    "        rank = pocket[\"rank\"]\n",
    "\n",
    "        print(f\"Docking receptor: {prot.pdbqt_path.name}, ligand: {lig.pdbqt_path.name}, pocket: {rank}\")\n",
    "\n",
    "        # Using Vina\n",
    "        vina = VinaDocking(\n",
    "            receptor=prot.pdbqt_path,\n",
    "            ligand=lig.pdbqt_path,\n",
    "            grid_center=center,\n",
    "            grid_size=(40, 40, 40),\n",
    "            exhaustiveness=8,\n",
    "            num_modes=9\n",
    "        )\n",
    "        \n",
    "        vina.run()\n",
    "        vina.save_results(f\"vina_results/{prot.pdbqt_path.stem}_{lig.pdbqt_path.stem}_pocket_{rank}_docking\")\n",
    "\n",
    "# Parse vina results\n",
    "parse_vina_log_to_csv(\"vina_results\", \"vina_results/vina_summary.csv\")\n",
    "\n"
   ]
  }
 ],
 "metadata": {
  "kernelspec": {
   "display_name": "Python 3",
   "language": "python",
   "name": "python3"
  },
  "language_info": {
   "codemirror_mode": {
    "name": "ipython",
    "version": 3
   },
   "file_extension": ".py",
   "mimetype": "text/x-python",
   "name": "python",
   "nbconvert_exporter": "python",
   "pygments_lexer": "ipython3",
   "version": "3.13.2"
  }
 },
 "nbformat": 4,
 "nbformat_minor": 5
}
