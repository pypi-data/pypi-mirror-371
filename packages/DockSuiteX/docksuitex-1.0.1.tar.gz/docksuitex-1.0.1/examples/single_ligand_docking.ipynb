{
 "cells": [
  {
   "cell_type": "code",
   "execution_count": null,
   "id": "8f219035",
   "metadata": {},
   "outputs": [],
   "source": [
    "from docksuitex import Protein, Ligand, PocketFinder, VinaDocking, AD4Docking\n",
    "from docksuitex.utils import clean_temp_folder, fetch_pdb, fetch_sdf, view_molecule, parse_vina_log_to_csv, parse_ad4_dlg_to_csv\n",
    "clean_temp_folder()"
   ]
  },
  {
   "cell_type": "code",
   "execution_count": null,
   "id": "6f4879f9",
   "metadata": {},
   "outputs": [],
   "source": [
    "# Fetch and prepare protein\n",
    "Protein_path = fetch_pdb(pdbid = \"1HVR\")\n",
    "prot = Protein(Protein_path)\n",
    "prot.prepare(fix_pdb =True, remove_heterogens=True, add_hydrogens=True, remove_water=True, add_charges=True, preserve_charge_types=None) #Default parameters\n",
    "prot.save_pdbqt()\n",
    "view_molecule(file_path = prot.pdbqt_path, style = \"cartoon\", background=\"white\", color=\"spectrum\", width=500, height=500)"
   ]
  },
  {
   "cell_type": "code",
   "execution_count": null,
   "id": "c1101386",
   "metadata": {},
   "outputs": [],
   "source": [
    "# Find pockets using p2rank\n",
    "pf = PocketFinder(prot.pdb_path)\n",
    "pockets = pf.run()\n",
    "pf.save_report()\n",
    "pockets"
   ]
  },
  {
   "cell_type": "code",
   "execution_count": null,
   "id": "afd3f19b",
   "metadata": {},
   "outputs": [],
   "source": [
    "# Fetch and prepare ligand\n",
    "Ligand_path = fetch_sdf(cid = \"338\")\n",
    "lig = Ligand(Ligand_path)\n",
    "lig.prepare(minimize=None,  remove_water=True, add_hydrogens=True, add_charges=True, preserve_charge_types=None) #Default parameters\n",
    "lig.save_pdbqt()\n",
    "view_molecule(file_path = lig.pdbqt_path, style = \"stick\")"
   ]
  },
  {
   "cell_type": "markdown",
   "id": "cbb56899",
   "metadata": {},
   "source": [
    "#### Perform protein ligand docking at the first pocket"
   ]
  },
  {
   "cell_type": "code",
   "execution_count": null,
   "id": "2629ad1a",
   "metadata": {},
   "outputs": [],
   "source": [
    "# Perform docking with the first pocket\n",
    "# Using AutoDock4\n",
    "ad4 = AD4Docking(\n",
    "    receptor=prot.pdbqt_path,\n",
    "    ligand=lig.pdbqt_path,\n",
    "    grid_center=pockets[0]['center'],\n",
    "\n",
    "    #Default Parameters\n",
    "    grid_size=(60,60,60),\n",
    "    spacing=0.375,     \n",
    "    dielectric=-0.1465, \n",
    "    smooth=0.5,          \n",
    "    ga_pop_size=150,\n",
    "    ga_num_evals=2500000,\n",
    "    ga_num_generations=27000,\n",
    "    ga_elitism=1,\n",
    "    ga_mutation_rate=0.02,\n",
    "    ga_crossover_rate=0.8,\n",
    "    ga_run=10,\n",
    "    rmstol=2.0,\n",
    ")\n",
    "\n",
    "ad4.run()\n",
    "ad4.save_results(f\"ad4_results/{prot.pdbqt_path.stem}_{lig.pdbqt_path.stem}_pocket1_docking\")\n",
    "\n",
    "# Parse AD4 results\n",
    "parse_ad4_dlg_to_csv(\"ad4_results\", \"ad4_results/ad4_summary.csv\")"
   ]
  },
  {
   "cell_type": "markdown",
   "id": "cd572d83",
   "metadata": {},
   "source": [
    "#### Perform protein ligand docking at all the predicted protein pockets\n"
   ]
  },
  {
   "cell_type": "code",
   "execution_count": null,
   "id": "1c91d1fc",
   "metadata": {},
   "outputs": [],
   "source": [
    "# Loop through each pocket and perform docking\n",
    "# Using AutoDock Vina\n",
    "for pocket in pockets: #pockets[:3], For first three pockets\n",
    "    center = pocket[\"center\"]\n",
    "    rank = pocket[\"rank\"]\n",
    "\n",
    "    vina = VinaDocking(\n",
    "        receptor=prot.pdbqt_path,\n",
    "        ligand=lig.pdbqt_path,\n",
    "        grid_center=center,\n",
    "        \n",
    "        # Default Parameters\n",
    "        grid_size=(60, 60, 60),\n",
    "        exhaustiveness=8,\n",
    "        num_modes=9\n",
    "    )\n",
    "    vina.run()\n",
    "    vina.save_results(f\"vina_results/{prot.pdbqt_path.stem}_{lig.pdbqt_path.stem}_pocket_{rank}_docking\")\n",
    "\n",
    "\n",
    "# Parse Vina results\n",
    "parse_vina_log_to_csv(\"vina_results\", \"vina_results/vina_summary.csv\")\n"
   ]
  }
 ],
 "metadata": {
  "kernelspec": {
   "display_name": "Python 3",
   "language": "python",
   "name": "python3"
  },
  "language_info": {
   "codemirror_mode": {
    "name": "ipython",
    "version": 3
   },
   "file_extension": ".py",
   "mimetype": "text/x-python",
   "name": "python",
   "nbconvert_exporter": "python",
   "pygments_lexer": "ipython3",
   "version": "3.13.2"
  }
 },
 "nbformat": 4,
 "nbformat_minor": 5
}
