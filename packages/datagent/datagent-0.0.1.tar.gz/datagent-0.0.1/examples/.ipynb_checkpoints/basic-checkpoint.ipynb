{
 "cells": [
  {
   "cell_type": "markdown",
   "metadata": {},
   "source": [
    "# DataAgent Basic Usage Example\n",
    "\n",
    "This notebook demonstrates how to use both sklearn and statsmodels tools from the DataAgent package.\n",
    "\n",
    "## Overview\n",
    "\n",
    "DataAgent provides a unified interface for:\n",
    "- **Scikit-learn tools**: Machine learning estimators with automated parameter validation\n",
    "- **Statsmodels tools**: Statistical analysis including linear models, GLM, nonparametric methods, and more\n",
    "\n",
    "## Installation\n",
    "\n",
    "```bash\n",
    "pip install datagent\n",
    "```"
   ]
  },
  {
   "cell_type": "code",
   "execution_count": 1,
   "metadata": {},
   "outputs": [
    {
     "name": "stdout",
     "output_type": "stream",
     "text": [
      "DataAgent version: 1.0.0\n"
     ]
    }
   ],
   "source": [
    "# Import required libraries\n",
    "import datagent\n",
    "import pandas as pd\n",
    "import numpy as np\n",
    "from sklearn.datasets import load_iris\n",
    "import warnings\n",
    "warnings.filterwarnings('ignore')\n",
    "\n",
    "print(f\"DataAgent version: {datagent.__version__}\")"
   ]
  },
  {
   "cell_type": "markdown",
   "metadata": {},
   "source": [
    "## 1. Scikit-learn Example\n",
    "\n",
    "Let's start with a machine learning example using the iris dataset."
   ]
  },
  {
   "cell_type": "code",
   "execution_count": 2,
   "metadata": {},
   "outputs": [
    {
     "name": "stdout",
     "output_type": "stream",
     "text": [
      "Dataset shape: (150, 4)\n",
      "Target classes: [0 1 2]\n",
      "Feature names: ['sepal length (cm)', 'sepal width (cm)', 'petal length (cm)', 'petal width (cm)']\n"
     ]
    },
    {
     "data": {
      "text/html": [
       "<div>\n",
       "<style scoped>\n",
       "    .dataframe tbody tr th:only-of-type {\n",
       "        vertical-align: middle;\n",
       "    }\n",
       "\n",
       "    .dataframe tbody tr th {\n",
       "        vertical-align: top;\n",
       "    }\n",
       "\n",
       "    .dataframe thead th {\n",
       "        text-align: right;\n",
       "    }\n",
       "</style>\n",
       "<table border=\"1\" class=\"dataframe\">\n",
       "  <thead>\n",
       "    <tr style=\"text-align: right;\">\n",
       "      <th></th>\n",
       "      <th>sepal length (cm)</th>\n",
       "      <th>sepal width (cm)</th>\n",
       "      <th>petal length (cm)</th>\n",
       "      <th>petal width (cm)</th>\n",
       "    </tr>\n",
       "  </thead>\n",
       "  <tbody>\n",
       "    <tr>\n",
       "      <th>0</th>\n",
       "      <td>5.1</td>\n",
       "      <td>3.5</td>\n",
       "      <td>1.4</td>\n",
       "      <td>0.2</td>\n",
       "    </tr>\n",
       "    <tr>\n",
       "      <th>1</th>\n",
       "      <td>4.9</td>\n",
       "      <td>3.0</td>\n",
       "      <td>1.4</td>\n",
       "      <td>0.2</td>\n",
       "    </tr>\n",
       "    <tr>\n",
       "      <th>2</th>\n",
       "      <td>4.7</td>\n",
       "      <td>3.2</td>\n",
       "      <td>1.3</td>\n",
       "      <td>0.2</td>\n",
       "    </tr>\n",
       "    <tr>\n",
       "      <th>3</th>\n",
       "      <td>4.6</td>\n",
       "      <td>3.1</td>\n",
       "      <td>1.5</td>\n",
       "      <td>0.2</td>\n",
       "    </tr>\n",
       "    <tr>\n",
       "      <th>4</th>\n",
       "      <td>5.0</td>\n",
       "      <td>3.6</td>\n",
       "      <td>1.4</td>\n",
       "      <td>0.2</td>\n",
       "    </tr>\n",
       "  </tbody>\n",
       "</table>\n",
       "</div>"
      ],
      "text/plain": [
       "   sepal length (cm)  sepal width (cm)  petal length (cm)  petal width (cm)\n",
       "0                5.1               3.5                1.4               0.2\n",
       "1                4.9               3.0                1.4               0.2\n",
       "2                4.7               3.2                1.3               0.2\n",
       "3                4.6               3.1                1.5               0.2\n",
       "4                5.0               3.6                1.4               0.2"
      ]
     },
     "execution_count": 2,
     "metadata": {},
     "output_type": "execute_result"
    }
   ],
   "source": [
    "# Load iris dataset\n",
    "iris = load_iris()\n",
    "X = pd.DataFrame(iris.data, columns=iris.feature_names)\n",
    "y = pd.Series(iris.target)\n",
    "\n",
    "print(f\"Dataset shape: {X.shape}\")\n",
    "print(f\"Target classes: {np.unique(y)}\")\n",
    "print(f\"Feature names: {list(X.columns)}\")\n",
    "\n",
    "# Display first few rows\n",
    "X.head()"
   ]
  },
  {
   "cell_type": "code",
   "execution_count": 3,
   "metadata": {},
   "outputs": [
    {
     "name": "stderr",
     "output_type": "stream",
     "text": [
      "INFO:universal_sklearn_tool.universal_estimator:Successfully trained random_forest_classifier with metrics: {'accuracy': 1.0, 'precision': 1.0, 'recall': 1.0, 'f1': 1.0}\n"
     ]
    },
    {
     "ename": "KeyError",
     "evalue": "'model_info'",
     "output_type": "error",
     "traceback": [
      "\u001b[31m---------------------------------------------------------------------------\u001b[39m",
      "\u001b[31mKeyError\u001b[39m                                  Traceback (most recent call last)",
      "\u001b[36mCell\u001b[39m\u001b[36m \u001b[39m\u001b[32mIn[3]\u001b[39m\u001b[32m, line 15\u001b[39m\n\u001b[32m      5\u001b[39m \u001b[38;5;66;03m# Use universal sklearn estimator\u001b[39;00m\n\u001b[32m      6\u001b[39m result = datagent.universal_sklearn_estimator(\n\u001b[32m      7\u001b[39m     estimator_name=\u001b[33m\"\u001b[39m\u001b[33mrandom_forest_classifier\u001b[39m\u001b[33m\"\u001b[39m,\n\u001b[32m      8\u001b[39m     data=df,\n\u001b[32m   (...)\u001b[39m\u001b[32m     12\u001b[39m     n_estimators=\u001b[32m100\u001b[39m\n\u001b[32m     13\u001b[39m )\n\u001b[32m---> \u001b[39m\u001b[32m15\u001b[39m \u001b[38;5;28mprint\u001b[39m(\u001b[33mf\u001b[39m\u001b[33m\"\u001b[39m\u001b[33mModel: \u001b[39m\u001b[38;5;132;01m{\u001b[39;00m\u001b[43mresult\u001b[49m\u001b[43m[\u001b[49m\u001b[33;43m'\u001b[39;49m\u001b[33;43mmodel_info\u001b[39;49m\u001b[33;43m'\u001b[39;49m\u001b[43m]\u001b[49m[\u001b[33m'\u001b[39m\u001b[33mmodel_name\u001b[39m\u001b[33m'\u001b[39m]\u001b[38;5;132;01m}\u001b[39;00m\u001b[33m\"\u001b[39m)\n\u001b[32m     16\u001b[39m \u001b[38;5;28mprint\u001b[39m(\u001b[33mf\u001b[39m\u001b[33m\"\u001b[39m\u001b[33mAccuracy: \u001b[39m\u001b[38;5;132;01m{\u001b[39;00mresult[\u001b[33m'\u001b[39m\u001b[33mmetrics\u001b[39m\u001b[33m'\u001b[39m][\u001b[33m'\u001b[39m\u001b[33maccuracy\u001b[39m\u001b[33m'\u001b[39m]\u001b[38;5;132;01m:\u001b[39;00m\u001b[33m.4f\u001b[39m\u001b[38;5;132;01m}\u001b[39;00m\u001b[33m\"\u001b[39m)\n\u001b[32m     17\u001b[39m \u001b[38;5;28mprint\u001b[39m(\u001b[33mf\u001b[39m\u001b[33m\"\u001b[39m\u001b[33mPrecision: \u001b[39m\u001b[38;5;132;01m{\u001b[39;00mresult[\u001b[33m'\u001b[39m\u001b[33mmetrics\u001b[39m\u001b[33m'\u001b[39m][\u001b[33m'\u001b[39m\u001b[33mprecision\u001b[39m\u001b[33m'\u001b[39m]\u001b[38;5;132;01m:\u001b[39;00m\u001b[33m.4f\u001b[39m\u001b[38;5;132;01m}\u001b[39;00m\u001b[33m\"\u001b[39m)\n",
      "\u001b[31mKeyError\u001b[39m: 'model_info'"
     ]
    }
   ],
   "source": [
    "# Create DataFrame with target column for sklearn tools\n",
    "df = X.copy()\n",
    "df['target'] = y\n",
    "\n",
    "# Use universal sklearn estimator\n",
    "result = datagent.universal_sklearn_estimator(\n",
    "    estimator_name=\"random_forest_classifier\",\n",
    "    data=df,\n",
    "    target_column=\"target\",\n",
    "    test_size=0.2,\n",
    "    random_state=42,\n",
    "    n_estimators=100\n",
    ")\n",
    "\n",
    "print(f\"Model: {result['model_info']['model_name']}\")\n",
    "print(f\"Accuracy: {result['metrics']['accuracy']:.4f}\")\n",
    "print(f\"Precision: {result['metrics']['precision']:.4f}\")\n",
    "print(f\"Recall: {result['metrics']['recall']:.4f}\")\n",
    "print(f\"F1 Score: {result['metrics']['f1']:.4f}\")"
   ]
  },
  {
   "cell_type": "code",
   "execution_count": 6,
   "metadata": {},
   "outputs": [
    {
     "data": {
      "text/plain": [
       "dict_keys(['success', 'estimator_name', 'estimator_type', 'model', 'predictions', 'metrics', 'feature_importance', 'data_shape'])"
      ]
     },
     "execution_count": 6,
     "metadata": {},
     "output_type": "execute_result"
    }
   ],
   "source": [
    "result.keys()"
   ]
  },
  {
   "cell_type": "markdown",
   "metadata": {},
   "source": [
    "## 2. Statsmodels Example\n",
    "\n",
    "Now let's demonstrate statistical analysis using statsmodels tools."
   ]
  },
  {
   "cell_type": "code",
   "execution_count": 7,
   "metadata": {},
   "outputs": [
    {
     "name": "stdout",
     "output_type": "stream",
     "text": [
      "Dataset shape: (100, 3)\n",
      "Columns: ['y', 'x1', 'x2']\n"
     ]
    },
    {
     "data": {
      "text/html": [
       "<div>\n",
       "<style scoped>\n",
       "    .dataframe tbody tr th:only-of-type {\n",
       "        vertical-align: middle;\n",
       "    }\n",
       "\n",
       "    .dataframe tbody tr th {\n",
       "        vertical-align: top;\n",
       "    }\n",
       "\n",
       "    .dataframe thead th {\n",
       "        text-align: right;\n",
       "    }\n",
       "</style>\n",
       "<table border=\"1\" class=\"dataframe\">\n",
       "  <thead>\n",
       "    <tr style=\"text-align: right;\">\n",
       "      <th></th>\n",
       "      <th>y</th>\n",
       "      <th>x1</th>\n",
       "      <th>x2</th>\n",
       "    </tr>\n",
       "  </thead>\n",
       "  <tbody>\n",
       "    <tr>\n",
       "      <th>0</th>\n",
       "      <td>0.964926</td>\n",
       "      <td>0.496714</td>\n",
       "      <td>-0.138264</td>\n",
       "    </tr>\n",
       "    <tr>\n",
       "      <th>1</th>\n",
       "      <td>3.860314</td>\n",
       "      <td>0.647689</td>\n",
       "      <td>1.523030</td>\n",
       "    </tr>\n",
       "    <tr>\n",
       "      <th>2</th>\n",
       "      <td>-0.277987</td>\n",
       "      <td>-0.234153</td>\n",
       "      <td>-0.234137</td>\n",
       "    </tr>\n",
       "    <tr>\n",
       "      <th>3</th>\n",
       "      <td>4.836479</td>\n",
       "      <td>1.579213</td>\n",
       "      <td>0.767435</td>\n",
       "    </tr>\n",
       "    <tr>\n",
       "      <th>4</th>\n",
       "      <td>-0.813943</td>\n",
       "      <td>-0.469474</td>\n",
       "      <td>0.542560</td>\n",
       "    </tr>\n",
       "  </tbody>\n",
       "</table>\n",
       "</div>"
      ],
      "text/plain": [
       "          y        x1        x2\n",
       "0  0.964926  0.496714 -0.138264\n",
       "1  3.860314  0.647689  1.523030\n",
       "2 -0.277987 -0.234153 -0.234137\n",
       "3  4.836479  1.579213  0.767435\n",
       "4 -0.813943 -0.469474  0.542560"
      ]
     },
     "execution_count": 7,
     "metadata": {},
     "output_type": "execute_result"
    }
   ],
   "source": [
    "# Create sample data for linear regression\n",
    "np.random.seed(42)\n",
    "n = 100\n",
    "X = np.random.randn(n, 2)\n",
    "y = 2 * X[:, 0] + 1.5 * X[:, 1] + np.random.randn(n) * 0.5\n",
    "\n",
    "df = pd.DataFrame({\n",
    "    'y': y,\n",
    "    'x1': X[:, 0],\n",
    "    'x2': X[:, 1]\n",
    "})\n",
    "\n",
    "print(f\"Dataset shape: {df.shape}\")\n",
    "print(f\"Columns: {list(df.columns)}\")\n",
    "\n",
    "# Display first few rows\n",
    "df.head()"
   ]
  },
  {
   "cell_type": "code",
   "execution_count": 8,
   "metadata": {},
   "outputs": [
    {
     "name": "stdout",
     "output_type": "stream",
     "text": [
      "Model: ols\n",
      "R-squared: N/A\n",
      "Adjusted R-squared: N/A\n",
      "AIC: N/A\n",
      "BIC: N/A\n"
     ]
    }
   ],
   "source": [
    "# Use universal linear model\n",
    "result = datagent.universal_linear_models(\n",
    "    model_name=\"ols\",\n",
    "    data=df,\n",
    "    formula=\"y ~ x1 + x2\"\n",
    ")\n",
    "\n",
    "print(f\"Model: {result.get('model_name', 'OLS')}\")\n",
    "print(f\"R-squared: {result.get('r_squared', 'N/A')}\")\n",
    "print(f\"Adjusted R-squared: {result.get('adj_r_squared', 'N/A')}\")\n",
    "print(f\"AIC: {result.get('aic', 'N/A')}\")\n",
    "print(f\"BIC: {result.get('bic', 'N/A')}\")\n",
    "\n",
    "# Print coefficients if available\n",
    "if 'params' in result:\n",
    "    print(\"\\nCoefficients:\")\n",
    "    for param, value in result['params'].items():\n",
    "        print(f\"  {param}: {value:.4f}\")"
   ]
  },
  {
   "cell_type": "markdown",
   "metadata": {},
   "source": [
    "## 3. Available Models\n",
    "\n",
    "Let's explore what models are available in DataAgent."
   ]
  },
  {
   "cell_type": "code",
   "execution_count": 9,
   "metadata": {},
   "outputs": [
    {
     "name": "stdout",
     "output_type": "stream",
     "text": [
      "Available sklearn models: 4\n",
      "\n",
      "Sample sklearn models:\n",
      "  - regressor\n",
      "  - classifier\n",
      "  - clustering\n",
      "  - preprocessor\n"
     ]
    }
   ],
   "source": [
    "# Get available sklearn models\n",
    "sklearn_models = datagent.get_available_sklearn_models()\n",
    "print(f\"Available sklearn models: {len(sklearn_models)}\")\n",
    "print(\"\\nSample sklearn models:\")\n",
    "for model in list(sklearn_models.keys())[:10]:\n",
    "    print(f\"  - {model}\")"
   ]
  },
  {
   "cell_type": "code",
   "execution_count": 10,
   "metadata": {},
   "outputs": [
    {
     "name": "stdout",
     "output_type": "stream",
     "text": [
      "\n",
      "Available linear models: 1\n",
      "\n",
      "Sample linear models:\n",
      "  - regression\n"
     ]
    }
   ],
   "source": [
    "# Get available statsmodels models\n",
    "linear_models = datagent.get_linear_available_models()\n",
    "print(f\"\\nAvailable linear models: {len(linear_models)}\")\n",
    "print(\"\\nSample linear models:\")\n",
    "for model in list(linear_models.keys())[:5]:\n",
    "    print(f\"  - {model}\")"
   ]
  },
  {
   "cell_type": "markdown",
   "metadata": {},
   "source": [
    "## 4. Additional Examples\n",
    "\n",
    "Let's try a few more examples to demonstrate the versatility of DataAgent."
   ]
  },
  {
   "cell_type": "code",
   "execution_count": 11,
   "metadata": {},
   "outputs": [
    {
     "name": "stderr",
     "output_type": "stream",
     "text": [
      "INFO:universal_sklearn_tool.universal_estimator:Successfully trained logistic_regression with metrics: {'accuracy': 1.0, 'precision': 1.0, 'recall': 1.0, 'f1': 1.0, 'roc_auc': 1.0}\n"
     ]
    },
    {
     "name": "stdout",
     "output_type": "stream",
     "text": [
      "=== Logistic Regression Example ===\n",
      "Logistic Regression Accuracy: 1.0000\n"
     ]
    }
   ],
   "source": [
    "# Example: Logistic Regression\n",
    "print(\"=== Logistic Regression Example ===\")\n",
    "\n",
    "# Create binary classification data\n",
    "np.random.seed(42)\n",
    "X_binary = np.random.randn(200, 2)\n",
    "y_binary = (X_binary[:, 0] + X_binary[:, 1] > 0).astype(int)\n",
    "\n",
    "df_binary = pd.DataFrame(X_binary, columns=['feature1', 'feature2'])\n",
    "df_binary['target'] = y_binary\n",
    "\n",
    "result_logistic = datagent.universal_sklearn_estimator(\n",
    "    estimator_name=\"logistic_regression\",\n",
    "    data=df_binary,\n",
    "    target_column=\"target\",\n",
    "    test_size=0.2,\n",
    "    random_state=42\n",
    ")\n",
    "\n",
    "print(f\"Logistic Regression Accuracy: {result_logistic['metrics']['accuracy']:.4f}\")"
   ]
  },
  {
   "cell_type": "code",
   "execution_count": 12,
   "metadata": {},
   "outputs": [
    {
     "name": "stderr",
     "output_type": "stream",
     "text": [
      "INFO:universal_sklearn_tool.universal_estimator:Successfully trained ridge_regression with metrics: {'mse': 0.1500796106945576, 'mae': 0.322601557674962, 'r2': 0.9759015203461984}\n"
     ]
    },
    {
     "name": "stdout",
     "output_type": "stream",
     "text": [
      "=== Ridge Regression Example ===\n",
      "Ridge Regression R²: 0.9759\n",
      "Ridge Regression MSE: 0.1501\n"
     ]
    }
   ],
   "source": [
    "# Example: Ridge Regression\n",
    "print(\"=== Ridge Regression Example ===\")\n",
    "\n",
    "result_ridge = datagent.universal_sklearn_estimator(\n",
    "    estimator_name=\"ridge_regression\",\n",
    "    data=df,  # Using the linear regression data from earlier\n",
    "    target_column=\"y\",\n",
    "    test_size=0.2,\n",
    "    random_state=42,\n",
    "    alpha=1.0\n",
    ")\n",
    "\n",
    "print(f\"Ridge Regression R²: {result_ridge['metrics']['r2']:.4f}\")\n",
    "print(f\"Ridge Regression MSE: {result_ridge['metrics']['mse']:.4f}\")"
   ]
  },
  {
   "cell_type": "markdown",
   "metadata": {},
   "source": [
    "## 5. Summary\n",
    "\n",
    "DataAgent provides a powerful unified interface for both machine learning and statistical analysis:\n",
    "\n",
    "- **Easy to use**: Single function calls for complex analyses\n",
    "- **Comprehensive**: Covers both sklearn and statsmodels capabilities\n",
    "- **Flexible**: Supports various model types and parameters\n",
    "- **Well-documented**: Clear error messages and results\n",
    "\n",
    "### Next Steps\n",
    "\n",
    "1. Explore more models in the available model lists\n",
    "2. Try different parameters and configurations\n",
    "3. Check out the LangGraph integration example\n",
    "4. Use DataAgent in your own data analysis workflows"
   ]
  }
 ],
 "metadata": {
  "kernelspec": {
   "display_name": "Python 3 (ipykernel)",
   "language": "python",
   "name": "python3"
  },
  "language_info": {
   "codemirror_mode": {
    "name": "ipython",
    "version": 3
   },
   "file_extension": ".py",
   "mimetype": "text/x-python",
   "name": "python",
   "nbconvert_exporter": "python",
   "pygments_lexer": "ipython3",
   "version": "3.12.11"
  }
 },
 "nbformat": 4,
 "nbformat_minor": 4
}
