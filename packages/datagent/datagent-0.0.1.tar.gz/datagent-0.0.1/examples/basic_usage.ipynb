{
 "cells": [
  {
   "cell_type": "markdown",
   "id": "5141bf0e",
   "metadata": {},
   "source": [
    "# DataAgent Basic Usage Example\n",
    "\n",
    "This notebook demonstrates how to use both sklearn and statsmodels tools from the DataAgent package.\n",
    "\n",
    "## Overview\n",
    "\n",
    "DataAgent provides a unified interface for:\n",
    "- **Scikit-learn tools**: Machine learning estimators with automated parameter validation\n",
    "- **Statsmodels tools**: Statistical analysis including linear models, GLM, nonparametric methods, and more\n",
    "\n",
    "## Installation\n",
    "\n",
    "```bash\n",
    "pip install datagent\n",
    "```"
   ]
  },
  {
   "cell_type": "code",
   "execution_count": null,
   "id": "619da170",
   "metadata": {},
   "outputs": [],
   "source": [
    "# Import required libraries\n",
    "import datagent\n",
    "import pandas as pd\n",
    "import numpy as np\n",
    "from sklearn.datasets import load_iris\n",
    "import warnings\n",
    "warnings.filterwarnings('ignore')\n",
    "\n",
    "print(f\"DataAgent version: {datagent.__version__}\")"
   ]
  },
  {
   "cell_type": "markdown",
   "id": "356d1ee2",
   "metadata": {},
   "source": [
    "## 1. Scikit-learn Example\n",
    "\n",
    "Let's start with a machine learning example using the iris dataset."
   ]
  },
  {
   "cell_type": "code",
   "execution_count": null,
   "id": "7f4529e4",
   "metadata": {},
   "outputs": [],
   "source": [
    "# Load iris dataset\n",
    "iris = load_iris()\n",
    "X = pd.DataFrame(iris.data, columns=iris.feature_names)\n",
    "y = pd.Series(iris.target)\n",
    "\n",
    "print(f\"Dataset shape: {X.shape}\")\n",
    "print(f\"Target classes: {np.unique(y)}\")\n",
    "print(f\"Feature names: {list(X.columns)}\")\n",
    "\n",
    "# Display first few rows\n",
    "X.head()"
   ]
  },
  {
   "cell_type": "code",
   "execution_count": null,
   "id": "17c2ded0",
   "metadata": {},
   "outputs": [],
   "source": [
    "# Create DataFrame with target column for sklearn tools\n",
    "df = X.copy()\n",
    "df['target'] = y\n",
    "\n",
    "# Use universal sklearn estimator\n",
    "result = datagent.universal_sklearn_estimator(\n",
    "    estimator_name=\"random_forest_classifier\",\n",
    "    data=df,\n",
    "    target_column=\"target\",\n",
    "    test_size=0.2,\n",
    "    random_state=42,\n",
    "    n_estimators=100\n",
    ")\n",
    "\n",
    "print(f\"Model: {result['estimator_name']}\")\n",
    "print(f\"Accuracy: {result['metrics']['accuracy']:.4f}\")\n",
    "print(f\"Precision: {result['metrics']['precision']:.4f}\")\n",
    "print(f\"Recall: {result['metrics']['recall']:.4f}\")\n",
    "print(f\"F1 Score: {result['metrics']['f1']:.4f}\")"
   ]
  },
  {
   "cell_type": "markdown",
   "id": "30e74f36",
   "metadata": {},
   "source": [
    "## 2. Statsmodels Example\n",
    "\n",
    "Now let's demonstrate statistical analysis using statsmodels tools."
   ]
  },
  {
   "cell_type": "code",
   "execution_count": null,
   "id": "6e74a991",
   "metadata": {},
   "outputs": [],
   "source": [
    "# Create sample data for linear regression\n",
    "np.random.seed(42)\n",
    "n = 100\n",
    "X = np.random.randn(n, 2)\n",
    "y = 2 * X[:, 0] + 1.5 * X[:, 1] + np.random.randn(n) * 0.5\n",
    "\n",
    "df = pd.DataFrame({\n",
    "    'y': y,\n",
    "    'x1': X[:, 0],\n",
    "    'x2': X[:, 1]\n",
    "})\n",
    "\n",
    "print(f\"Dataset shape: {df.shape}\")\n",
    "print(f\"Columns: {list(df.columns)}\")\n",
    "\n",
    "# Display first few rows\n",
    "df.head()"
   ]
  },
  {
   "cell_type": "code",
   "execution_count": null,
   "id": "89d7adf3",
   "metadata": {},
   "outputs": [],
   "source": [
    "# Use universal linear model\n",
    "result = datagent.universal_linear_models(\n",
    "    model_name=\"ols\",\n",
    "    data=df,\n",
    "    formula=\"y ~ x1 + x2\"\n",
    ")\n",
    "\n",
    "print(f\"Model: {result.get('model_name', 'OLS')}\")\n",
    "print(f\"R-squared: {result.get('r_squared', 'N/A')}\")\n",
    "print(f\"Adjusted R-squared: {result.get('adj_r_squared', 'N/A')}\")\n",
    "print(f\"AIC: {result.get('aic', 'N/A')}\")\n",
    "print(f\"BIC: {result.get('bic', 'N/A')}\")\n",
    "\n",
    "# Print coefficients if available\n",
    "if 'params' in result:\n",
    "    print(\"\\nCoefficients:\")\n",
    "    for param, value in result['params'].items():\n",
    "        print(f\"  {param}: {value:.4f}\")"
   ]
  },
  {
   "cell_type": "markdown",
   "id": "bf725e3d",
   "metadata": {},
   "source": [
    "## 3. Available Models\n",
    "\n",
    "Let's explore what models are available in DataAgent."
   ]
  },
  {
   "cell_type": "code",
   "execution_count": null,
   "id": "fcb704f6",
   "metadata": {},
   "outputs": [],
   "source": [
    "# Get available sklearn models\n",
    "sklearn_models = datagent.get_available_sklearn_models()\n",
    "print(f\"Available sklearn models: {len(sklearn_models)}\")\n",
    "print(\"\\nSample sklearn models:\")\n",
    "for model in list(sklearn_models.keys())[:10]:\n",
    "    print(f\"  - {model}\")\n",
    "\n",
    "# Get available statsmodels models\n",
    "linear_models = datagent.get_linear_available_models()\n",
    "print(f\"\\nAvailable linear models: {len(linear_models)}\")\n",
    "print(\"\\nSample linear models:\")\n",
    "for model in list(linear_models.keys())[:5]:\n",
    "    print(f\"  - {model}\")"
   ]
  },
  {
   "cell_type": "markdown",
   "id": "3d466849",
   "metadata": {},
   "source": [
    "## 4. Summary\n",
    "\n",
    "DataAgent provides a powerful unified interface for both machine learning and statistical analysis:\n",
    "\n",
    "- **Easy to use**: Single function calls for complex analyses\n",
    "- **Comprehensive**: Covers both sklearn and statsmodels capabilities\n",
    "- **Flexible**: Supports various model types and parameters\n",
    "- **Well-documented**: Clear error messages and results\n",
    "\n",
    "### Next Steps\n",
    "\n",
    "1. Explore more models in the available model lists\n",
    "2. Try different parameters and configurations\n",
    "3. Check out the LangGraph integration example\n",
    "4. Use DataAgent in your own data analysis workflows"
   ]
  }
 ],
 "metadata": {},
 "nbformat": 4,
 "nbformat_minor": 5
}
