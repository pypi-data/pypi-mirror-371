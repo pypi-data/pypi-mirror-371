{
 "cells": [
  {
   "metadata": {},
   "cell_type": "code",
   "outputs": [],
   "execution_count": null,
   "source": "# Populate cross section tables over B and T",
   "id": "77bf6a1e1efcaea1"
  },
  {
   "metadata": {
    "collapsed": true,
    "ExecuteTime": {
     "end_time": "2025-08-21T23:29:57.858022Z",
     "start_time": "2025-08-21T23:29:56.478222Z"
    }
   },
   "cell_type": "code",
   "outputs": [],
   "execution_count": 1,
   "source": [
    "import sys\n",
    "\n",
    "sys.path.append(\"../src/\")\n",
    "sys.path.append(\"../src/AtomicTrit\")\n",
    "\n",
    "import pandas as pd\n",
    "import numpy as np\n",
    "import pylab as plt\n",
    "\n",
    "from AtomicTrit import dipolelosses\n",
    "from AtomicTrit import potentials\n",
    "from AtomicTrit import constants\n",
    "from AtomicTrit import spinexchange\n",
    "\n",
    "from AtomicTrit.dipolelosses import DipoleChannels\n",
    "from AtomicTrit.spinexchange import SpinExChannels\n"
   ],
   "id": "initial_id"
  },
  {
   "metadata": {
    "ExecuteTime": {
     "end_time": "2025-08-22T02:15:35.468701Z",
     "start_time": "2025-08-21T23:29:58.791449Z"
    }
   },
   "cell_type": "code",
   "source": [
    "AllBs   = []\n",
    "AllTs   = []\n",
    "AllPots = []\n",
    "AllCs   = []\n",
    "AllIso  = []\n",
    "AllG    = []\n",
    "AllSigma= []\n",
    "AllPots = []\n",
    "\n",
    "B_values = np.logspace(-3,1,25)\n",
    "pot       = potentials.Silvera_Triplet\n",
    "PWaves=         [[0, 2],[0,4],[0,6],[2, 0],[2, 2],[2, 4],[2,6],[4,0],[4, 2],[4, 4],[4, 6],[6,0],[6,2],[6,4],[6,6],[6,8]]\n",
    "Ts  = np.logspace(-3,2,6)\n",
    "dms = [2,1,1,2,1]\n",
    "\n",
    "\n",
    "\n",
    "for T in Ts:\n",
    "    for ci in range(0,len(DipoleChannels)):\n",
    "        c=DipoleChannels[ci]\n",
    "        print(\"Running channel \"+str(ci)+ \", Temp \"+str(T))\n",
    "        for B in B_values:\n",
    "\n",
    "            gH=dipolelosses.GetSummedGFactor(c, B, constants.HydrogenConstants, T, pot, PWaves, dm=dms[ci], rhos=np.linspace(1e-9,0.75,2000))\n",
    "            gT=dipolelosses.GetSummedGFactor(c, B, constants.TritiumConstants, T,  pot, PWaves, dm=dms[ci], rhos=np.linspace(1e-9,0.75,2000))\n",
    "            sH=dipolelosses.GetCrossSection(gH,1,T)\n",
    "            sT=dipolelosses.GetCrossSection(gT,3,T)\n",
    "\n",
    "            AllCs.append(c)\n",
    "            AllBs.append(B)\n",
    "            AllTs.append(T)\n",
    "            AllIso.append(\"H\")\n",
    "            AllG.append(gH)\n",
    "            AllSigma.append(sH)\n",
    "            AllPots.append(\"Silvera\")\n",
    "\n",
    "            AllCs.append(c)\n",
    "            AllBs.append(B)\n",
    "            AllTs.append(T)\n",
    "            AllIso.append(\"T\")\n",
    "            AllG.append(gT)\n",
    "            AllSigma.append(sT)\n",
    "            AllPots.append(\"Silvera\")\n",
    "\n",
    "        df = pd.DataFrame({ 'Channel': AllCs,\n",
    "                            'B':AllBs,\n",
    "                            'T':AllTs,\n",
    "                            'Isotope':AllIso,\n",
    "                            'G':AllG,\n",
    "                            'sigma':AllSigma\n",
    "                           })\n",
    "        df.to_csv('Tables/Silvera_Dipoles.csv')"
   ],
   "id": "73b573ace057a010",
   "outputs": [
    {
     "name": "stdout",
     "output_type": "stream",
     "text": [
      "Running channel 0, Temp 0.001\n"
     ]
    },
    {
     "name": "stderr",
     "output_type": "stream",
     "text": [
      "/Users/benjpjones/Documents/Work/AtomicT/src/AtomicT/dipolelosses.py:67: IntegrationWarning: The maximum number of subdivisions (50) has been achieved.\n",
      "  If increasing the limit yields no improvement it is advised to analyze \n",
      "  the integrand in order to determine the difficulties.  If the position of a \n",
      "  local difficulty can be determined (singularity, discontinuity) one will \n",
      "  probably gain from splitting up the interval and calling the integrator \n",
      "  on the subranges.  Perhaps a special-purpose integrator should be used.\n",
      "  Integral = quad(Integrand, rhos[0], rhos[-1])[0] / (P1 * P2)\n",
      "/Users/benjpjones/Documents/Work/AtomicT/src/AtomicT/spinbasis.py:283: RuntimeWarning: divide by zero encountered in matmul\n",
      "  Rets[m]=TransformMatrix(np.matmul(np.matmul(TripletProj,SigMatrix),TripletProj),Rotator)\n",
      "/Users/benjpjones/Documents/Work/AtomicT/src/AtomicT/spinbasis.py:283: RuntimeWarning: overflow encountered in matmul\n",
      "  Rets[m]=TransformMatrix(np.matmul(np.matmul(TripletProj,SigMatrix),TripletProj),Rotator)\n",
      "/Users/benjpjones/Documents/Work/AtomicT/src/AtomicT/spinbasis.py:283: RuntimeWarning: invalid value encountered in matmul\n",
      "  Rets[m]=TransformMatrix(np.matmul(np.matmul(TripletProj,SigMatrix),TripletProj),Rotator)\n",
      "/Users/benjpjones/Documents/Work/AtomicT/src/AtomicT/dipolelosses.py:67: IntegrationWarning: The occurrence of roundoff error is detected, which prevents \n",
      "  the requested tolerance from being achieved.  The error may be \n",
      "  underestimated.\n",
      "  Integral = quad(Integrand, rhos[0], rhos[-1])[0] / (P1 * P2)\n",
      "/Users/benjpjones/Documents/Work/AtomicT/src/AtomicT/dipolelosses.py:67: IntegrationWarning: The integral is probably divergent, or slowly convergent.\n",
      "  Integral = quad(Integrand, rhos[0], rhos[-1])[0] / (P1 * P2)\n"
     ]
    },
    {
     "name": "stdout",
     "output_type": "stream",
     "text": [
      "Running channel 1, Temp 0.001\n",
      "Running channel 2, Temp 0.001\n",
      "Running channel 3, Temp 0.001\n",
      "Running channel 4, Temp 0.001\n",
      "Running channel 0, Temp 0.01\n",
      "Running channel 1, Temp 0.01\n",
      "Running channel 2, Temp 0.01\n",
      "Running channel 3, Temp 0.01\n",
      "Running channel 4, Temp 0.01\n",
      "Running channel 0, Temp 0.1\n",
      "Running channel 1, Temp 0.1\n",
      "Running channel 2, Temp 0.1\n",
      "Running channel 3, Temp 0.1\n",
      "Running channel 4, Temp 0.1\n",
      "Running channel 0, Temp 1.0\n",
      "Running channel 1, Temp 1.0\n",
      "Running channel 2, Temp 1.0\n",
      "Running channel 3, Temp 1.0\n",
      "Running channel 4, Temp 1.0\n",
      "Running channel 0, Temp 10.0\n",
      "Running channel 1, Temp 10.0\n",
      "Running channel 2, Temp 10.0\n",
      "Running channel 3, Temp 10.0\n",
      "Running channel 4, Temp 10.0\n",
      "Running channel 0, Temp 100.0\n",
      "Running channel 1, Temp 100.0\n",
      "Running channel 2, Temp 100.0\n",
      "Running channel 3, Temp 100.0\n",
      "Running channel 4, Temp 100.0\n"
     ]
    }
   ],
   "execution_count": 2
  },
  {
   "metadata": {
    "jupyter": {
     "is_executing": true
    },
    "ExecuteTime": {
     "start_time": "2025-08-22T02:15:35.517202Z"
    }
   },
   "cell_type": "code",
   "source": [
    "AllBs   = []\n",
    "AllTs   = []\n",
    "AllPots = []\n",
    "AllCs   = []\n",
    "AllIso  = []\n",
    "AllG    = []\n",
    "AllSigma= []\n",
    "AllPots = []\n",
    "\n",
    "B_values = np.logspace(-3,1,25)\n",
    "potT       = potentials.Silvera_Triplet\n",
    "potS       = potentials.Jamieson_Singlet_VDW\n",
    "PWaves     = [0,2,4,6]\n",
    "Ts  = np.logspace(-3,2,6)\n",
    "\n",
    "\n",
    "\n",
    "for T in Ts:\n",
    "    for ci in range(0,len(SpinExChannels)):\n",
    "        c=SpinExChannels[ci]\n",
    "        print(\"Running channel \"+str(ci)+ \", Temp \"+str(T))\n",
    "        for B in B_values:\n",
    "\n",
    "            gH=spinexchange.GetSummedGFactor(c, B, constants.HydrogenConstants, T, potT,potS, PWaves, rhos=np.linspace(1e-9,0.75,2000))\n",
    "            gT=spinexchange.GetSummedGFactor(c, B, constants.TritiumConstants, T,  potT,potS, PWaves, rhos=np.linspace(1e-9,0.75,2000))\n",
    "            sH=dipolelosses.GetCrossSection(gH,1,T)\n",
    "            sT=dipolelosses.GetCrossSection(gT,3,T)\n",
    "\n",
    "            AllCs.append(c)\n",
    "            AllBs.append(B)\n",
    "            AllTs.append(T)\n",
    "            AllIso.append(\"H\")\n",
    "            AllG.append(gH)\n",
    "            AllSigma.append(sH)\n",
    "            AllPots.append(\"SilveraT_JamiesonS\")\n",
    "\n",
    "            AllCs.append(c)\n",
    "            AllBs.append(B)\n",
    "            AllTs.append(T)\n",
    "            AllIso.append(\"T\")\n",
    "            AllG.append(gT)\n",
    "            AllSigma.append(sT)\n",
    "            AllPots.append(\"SilveraT_JamiesonS\")\n",
    "\n",
    "        df = pd.DataFrame({ 'Channel': AllCs,\n",
    "                            'B':AllBs,\n",
    "                            'T':AllTs,\n",
    "                            'Isotope':AllIso,\n",
    "                            'G':AllG,\n",
    "                            'sigma':AllSigma\n",
    "                           })\n",
    "        df.to_csv('Tables/SilveraJamieson_SpinEx.csv')"
   ],
   "id": "e11764a5ca2f289a",
   "outputs": [
    {
     "name": "stdout",
     "output_type": "stream",
     "text": [
      "Running channel 0, Temp 0.001\n",
      "Running channel 1, Temp 0.001\n",
      "Running channel 2, Temp 0.001\n",
      "Running channel 0, Temp 0.01\n",
      "Running channel 1, Temp 0.01\n",
      "Running channel 2, Temp 0.01\n",
      "Running channel 0, Temp 0.1\n",
      "Running channel 1, Temp 0.1\n",
      "Running channel 2, Temp 0.1\n",
      "Running channel 0, Temp 1.0\n",
      "Running channel 1, Temp 1.0\n",
      "Running channel 2, Temp 1.0\n",
      "Running channel 0, Temp 10.0\n",
      "Running channel 1, Temp 10.0\n",
      "Running channel 2, Temp 10.0\n",
      "Running channel 0, Temp 100.0\n"
     ]
    }
   ],
   "execution_count": null
  },
  {
   "metadata": {},
   "cell_type": "code",
   "outputs": [],
   "execution_count": null,
   "source": [
    "AllBs   = []\n",
    "AllTs   = []\n",
    "AllPots = []\n",
    "AllCs   = []\n",
    "AllIso  = []\n",
    "AllG    = []\n",
    "AllSigma= []\n",
    "AllPots = []\n",
    "\n",
    "B_values = np.logspace(-3,1,25)\n",
    "potT_T       = potentials.Jamieson_Triplet_HFD_T\n",
    "potT_H       = potentials.Jamieson_Triplet_HFD_H\n",
    "PWaves=         [[0, 2],[0,4],[0,6],[2, 0],[2, 2],[2, 4],[2,6],[4,0],[4, 2],[4, 4],[4, 6],[6,0],[6,2],[6,4],[6,6],[6,8]]\n",
    "Ts  = np.logspace(-3,2,6)\n",
    "dms = [2,1,1,2,1]\n",
    "\n",
    "\n",
    "\n",
    "for T in Ts:\n",
    "    for ci in range(0,len(DipoleChannels)):\n",
    "        c=DipoleChannels[ci]\n",
    "        print(\"Running channel \"+str(ci)+ \", Temp \"+str(T))\n",
    "        for B in B_values:\n",
    "\n",
    "            gH=dipolelosses.GetSummedGFactor(c, B, constants.HydrogenConstants, T, potT_H, PWaves, dm=dms[ci], rhos=np.linspace(1e-9,0.75,2000))\n",
    "            gT=dipolelosses.GetSummedGFactor(c, B, constants.TritiumConstants, T,  potT_T, PWaves, dm=dms[ci], rhos=np.linspace(1e-9,0.75,2000))\n",
    "            sH=dipolelosses.GetCrossSection(gH,1,T)\n",
    "            sT=dipolelosses.GetCrossSection(gT,3,T)\n",
    "\n",
    "            AllCs.append(c)\n",
    "            AllBs.append(B)\n",
    "            AllTs.append(T)\n",
    "            AllIso.append(\"H\")\n",
    "            AllG.append(gH)\n",
    "            AllSigma.append(sH)\n",
    "            AllPots.append(\"Jamieson\")\n",
    "\n",
    "            AllCs.append(c)\n",
    "            AllBs.append(B)\n",
    "            AllTs.append(T)\n",
    "            AllIso.append(\"T\")\n",
    "            AllG.append(gT)\n",
    "            AllSigma.append(sT)\n",
    "            AllPots.append(\"Jamieson\")\n",
    "\n",
    "        df = pd.DataFrame({ 'Channel': AllCs,\n",
    "                            'B':AllBs,\n",
    "                            'T':AllTs,\n",
    "                            'Isotope':AllIso,\n",
    "                            'G':AllG,\n",
    "                            'sigma':AllSigma\n",
    "                           })\n",
    "        df.to_csv('Tables/Jamieson_Dipoles.csv')"
   ],
   "id": "556f36cf684d2702"
  },
  {
   "metadata": {},
   "cell_type": "code",
   "outputs": [],
   "execution_count": null,
   "source": "",
   "id": "69305e228c514111"
  },
  {
   "metadata": {
    "ExecuteTime": {
     "end_time": "2025-08-21T20:49:46.215589Z",
     "start_time": "2025-08-21T20:49:46.116815Z"
    }
   },
   "cell_type": "code",
   "source": "",
   "id": "fe00129f3e6f148",
   "outputs": [
    {
     "ename": "NameError",
     "evalue": "name 'np' is not defined",
     "output_type": "error",
     "traceback": [
      "\u001B[0;31m---------------------------------------------------------------------------\u001B[0m",
      "\u001B[0;31mNameError\u001B[0m                                 Traceback (most recent call last)",
      "Cell \u001B[0;32mIn[1], line 10\u001B[0m\n\u001B[1;32m      7\u001B[0m AllSigma\u001B[38;5;241m=\u001B[39m []\n\u001B[1;32m      8\u001B[0m AllPots \u001B[38;5;241m=\u001B[39m []\n\u001B[0;32m---> 10\u001B[0m B_values \u001B[38;5;241m=\u001B[39m \u001B[43mnp\u001B[49m\u001B[38;5;241m.\u001B[39mlogspace(\u001B[38;5;241m-\u001B[39m\u001B[38;5;241m3\u001B[39m,\u001B[38;5;241m1\u001B[39m,\u001B[38;5;241m25\u001B[39m)\n\u001B[1;32m     11\u001B[0m pot       \u001B[38;5;241m=\u001B[39m potentials\u001B[38;5;241m.\u001B[39mSilvera_Triplet\n\u001B[1;32m     12\u001B[0m PWaves\u001B[38;5;241m=\u001B[39m         [[\u001B[38;5;241m0\u001B[39m, \u001B[38;5;241m2\u001B[39m],[\u001B[38;5;241m0\u001B[39m,\u001B[38;5;241m4\u001B[39m],[\u001B[38;5;241m0\u001B[39m,\u001B[38;5;241m6\u001B[39m],[\u001B[38;5;241m2\u001B[39m, \u001B[38;5;241m0\u001B[39m],[\u001B[38;5;241m2\u001B[39m, \u001B[38;5;241m2\u001B[39m],[\u001B[38;5;241m2\u001B[39m, \u001B[38;5;241m4\u001B[39m],[\u001B[38;5;241m2\u001B[39m,\u001B[38;5;241m6\u001B[39m],[\u001B[38;5;241m4\u001B[39m,\u001B[38;5;241m0\u001B[39m],[\u001B[38;5;241m4\u001B[39m, \u001B[38;5;241m2\u001B[39m],[\u001B[38;5;241m4\u001B[39m, \u001B[38;5;241m4\u001B[39m],[\u001B[38;5;241m4\u001B[39m, \u001B[38;5;241m6\u001B[39m],[\u001B[38;5;241m6\u001B[39m,\u001B[38;5;241m0\u001B[39m],[\u001B[38;5;241m6\u001B[39m,\u001B[38;5;241m2\u001B[39m],[\u001B[38;5;241m6\u001B[39m,\u001B[38;5;241m4\u001B[39m],[\u001B[38;5;241m6\u001B[39m,\u001B[38;5;241m6\u001B[39m],[\u001B[38;5;241m6\u001B[39m,\u001B[38;5;241m8\u001B[39m]]\n",
      "\u001B[0;31mNameError\u001B[0m: name 'np' is not defined"
     ]
    }
   ],
   "execution_count": 1
  },
  {
   "metadata": {
    "ExecuteTime": {
     "end_time": "2025-08-20T01:12:40.753062Z",
     "start_time": "2025-08-19T16:28:47.150673Z"
    }
   },
   "cell_type": "code",
   "source": "",
   "id": "d560517bd3902227",
   "outputs": [
    {
     "name": "stdout",
     "output_type": "stream",
     "text": [
      "Running channel 0, Temp 0.001\n"
     ]
    },
    {
     "name": "stderr",
     "output_type": "stream",
     "text": [
      "/Users/benjpjones/PycharmProjects/AtomicHScattering/examples/../src/AtomicH/dipolelosses.py:66: IntegrationWarning: The maximum number of subdivisions (50) has been achieved.\n",
      "  If increasing the limit yields no improvement it is advised to analyze \n",
      "  the integrand in order to determine the difficulties.  If the position of a \n",
      "  local difficulty can be determined (singularity, discontinuity) one will \n",
      "  probably gain from splitting up the interval and calling the integrator \n",
      "  on the subranges.  Perhaps a special-purpose integrator should be used.\n",
      "  Integral = quad(Integrand, rhos[0], rhos[-1])[0] / (P1 * P2)\n",
      "/Users/benjpjones/PycharmProjects/AtomicHScattering/examples/../src/AtomicH/spinbasis.py:283: RuntimeWarning: divide by zero encountered in matmul\n",
      "  Rets[m]=TransformMatrix(np.matmul(np.matmul(TripletProj,SigMatrix),TripletProj),Rotator)\n",
      "/Users/benjpjones/PycharmProjects/AtomicHScattering/examples/../src/AtomicH/spinbasis.py:283: RuntimeWarning: overflow encountered in matmul\n",
      "  Rets[m]=TransformMatrix(np.matmul(np.matmul(TripletProj,SigMatrix),TripletProj),Rotator)\n",
      "/Users/benjpjones/PycharmProjects/AtomicHScattering/examples/../src/AtomicH/spinbasis.py:283: RuntimeWarning: invalid value encountered in matmul\n",
      "  Rets[m]=TransformMatrix(np.matmul(np.matmul(TripletProj,SigMatrix),TripletProj),Rotator)\n",
      "/Users/benjpjones/PycharmProjects/AtomicHScattering/examples/../src/AtomicH/dipolelosses.py:66: IntegrationWarning: The occurrence of roundoff error is detected, which prevents \n",
      "  the requested tolerance from being achieved.  The error may be \n",
      "  underestimated.\n",
      "  Integral = quad(Integrand, rhos[0], rhos[-1])[0] / (P1 * P2)\n",
      "/Users/benjpjones/PycharmProjects/AtomicHScattering/examples/../src/AtomicH/dipolelosses.py:66: IntegrationWarning: The integral is probably divergent, or slowly convergent.\n",
      "  Integral = quad(Integrand, rhos[0], rhos[-1])[0] / (P1 * P2)\n"
     ]
    },
    {
     "name": "stdout",
     "output_type": "stream",
     "text": [
      "Running channel 1, Temp 0.001\n",
      "Running channel 2, Temp 0.001\n",
      "Running channel 3, Temp 0.001\n",
      "Running channel 4, Temp 0.001\n",
      "Running channel 0, Temp 0.01\n",
      "Running channel 1, Temp 0.01\n",
      "Running channel 2, Temp 0.01\n",
      "Running channel 3, Temp 0.01\n",
      "Running channel 4, Temp 0.01\n",
      "Running channel 0, Temp 0.1\n",
      "Running channel 1, Temp 0.1\n",
      "Running channel 2, Temp 0.1\n",
      "Running channel 3, Temp 0.1\n",
      "Running channel 4, Temp 0.1\n",
      "Running channel 0, Temp 1.0\n",
      "Running channel 1, Temp 1.0\n",
      "Running channel 2, Temp 1.0\n",
      "Running channel 3, Temp 1.0\n",
      "Running channel 4, Temp 1.0\n",
      "Running channel 0, Temp 10.0\n",
      "Running channel 1, Temp 10.0\n",
      "Running channel 2, Temp 10.0\n",
      "Running channel 3, Temp 10.0\n",
      "Running channel 4, Temp 10.0\n",
      "Running channel 0, Temp 100.0\n",
      "Running channel 1, Temp 100.0\n",
      "Running channel 2, Temp 100.0\n",
      "Running channel 3, Temp 100.0\n",
      "Running channel 4, Temp 100.0\n"
     ]
    }
   ],
   "execution_count": 4
  },
  {
   "metadata": {},
   "cell_type": "code",
   "outputs": [],
   "execution_count": null,
   "source": [
    "AllBs   = []\n",
    "AllTs   = []\n",
    "AllPots = []\n",
    "AllCs   = []\n",
    "AllIso  = []\n",
    "AllG    = []\n",
    "AllSigma= []\n",
    "AllPots = []\n",
    "\n",
    "B_values = np.logspace(-3,1,25)\n",
    "potT_T       = potentials.Jamieson_Triplet_HFD_T\n",
    "potT_H       = potentials.Jamieson_Triplet_HFD_H\n",
    "potS         = potentials.Jamieson_Singlet_VDW\n",
    "PWaves       = [0,2,4,6]\n",
    "Ts  = np.logspace(-3,2,6)\n",
    "\n",
    "\n",
    "\n",
    "for T in Ts:\n",
    "    for ci in range(0,len(SpinExChannels)):\n",
    "        c=SpinExChannels[ci]\n",
    "        print(\"Running channel \"+str(ci)+ \", Temp \"+str(T))\n",
    "        for B in B_values:\n",
    "\n",
    "            gH=spinexchange.GetSummedGFactor(c, B, constants.HydrogenConstants, T, potT_H,potS, PWaves, rhos=np.linspace(1e-9,0.75,2000))\n",
    "            gT=spinexchange.GetSummedGFactor(c, B, constants.TritiumConstants, T,  potT_T,potS, PWaves, rhos=np.linspace(1e-9,0.75,2000))\n",
    "            sH=dipolelosses.GetCrossSection(gH,1,T)\n",
    "            sT=dipolelosses.GetCrossSection(gT,3,T)\n",
    "\n",
    "            AllCs.append(c)\n",
    "            AllBs.append(B)\n",
    "            AllTs.append(T)\n",
    "            AllIso.append(\"H\")\n",
    "            AllG.append(gH)\n",
    "            AllSigma.append(sH)\n",
    "            AllPots.append(\"JamiesonT_JamiesonS\")\n",
    "\n",
    "            AllCs.append(c)\n",
    "            AllBs.append(B)\n",
    "            AllTs.append(T)\n",
    "            AllIso.append(\"T\")\n",
    "            AllG.append(gT)\n",
    "            AllSigma.append(sT)\n",
    "            AllPots.append(\"JamiesonT_JamiesonS\")\n",
    "\n",
    "        df = pd.DataFrame({ 'Channel': AllCs,\n",
    "                            'B':AllBs,\n",
    "                            'T':AllTs,\n",
    "                            'Isotope':AllIso,\n",
    "                            'G':AllG,\n",
    "                            'sigma':AllSigma\n",
    "                           })\n",
    "        df.to_csv('Tables/JamiesonJamieson_SpinEx.csv')"
   ],
   "id": "14c5799eb4aa5d4a"
  },
  {
   "metadata": {
    "ExecuteTime": {
     "end_time": "2025-08-20T02:36:45.237314Z",
     "start_time": "2025-08-20T02:36:45.235849Z"
    }
   },
   "cell_type": "code",
   "source": "",
   "id": "6cb5eea93958c12",
   "outputs": [],
   "execution_count": null
  }
 ],
 "metadata": {
  "kernelspec": {
   "display_name": "Python 3",
   "language": "python",
   "name": "python3"
  },
  "language_info": {
   "codemirror_mode": {
    "name": "ipython",
    "version": 2
   },
   "file_extension": ".py",
   "mimetype": "text/x-python",
   "name": "python",
   "nbconvert_exporter": "python",
   "pygments_lexer": "ipython2",
   "version": "2.7.6"
  }
 },
 "nbformat": 4,
 "nbformat_minor": 5
}
