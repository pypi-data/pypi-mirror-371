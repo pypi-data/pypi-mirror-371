{
 "cells": [
  {
   "cell_type": "code",
   "execution_count": null,
   "id": "e0015c3e-c5c6-4f28-8ecc-bebc8f763175",
   "metadata": {},
   "outputs": [],
   "source": [
    "import numpy as np\n",
    "from pegasus_read import vtk as vtk\n",
    "import math"
   ]
  },
  {
   "cell_type": "code",
   "execution_count": null,
   "id": "c680c84a-aec3-4b88-b420-5e7f6d7f4d1a",
   "metadata": {},
   "outputs": [],
   "source": [
    "#output range [t(it0),t(it1)]--(it0 and it1 included)\n",
    "it0 = 0      # initial time index\n",
    "it1 = 76"
   ]
  },
  {
   "cell_type": "code",
   "execution_count": null,
   "id": "f546c1ad-c598-4ff4-a1d4-82116f68b196",
   "metadata": {},
   "outputs": [],
   "source": [
    "# box parameters\n",
    "aspct = 6\n",
    "lprp = 48.1802/(2.0*np.pi)              # in (2*pi*d_i) units\n",
    "lprl = lprp*aspct       # in (2*pi*d_i) units\n",
    "Lperp = 2.0*np.pi*lprp  # in d_i units\n",
    "Lpara = 2.0*np.pi*lprl  # in d_i units\n",
    "N_perp = 280\n",
    "N_para = N_perp*aspct   # assuming isotropic resolution\n",
    "kperpdi0 = 1./lprp      # minimum k_perp ( = 2*pi / Lperp)\n",
    "kparadi0 = 1./lprl      # minimum k_para ( = 2*pi / Lpara)"
   ]
  },
  {
   "cell_type": "code",
   "execution_count": null,
   "id": "3fd769a9-1f3f-47fd-b358-479365410f8f",
   "metadata": {},
   "outputs": [],
   "source": [
    "#number of k_perp shells\n",
    "nkshells = 198#200          # number of shells in k_perp--roughly: sqrt(2)*(N_perp/2)\n",
    "kprp_min = kperpdi0\n",
    "kprp_max = nkshells*kprp_min#/2.0\n",
    "kprl_min = kparadi0\n",
    "kprl_max = N_para*kprl_min/2.0"
   ]
  },
  {
   "cell_type": "code",
   "execution_count": null,
   "id": "75545b5c-a062-4734-bdf5-981beb7838ee",
   "metadata": {},
   "outputs": [],
   "source": [
    "#files path\n",
    "prob = \"minor_turb\"\n",
    "name = 'b_b3_sim1'\n",
    "path = \"../saved-analysis/phi/\"\n",
    "path_out = \"../saved-analysis/spectrum_dat/\"+name+\"/\""
   ]
  },
  {
   "cell_type": "code",
   "execution_count": null,
   "id": "000e468a-468d-488b-b1af-ccc19cbf3b0b",
   "metadata": {},
   "outputs": [],
   "source": [
    "def specEB2D(name,path,path_out,ii,tot,kxmin,kxmax,kzmin,kzmax,Nperp,asp,Nx):\n",
    "  # NOTE: here x -> parallel, z -> perp  (w.r.t. B_0)\n",
    "  print(\"\\n\")\n",
    "  print(\" [ SPEC2D function: computing 2D (k_perp, k_para) spectra ] \")\n",
    "  print(\"\\n  cycle: start.. \\n\")\n",
    "  print(\"  time index -> \",ii)\n",
    "  print(\"  number of k_perp bins -> \",tot)\n",
    "  print(\"  number of k_para bins -> \",Nx)\n",
    "\n",
    "  flnmPhi = path+name+\".PHI.\"+\"%05d\"%ii+\".npy\"\n",
    "\n",
    "\n",
    "  print(\"\\n Reading files: \\n\")\n",
    "  print(\" -> \",flnmPhi)\n",
    "  Phi = np.load(flnmPhi)\n",
    "\n",
    "  # spectrum normalization\n",
    "  norm = Nperp*Nperp*Nx\n",
    "\n",
    "  # 3D spectrum array\n",
    "  spectrum3d = np.zeros((Nperp, Nperp, Nx))\n",
    "\n",
    "  print(\"\\n\")\n",
    "  print(\" * preliminary sanity check on data *\\n\")\n",
    "\n",
    "  Phi0 = np.mean(Phi)\n",
    "\n",
    "  print(\" mean of Phi -> \",Phi0)\n",
    "  print(\" mean of dPhi -> \",np.mean(Phi-Phi0))\n",
    "\n",
    "\n",
    "  print(\"\\n  [ 3D FFT of fluctuations... ] \")\n",
    "  locPhi = np.fft.fftn(Phi-Phi0) / norm\n",
    "\n",
    "\n",
    "  print(\"\\n\")\n",
    "  print(\" * sanity checks on FFT'd data * \\n\")\n",
    "  print(\" shape of fields -> \",np.shape(Phi))\n",
    "  print(\" shape of 3d fft -> \",np.shape(locPhi))\n",
    "  print(\" locPhi[0,0,0] -> \",locPhi[0,0,0])\n",
    "\n",
    "\n",
    "  print(\"\\n  [ Computing spectrum... ] \")\n",
    "  spectrumPhi3d = np.abs(locPhi)*np.abs(locPhi)\n",
    "\n",
    "\n",
    "  print(\" shape of spectrumPhi3d array -> \",np.shape(spectrumPhi3d))\n",
    "  print(\" spectrumPhi3d[0,0,0] -> \",spectrumPhi3d[0,0,0])\n",
    "\n",
    "  # coordinates in k-space\n",
    "  coord = np.zeros((Nperp,Nperp))\n",
    "  for i in range(Nperp):\n",
    "    for j in range(Nperp):\n",
    "      x1 = 0\n",
    "      if(i < Nperp/2):\n",
    "        x1 = 1.0 * i\n",
    "      else:\n",
    "        x1 = 1.0*i - Nperp\n",
    "      x2 = 0\n",
    "      if(j < Nperp/2):\n",
    "        x2 = 1.0*j\n",
    "      else:\n",
    "        x2 = 1.0*j - Nperp\n",
    "      coord[i,j] = kzmin*np.power(x1*x1 + x2*x2, 0.5)\n",
    "\n",
    "  # convert to 2D spectrum\n",
    "  spectrumPhi2d = np.zeros((tot,Nx),dtype=np.float_)\n",
    "  kprp = np.zeros(tot,dtype=np.float_)\n",
    "  kprl = np.zeros(Nx,dtype=np.float_)\n",
    "\n",
    "  for i in range(Nx):\n",
    "    if(i < Nx/2):\n",
    "      kprl[i] = kxmin * i\n",
    "    else:\n",
    "      kprl[i] = kxmin * i - Nx\n",
    "\n",
    "  print(\"\\n  [ Reducing to 2D spectra... ]\")\n",
    "  sPhi = np.zeros(Nx,dtype=np.float_)\n",
    "  num = 0\n",
    "  klow = 0\n",
    "  for i in range(tot):\n",
    "    sPhi[:] = 0.0\n",
    "    num = 0\n",
    "    khigh = (i+1)*kzmin #linear bins\n",
    "    for j in range(Nperp):\n",
    "      for k in range(Nperp):\n",
    "        if(klow - 0.5*kzmin <= coord[j,k] < klow + 0.5*kzmin):\n",
    "          sPhi[:] += spectrumPhi3d[j,k,:]\n",
    "          num += 1\n",
    "    if(i==0):\n",
    "      print(\"num =\",num)\n",
    "      print(\" sPhi[0] = \",sPhi[0])\n",
    "      print(\" k range: \",klow - 0.5*kzmin,klow + 0.5*kzmin)\n",
    "    if(num!=0):\n",
    "      kprp[i] = klow\n",
    "      spectrumPhi2d[i,:] = 2.0*math.pi*klow*sPhi[:]/num\n",
    "    #if(i==tot-1):\n",
    "    #  print(num)\n",
    "    #  print(klow)\n",
    "    #  print(khigh)\n",
    "    klow = khigh\n",
    "\n",
    "  print(\"\\n  [ Writing output... ]\")\n",
    "\n",
    "\n",
    "  #print(kprp)\n",
    "  #print(spectrumPhi2d[:,3])\n",
    "  #print(tot)\n",
    "  #print(kprp.shape)\n",
    "  #print(kprp[tot-1])\n",
    "\n",
    "\n",
    "  #write output\n",
    "  #\n",
    "  flnm = \"\".join([path_out,name,\".\",\"%05d\"%ii,\".spectrum2d.nkperp\",\"%d\"%tot,\".nkpara\",\"%d\"%Nx,\".linear.PHI.dat\"])\n",
    "  out = open(flnm,'w+')\n",
    "  for i in range(tot):\n",
    "    for j in range(Nx):\n",
    "      out.write(str(spectrumPhi2d[i,j]))\n",
    "      out.write(\"\\t\")\n",
    "    out.write(\"\\n\")\n",
    "  out.close()\n",
    "  print(\"\\n -> file written in: \",flnm)\n",
    "  #\n",
    "\n",
    "  out = open(\"\".join([path_out,name,\".\",\"%05d\"%ii,\".spectrum2d.nkperp\",\"%d\"%tot,\".nkpara\",\"%d\"%Nx,\".linear.KPRP.dat\"]),'w+')\n",
    "  for i in range(tot):\n",
    "    out.write(str(kprp[i]))\n",
    "    out.write(\"\\n\")\n",
    "  out.close()\n",
    "  print(\"\\n -> file written in: \",path_out,name,\".\",\"%05d\"%ii+\".spectrum2d.nkperp\"+\"%d\"%tot+\".nkpara\"+\"%d\"%Nx+\".linear.KPRP.dat\")\n",
    "  out = open(\"\".join([path_out,name,\".\",\"%05d\"%ii,\".spectrum2d.nkperp\",\"%d\"%tot,\".nkpara\",\"%d\"%Nx,\".linear.KPRL.dat\"]),'w+')\n",
    "  for i in range(Nx):\n",
    "    out.write(str(kprl[i]))\n",
    "    out.write(\"\\n\")\n",
    "  out.close()\n",
    "  print(\"\\n -> file written in: \",path_out,name,\".\",\"%05d\"%ii+\".spectrum2d.nkperp\"+\"%d\"%tot+\".nkpara\"+\"%d\"%Nx+\".linear.KPRL.dat\")\n",
    "\n",
    "\n",
    "  print(\"\\n cycle: done. \")\n",
    "\n",
    "\n",
    "  return"
   ]
  },
  {
   "cell_type": "code",
   "execution_count": null,
   "id": "d2f9182d-bac7-415f-9d12-745d395259da",
   "metadata": {},
   "outputs": [],
   "source": [
    "for ind in range(it0,it1+1):\n",
    "  specEB2D(name,path,path_out,ind,nkshells,kprl_min,kprl_max,kprp_min,kprp_max,N_perp,aspct,N_para)\n",
    "print(\"\\n  -> [spectrumEcontributions2D LINEAR]: DONE. \\n\")"
   ]
  },
  {
   "cell_type": "code",
   "execution_count": null,
   "id": "464424ec-aa4c-46ea-83ad-08bcad9f6a65",
   "metadata": {},
   "outputs": [],
   "source": [
    "#specEB2D(name,path,path_out,0,nkshells,kprl_min,kprl_max,kprp_min,kprp_max,N_perp,aspct,N_para)"
   ]
  },
  {
   "cell_type": "code",
   "execution_count": null,
   "id": "ac377363-2f12-4678-b85c-bf02fce6c5d1",
   "metadata": {},
   "outputs": [],
   "source": [
    "25.951612407767872 - 0.5*kprp_min"
   ]
  },
  {
   "cell_type": "code",
   "execution_count": null,
   "id": "f14c1609-eca6-4735-b007-25377e119d76",
   "metadata": {},
   "outputs": [],
   "source": [
    "25.951612407767872 + 0.5*kprp_min"
   ]
  },
  {
   "cell_type": "code",
   "execution_count": null,
   "id": "28af61e2-6106-48df-90e5-dc9f38536b84",
   "metadata": {},
   "outputs": [],
   "source": [
    " coord"
   ]
  },
  {
   "cell_type": "code",
   "execution_count": null,
   "id": "06c468ea-c188-4304-9e5d-3841ec592e67",
   "metadata": {},
   "outputs": [],
   "source": [
    "np.where(25.886407351466946 <= coord )"
   ]
  },
  {
   "cell_type": "code",
   "execution_count": null,
   "id": "5733ff91-722d-428c-91cb-644a5c969101",
   "metadata": {},
   "outputs": [],
   "source": [
    "np.where(25.82120229516602 <= coord )"
   ]
  },
  {
   "cell_type": "code",
   "execution_count": null,
   "id": "713c30de-6f03-44f4-ab54-55cc4e2b2df4",
   "metadata": {},
   "outputs": [],
   "source": [
    "np.max(coord)"
   ]
  },
  {
   "cell_type": "code",
   "execution_count": null,
   "id": "1219646a-c4eb-45f6-ac35-12ef3c52cd2a",
   "metadata": {},
   "outputs": [],
   "source": [
    "kzmin*np.power(x1*x1 + x2*x2, 0.5)"
   ]
  },
  {
   "cell_type": "code",
   "execution_count": null,
   "id": "6c959953-0db2-4c49-8e0d-5bad02f2f17c",
   "metadata": {},
   "outputs": [],
   "source": [
    "kprp_min"
   ]
  },
  {
   "cell_type": "code",
   "execution_count": null,
   "id": "5e169db4-27d6-4030-a543-c2e91b925ae0",
   "metadata": {},
   "outputs": [],
   "source": [
    "# max x1/x2 is Nperp/2-1"
   ]
  },
  {
   "cell_type": "code",
   "execution_count": null,
   "id": "81244a11-a50e-4027-b1ce-8cc3c8541bff",
   "metadata": {},
   "outputs": [],
   "source": [
    "N_perp/2-N_perp"
   ]
  },
  {
   "cell_type": "code",
   "execution_count": null,
   "id": "983f7636-d90b-4f61-a018-a3b9c9965512",
   "metadata": {},
   "outputs": [],
   "source": [
    "kprp_min*np.power(140*140 + 140*140, 0.5)"
   ]
  },
  {
   "cell_type": "code",
   "execution_count": null,
   "id": "f5b08aa5-658a-4004-9e5e-35f21521ffb0",
   "metadata": {},
   "outputs": [],
   "source": [
    "# For final k_perp, there are no k's on our grid that are greater than the k of the final bin: klow - 0.5*kzmin\n",
    "# i.e. we can't have 200 kperp shells for 280 perp grid cells\n",
    "# try 198\n",
    "# Dont need to recompute phi - doesn't use kperp_max to compute phi from nbfs, only grid kperp_min etc. for spacing in k space\n",
    "# (determined by our box size)"
   ]
  }
 ],
 "metadata": {
  "kernelspec": {
   "display_name": "Python 3 (ipykernel)",
   "language": "python",
   "name": "python3"
  },
  "language_info": {
   "codemirror_mode": {
    "name": "ipython",
    "version": 3
   },
   "file_extension": ".py",
   "mimetype": "text/x-python",
   "name": "python",
   "nbconvert_exporter": "python",
   "pygments_lexer": "ipython3",
   "version": "3.11.7"
  }
 },
 "nbformat": 4,
 "nbformat_minor": 5
}
