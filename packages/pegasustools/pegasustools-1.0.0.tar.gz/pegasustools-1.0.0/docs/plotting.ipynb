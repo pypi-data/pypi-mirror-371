{
 "cells": [
  {
   "cell_type": "markdown",
   "id": "0",
   "metadata": {},
   "source": [
    "# Plotting \n",
    "\n",
    "PegasusTools contains a few features for plotting figures with matplotlib."
   ]
  },
  {
   "cell_type": "markdown",
   "id": "1",
   "metadata": {},
   "source": [
    "## Matplotlib Style\n",
    "\n",
    "A custom Matplotlib style for plotting is defined in PegasusTools and can be used in your scripts. The style sheet is at `src/pegasustools/pegasus_style.mplstyle` if you wish to see the details.\n",
    "\n",
    "For a full discussion of how to use style sheets please see the [style sheets section of the matplotlib documentation](https://matplotlib.org/stable/users/explain/customizing.html#customizing-with-style-sheets)."
   ]
  },
  {
   "cell_type": "code",
   "execution_count": null,
   "id": "2",
   "metadata": {},
   "outputs": [],
   "source": [
    "import matplotlib.pyplot as plt\n",
    "\n",
    "# To use the PegasusTools style we don't actually need to import PegasusTools, just have\n",
    "# it installed\n",
    "plt.style.use(\"pegasustools.pegasus_style\")\n",
    "\n",
    "# You can also use styles in a context manager\n",
    "with plt.style.context(\"pegasustools.pegasus_style\"):\n",
    "    pass\n",
    "\n",
    "# Styles can be composed together. The rightmost style(s) take priority.\n",
    "# This works with `plt.style.use` as well\n",
    "with plt.style.context([\"dark_background\", \"pegasustools.pegasus_style\"]):\n",
    "    pass"
   ]
  },
  {
   "cell_type": "markdown",
   "id": "3",
   "metadata": {},
   "source": [
    "## Hawley Colormap\n",
    "\n",
    "The Hawley colormap is not available in any standard packages so it has been included as part of PegasusTools. It will be registered with matplotlib upon importing PegasusTools with the name `'hawley'` and can be used as any standard colormap would be; it is also the default colormap in the PegasusTools style sheet."
   ]
  },
  {
   "cell_type": "code",
   "execution_count": null,
   "id": "4",
   "metadata": {},
   "outputs": [],
   "source": [
    "import matplotlib as mpl\n",
    "\n",
    "import pegasustools as pt  # noqa: F401\n",
    "\n",
    "mpl.colormaps[\"hawley\"]"
   ]
  },
  {
   "cell_type": "markdown",
   "id": "5",
   "metadata": {},
   "source": [
    "## Example\n",
    "\n",
    "Below are some examples of the PegasusTools plotting features in action. They are adapted from examples in the matplotlib documentation"
   ]
  },
  {
   "cell_type": "code",
   "execution_count": null,
   "id": "6",
   "metadata": {},
   "outputs": [],
   "source": [
    "import numpy as np\n",
    "\n",
    "# Note that all plots use the default colormap which is the Hawley colormap in the\n",
    "# PegasusTools style sheet.\n",
    "\n",
    "# setup some generic data\n",
    "N = 37\n",
    "x, y = np.mgrid[:N, :N]\n",
    "Z = np.cos(x * 0.2) + np.sin(y * 0.3)\n",
    "\n",
    "# mask out the negative and positive values, respectively\n",
    "Zpos = np.ma.masked_less(Z, 0)\n",
    "Zneg = np.ma.masked_greater(Z, 0)\n",
    "\n",
    "# Setup figure & suplots\n",
    "fig, (ax1, ax2, ax3) = plt.subplots(figsize=(13, 3.5), ncols=3)\n",
    "\n",
    "# plot just the positive data\n",
    "pos = ax1.imshow(Zpos)\n",
    "\n",
    "# add the colorbar using the figure's method\n",
    "fig.colorbar(pos, ax=ax1, extend=\"both\")\n",
    "\n",
    "# repeat everything above for the negative data\n",
    "neg = ax2.imshow(Zneg)\n",
    "fig.colorbar(neg, ax=ax2, extend=\"both\")\n",
    "\n",
    "# Plot both positive and negative values between +/- 1.2\n",
    "pos_neg_clipped = ax3.imshow(Z, vmin=-1.2, vmax=1.2)\n",
    "\n",
    "# Add minorticks on the colorbar to make it easy to read the values off the colorbar.\n",
    "cbar = fig.colorbar(pos_neg_clipped, ax=ax3, extend=\"both\")\n",
    "cbar.minorticks_on()\n",
    "\n",
    "# Text\n",
    "fig.suptitle(\"Figure super title ($y= ax_1 + b^2$)\")\n",
    "for i, ax in enumerate((ax1, ax2, ax3)):\n",
    "    ax.set_xlabel(f\"axis {i + 1} xlabel\")\n",
    "    ax.set_ylabel(f\"axis {i + 1} ylabel\")\n",
    "    ax.set_title(f\"axis {i + 1} title\")\n",
    "\n",
    "plt.show()"
   ]
  }
 ],
 "metadata": {
  "kernelspec": {
   "display_name": "bobs-env",
   "language": "python",
   "name": "python3"
  },
  "language_info": {
   "codemirror_mode": {
    "name": "ipython",
    "version": 3
   },
   "file_extension": ".py",
   "mimetype": "text/x-python",
   "name": "python",
   "nbconvert_exporter": "python",
   "pygments_lexer": "ipython3",
   "version": "3.13.5"
  }
 },
 "nbformat": 4,
 "nbformat_minor": 5
}
