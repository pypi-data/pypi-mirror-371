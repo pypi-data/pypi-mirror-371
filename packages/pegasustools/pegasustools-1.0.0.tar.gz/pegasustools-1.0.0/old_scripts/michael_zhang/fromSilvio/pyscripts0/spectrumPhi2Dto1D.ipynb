{
 "cells": [
  {
   "cell_type": "code",
   "execution_count": null,
   "id": "e482661e-dd7e-46c2-972e-4da9a916b616",
   "metadata": {},
   "outputs": [],
   "source": [
    "import numpy as np\n",
    "from pegasus_read import hst as hst\n",
    "from matplotlib import pyplot as plt"
   ]
  },
  {
   "cell_type": "code",
   "execution_count": null,
   "id": "2f4b4bec-743e-407a-b67b-a54e619584ee",
   "metadata": {},
   "outputs": [],
   "source": [
    "#output range [t(it0),t(it1)]--(it0 and it1 included)\n",
    "it0 = 0      # initial time index\n",
    "it1 = 76"
   ]
  },
  {
   "cell_type": "code",
   "execution_count": null,
   "id": "8447ee56-1f5c-4ee6-94af-2cb6de22870f",
   "metadata": {},
   "outputs": [],
   "source": [
    "#(kprp,kprl) grid\n",
    "nkshells = 198  # number of shells in k_perp\n",
    "nkpara = 1680 #1728   # number of modes in k_para"
   ]
  },
  {
   "cell_type": "code",
   "execution_count": null,
   "id": "d96d423d-cff8-455b-98c2-85d218f954ad",
   "metadata": {},
   "outputs": [],
   "source": [
    "# box parameters\n",
    "aspct = 6\n",
    "lprp = 48.1802/(2.0*np.pi)              # in (2*pi*d_i) units\n",
    "lprl = lprp*aspct       # in (2*pi*d_i) units\n",
    "Lperp = 2.0*np.pi*lprp  # in d_i units\n",
    "Lpara = 2.0*np.pi*lprl  # in d_i units\n",
    "N_perp = 280\n",
    "N_para = N_perp*aspct   # assuming isotropic resolution\n",
    "kperpdi0 = 1./lprp      # minimum k_perp ( = 2*pi / Lperp)\n",
    "kparadi0 = 1./lprl      # minimum k_para ( = 2*pi / Lpara)\n",
    "betai0 = 0.3            # ion plasma beta"
   ]
  },
  {
   "cell_type": "code",
   "execution_count": null,
   "id": "ab5a0996-4e83-4180-b591-2059f669e361",
   "metadata": {},
   "outputs": [],
   "source": [
    "#--rho_i units and KAW eigenvector normalization for density spectrum\n",
    "kperprhoi0 = np.sqrt(betai0)*kperpdi0\n",
    "kpararhoi0 = np.sqrt(betai0)*kparadi0\n",
    "normKAW = betai0*(1.+betai0)*(1. + 1./(1. + 1./betai0))"
   ]
  },
  {
   "cell_type": "code",
   "execution_count": null,
   "id": "0de0b4ad-24f7-46b5-aa99-0727531e6323",
   "metadata": {},
   "outputs": [],
   "source": [
    "#files path\n",
    "prob = \"minor_turb\"\n",
    "name = 'b_b3_sim1'\n",
    "path = \"../saved-analysis/spectrum_dat/\"\n",
    "base = path+name+\"/\"+name"
   ]
  },
  {
   "cell_type": "code",
   "execution_count": null,
   "id": "09ec48ab-036d-408a-b95c-a93d14d3a8c7",
   "metadata": {},
   "outputs": [],
   "source": [
    "\n",
    "for ii in range(it0,it1+1):\n",
    "  print(\"\\n  [ SPECTRUM: reducing 2D spectrum of parallel and perpendicular components of E and B fluctuations to 1D ]\")\n",
    "  print(\"      ( NOTE: standard linear binning k_n = n * k_min is assumed )  \")\n",
    "  print(\"\\n  << cycle: start >> \\n\")\n",
    "  print(\"  time index -> \",ii)\n",
    "  print(\"  number of k_perp bins -> \",nkshells)\n",
    "  print(\"\\n Now reading:\")\n",
    "  filename = base+\".\"+\"%05d\"%ii+\".spectrum2d.nkperp\"+\"%d\"%nkshells+\".nkpara\"+\"%d\"%nkpara+\".linear.KPRP.dat\"\n",
    "  print(\"  ->\",filename)\n",
    "  kprp = np.loadtxt(filename)\n",
    "  filename = base+\".\"+\"%05d\"%ii+\".spectrum2d.nkperp\"+\"%d\"%nkshells+\".nkpara\"+\"%d\"%nkpara+\".linear.KPRL.dat\"\n",
    "  print(\"  ->\",filename)\n",
    "  kprl = np.loadtxt(filename)\n",
    "\n",
    "  print(\"\\n  [ re-defining 2D grid: (k_perp, kx) -> (k_perp, k_para) ] \\n\")\n",
    "  kperp = kprp\n",
    "  kpara = np.zeros(int(nkpara/2+1))\n",
    "  for jj in range(int(nkpara/2+1)):\n",
    "    kpara[jj] = jj * kparadi0\n",
    "\n",
    "  filename = base+\".\"+\"%05d\"%ii+\".spectrum2d.nkperp\"+\"%d\"%nkshells+\".nkpara\"+\"%d\"%nkpara+\".linear.PHI.dat\"\n",
    "  print(\"  ->\",filename)\n",
    "  data = np.loadtxt(filename)\n",
    "  print(\" shape of data -> \",np.shape(data))\n",
    "\n",
    "  print(\"\\n  [ reducing Phi spectrum... ] \")\n",
    "  Phik2D = np.zeros((nkshells,int(nkpara/2+1)))\n",
    "  Phik2D[:,0] = data[:,0]\n",
    "  for jj in range(int(nkpara/2-1)):\n",
    "    Phik2D[:,jj+1] = data[:,jj+1] + data[:,nkpara-1-jj]\n",
    "  Phik2D[:,int(nkpara/2)] = data[:,int(nkpara/2)]\n",
    "  # normalization\n",
    "  #Phik2D /= np.sum(Phik2D)\n",
    "  # reduced 1D spectra\n",
    "  Phikprp = np.sum(Phik2D,axis=1)\n",
    "  Phikprl = np.sum(Phik2D,axis=0)\n",
    "\n",
    "\n",
    "  #write output\n",
    "  print(\"\\n  [ writing outputs... ] \\n\")\n",
    "  #\n",
    "  filename_out = base+\".\"+\"%05d\"%ii+\".spectrum1d.nkperp\"+\"%d\"%nkshells+\".linear.PHI.dat\"\n",
    "  out = open(filename_out,'w+')\n",
    "  for i in range(nkshells):\n",
    "    out.write(str(kperp[i]))\n",
    "    out.write(\"\\t\")\n",
    "    out.write(str(Phikprp[i]))\n",
    "    out.write(\"\\n\")\n",
    "  out.close()\n",
    "  print(\" -> file written in: \",filename_out)\n",
    "  #\n",
    "  filename_out = base+\".\"+\"%05d\"%ii+\".spectrum1d.nkpara\"+\"%d\"%(nkpara/2+1)+\".linear.PHI.dat\"\n",
    "  out = open(filename_out,'w+')\n",
    "  for i in range(int(nkpara/2+1)):\n",
    "    out.write(str(kpara[i]))\n",
    "    out.write(\"\\t\")\n",
    "    out.write(str(Phikprl[i]))\n",
    "    out.write(\"\\n\")\n",
    "  out.close()\n",
    "  print(\" -> file written in: \",filename_out)\n",
    "\n",
    "\n",
    "  print(\"\\n  << cycle: done. >> \")\n",
    "\n",
    "print(\"\\n [ spectrumPhi2Dto1D ]: DONE. \\n\")"
   ]
  },
  {
   "cell_type": "code",
   "execution_count": null,
   "id": "032cced8-b62a-49aa-a0e9-ed2bcba9eae2",
   "metadata": {},
   "outputs": [],
   "source": [
    "kperp"
   ]
  },
  {
   "cell_type": "code",
   "execution_count": null,
   "id": "4f1cb2c8-680f-4e6f-afc2-015eb959e1c6",
   "metadata": {},
   "outputs": [],
   "source": [
    "Phikprp"
   ]
  },
  {
   "cell_type": "code",
   "execution_count": null,
   "id": "461c92e4-eb7c-483c-9811-1328aeb94d62",
   "metadata": {},
   "outputs": [],
   "source": [
    "Phikprl"
   ]
  },
  {
   "cell_type": "code",
   "execution_count": null,
   "id": "7639fd5b-b3f4-41f7-a5b6-b062f5bb1808",
   "metadata": {},
   "outputs": [],
   "source": []
  },
  {
   "cell_type": "code",
   "execution_count": null,
   "id": "e14b7ef6-0068-43df-ba05-ab8a44209029",
   "metadata": {},
   "outputs": [],
   "source": []
  }
 ],
 "metadata": {
  "kernelspec": {
   "display_name": "Python 3 (ipykernel)",
   "language": "python",
   "name": "python3"
  },
  "language_info": {
   "codemirror_mode": {
    "name": "ipython",
    "version": 3
   },
   "file_extension": ".py",
   "mimetype": "text/x-python",
   "name": "python",
   "nbconvert_exporter": "python",
   "pygments_lexer": "ipython3",
   "version": "3.11.7"
  }
 },
 "nbformat": 4,
 "nbformat_minor": 5
}
