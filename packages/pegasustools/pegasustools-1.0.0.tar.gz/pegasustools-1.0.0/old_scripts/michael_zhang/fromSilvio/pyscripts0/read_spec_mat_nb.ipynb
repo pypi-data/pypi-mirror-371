{
 "cells": [
  {
   "cell_type": "code",
   "execution_count": null,
   "id": "465ae236-db5a-45c7-8e7c-61b0f9539ea3",
   "metadata": {},
   "outputs": [],
   "source": [
    "import numpy as np\n",
    "import struct\n",
    "import math\n",
    "import matplotlib.gridspec as gridspec\n",
    "import matplotlib.pyplot as plt\n",
    "import matplotlib as mpl\n",
    "import scipy.io\n",
    "import h5py\n",
    "import bottleneck as bn\n",
    "import xarray"
   ]
  },
  {
   "cell_type": "code",
   "execution_count": null,
   "id": "ed6906cf-5b50-47a0-9142-89772f2e8040",
   "metadata": {},
   "outputs": [],
   "source": [
    "name = 'b_b3_sim1'\n",
    "pathToMat = \"../saved-analysis/AvDFs-\"+name+\".mat\"\n",
    "pathToVth = \"../saved-analysis/vthtot3d-\"+name+\".mat\""
   ]
  },
  {
   "cell_type": "code",
   "execution_count": null,
   "id": "56627bae-a110-446d-8925-3f283fd1d9d6",
   "metadata": {},
   "outputs": [],
   "source": [
    "nspecies = 7"
   ]
  },
  {
   "cell_type": "code",
   "execution_count": null,
   "id": "874a5c1f-e839-4fcd-ad16-e8f835e8615a",
   "metadata": {},
   "outputs": [],
   "source": [
    "# saved .mat using 'v7.3' so need to read using hdf5\n",
    "f = h5py.File(pathToMat,'r')"
   ]
  },
  {
   "cell_type": "code",
   "execution_count": null,
   "id": "65572f58-aa9e-4181-83a7-20f09868bfbf",
   "metadata": {},
   "outputs": [],
   "source": [
    "f.close()"
   ]
  },
  {
   "cell_type": "code",
   "execution_count": null,
   "id": "da4061c2-554c-43a5-ab53-e09f100fc119",
   "metadata": {},
   "outputs": [],
   "source": [
    "with h5py.File(pathToMat, \"r\") as f:\n",
    "    # Print all root level object names (aka keys)\n",
    "    # these can be group or dataset names\n",
    "    print(\"Keys: %s\" % f.keys())\n",
    "    # get first object name/key; may or may NOT be a group\n",
    "    f_group_key = list(f.keys())[1]\n",
    "    p_group_key = list(f.keys())[2]\n",
    "\n",
    "    # get the object type for a_group_key: usually group or dataset\n",
    "    print(type(f[f_group_key]))\n",
    "\n",
    "    # If a_group_key is a group name,\n",
    "    # this gets the object names in the group and returns as a list\n",
    "    data = list(f[f_group_key])\n",
    "\n",
    "    # If a_group_key is a dataset name,\n",
    "    # this gets the dataset values and returns as a list\n",
    "    data = list(f[f_group_key])\n",
    "    # preferred methods to get dataset values:\n",
    "    #ds_obj = f[a_group_key]      # returns as a h5py dataset object\n",
    "    #ds_arr = f[a_group_key][()]  # returns as a numpy array\n",
    "\n",
    "\n",
    "    #data = list(f[a_group_key]['f0'])\n",
    "    #ds_arr = f[a_group_key]['f0'][()]\n",
    "    #t = f.get('F')['t']\n",
    "    t = f[f_group_key]['t'][()]#[()]\n",
    "    nums = f[f_group_key]['nums'][()]\n",
    "\n",
    "    vprl = []\n",
    "    vprp = []\n",
    "    vprll = []\n",
    "    vprpp = []\n",
    "    f0 = []\n",
    "    edv_prl = []\n",
    "    edv_prp = []\n",
    "    #hdf object reference is the key in the original file that refers to a dataset\n",
    "    for i in np.arange(nspecies):\n",
    "        #[i,0]\n",
    "        # normalized by vthtot(t). multiply by vthtot(t) to undo time-dependent normalization (or just generate vprl,vprp based on P)\n",
    "        vprl.append(f[f[f_group_key]['vprl'][i,0]][()])\n",
    "        vprp.append(f[f[f_group_key]['vprp'][i,0]][()])\n",
    "        # normalized by vthperp(t) or vthprl(t)\n",
    "        vprll.append(f[f[f_group_key]['vprll'][i,0]][()])\n",
    "        vprpp.append(f[f[f_group_key]['vprpp'][i,0]][()])\n",
    "        f0.append(f[f[f_group_key]['f0'][i,0]][()])\n",
    "        edv_prl.append(f[f[f_group_key]['edv_prl'][i,0]][()])\n",
    "        edv_prp.append(f[f[f_group_key]['edv_prp'][i,0]][()])\n",
    "\n",
    "    data = list(f[p_group_key])\n",
    "\n",
    "    beta = f[p_group_key]['beta'][()]\n",
    "    nspec_prlav = f[p_group_key]['nspec_prlav'][()]\n",
    "    nspec_prpav = f[p_group_key]['nspec_prpav'][()]\n",
    "    vprlmaxav = f[p_group_key]['vprlmaxav'][()]\n",
    "    vprpmaxav = f[p_group_key]['vprpmaxav'][()]"
   ]
  },
  {
   "cell_type": "code",
   "execution_count": null,
   "id": "a5cb02d9-ffad-4574-a9b5-07055295375b",
   "metadata": {},
   "outputs": [],
   "source": [
    "with h5py.File(pathToVth, \"r\") as f:\n",
    "    # Print all root level object names (aka keys)\n",
    "    # these can be group or dataset names\n",
    "    print(\"Keys: %s\" % f.keys())\n",
    "    # get first object name/key; may or may NOT be a group\n",
    "    v_group_key = list(f.keys())[1]\n",
    "    vthtot3d = []\n",
    "    for i in np.arange(nspecies):\n",
    "        vthtot3d.append(f[f[v_group_key][i,0]][()])\n"
   ]
  },
  {
   "cell_type": "code",
   "execution_count": null,
   "id": "2becd833-8d67-4c48-9af6-a07ca3907d70",
   "metadata": {},
   "outputs": [],
   "source": [
    "vprp_unscaled = []\n",
    "vprl_unscaled = []\n",
    "for i in np.arange(nspecies):\n",
    "    vprp_unscaled.append(vprp[i]*vthtot3d[i])\n",
    "    vprl_unscaled.append(vprl[i]*vthtot3d[i])"
   ]
  },
  {
   "cell_type": "code",
   "execution_count": null,
   "id": "e6fc0660-7e02-4cb1-a5be-aff0d69de887",
   "metadata": {},
   "outputs": [],
   "source": [
    "vthtot3d[0].shape"
   ]
  },
  {
   "cell_type": "code",
   "execution_count": null,
   "id": "719560af-ccb2-48c3-a618-e86dc2a86067",
   "metadata": {},
   "outputs": [],
   "source": [
    "data"
   ]
  },
  {
   "cell_type": "code",
   "execution_count": null,
   "id": "e85e9034-8768-4c5f-845f-7673d8e27fec",
   "metadata": {},
   "outputs": [],
   "source": [
    "t.shape"
   ]
  },
  {
   "cell_type": "code",
   "execution_count": null,
   "id": "26dae9e5-14cf-4d76-8c52-ac9f271c4d1a",
   "metadata": {},
   "outputs": [],
   "source": [
    "t"
   ]
  },
  {
   "cell_type": "code",
   "execution_count": null,
   "id": "2825af40-4763-4a14-8f77-0042aca1ae31",
   "metadata": {},
   "outputs": [],
   "source": [
    "f0[3].shape"
   ]
  },
  {
   "cell_type": "code",
   "execution_count": null,
   "id": "c828b099-6453-4481-b838-7e5b1dba883d",
   "metadata": {},
   "outputs": [],
   "source": [
    "edv_prp[3].shape"
   ]
  },
  {
   "cell_type": "code",
   "execution_count": null,
   "id": "ed9500c9-29db-422a-bb78-65b39b02a715",
   "metadata": {},
   "outputs": [],
   "source": [
    "vprl[0][0,0,:]"
   ]
  },
  {
   "cell_type": "code",
   "execution_count": null,
   "id": "c79a7d96-aba6-4457-a9aa-c015a371fa09",
   "metadata": {},
   "outputs": [],
   "source": [
    "fig = plt.figure()\n",
    "ax = fig.add_subplot(111)\n",
    "plt.contourf(vprl[1][0,0,:],vprp[1][0,:,0],edv_prl[1][0,:,:])"
   ]
  },
  {
   "cell_type": "code",
   "execution_count": null,
   "id": "d6b8c851-ae58-4453-9912-d918bb808aec",
   "metadata": {},
   "outputs": [],
   "source": [
    "test = []\n",
    "test.append(f0)"
   ]
  },
  {
   "cell_type": "code",
   "execution_count": null,
   "id": "ce531e1e-8b94-4974-9000-6165189f055f",
   "metadata": {},
   "outputs": [],
   "source": [
    "len(test)"
   ]
  },
  {
   "cell_type": "code",
   "execution_count": null,
   "id": "1a7e50fa-68fb-4d97-8222-91240d0ee494",
   "metadata": {},
   "outputs": [],
   "source": [
    "vprp[0].shape"
   ]
  },
  {
   "cell_type": "code",
   "execution_count": null,
   "id": "9e57717e-00c0-4073-968b-dbc52501a25b",
   "metadata": {},
   "outputs": [],
   "source": [
    "vprl[0].shape"
   ]
  },
  {
   "cell_type": "code",
   "execution_count": null,
   "id": "32d919b5-4e90-41c0-8c95-eb85b60d56ef",
   "metadata": {},
   "outputs": [],
   "source": [
    "vprp[0][30:50,:,:].shape"
   ]
  },
  {
   "cell_type": "code",
   "execution_count": null,
   "id": "784fc1e9-195d-4570-b32a-e4f92959f3de",
   "metadata": {},
   "outputs": [],
   "source": [
    "beta"
   ]
  },
  {
   "cell_type": "code",
   "execution_count": null,
   "id": "19ad6d6e-76cd-4b40-b532-bd21a91a53ac",
   "metadata": {},
   "outputs": [],
   "source": [
    "nspec_prlav"
   ]
  },
  {
   "cell_type": "code",
   "execution_count": null,
   "id": "27baef29-a05b-428e-930c-f46c16b44636",
   "metadata": {},
   "outputs": [],
   "source": [
    "vprlmaxav"
   ]
  },
  {
   "cell_type": "code",
   "execution_count": null,
   "id": "ed720000-b11c-49d7-b65c-5c08d6ee0a5a",
   "metadata": {},
   "outputs": [],
   "source": [
    "vprl_unscaled[0]"
   ]
  },
  {
   "cell_type": "code",
   "execution_count": null,
   "id": "16884e83-bc14-46ac-85ff-80f96fc5f7dc",
   "metadata": {},
   "outputs": [],
   "source": [
    "vprl_unscaled[0].shape"
   ]
  },
  {
   "cell_type": "code",
   "execution_count": null,
   "id": "afa786f9-c4f3-49f6-8cbc-4e725cf6b64b",
   "metadata": {},
   "outputs": [],
   "source": [
    "a = [1,2]"
   ]
  },
  {
   "cell_type": "code",
   "execution_count": null,
   "id": "63e6a817-9f48-471e-98ce-bb3d1d9641dc",
   "metadata": {},
   "outputs": [],
   "source": [
    "a[0:1]"
   ]
  },
  {
   "cell_type": "code",
   "execution_count": null,
   "id": "c6c00bc4-d501-46ab-983b-7810eae562f5",
   "metadata": {},
   "outputs": [],
   "source": [
    "a = np.arange(20)"
   ]
  },
  {
   "cell_type": "code",
   "execution_count": null,
   "id": "3a44488d-c817-406c-96c2-3ae597499eeb",
   "metadata": {},
   "outputs": [],
   "source": [
    "a.shape"
   ]
  },
  {
   "cell_type": "code",
   "execution_count": null,
   "id": "f494e17e-bf1a-4cc9-8d3a-e84daf59f7b9",
   "metadata": {},
   "outputs": [],
   "source": [
    "astack = np.ones((20,20,20))"
   ]
  },
  {
   "cell_type": "code",
   "execution_count": null,
   "id": "28a9b735-3284-4f86-92c6-9c0331e514c4",
   "metadata": {},
   "outputs": [],
   "source": [
    "astack = astack*a"
   ]
  },
  {
   "cell_type": "code",
   "execution_count": null,
   "id": "2bfee0bd-d366-47ec-9dd0-fff13f4bec11",
   "metadata": {},
   "outputs": [],
   "source": [
    "astack[:,0,0]"
   ]
  },
  {
   "cell_type": "code",
   "execution_count": null,
   "id": "0c993b28-f973-4a99-87ad-88cbe3d211f5",
   "metadata": {},
   "outputs": [],
   "source": [
    "a = np.expand_dims(a,(1,2))"
   ]
  },
  {
   "cell_type": "code",
   "execution_count": null,
   "id": "145479e3-d89f-406f-8ff1-68a669717e55",
   "metadata": {},
   "outputs": [],
   "source": [
    "np.rolling(3).mean(a)"
   ]
  },
  {
   "cell_type": "code",
   "execution_count": null,
   "id": "e294dee6-f13c-4c85-8ad5-5c0aba01235b",
   "metadata": {},
   "outputs": [],
   "source": [
    "np.lib.stride_tricks.sliding_window_view(np.arange(20), 3).mean(axis=-1)"
   ]
  },
  {
   "cell_type": "code",
   "execution_count": null,
   "id": "fe9bf568-7ca8-47d1-b59c-54eabe36efe3",
   "metadata": {},
   "outputs": [],
   "source": [
    "bn.move.move_mean(astack, 3, min_count=1, axis=0)[:,0,0]"
   ]
  },
  {
   "cell_type": "code",
   "execution_count": null,
   "id": "24d74bef-ee53-40ce-b8b6-627b77797aaf",
   "metadata": {},
   "outputs": [],
   "source": [
    "bn.move.move_mean(a, 3, min_count=1, axis=0)[:,0,0]"
   ]
  },
  {
   "cell_type": "code",
   "execution_count": null,
   "id": "5ba003f0-5416-4cc4-ab98-a2bbb917c1ff",
   "metadata": {},
   "outputs": [],
   "source": [
    "a[:,0,0]"
   ]
  },
  {
   "cell_type": "code",
   "execution_count": null,
   "id": "fc1a399c-2ca4-4d28-8ed3-3f93a2915149",
   "metadata": {},
   "outputs": [],
   "source": [
    "xarray.DataArray(astack,dims=['t','y','z']).rolling(t=3,min_periods=1, center=True).mean().to_numpy()[:,0,0]"
   ]
  },
  {
   "cell_type": "code",
   "execution_count": null,
   "id": "e21cbd4a-6a14-41cd-8d23-4dd446063551",
   "metadata": {},
   "outputs": [],
   "source": [
    "range(1)"
   ]
  },
  {
   "cell_type": "code",
   "execution_count": null,
   "id": "e0b9bf81-3202-4865-9da6-db7477b1cfb6",
   "metadata": {},
   "outputs": [],
   "source": [
    "np.arange(1)"
   ]
  },
  {
   "cell_type": "code",
   "execution_count": null,
   "id": "da9d447b-cddc-4721-938a-98236643f278",
   "metadata": {},
   "outputs": [],
   "source": [
    "for a in range(0):\n",
    "    print(a)"
   ]
  },
  {
   "cell_type": "code",
   "execution_count": null,
   "id": "110e3d3c-cc37-41f1-aef8-6ab5068b7feb",
   "metadata": {},
   "outputs": [],
   "source": [
    "a = np.arange(5) *1.0"
   ]
  },
  {
   "cell_type": "code",
   "execution_count": null,
   "id": "b60eb81a-6b06-4066-a422-332f533d8fd9",
   "metadata": {},
   "outputs": [],
   "source": [
    "b = 1.0*a"
   ]
  },
  {
   "cell_type": "code",
   "execution_count": null,
   "id": "c0f368a6-f6c5-4e02-ad93-959e856ff574",
   "metadata": {},
   "outputs": [],
   "source": [
    "b *= 0.5"
   ]
  },
  {
   "cell_type": "code",
   "execution_count": null,
   "id": "4ce7af3b-56d5-41c5-b4ef-8d0b91c57324",
   "metadata": {},
   "outputs": [],
   "source": [
    "a"
   ]
  },
  {
   "cell_type": "code",
   "execution_count": null,
   "id": "d16669c6-cd83-4215-aadf-5764512a80e6",
   "metadata": {},
   "outputs": [],
   "source": [
    "b"
   ]
  },
  {
   "cell_type": "code",
   "execution_count": null,
   "id": "ce113086-848e-449b-bb72-ea3b59f679a3",
   "metadata": {},
   "outputs": [],
   "source": [
    "a = np.arange(20)"
   ]
  },
  {
   "cell_type": "code",
   "execution_count": null,
   "id": "35d3d0b7-154e-458b-813a-31a7bd0c3975",
   "metadata": {},
   "outputs": [],
   "source": [
    "a"
   ]
  },
  {
   "cell_type": "code",
   "execution_count": null,
   "id": "8e98b38d-fd55-4294-af8b-1a68b17a863f",
   "metadata": {},
   "outputs": [],
   "source": [
    "a = a.reshape((1,20,1))"
   ]
  },
  {
   "cell_type": "code",
   "execution_count": null,
   "id": "463184c5-8ec0-485d-983e-18a8dbb99b8a",
   "metadata": {},
   "outputs": [],
   "source": [
    "a.shape"
   ]
  },
  {
   "cell_type": "code",
   "execution_count": null,
   "id": "c333ec28-aeba-451a-a7a1-dc439dc34e92",
   "metadata": {},
   "outputs": [],
   "source": []
  }
 ],
 "metadata": {
  "kernelspec": {
   "display_name": "Python 3 (ipykernel)",
   "language": "python",
   "name": "python3"
  },
  "language_info": {
   "codemirror_mode": {
    "name": "ipython",
    "version": 3
   },
   "file_extension": ".py",
   "mimetype": "text/x-python",
   "name": "python",
   "nbconvert_exporter": "python",
   "pygments_lexer": "ipython3",
   "version": "3.11.7"
  }
 },
 "nbformat": 4,
 "nbformat_minor": 5
}
