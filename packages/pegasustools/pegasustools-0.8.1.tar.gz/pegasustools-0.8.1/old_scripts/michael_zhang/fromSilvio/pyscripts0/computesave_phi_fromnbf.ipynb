{
 "cells": [
  {
   "cell_type": "code",
   "execution_count": null,
   "id": "e51f286a-340e-4ffd-a970-24694b69b830",
   "metadata": {},
   "outputs": [],
   "source": [
    "import numpy as np\n",
    "import pegasus_read as pegr\n",
    "import pegasus_computation as pegc\n",
    "import math\n",
    "import struct\n",
    "import pegasus_binary as pb\n",
    "import matplotlib.pyplot as plt\n",
    "import matplotlib\n",
    "from matplotlib import ticker\n",
    "#matplotlib.use('Gtk3Agg')\n",
    "import scipy.signal as sps\n",
    "import os\n",
    "import sys"
   ]
  },
  {
   "cell_type": "code",
   "execution_count": null,
   "id": "6bac8029-dc7b-4be4-afaf-8403881e4118",
   "metadata": {},
   "outputs": [],
   "source": [
    "#output range [t(it0),t(it1)]--(it0 and it1 included)\n",
    "it0 = 0      # initial time index\n",
    "it1 = 59      # final time index\n",
    "\n",
    "#0 to 24 calculated using wrong Lpara\n",
    "# 60-76 calculated"
   ]
  },
  {
   "cell_type": "code",
   "execution_count": null,
   "id": "8ecca132-0952-4029-953f-489457701ef0",
   "metadata": {},
   "outputs": [],
   "source": [
    "# box parameters\n",
    "aspct = 6\n",
    "lprp = 48.1802/(2.0*np.pi)              # in (2*pi*d_i) units\n",
    "lprl = lprp*aspct       # in (2*pi*d_i) units\n",
    "Lperp = 2.0*np.pi*lprp  # in d_i units\n",
    "Lpara = 2.0*np.pi*lprl  # in d_i units\n",
    "N_perp = 280\n",
    "N_para = N_perp*aspct   # assuming isotropic resolution\n",
    "kperpdi0 = 1./lprp      # minimum k_perp ( = 2*pi / Lperp)\n",
    "kparadi0 = 1./lprl      # minimum k_para ( = 2*pi / Lpara)"
   ]
  },
  {
   "cell_type": "code",
   "execution_count": null,
   "id": "7377c71a-2a85-4eea-85d7-54f65909fa9f",
   "metadata": {},
   "outputs": [],
   "source": [
    "#number of k_perp shells\n",
    "nkshells = 200          # number of shells in k_perp--roughly: sqrt(2)*(N_perp/2)\n",
    "kprp_min = kperpdi0\n",
    "kprp_max = nkshells*kprp_min#/2.0\n",
    "kprl_min = kparadi0\n",
    "kprl_max = N_para*kprl_min/2.0"
   ]
  },
  {
   "cell_type": "code",
   "execution_count": null,
   "id": "6e07a833-f45f-4177-9686-f9ed42f507cb",
   "metadata": {},
   "outputs": [],
   "source": [
    "#files path\n",
    "prob = \"minor_turb\"\n",
    "name = 'b_b3_sim1'\n",
    "path = \"../\"+name+\"/output/\"\n",
    "path_out = \"../saved-analysis/phi/\""
   ]
  },
  {
   "cell_type": "code",
   "execution_count": null,
   "id": "471e980a-963b-43c9-bcde-4642817830c8",
   "metadata": {},
   "outputs": [],
   "source": [
    "def LoadEnbf(num,direc,prob):\n",
    "    # load 3D E field (adapted from 1d_single.py) from a nbf\n",
    "    #out4 = direc + \"grid/\"+prob+\".out4.\"+str(num).zfill(5)+\".nbf\"\n",
    "    #out3 = direc + \"grid/\"+prob+\".out3.\"+str(num).zfill(5)+\".nbf\"\n",
    "    out2 = direc + \"grid/\"+prob+\".out2.\"+str(num).zfill(5)+\".nbf\"\n",
    "\n",
    "    data = pb.nbf(out2)\n",
    "    (nz, ny, nx) = np.shape(data[b'Bcc1'])\n",
    "    minind = np.unravel_index(np.argmin(data[b'dens_s0']),np.shape(data[b'dens_s0']))\n",
    "    #print(minind)\n",
    "    minx = minind[0]\n",
    "    #print(minx)\n",
    "    miny = minind[1]\n",
    "    #print(miny)\n",
    "    Ex = data[b'Ecc1']\n",
    "    Ey = data[b'Ecc2']\n",
    "    Ez = data[b'Ecc3']\n",
    "\n",
    "    #Dat = {\"E1\":Ex,\"E2\":Ey,\"E3\":Ez}\n",
    "    Dat = (Ex,Ey,Ez)\n",
    "\n",
    "    return Dat"
   ]
  },
  {
   "cell_type": "code",
   "execution_count": null,
   "id": "8b083eb3-38d1-4527-8fa6-c82fd92e1882",
   "metadata": {},
   "outputs": [],
   "source": [
    "# change load method for directly from nbfs (see 1Dsingle)"
   ]
  },
  {
   "cell_type": "code",
   "execution_count": null,
   "id": "52db565a-7862-4fe5-842b-1df51c2eecb9",
   "metadata": {},
   "outputs": [],
   "source": [
    "for ind in range(it0,it1+1):\n",
    "  print(\"\\n Reading files: \\n\")\n",
    "  print(ind)\n",
    "\n",
    "  E1,E2,E3 = LoadEnbf(ind,path,prob)\n",
    "  print(\"Computing potential\")\n",
    "  phi = pegc.compute_potential(E1,E2,E3,N_para,N_perp,N_perp,kprl_min,kprp_min,kprp_min)\n",
    "\n",
    "  flnm_save = path_out+name+\".PHI.\"+\"%05d\"%ind+\".npy\"\n",
    "  np.save(flnm_save,phi)\n",
    "  print(\" * Phi saved in -> \",flnm_save)"
   ]
  },
  {
   "cell_type": "code",
   "execution_count": null,
   "id": "5a5c5167-3c7a-424f-a5cd-1da69bb40463",
   "metadata": {},
   "outputs": [],
   "source": []
  },
  {
   "cell_type": "code",
   "execution_count": null,
   "id": "557e38d7-0b08-4f7a-8b22-8a44549152f0",
   "metadata": {},
   "outputs": [],
   "source": [
    "Lpara"
   ]
  },
  {
   "cell_type": "code",
   "execution_count": null,
   "id": "7189880c-b80c-48a5-847a-e70a7292e1f0",
   "metadata": {},
   "outputs": [],
   "source": []
  },
  {
   "cell_type": "code",
   "execution_count": null,
   "id": "52782097-6399-448f-8edc-839df6f2f3e4",
   "metadata": {},
   "outputs": [],
   "source": [
    "a = [1 2]"
   ]
  },
  {
   "cell_type": "code",
   "execution_count": null,
   "id": "3bc00b17-bcab-4444-bf6d-7b9d2638724f",
   "metadata": {},
   "outputs": [],
   "source": []
  },
  {
   "cell_type": "code",
   "execution_count": null,
   "id": "a5035272-47a0-4ab6-9ad8-0eeb870a6d5e",
   "metadata": {},
   "outputs": [],
   "source": []
  },
  {
   "cell_type": "code",
   "execution_count": null,
   "id": "ca91992f-f0f5-4f79-819e-8805da7d9c9d",
   "metadata": {},
   "outputs": [],
   "source": []
  },
  {
   "cell_type": "code",
   "execution_count": null,
   "id": "803ee440-3dd0-4097-848f-85263476da8e",
   "metadata": {},
   "outputs": [],
   "source": []
  },
  {
   "cell_type": "code",
   "execution_count": null,
   "id": "8c548e58-43e2-49a1-94be-10e453f01bcd",
   "metadata": {},
   "outputs": [],
   "source": []
  },
  {
   "cell_type": "code",
   "execution_count": null,
   "id": "64368c2f-0069-4715-9ee5-a26c3b7971d1",
   "metadata": {},
   "outputs": [],
   "source": []
  },
  {
   "cell_type": "code",
   "execution_count": null,
   "id": "6d14bd88-1dda-4a62-8967-15e4df8167b4",
   "metadata": {},
   "outputs": [],
   "source": []
  },
  {
   "cell_type": "code",
   "execution_count": null,
   "id": "822a4c24-ad95-46ff-919f-55494497edf5",
   "metadata": {},
   "outputs": [],
   "source": []
  }
 ],
 "metadata": {
  "kernelspec": {
   "display_name": "Python 3 (ipykernel)",
   "language": "python",
   "name": "python3"
  },
  "language_info": {
   "codemirror_mode": {
    "name": "ipython",
    "version": 3
   },
   "file_extension": ".py",
   "mimetype": "text/x-python",
   "name": "python",
   "nbconvert_exporter": "python",
   "pygments_lexer": "ipython3",
   "version": "3.11.7"
  }
 },
 "nbformat": 4,
 "nbformat_minor": 5
}
