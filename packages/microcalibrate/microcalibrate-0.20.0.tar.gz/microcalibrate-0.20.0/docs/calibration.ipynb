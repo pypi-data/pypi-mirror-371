{
 "cells": [
  {
   "cell_type": "markdown",
   "id": "b375e2dd",
   "metadata": {},
   "source": [
    "## Calibration\n",
    "\n",
    "The `Calibration` class provides a way to adjust weights of observations in a dataset to match specified target values. This is commonly used in survey research and policy modeling for rebalancing datasets to better represent desired population characteristics. \n",
    "\n",
    "The calibration process uses an optimization algorithm to find weights that minimize the loss between targets and totals of aggregating the targeted variables across all data records.\n",
    "\n",
    "## Basic usage\n",
    "\n",
    "### Parameters\n",
    "\n",
    "`__init__(data, weights, targets)`\n",
    "\n",
    "- `weights` (np.ndarray): Initial weights for each observation in the dataset. Typically starts as an array of ones for equal weighting.\n",
    "- `targets` (np.ndarray): Target values that the calibration process should achieve. These correspond to the desired weighted sums.\n",
    "- `estimate_matrix` (pd.DataFrame): matrix representing the contribution of each record to a given variable total.\n",
    "- `estimate_function` (Callable): function that produces the estimate values for each targeted variable based on the weights and the contribution of each record to said targeted variable. The standard way of doing it if not provided is `estimate_matrix @ weights`.\n",
    "\n",
    "Calibration can be easily done by initializing the `Calibration` class, and passing in the parameters above. Then the `calibrate()` method performs the actual calibration using the reweight function. This method:\n",
    "- Adjusts the weights to better match the target values\n",
    "- Updates `self.weights` with the calibrated results \n",
    "- Produces a calibration log with performance metrics\n",
    "\n",
    "This module also supports regularization in case a sparse matrix that optimizes to reduce the data size simultaneously to calibration is desired. To use this functionality pass `regularize=True` to the `calibrate()` call. The method will update `self.sparse_weights` with the sparse calibrated results, which can then be used to drop records with a weight close to 0.\n",
    "\n",
    "## Example\n",
    "\n",
    "Below is a complete example showing how to calibrate a dataset to match income targets for specific age groups:"
   ]
  },
  {
   "cell_type": "code",
   "execution_count": 1,
   "id": "vxj460xngvg",
   "metadata": {},
   "outputs": [
    {
     "name": "stdout",
     "output_type": "stream",
     "text": [
      "Original weights: [1. 1. 1. 1. 1. 1. 1. 1. 1. 1. 1. 1. 1. 1. 1. 1. 1. 1. 1. 1. 1. 1. 1. 1.\n",
      " 1. 1. 1. 1. 1. 1. 1. 1. 1. 1. 1. 1. 1. 1. 1. 1. 1. 1. 1. 1. 1. 1. 1. 1.\n",
      " 1. 1. 1. 1. 1. 1. 1. 1. 1. 1. 1. 1. 1. 1. 1. 1. 1. 1. 1. 1. 1. 1. 1. 1.\n",
      " 1. 1. 1. 1. 1. 1. 1. 1. 1. 1. 1. 1. 1. 1. 1. 1. 1. 1. 1. 1. 1. 1. 1. 1.\n",
      " 1. 1. 1. 1. 1. 1. 1. 1. 1. 1. 1. 1. 1. 1. 1. 1. 1. 1. 1. 1. 1. 1. 1. 1.\n",
      " 1.]\n",
      "Original targets: [7.37032429e+08 9.76779350e+05 4.36479914e+04]\n"
     ]
    }
   ],
   "source": [
    "from microcalibrate.calibration import Calibration\n",
    "import logging\n",
    "import numpy as np\n",
    "import pandas as pd\n",
    "import plotly.graph_objs as go\n",
    "from plotly.subplots import make_subplots\n",
    "\n",
    "logging.basicConfig(\n",
    "    level=logging.INFO,\n",
    ")\n",
    "\n",
    "# Create a sample dataset with age and income data\n",
    "random_generator = np.random.default_rng(0)\n",
    "data = pd.DataFrame({\n",
    "    \"age\": np.append(random_generator.integers(18, 70, size=120), 71), \n",
    "    \"income\": random_generator.normal(40000, 10000, size=121),\n",
    "})\n",
    "\n",
    "# Set initial weights (all one in this example)\n",
    "weights = np.ones(len(data))\n",
    "\n",
    "# Calculate target values: total income for age groups 20-30 and 40-50 (as an example) or employ existing targets\n",
    "targets_matrix = pd.DataFrame({\n",
    "    \"income_aged_20_30\": ((data[\"age\"] >= 20) & (data[\"age\"] <= 30)).astype(float) * data[\"income\"],\n",
    "    \"income_aged_40_50\": ((data[\"age\"] >= 40) & (data[\"age\"] <= 50)).astype(float) * data[\"income\"],\n",
    "    \"income_aged_71\" : (data[\"age\"] == 71).astype(float) * data[\"income\"],\n",
    "})\n",
    "\n",
    "# 15% higher than the sum of data with the original weights\n",
    "targets = np.array([\n",
    "    (targets_matrix[\"income_aged_20_30\"] * weights * 1000).sum(), \n",
    "    (targets_matrix[\"income_aged_40_50\"] * weights * 1.15).sum(), \n",
    "    (targets_matrix[\"income_aged_71\"] * weights * 1.15).sum()\n",
    "])\n",
    "\n",
    "print(f\"Original weights: {weights}\")\n",
    "print(f\"Original targets: {targets}\")"
   ]
  },
  {
   "cell_type": "code",
   "execution_count": 2,
   "id": "xfw94bs21yl",
   "metadata": {},
   "outputs": [
    {
     "name": "stderr",
     "output_type": "stream",
     "text": [
      "INFO:microcalibrate.calibration:Performing basic target assessment...\n",
      "WARNING:microcalibrate.calibration:Target income_aged_20_30 (7.37e+08) differs from initial estimate (7.37e+05) by 3.00 orders of magnitude.\n",
      "WARNING:microcalibrate.calibration:Target income_aged_71 is supported by only 0.83% of records in the loss matrix. This may make calibration unstable or ineffective.\n",
      "INFO:microcalibrate.reweight:Starting calibration process for targets ['income_aged_20_30' 'income_aged_40_50' 'income_aged_71']: [7.37032429e+08 9.76779350e+05 4.36479914e+04]\n",
      "INFO:microcalibrate.reweight:Original weights - mean: 1.0000, std: 0.0000\n",
      "INFO:microcalibrate.reweight:Initial weights after noise - mean: 1.0226, std: 0.0148\n",
      "Reweighting progress:   0%|          | 0/528 [00:00<?, ?epoch/s, loss=0.341, weights_mean=1.02, weights_std=0.0148, weights_min=1]INFO:microcalibrate.reweight:Within 10% from targets: 0.00% \n",
      "\n",
      "Reweighting progress:   0%|          | 1/528 [00:00<01:32,  5.70epoch/s, loss=0.333, weights_mean=1.06, weights_std=0.0523, weights_min=1]INFO:microcalibrate.reweight:Within 10% from targets: 66.67% \n",
      "\n",
      "INFO:microcalibrate.reweight:Epoch   10: Loss = 0.332947, Change = 0.008021 (improving)\n",
      "Reweighting progress:   0%|          | 1/528 [00:00<01:32,  5.70epoch/s, loss=0.333, weights_mean=1.09, weights_std=0.093, weights_min=1] INFO:microcalibrate.reweight:Within 10% from targets: 66.67% \n",
      "\n",
      "INFO:microcalibrate.reweight:Epoch   20: Loss = 0.332994, Change = -0.000046 (worsening)\n",
      "Reweighting progress:   4%|▍         | 22/528 [00:00<00:05, 96.55epoch/s, loss=0.332, weights_mean=1.1, weights_std=0.131, weights_min=1] INFO:microcalibrate.reweight:Within 10% from targets: 66.67% \n",
      "\n",
      "INFO:microcalibrate.reweight:Epoch   30: Loss = 0.332489, Change = 0.000505 (improving)\n",
      "Reweighting progress:   4%|▍         | 22/528 [00:00<00:05, 96.55epoch/s, loss=0.332, weights_mean=1.12, weights_std=0.184, weights_min=1]INFO:microcalibrate.reweight:Within 10% from targets: 66.67% \n",
      "\n",
      "INFO:microcalibrate.reweight:Epoch   40: Loss = 0.332363, Change = 0.000126 (improving)\n",
      "Reweighting progress:   4%|▍         | 22/528 [00:00<00:05, 96.55epoch/s, loss=0.332, weights_mean=1.15, weights_std=0.249, weights_min=1]INFO:microcalibrate.reweight:Within 10% from targets: 66.67% \n",
      "\n",
      "INFO:microcalibrate.reweight:Epoch   50: Loss = 0.332187, Change = 0.000176 (improving)\n",
      "Reweighting progress:  10%|▉         | 51/528 [00:00<00:02, 168.58epoch/s, loss=0.332, weights_mean=1.19, weights_std=0.326, weights_min=1]INFO:microcalibrate.reweight:Within 10% from targets: 66.67% \n",
      "\n",
      "INFO:microcalibrate.reweight:Epoch   60: Loss = 0.332042, Change = 0.000145 (improving)\n",
      "Reweighting progress:  10%|▉         | 51/528 [00:00<00:02, 168.58epoch/s, loss=0.332, weights_mean=1.22, weights_std=0.418, weights_min=1]INFO:microcalibrate.reweight:Within 10% from targets: 66.67% \n",
      "\n",
      "INFO:microcalibrate.reweight:Epoch   70: Loss = 0.331861, Change = 0.000182 (improving)\n",
      "Reweighting progress:  15%|█▍        | 77/528 [00:00<00:02, 199.34epoch/s, loss=0.332, weights_mean=1.27, weights_std=0.527, weights_min=1]INFO:microcalibrate.reweight:Within 10% from targets: 66.67% \n",
      "\n",
      "INFO:microcalibrate.reweight:Epoch   80: Loss = 0.331657, Change = 0.000204 (improving)\n",
      "Reweighting progress:  15%|█▍        | 77/528 [00:00<00:02, 199.34epoch/s, loss=0.331, weights_mean=1.32, weights_std=0.658, weights_min=1]INFO:microcalibrate.reweight:Within 10% from targets: 66.67% \n",
      "\n",
      "INFO:microcalibrate.reweight:Epoch   90: Loss = 0.331410, Change = 0.000247 (improving)\n",
      "Reweighting progress:  19%|█▉        | 100/528 [00:00<00:02, 208.55epoch/s, loss=0.331, weights_mean=1.39, weights_std=0.817, weights_min=1]INFO:microcalibrate.reweight:Within 10% from targets: 66.67% \n",
      "\n",
      "INFO:microcalibrate.reweight:Epoch  100: Loss = 0.331114, Change = 0.000296 (improving)\n",
      "Reweighting progress:  19%|█▉        | 100/528 [00:00<00:02, 208.55epoch/s, loss=0.331, weights_mean=1.47, weights_std=1.01, weights_min=1] INFO:microcalibrate.reweight:Within 10% from targets: 66.67% \n",
      "\n",
      "INFO:microcalibrate.reweight:Epoch  110: Loss = 0.330754, Change = 0.000360 (improving)\n",
      "Reweighting progress:  19%|█▉        | 100/528 [00:00<00:02, 208.55epoch/s, loss=0.33, weights_mean=1.57, weights_std=1.25, weights_min=1] INFO:microcalibrate.reweight:Within 10% from targets: 66.67% \n",
      "\n",
      "INFO:microcalibrate.reweight:Epoch  120: Loss = 0.330314, Change = 0.000440 (improving)\n",
      "Reweighting progress:  24%|██▍       | 129/528 [00:00<00:01, 233.06epoch/s, loss=0.33, weights_mean=1.69, weights_std=1.54, weights_min=1]INFO:microcalibrate.reweight:Within 10% from targets: 66.67% \n",
      "\n",
      "INFO:microcalibrate.reweight:Epoch  130: Loss = 0.329772, Change = 0.000542 (improving)\n",
      "Reweighting progress:  24%|██▍       | 129/528 [00:00<00:01, 233.06epoch/s, loss=0.329, weights_mean=1.84, weights_std=1.9, weights_min=1]INFO:microcalibrate.reweight:Within 10% from targets: 66.67% \n",
      "\n",
      "INFO:microcalibrate.reweight:Epoch  140: Loss = 0.329099, Change = 0.000672 (improving)\n",
      "Reweighting progress:  24%|██▍       | 129/528 [00:00<00:01, 233.06epoch/s, loss=0.328, weights_mean=2.03, weights_std=2.35, weights_min=1]INFO:microcalibrate.reweight:Within 10% from targets: 66.67% \n",
      "\n",
      "INFO:microcalibrate.reweight:Epoch  150: Loss = 0.328259, Change = 0.000840 (improving)\n",
      "Reweighting progress:  30%|██▉       | 158/528 [00:00<00:01, 249.44epoch/s, loss=0.327, weights_mean=2.27, weights_std=2.92, weights_min=1]INFO:microcalibrate.reweight:Within 10% from targets: 66.67% \n",
      "\n",
      "INFO:microcalibrate.reweight:Epoch  160: Loss = 0.327203, Change = 0.001056 (improving)\n",
      "Reweighting progress:  30%|██▉       | 158/528 [00:00<00:01, 249.44epoch/s, loss=0.326, weights_mean=2.57, weights_std=3.65, weights_min=1]INFO:microcalibrate.reweight:Within 10% from targets: 66.67% \n",
      "\n",
      "INFO:microcalibrate.reweight:Epoch  170: Loss = 0.325865, Change = 0.001338 (improving)\n",
      "Reweighting progress:  30%|██▉       | 158/528 [00:00<00:01, 249.44epoch/s, loss=0.324, weights_mean=2.95, weights_std=4.57, weights_min=1]INFO:microcalibrate.reweight:Within 10% from targets: 66.67% \n",
      "\n",
      "INFO:microcalibrate.reweight:Epoch  180: Loss = 0.324160, Change = 0.001705 (improving)\n",
      "Reweighting progress:  35%|███▌      | 185/528 [00:00<00:01, 255.70epoch/s, loss=0.322, weights_mean=3.45, weights_std=5.76, weights_min=1]INFO:microcalibrate.reweight:Within 10% from targets: 66.67% \n",
      "\n",
      "INFO:microcalibrate.reweight:Epoch  190: Loss = 0.321974, Change = 0.002186 (improving)\n",
      "Reweighting progress:  35%|███▌      | 185/528 [00:00<00:01, 255.70epoch/s, loss=0.319, weights_mean=4.09, weights_std=7.3, weights_min=1] INFO:microcalibrate.reweight:Within 10% from targets: 66.67% \n",
      "\n",
      "INFO:microcalibrate.reweight:Epoch  200: Loss = 0.319155, Change = 0.002819 (improving)\n",
      "Reweighting progress:  35%|███▌      | 185/528 [00:00<00:01, 255.70epoch/s, loss=0.316, weights_mean=4.92, weights_std=9.3, weights_min=1]INFO:microcalibrate.reweight:Within 10% from targets: 66.67% \n",
      "\n",
      "INFO:microcalibrate.reweight:Epoch  210: Loss = 0.315500, Change = 0.003655 (improving)\n",
      "Reweighting progress:  40%|████      | 213/528 [00:01<00:01, 262.61epoch/s, loss=0.311, weights_mean=6.02, weights_std=11.9, weights_min=1]INFO:microcalibrate.reweight:Within 10% from targets: 66.67% \n",
      "\n",
      "INFO:microcalibrate.reweight:Epoch  220: Loss = 0.310741, Change = 0.004759 (improving)\n",
      "Reweighting progress:  40%|████      | 213/528 [00:01<00:01, 262.61epoch/s, loss=0.305, weights_mean=7.46, weights_std=15.4, weights_min=1]INFO:microcalibrate.reweight:Within 10% from targets: 66.67% \n",
      "\n",
      "INFO:microcalibrate.reweight:Epoch  230: Loss = 0.304523, Change = 0.006218 (improving)\n",
      "Reweighting progress:  40%|████      | 213/528 [00:01<00:01, 262.61epoch/s, loss=0.296, weights_mean=9.37, weights_std=20, weights_min=1]  INFO:microcalibrate.reweight:Within 10% from targets: 66.67% \n",
      "\n",
      "INFO:microcalibrate.reweight:Epoch  240: Loss = 0.296380, Change = 0.008143 (improving)\n",
      "Reweighting progress:  46%|████▌     | 241/528 [00:01<00:01, 267.28epoch/s, loss=0.286, weights_mean=11.9, weights_std=26.1, weights_min=1]INFO:microcalibrate.reweight:Within 10% from targets: 66.67% \n",
      "\n",
      "INFO:microcalibrate.reweight:Epoch  250: Loss = 0.285711, Change = 0.010669 (improving)\n",
      "Reweighting progress:  46%|████▌     | 241/528 [00:01<00:01, 267.28epoch/s, loss=0.272, weights_mean=15.3, weights_std=34.3, weights_min=1]INFO:microcalibrate.reweight:Within 10% from targets: 66.67% \n",
      "\n",
      "INFO:microcalibrate.reweight:Epoch  260: Loss = 0.271758, Change = 0.013953 (improving)\n",
      "Reweighting progress:  51%|█████     | 268/528 [00:01<00:01, 223.19epoch/s, loss=0.254, weights_mean=19.9, weights_std=45.2, weights_min=1]INFO:microcalibrate.reweight:Within 10% from targets: 66.67% \n",
      "\n",
      "INFO:microcalibrate.reweight:Epoch  270: Loss = 0.253606, Change = 0.018152 (improving)\n",
      "Reweighting progress:  51%|█████     | 268/528 [00:01<00:01, 223.19epoch/s, loss=0.23, weights_mean=26, weights_std=59.9, weights_min=1]   INFO:microcalibrate.reweight:Within 10% from targets: 66.67% \n",
      "\n",
      "INFO:microcalibrate.reweight:Epoch  280: Loss = 0.230236, Change = 0.023370 (improving)\n",
      "Reweighting progress:  51%|█████     | 268/528 [00:01<00:01, 223.19epoch/s, loss=0.201, weights_mean=34.2, weights_std=79.6, weights_min=1]INFO:microcalibrate.reweight:Within 10% from targets: 66.67% \n",
      "\n",
      "INFO:microcalibrate.reweight:Epoch  290: Loss = 0.200684, Change = 0.029552 (improving)\n",
      "Reweighting progress:  55%|█████▌    | 292/528 [00:01<00:01, 218.99epoch/s, loss=0.164, weights_mean=45.1, weights_std=106, weights_min=1] INFO:microcalibrate.reweight:Within 10% from targets: 66.67% \n",
      "\n",
      "INFO:microcalibrate.reweight:Epoch  300: Loss = 0.164429, Change = 0.036255 (improving)\n",
      "Reweighting progress:  55%|█████▌    | 292/528 [00:01<00:01, 218.99epoch/s, loss=0.122, weights_mean=59.5, weights_std=140, weights_min=1]INFO:microcalibrate.reweight:Within 10% from targets: 66.67% \n",
      "\n",
      "INFO:microcalibrate.reweight:Epoch  310: Loss = 0.122155, Change = 0.042274 (improving)\n",
      "Reweighting progress:  55%|█████▌    | 292/528 [00:01<00:01, 218.99epoch/s, loss=0.077, weights_mean=78.1, weights_std=185, weights_min=1]INFO:microcalibrate.reweight:Within 10% from targets: 66.67% \n",
      "\n",
      "INFO:microcalibrate.reweight:Epoch  320: Loss = 0.077000, Change = 0.045154 (improving)\n",
      "Reweighting progress:  61%|██████    | 321/528 [00:01<00:00, 235.49epoch/s, loss=0.0359, weights_mean=101, weights_std=239, weights_min=1]INFO:microcalibrate.reweight:Within 10% from targets: 66.67% \n",
      "\n",
      "INFO:microcalibrate.reweight:Epoch  330: Loss = 0.035907, Change = 0.041093 (improving)\n",
      "Reweighting progress:  61%|██████    | 321/528 [00:01<00:00, 235.49epoch/s, loss=0.00872, weights_mean=125, weights_std=299, weights_min=1]INFO:microcalibrate.reweight:Within 10% from targets: 66.67% \n",
      "\n",
      "INFO:microcalibrate.reweight:Epoch  340: Loss = 0.008719, Change = 0.027188 (improving)\n",
      "Reweighting progress:  61%|██████    | 321/528 [00:01<00:00, 235.49epoch/s, loss=0.000144, weights_mean=146, weights_std=349, weights_min=1]INFO:microcalibrate.reweight:Within 10% from targets: 100.00% \n",
      "\n",
      "INFO:microcalibrate.reweight:Epoch  350: Loss = 0.000144, Change = 0.008575 (improving)\n",
      "Reweighting progress:  66%|██████▋   | 351/528 [00:01<00:00, 248.71epoch/s, loss=0.000685, weights_mean=156, weights_std=373, weights_min=1]INFO:microcalibrate.reweight:Within 10% from targets: 100.00% \n",
      "\n",
      "INFO:microcalibrate.reweight:Epoch  360: Loss = 0.000685, Change = -0.000541 (worsening)\n",
      "Reweighting progress:  66%|██████▋   | 351/528 [00:01<00:00, 248.71epoch/s, loss=0.000525, weights_mean=155, weights_std=371, weights_min=1]INFO:microcalibrate.reweight:Within 10% from targets: 100.00% \n",
      "\n",
      "INFO:microcalibrate.reweight:Epoch  370: Loss = 0.000525, Change = 0.000161 (improving)\n",
      "Reweighting progress:  72%|███████▏  | 380/528 [00:01<00:00, 259.54epoch/s, loss=4.77e-5, weights_mean=151, weights_std=361, weights_min=1] INFO:microcalibrate.reweight:Within 10% from targets: 100.00% \n",
      "\n",
      "INFO:microcalibrate.reweight:Epoch  380: Loss = 0.000048, Change = 0.000477 (improving)\n",
      "Reweighting progress:  72%|███████▏  | 380/528 [00:01<00:00, 259.54epoch/s, loss=9.05e-6, weights_mean=149, weights_std=355, weights_min=1]INFO:microcalibrate.reweight:Within 10% from targets: 100.00% \n",
      "\n",
      "INFO:microcalibrate.reweight:Epoch  390: Loss = 0.000009, Change = 0.000039 (improving)\n",
      "Reweighting progress:  72%|███████▏  | 380/528 [00:01<00:00, 259.54epoch/s, loss=2.12e-5, weights_mean=148, weights_std=354, weights_min=1]INFO:microcalibrate.reweight:Within 10% from targets: 100.00% \n",
      "\n",
      "INFO:microcalibrate.reweight:Epoch  400: Loss = 0.000021, Change = -0.000012 (worsening)\n",
      "Reweighting progress:  77%|███████▋  | 408/528 [00:01<00:00, 264.71epoch/s, loss=5.13e-6, weights_mean=149, weights_std=355, weights_min=1]INFO:microcalibrate.reweight:Within 10% from targets: 100.00% \n",
      "\n",
      "INFO:microcalibrate.reweight:Epoch  410: Loss = 0.000005, Change = 0.000016 (improving)\n",
      "Reweighting progress:  77%|███████▋  | 408/528 [00:01<00:00, 264.71epoch/s, loss=4.91e-10, weights_mean=149, weights_std=357, weights_min=1]INFO:microcalibrate.reweight:Within 10% from targets: 100.00% \n",
      "\n",
      "INFO:microcalibrate.reweight:Epoch  420: Loss = 0.000000, Change = 0.000005 (improving)\n",
      "Reweighting progress:  77%|███████▋  | 408/528 [00:01<00:00, 264.71epoch/s, loss=6.66e-7, weights_mean=150, weights_std=357, weights_min=1] INFO:microcalibrate.reweight:Within 10% from targets: 100.00% \n",
      "\n",
      "INFO:microcalibrate.reweight:Epoch  430: Loss = 0.000001, Change = -0.000001 (worsening)\n",
      "Reweighting progress:  83%|████████▎ | 436/528 [00:01<00:00, 268.41epoch/s, loss=3.05e-7, weights_mean=150, weights_std=357, weights_min=1]INFO:microcalibrate.reweight:Within 10% from targets: 100.00% \n",
      "\n",
      "INFO:microcalibrate.reweight:Epoch  440: Loss = 0.000000, Change = 0.000000 (improving)\n",
      "Reweighting progress:  83%|████████▎ | 436/528 [00:01<00:00, 268.41epoch/s, loss=7.69e-9, weights_mean=149, weights_std=357, weights_min=1]INFO:microcalibrate.reweight:Within 10% from targets: 100.00% \n",
      "\n",
      "INFO:microcalibrate.reweight:Epoch  450: Loss = 0.000000, Change = 0.000000 (improving)\n",
      "Reweighting progress:  83%|████████▎ | 436/528 [00:01<00:00, 268.41epoch/s, loss=1.85e-8, weights_mean=149, weights_std=356, weights_min=1]INFO:microcalibrate.reweight:Within 10% from targets: 100.00% \n",
      "\n",
      "INFO:microcalibrate.reweight:Epoch  460: Loss = 0.000000, Change = -0.000000 (worsening)\n",
      "Reweighting progress:  88%|████████▊ | 464/528 [00:02<00:00, 270.16epoch/s, loss=1.47e-8, weights_mean=149, weights_std=357, weights_min=1]INFO:microcalibrate.reweight:Within 10% from targets: 100.00% \n",
      "\n",
      "INFO:microcalibrate.reweight:Epoch  470: Loss = 0.000000, Change = 0.000000 (improving)\n",
      "Reweighting progress:  88%|████████▊ | 464/528 [00:02<00:00, 270.16epoch/s, loss=9.94e-10, weights_mean=149, weights_std=357, weights_min=1]INFO:microcalibrate.reweight:Within 10% from targets: 100.00% \n",
      "\n",
      "INFO:microcalibrate.reweight:Epoch  480: Loss = 0.000000, Change = 0.000000 (improving)\n",
      "Reweighting progress:  88%|████████▊ | 464/528 [00:02<00:00, 270.16epoch/s, loss=5.02e-10, weights_mean=149, weights_std=357, weights_min=1]INFO:microcalibrate.reweight:Within 10% from targets: 100.00% \n",
      "\n",
      "INFO:microcalibrate.reweight:Epoch  490: Loss = 0.000000, Change = 0.000000 (improving)\n",
      "Reweighting progress:  93%|█████████▎| 492/528 [00:02<00:00, 262.90epoch/s, loss=6.49e-10, weights_mean=149, weights_std=357, weights_min=1]INFO:microcalibrate.reweight:Within 10% from targets: 100.00% \n",
      "\n",
      "INFO:microcalibrate.reweight:Epoch  500: Loss = 0.000000, Change = -0.000000 (worsening)\n",
      "Reweighting progress:  93%|█████████▎| 492/528 [00:02<00:00, 262.90epoch/s, loss=6.12e-11, weights_mean=149, weights_std=357, weights_min=1]INFO:microcalibrate.reweight:Within 10% from targets: 100.00% \n",
      "\n",
      "INFO:microcalibrate.reweight:Epoch  510: Loss = 0.000000, Change = 0.000000 (improving)\n",
      "Reweighting progress:  93%|█████████▎| 492/528 [00:02<00:00, 262.90epoch/s, loss=1.61e-11, weights_mean=149, weights_std=357, weights_min=1]INFO:microcalibrate.reweight:Within 10% from targets: 100.00% \n",
      "\n",
      "INFO:microcalibrate.reweight:Epoch  520: Loss = 0.000000, Change = 0.000000 (improving)\n",
      "Reweighting progress: 100%|██████████| 528/528 [00:02<00:00, 236.82epoch/s, loss=1.61e-11, weights_mean=149, weights_std=357, weights_min=1]\n",
      "INFO:microcalibrate.reweight:Reweighting completed. Final sample size: 121\n"
     ]
    },
    {
     "name": "stdout",
     "output_type": "stream",
     "text": [
      "Original dataset size: 121\n",
      "Calibrated dataset size: 121\n",
      "Number of calibrated weights: 121\n"
     ]
    }
   ],
   "source": [
    "# Initialize the Calibration object\n",
    "calibrator = Calibration(\n",
    "    estimate_matrix=targets_matrix,\n",
    "    weights=weights, \n",
    "    targets=targets,\n",
    "    noise_level=0.05,\n",
    "    epochs=528,\n",
    "    learning_rate=0.01,\n",
    "    dropout_rate=0,\n",
    ")\n",
    "\n",
    "# Perform the calibration\n",
    "performance_df = calibrator.calibrate()\n",
    "\n",
    "print(f\"Original dataset size: {len(targets_matrix)}\")\n",
    "print(f\"Calibrated dataset size: {len(calibrator.estimate_matrix)}\")\n",
    "print(f\"Number of calibrated weights: {len(calibrator.weights)}\")"
   ]
  },
  {
   "cell_type": "code",
   "execution_count": 3,
   "id": "9djvjpfrhxb",
   "metadata": {},
   "outputs": [
    {
     "name": "stdout",
     "output_type": "stream",
     "text": [
      "Target totals: [7.37032429e+08 9.76779350e+05 4.36479914e+04]\n",
      "Final calibrated totals: [7.37025225e+08 9.76778430e+05 4.36469951e+04]\n",
      "Difference: [-7.20317294e+03 -9.19358560e-01 -9.96308503e-01]\n",
      "Relative error: [-9.77321032e-04 -9.41214165e-05 -2.28259874e-03]\n"
     ]
    }
   ],
   "source": [
    "# Calculate final weighted totals\n",
    "final_totals = targets_matrix.mul(calibrator.weights, axis=0).sum().values\n",
    "\n",
    "print(f\"Target totals: {targets}\")\n",
    "print(f\"Final calibrated totals: {final_totals}\")\n",
    "print(f\"Difference: {final_totals - targets}\")\n",
    "print(f\"Relative error: {(final_totals - targets) / targets * 100}\")"
   ]
  },
  {
   "cell_type": "code",
   "execution_count": 4,
   "id": "96cc818b",
   "metadata": {},
   "outputs": [],
   "source": [
    "np.testing.assert_allclose(\n",
    "        final_totals,\n",
    "        targets,\n",
    "        rtol=0.01,  # relative tolerance\n",
    "        err_msg=\"Calibrated totals do not match target values\",\n",
    "    )"
   ]
  },
  {
   "cell_type": "code",
   "execution_count": 5,
   "id": "923d79dd",
   "metadata": {},
   "outputs": [
    {
     "data": {
      "text/html": [
       "<div>\n",
       "<style scoped>\n",
       "    .dataframe tbody tr th:only-of-type {\n",
       "        vertical-align: middle;\n",
       "    }\n",
       "\n",
       "    .dataframe tbody tr th {\n",
       "        vertical-align: top;\n",
       "    }\n",
       "\n",
       "    .dataframe thead th {\n",
       "        text-align: right;\n",
       "    }\n",
       "</style>\n",
       "<table border=\"1\" class=\"dataframe\">\n",
       "  <thead>\n",
       "    <tr style=\"text-align: right;\">\n",
       "      <th></th>\n",
       "      <th>epoch</th>\n",
       "      <th>loss</th>\n",
       "      <th>target_name</th>\n",
       "      <th>target</th>\n",
       "      <th>estimate</th>\n",
       "      <th>error</th>\n",
       "      <th>abs_error</th>\n",
       "      <th>rel_abs_error</th>\n",
       "    </tr>\n",
       "  </thead>\n",
       "  <tbody>\n",
       "    <tr>\n",
       "      <th>0</th>\n",
       "      <td>0</td>\n",
       "      <td>0.340969</td>\n",
       "      <td>income_aged_20_30</td>\n",
       "      <td>7.370324e+08</td>\n",
       "      <td>752926.625000</td>\n",
       "      <td>-7.362795e+08</td>\n",
       "      <td>7.362795e+08</td>\n",
       "      <td>0.998978</td>\n",
       "    </tr>\n",
       "    <tr>\n",
       "      <th>1</th>\n",
       "      <td>0</td>\n",
       "      <td>0.340969</td>\n",
       "      <td>income_aged_40_50</td>\n",
       "      <td>9.767794e+05</td>\n",
       "      <td>872380.750000</td>\n",
       "      <td>-1.043986e+05</td>\n",
       "      <td>1.043986e+05</td>\n",
       "      <td>0.106880</td>\n",
       "    </tr>\n",
       "    <tr>\n",
       "      <th>2</th>\n",
       "      <td>0</td>\n",
       "      <td>0.340969</td>\n",
       "      <td>income_aged_71</td>\n",
       "      <td>4.364799e+04</td>\n",
       "      <td>38570.789062</td>\n",
       "      <td>-5.077203e+03</td>\n",
       "      <td>5.077203e+03</td>\n",
       "      <td>0.116322</td>\n",
       "    </tr>\n",
       "    <tr>\n",
       "      <th>3</th>\n",
       "      <td>10</td>\n",
       "      <td>0.332947</td>\n",
       "      <td>income_aged_20_30</td>\n",
       "      <td>7.370324e+08</td>\n",
       "      <td>832346.250000</td>\n",
       "      <td>-7.362001e+08</td>\n",
       "      <td>7.362001e+08</td>\n",
       "      <td>0.998871</td>\n",
       "    </tr>\n",
       "    <tr>\n",
       "      <th>4</th>\n",
       "      <td>10</td>\n",
       "      <td>0.332947</td>\n",
       "      <td>income_aged_40_50</td>\n",
       "      <td>9.767794e+05</td>\n",
       "      <td>958994.500000</td>\n",
       "      <td>-1.778488e+04</td>\n",
       "      <td>1.778488e+04</td>\n",
       "      <td>0.018208</td>\n",
       "    </tr>\n",
       "  </tbody>\n",
       "</table>\n",
       "</div>"
      ],
      "text/plain": [
       "   epoch      loss        target_name        target       estimate  \\\n",
       "0      0  0.340969  income_aged_20_30  7.370324e+08  752926.625000   \n",
       "1      0  0.340969  income_aged_40_50  9.767794e+05  872380.750000   \n",
       "2      0  0.340969     income_aged_71  4.364799e+04   38570.789062   \n",
       "3     10  0.332947  income_aged_20_30  7.370324e+08  832346.250000   \n",
       "4     10  0.332947  income_aged_40_50  9.767794e+05  958994.500000   \n",
       "\n",
       "          error     abs_error  rel_abs_error  \n",
       "0 -7.362795e+08  7.362795e+08       0.998978  \n",
       "1 -1.043986e+05  1.043986e+05       0.106880  \n",
       "2 -5.077203e+03  5.077203e+03       0.116322  \n",
       "3 -7.362001e+08  7.362001e+08       0.998871  \n",
       "4 -1.778488e+04  1.778488e+04       0.018208  "
      ]
     },
     "execution_count": 5,
     "metadata": {},
     "output_type": "execute_result"
    }
   ],
   "source": [
    "performance_df.head()"
   ]
  },
  {
   "cell_type": "code",
   "execution_count": 6,
   "id": "da828d30",
   "metadata": {},
   "outputs": [
    {
     "data": {
      "application/vnd.plotly.v1+json": {
       "config": {
        "plotlyServerURL": "https://plot.ly"
       },
       "data": [
        {
         "line": {
          "color": "red",
          "dash": "dot"
         },
         "mode": "lines",
         "name": "Target 20-30",
         "type": "scatter",
         "x": [
          0,
          10,
          20,
          30,
          40,
          50,
          60,
          70,
          80,
          90,
          100,
          110,
          120,
          130,
          140,
          150,
          160,
          170,
          180,
          190,
          200,
          210,
          220,
          230,
          240,
          250,
          260,
          270,
          280,
          290,
          300,
          310,
          320,
          330,
          340,
          350,
          360,
          370,
          380,
          390,
          400,
          410,
          420,
          430,
          440,
          450,
          460,
          470,
          480,
          490,
          500,
          510,
          520
         ],
         "xaxis": "x",
         "y": [
          737032448,
          737032448,
          737032448,
          737032448,
          737032448,
          737032448,
          737032448,
          737032448,
          737032448,
          737032448,
          737032448,
          737032448,
          737032448,
          737032448,
          737032448,
          737032448,
          737032448,
          737032448,
          737032448,
          737032448,
          737032448,
          737032448,
          737032448,
          737032448,
          737032448,
          737032448,
          737032448,
          737032448,
          737032448,
          737032448,
          737032448,
          737032448,
          737032448,
          737032448,
          737032448,
          737032448,
          737032448,
          737032448,
          737032448,
          737032448,
          737032448,
          737032448,
          737032448,
          737032448,
          737032448,
          737032448,
          737032448,
          737032448,
          737032448,
          737032448,
          737032448,
          737032448,
          737032448
         ],
         "yaxis": "y"
        },
        {
         "line": {
          "color": "blue"
         },
         "mode": "lines",
         "name": "Estimate 20-30",
         "type": "scatter",
         "x": [
          0,
          10,
          20,
          30,
          40,
          50,
          60,
          70,
          80,
          90,
          100,
          110,
          120,
          130,
          140,
          150,
          160,
          170,
          180,
          190,
          200,
          210,
          220,
          230,
          240,
          250,
          260,
          270,
          280,
          290,
          300,
          310,
          320,
          330,
          340,
          350,
          360,
          370,
          380,
          390,
          400,
          410,
          420,
          430,
          440,
          450,
          460,
          470,
          480,
          490,
          500,
          510,
          520
         ],
         "xaxis": "x",
         "y": [
          752926.625,
          832346.25,
          921668.5,
          1023621.5625,
          1141370.5,
          1278621.25,
          1439833.625,
          1630507.875,
          1857545,
          2129699.25,
          2458166.5,
          2857359,
          3345938.25,
          3948207.75,
          4695982.5,
          5631132,
          6809027,
          8303248.5,
          10212014,
          12666988,
          15845385,
          19986564,
          25414842,
          32570676,
          42053112,
          54676848,
          71547424,
          94156512,
          124493704,
          165154752,
          219382320,
          290860512,
          382795616,
          495131744,
          617828800,
          721720128,
          770444416,
          766268800,
          745850304,
          733191488,
          731150848,
          734141312,
          737060736,
          738073920,
          737737984,
          737144384,
          736858624,
          736877632,
          736992192,
          737061056,
          737064960,
          737042432,
          737027328
         ],
         "yaxis": "y"
        },
        {
         "line": {
          "color": "red",
          "dash": "dot"
         },
         "mode": "lines",
         "name": "Target 40-50",
         "type": "scatter",
         "x": [
          0,
          10,
          20,
          30,
          40,
          50,
          60,
          70,
          80,
          90,
          100,
          110,
          120,
          130,
          140,
          150,
          160,
          170,
          180,
          190,
          200,
          210,
          220,
          230,
          240,
          250,
          260,
          270,
          280,
          290,
          300,
          310,
          320,
          330,
          340,
          350,
          360,
          370,
          380,
          390,
          400,
          410,
          420,
          430,
          440,
          450,
          460,
          470,
          480,
          490,
          500,
          510,
          520
         ],
         "xaxis": "x2",
         "y": [
          976779.375,
          976779.375,
          976779.375,
          976779.375,
          976779.375,
          976779.375,
          976779.375,
          976779.375,
          976779.375,
          976779.375,
          976779.375,
          976779.375,
          976779.375,
          976779.375,
          976779.375,
          976779.375,
          976779.375,
          976779.375,
          976779.375,
          976779.375,
          976779.375,
          976779.375,
          976779.375,
          976779.375,
          976779.375,
          976779.375,
          976779.375,
          976779.375,
          976779.375,
          976779.375,
          976779.375,
          976779.375,
          976779.375,
          976779.375,
          976779.375,
          976779.375,
          976779.375,
          976779.375,
          976779.375,
          976779.375,
          976779.375,
          976779.375,
          976779.375,
          976779.375,
          976779.375,
          976779.375,
          976779.375,
          976779.375,
          976779.375,
          976779.375,
          976779.375,
          976779.375,
          976779.375
         ],
         "yaxis": "y2"
        },
        {
         "line": {
          "color": "green"
         },
         "mode": "lines",
         "name": "Estimate 40-50",
         "type": "scatter",
         "x": [
          0,
          10,
          20,
          30,
          40,
          50,
          60,
          70,
          80,
          90,
          100,
          110,
          120,
          130,
          140,
          150,
          160,
          170,
          180,
          190,
          200,
          210,
          220,
          230,
          240,
          250,
          260,
          270,
          280,
          290,
          300,
          310,
          320,
          330,
          340,
          350,
          360,
          370,
          380,
          390,
          400,
          410,
          420,
          430,
          440,
          450,
          460,
          470,
          480,
          490,
          500,
          510,
          520
         ],
         "xaxis": "x2",
         "y": [
          872380.75,
          958994.5,
          1003960.5,
          984014.625,
          966661.75,
          975252.125,
          980736.625,
          976016.625,
          975696.5,
          977566.9375,
          976717.0625,
          976543.625,
          976956,
          976731.375,
          976753.5,
          976814.25,
          976756.8125,
          976785,
          976779.625,
          976775,
          976781.1875,
          976776.6875,
          976779,
          976778.25,
          976778.375,
          976778.5625,
          976778.25,
          976778.375,
          976778.375,
          976778.375,
          976778.375,
          976778.375,
          976778.375,
          976778.375,
          976778.375,
          976778.375,
          976778.375,
          976778.375,
          976778.375,
          976778.375,
          976778.375,
          976778.375,
          976778.375,
          976778.375,
          976778.375,
          976778.375,
          976778.375,
          976778.375,
          976778.375,
          976778.375,
          976778.375,
          976778.375,
          976778.375
         ],
         "yaxis": "y2"
        },
        {
         "line": {
          "color": "blue"
         },
         "mode": "lines",
         "showlegend": false,
         "type": "scatter",
         "x": [
          0,
          10,
          20,
          30,
          40,
          50,
          60,
          70,
          80,
          90,
          100,
          110,
          120,
          130,
          140,
          150,
          160,
          170,
          180,
          190,
          200,
          210,
          220,
          230,
          240,
          250,
          260,
          270,
          280,
          290,
          300,
          310,
          320,
          330,
          340,
          350,
          360,
          370,
          380,
          390,
          400,
          410,
          420,
          430,
          440,
          450,
          460,
          470,
          480,
          490,
          500,
          510,
          520
         ],
         "xaxis": "x3",
         "y": [
          0.9989784349019597,
          0.998870678960935,
          0.9987494872138927,
          0.9986111580768557,
          0.9984513972171819,
          0.998265176447157,
          0.9980464447272205,
          0.9977877393601536,
          0.9974796971218287,
          0.9971104403126632,
          0.9966647784549101,
          0.9961231571177719,
          0.9954602565204836,
          0.9946431018597434,
          0.993628526786381,
          0.9923597230823683,
          0.9907615641367258,
          0.9887342158102651,
          0.9861444173486376,
          0.9828135273631806,
          0.9785011025728951,
          0.9728823825135037,
          0.9655173363547761,
          0.955808355400928,
          0.9429426586114157,
          0.9258148699580727,
          0.9029250012070025,
          0.8722491631738851,
          0.8310878926188063,
          0.7759192930404063,
          0.7023437426733212,
          0.6053626773295061,
          0.4806258299227553,
          0.3282090288649001,
          0.16173459977707794,
          0.020775638903756923,
          0.04533310316345801,
          0.0396676592453091,
          0.011963999717960857,
          0.005211385211631822,
          0.007980109988318995,
          0.003922671258023093,
          0.00003838094249006524,
          0.0014130612604996192,
          0.0009572658597522154,
          0.00015187391044145727,
          0.00023584307647741447,
          0.00021005316715716702,
          0.00005461903354355438,
          0.00003881511604764517,
          0.00004411203345012023,
          0.000013546214996493614,
          0.000006946776921278777
         ],
         "yaxis": "y3"
        },
        {
         "line": {
          "color": "green"
         },
         "mode": "lines",
         "showlegend": false,
         "type": "scatter",
         "x": [
          0,
          10,
          20,
          30,
          40,
          50,
          60,
          70,
          80,
          90,
          100,
          110,
          120,
          130,
          140,
          150,
          160,
          170,
          180,
          190,
          200,
          210,
          220,
          230,
          240,
          250,
          260,
          270,
          280,
          290,
          300,
          310,
          320,
          330,
          340,
          350,
          360,
          370,
          380,
          390,
          400,
          410,
          420,
          430,
          440,
          450,
          460,
          470,
          480,
          490,
          500,
          510,
          520
         ],
         "xaxis": "x4",
         "y": [
          0.10688045598833411,
          0.018207668440992624,
          0.02782729211496711,
          0.0074072509976984315,
          0.010358147662567097,
          0.001563556765313559,
          0.004051324281903475,
          0.000780882581596279,
          0.0011086177981593848,
          0.0008062849402404714,
          0.00006379383266564161,
          0.0002413544000148447,
          0.00018082384264102628,
          0.00004914108674745513,
          0.000026490117074800028,
          0.00003570407083994786,
          0.000023098870202905338,
          0.000005758721103217397,
          2.5594316014299544e-7,
          0.00000447900530250242,
          0.000001855587911036717,
          0.000002751388971537201,
          3.839147402144932e-7,
          0.0000011517442206434795,
          0.0000010237726405719818,
          8.318152704647351e-7,
          0.0000011517442206434795,
          0.0000010237726405719818,
          0.0000010237726405719818,
          0.0000010237726405719818,
          0.0000010237726405719818,
          0.0000010237726405719818,
          0.0000010237726405719818,
          0.0000010237726405719818,
          0.0000010237726405719818,
          0.0000010237726405719818,
          0.0000010237726405719818,
          0.0000010237726405719818,
          0.0000010237726405719818,
          0.0000010237726405719818,
          0.0000010237726405719818,
          0.0000010237726405719818,
          0.0000010237726405719818,
          0.0000010237726405719818,
          0.0000010237726405719818,
          0.0000010237726405719818,
          0.0000010237726405719818,
          0.0000010237726405719818,
          0.0000010237726405719818,
          0.0000010237726405719818,
          0.0000010237726405719818,
          0.0000010237726405719818,
          0.0000010237726405719818
         ],
         "yaxis": "y4"
        }
       ],
       "layout": {
        "annotations": [
         {
          "font": {
           "size": 16
          },
          "showarrow": false,
          "text": "Estimate vs target: income_aged_20_30",
          "x": 0.225,
          "xanchor": "center",
          "xref": "paper",
          "y": 1,
          "yanchor": "bottom",
          "yref": "paper"
         },
         {
          "font": {
           "size": 16
          },
          "showarrow": false,
          "text": "Estimate vs target: income_aged_40_50",
          "x": 0.775,
          "xanchor": "center",
          "xref": "paper",
          "y": 1,
          "yanchor": "bottom",
          "yref": "paper"
         },
         {
          "font": {
           "size": 16
          },
          "showarrow": false,
          "text": "Relative absolute error: income_aged_20_30",
          "x": 0.225,
          "xanchor": "center",
          "xref": "paper",
          "y": 0.44,
          "yanchor": "bottom",
          "yref": "paper"
         },
         {
          "font": {
           "size": 16
          },
          "showarrow": false,
          "text": "Relative absolute error: income_aged_40_50",
          "x": 0.775,
          "xanchor": "center",
          "xref": "paper",
          "y": 0.44,
          "yanchor": "bottom",
          "yref": "paper"
         }
        ],
        "height": 800,
        "legend": {
         "x": 1.05,
         "xanchor": "left",
         "y": 1,
         "yanchor": "top"
        },
        "margin": {
         "r": 200
        },
        "template": {
         "data": {
          "bar": [
           {
            "error_x": {
             "color": "#2a3f5f"
            },
            "error_y": {
             "color": "#2a3f5f"
            },
            "marker": {
             "line": {
              "color": "#E5ECF6",
              "width": 0.5
             },
             "pattern": {
              "fillmode": "overlay",
              "size": 10,
              "solidity": 0.2
             }
            },
            "type": "bar"
           }
          ],
          "barpolar": [
           {
            "marker": {
             "line": {
              "color": "#E5ECF6",
              "width": 0.5
             },
             "pattern": {
              "fillmode": "overlay",
              "size": 10,
              "solidity": 0.2
             }
            },
            "type": "barpolar"
           }
          ],
          "carpet": [
           {
            "aaxis": {
             "endlinecolor": "#2a3f5f",
             "gridcolor": "white",
             "linecolor": "white",
             "minorgridcolor": "white",
             "startlinecolor": "#2a3f5f"
            },
            "baxis": {
             "endlinecolor": "#2a3f5f",
             "gridcolor": "white",
             "linecolor": "white",
             "minorgridcolor": "white",
             "startlinecolor": "#2a3f5f"
            },
            "type": "carpet"
           }
          ],
          "choropleth": [
           {
            "colorbar": {
             "outlinewidth": 0,
             "ticks": ""
            },
            "type": "choropleth"
           }
          ],
          "contour": [
           {
            "colorbar": {
             "outlinewidth": 0,
             "ticks": ""
            },
            "colorscale": [
             [
              0,
              "#0d0887"
             ],
             [
              0.1111111111111111,
              "#46039f"
             ],
             [
              0.2222222222222222,
              "#7201a8"
             ],
             [
              0.3333333333333333,
              "#9c179e"
             ],
             [
              0.4444444444444444,
              "#bd3786"
             ],
             [
              0.5555555555555556,
              "#d8576b"
             ],
             [
              0.6666666666666666,
              "#ed7953"
             ],
             [
              0.7777777777777778,
              "#fb9f3a"
             ],
             [
              0.8888888888888888,
              "#fdca26"
             ],
             [
              1,
              "#f0f921"
             ]
            ],
            "type": "contour"
           }
          ],
          "contourcarpet": [
           {
            "colorbar": {
             "outlinewidth": 0,
             "ticks": ""
            },
            "type": "contourcarpet"
           }
          ],
          "heatmap": [
           {
            "colorbar": {
             "outlinewidth": 0,
             "ticks": ""
            },
            "colorscale": [
             [
              0,
              "#0d0887"
             ],
             [
              0.1111111111111111,
              "#46039f"
             ],
             [
              0.2222222222222222,
              "#7201a8"
             ],
             [
              0.3333333333333333,
              "#9c179e"
             ],
             [
              0.4444444444444444,
              "#bd3786"
             ],
             [
              0.5555555555555556,
              "#d8576b"
             ],
             [
              0.6666666666666666,
              "#ed7953"
             ],
             [
              0.7777777777777778,
              "#fb9f3a"
             ],
             [
              0.8888888888888888,
              "#fdca26"
             ],
             [
              1,
              "#f0f921"
             ]
            ],
            "type": "heatmap"
           }
          ],
          "heatmapgl": [
           {
            "colorbar": {
             "outlinewidth": 0,
             "ticks": ""
            },
            "colorscale": [
             [
              0,
              "#0d0887"
             ],
             [
              0.1111111111111111,
              "#46039f"
             ],
             [
              0.2222222222222222,
              "#7201a8"
             ],
             [
              0.3333333333333333,
              "#9c179e"
             ],
             [
              0.4444444444444444,
              "#bd3786"
             ],
             [
              0.5555555555555556,
              "#d8576b"
             ],
             [
              0.6666666666666666,
              "#ed7953"
             ],
             [
              0.7777777777777778,
              "#fb9f3a"
             ],
             [
              0.8888888888888888,
              "#fdca26"
             ],
             [
              1,
              "#f0f921"
             ]
            ],
            "type": "heatmapgl"
           }
          ],
          "histogram": [
           {
            "marker": {
             "pattern": {
              "fillmode": "overlay",
              "size": 10,
              "solidity": 0.2
             }
            },
            "type": "histogram"
           }
          ],
          "histogram2d": [
           {
            "colorbar": {
             "outlinewidth": 0,
             "ticks": ""
            },
            "colorscale": [
             [
              0,
              "#0d0887"
             ],
             [
              0.1111111111111111,
              "#46039f"
             ],
             [
              0.2222222222222222,
              "#7201a8"
             ],
             [
              0.3333333333333333,
              "#9c179e"
             ],
             [
              0.4444444444444444,
              "#bd3786"
             ],
             [
              0.5555555555555556,
              "#d8576b"
             ],
             [
              0.6666666666666666,
              "#ed7953"
             ],
             [
              0.7777777777777778,
              "#fb9f3a"
             ],
             [
              0.8888888888888888,
              "#fdca26"
             ],
             [
              1,
              "#f0f921"
             ]
            ],
            "type": "histogram2d"
           }
          ],
          "histogram2dcontour": [
           {
            "colorbar": {
             "outlinewidth": 0,
             "ticks": ""
            },
            "colorscale": [
             [
              0,
              "#0d0887"
             ],
             [
              0.1111111111111111,
              "#46039f"
             ],
             [
              0.2222222222222222,
              "#7201a8"
             ],
             [
              0.3333333333333333,
              "#9c179e"
             ],
             [
              0.4444444444444444,
              "#bd3786"
             ],
             [
              0.5555555555555556,
              "#d8576b"
             ],
             [
              0.6666666666666666,
              "#ed7953"
             ],
             [
              0.7777777777777778,
              "#fb9f3a"
             ],
             [
              0.8888888888888888,
              "#fdca26"
             ],
             [
              1,
              "#f0f921"
             ]
            ],
            "type": "histogram2dcontour"
           }
          ],
          "mesh3d": [
           {
            "colorbar": {
             "outlinewidth": 0,
             "ticks": ""
            },
            "type": "mesh3d"
           }
          ],
          "parcoords": [
           {
            "line": {
             "colorbar": {
              "outlinewidth": 0,
              "ticks": ""
             }
            },
            "type": "parcoords"
           }
          ],
          "pie": [
           {
            "automargin": true,
            "type": "pie"
           }
          ],
          "scatter": [
           {
            "fillpattern": {
             "fillmode": "overlay",
             "size": 10,
             "solidity": 0.2
            },
            "type": "scatter"
           }
          ],
          "scatter3d": [
           {
            "line": {
             "colorbar": {
              "outlinewidth": 0,
              "ticks": ""
             }
            },
            "marker": {
             "colorbar": {
              "outlinewidth": 0,
              "ticks": ""
             }
            },
            "type": "scatter3d"
           }
          ],
          "scattercarpet": [
           {
            "marker": {
             "colorbar": {
              "outlinewidth": 0,
              "ticks": ""
             }
            },
            "type": "scattercarpet"
           }
          ],
          "scattergeo": [
           {
            "marker": {
             "colorbar": {
              "outlinewidth": 0,
              "ticks": ""
             }
            },
            "type": "scattergeo"
           }
          ],
          "scattergl": [
           {
            "marker": {
             "colorbar": {
              "outlinewidth": 0,
              "ticks": ""
             }
            },
            "type": "scattergl"
           }
          ],
          "scattermapbox": [
           {
            "marker": {
             "colorbar": {
              "outlinewidth": 0,
              "ticks": ""
             }
            },
            "type": "scattermapbox"
           }
          ],
          "scatterpolar": [
           {
            "marker": {
             "colorbar": {
              "outlinewidth": 0,
              "ticks": ""
             }
            },
            "type": "scatterpolar"
           }
          ],
          "scatterpolargl": [
           {
            "marker": {
             "colorbar": {
              "outlinewidth": 0,
              "ticks": ""
             }
            },
            "type": "scatterpolargl"
           }
          ],
          "scatterternary": [
           {
            "marker": {
             "colorbar": {
              "outlinewidth": 0,
              "ticks": ""
             }
            },
            "type": "scatterternary"
           }
          ],
          "surface": [
           {
            "colorbar": {
             "outlinewidth": 0,
             "ticks": ""
            },
            "colorscale": [
             [
              0,
              "#0d0887"
             ],
             [
              0.1111111111111111,
              "#46039f"
             ],
             [
              0.2222222222222222,
              "#7201a8"
             ],
             [
              0.3333333333333333,
              "#9c179e"
             ],
             [
              0.4444444444444444,
              "#bd3786"
             ],
             [
              0.5555555555555556,
              "#d8576b"
             ],
             [
              0.6666666666666666,
              "#ed7953"
             ],
             [
              0.7777777777777778,
              "#fb9f3a"
             ],
             [
              0.8888888888888888,
              "#fdca26"
             ],
             [
              1,
              "#f0f921"
             ]
            ],
            "type": "surface"
           }
          ],
          "table": [
           {
            "cells": {
             "fill": {
              "color": "#EBF0F8"
             },
             "line": {
              "color": "white"
             }
            },
            "header": {
             "fill": {
              "color": "#C8D4E3"
             },
             "line": {
              "color": "white"
             }
            },
            "type": "table"
           }
          ]
         },
         "layout": {
          "annotationdefaults": {
           "arrowcolor": "#2a3f5f",
           "arrowhead": 0,
           "arrowwidth": 1
          },
          "autotypenumbers": "strict",
          "coloraxis": {
           "colorbar": {
            "outlinewidth": 0,
            "ticks": ""
           }
          },
          "colorscale": {
           "diverging": [
            [
             0,
             "#8e0152"
            ],
            [
             0.1,
             "#c51b7d"
            ],
            [
             0.2,
             "#de77ae"
            ],
            [
             0.3,
             "#f1b6da"
            ],
            [
             0.4,
             "#fde0ef"
            ],
            [
             0.5,
             "#f7f7f7"
            ],
            [
             0.6,
             "#e6f5d0"
            ],
            [
             0.7,
             "#b8e186"
            ],
            [
             0.8,
             "#7fbc41"
            ],
            [
             0.9,
             "#4d9221"
            ],
            [
             1,
             "#276419"
            ]
           ],
           "sequential": [
            [
             0,
             "#0d0887"
            ],
            [
             0.1111111111111111,
             "#46039f"
            ],
            [
             0.2222222222222222,
             "#7201a8"
            ],
            [
             0.3333333333333333,
             "#9c179e"
            ],
            [
             0.4444444444444444,
             "#bd3786"
            ],
            [
             0.5555555555555556,
             "#d8576b"
            ],
            [
             0.6666666666666666,
             "#ed7953"
            ],
            [
             0.7777777777777778,
             "#fb9f3a"
            ],
            [
             0.8888888888888888,
             "#fdca26"
            ],
            [
             1,
             "#f0f921"
            ]
           ],
           "sequentialminus": [
            [
             0,
             "#0d0887"
            ],
            [
             0.1111111111111111,
             "#46039f"
            ],
            [
             0.2222222222222222,
             "#7201a8"
            ],
            [
             0.3333333333333333,
             "#9c179e"
            ],
            [
             0.4444444444444444,
             "#bd3786"
            ],
            [
             0.5555555555555556,
             "#d8576b"
            ],
            [
             0.6666666666666666,
             "#ed7953"
            ],
            [
             0.7777777777777778,
             "#fb9f3a"
            ],
            [
             0.8888888888888888,
             "#fdca26"
            ],
            [
             1,
             "#f0f921"
            ]
           ]
          },
          "colorway": [
           "#636efa",
           "#EF553B",
           "#00cc96",
           "#ab63fa",
           "#FFA15A",
           "#19d3f3",
           "#FF6692",
           "#B6E880",
           "#FF97FF",
           "#FECB52"
          ],
          "font": {
           "color": "#2a3f5f"
          },
          "geo": {
           "bgcolor": "white",
           "lakecolor": "white",
           "landcolor": "#E5ECF6",
           "showlakes": true,
           "showland": true,
           "subunitcolor": "white"
          },
          "hoverlabel": {
           "align": "left"
          },
          "hovermode": "closest",
          "mapbox": {
           "style": "light"
          },
          "paper_bgcolor": "white",
          "plot_bgcolor": "#E5ECF6",
          "polar": {
           "angularaxis": {
            "gridcolor": "white",
            "linecolor": "white",
            "ticks": ""
           },
           "bgcolor": "#E5ECF6",
           "radialaxis": {
            "gridcolor": "white",
            "linecolor": "white",
            "ticks": ""
           }
          },
          "scene": {
           "xaxis": {
            "backgroundcolor": "#E5ECF6",
            "gridcolor": "white",
            "gridwidth": 2,
            "linecolor": "white",
            "showbackground": true,
            "ticks": "",
            "zerolinecolor": "white"
           },
           "yaxis": {
            "backgroundcolor": "#E5ECF6",
            "gridcolor": "white",
            "gridwidth": 2,
            "linecolor": "white",
            "showbackground": true,
            "ticks": "",
            "zerolinecolor": "white"
           },
           "zaxis": {
            "backgroundcolor": "#E5ECF6",
            "gridcolor": "white",
            "gridwidth": 2,
            "linecolor": "white",
            "showbackground": true,
            "ticks": "",
            "zerolinecolor": "white"
           }
          },
          "shapedefaults": {
           "line": {
            "color": "#2a3f5f"
           }
          },
          "ternary": {
           "aaxis": {
            "gridcolor": "white",
            "linecolor": "white",
            "ticks": ""
           },
           "baxis": {
            "gridcolor": "white",
            "linecolor": "white",
            "ticks": ""
           },
           "bgcolor": "#E5ECF6",
           "caxis": {
            "gridcolor": "white",
            "linecolor": "white",
            "ticks": ""
           }
          },
          "title": {
           "x": 0.05
          },
          "xaxis": {
           "automargin": true,
           "gridcolor": "white",
           "linecolor": "white",
           "ticks": "",
           "title": {
            "standoff": 15
           },
           "zerolinecolor": "white",
           "zerolinewidth": 2
          },
          "yaxis": {
           "automargin": true,
           "gridcolor": "white",
           "linecolor": "white",
           "ticks": "",
           "title": {
            "standoff": 15
           },
           "zerolinecolor": "white",
           "zerolinewidth": 2
          }
         }
        },
        "title": {
         "text": "Calibration performance over epochs"
        },
        "width": 1050,
        "xaxis": {
         "anchor": "y",
         "domain": [
          0,
          0.45
         ],
         "matches": "x3",
         "showticklabels": false
        },
        "xaxis2": {
         "anchor": "y2",
         "domain": [
          0.55,
          1
         ],
         "matches": "x4",
         "showticklabels": false
        },
        "xaxis3": {
         "anchor": "y3",
         "domain": [
          0,
          0.45
         ],
         "title": {
          "text": "Epoch"
         }
        },
        "xaxis4": {
         "anchor": "y4",
         "domain": [
          0.55,
          1
         ],
         "title": {
          "text": "Epoch"
         }
        },
        "yaxis": {
         "anchor": "x",
         "domain": [
          0.56,
          1
         ],
         "title": {
          "text": "Income ($)"
         }
        },
        "yaxis2": {
         "anchor": "x2",
         "domain": [
          0.56,
          1
         ],
         "title": {
          "text": "Income ($)"
         }
        },
        "yaxis3": {
         "anchor": "x3",
         "domain": [
          0,
          0.44
         ],
         "title": {
          "text": "Relative absolute error"
         }
        },
        "yaxis4": {
         "anchor": "x4",
         "domain": [
          0,
          0.44
         ],
         "title": {
          "text": "Relative absolute error"
         }
        }
       }
      }
     },
     "metadata": {},
     "output_type": "display_data"
    }
   ],
   "source": [
    "g20 = performance_df.query(\"target_name == 'income_aged_20_30'\")\n",
    "g40 = performance_df.query(\"target_name == 'income_aged_40_50'\")\n",
    "\n",
    "fig = make_subplots(\n",
    "    rows=2, cols=2,\n",
    "    subplot_titles=[\n",
    "        \"Estimate vs target: income_aged_20_30\",\n",
    "        \"Estimate vs target: income_aged_40_50\",\n",
    "        \"Relative absolute error: income_aged_20_30\",\n",
    "        \"Relative absolute error: income_aged_40_50\",\n",
    "    ],\n",
    "    shared_xaxes=True,\n",
    "    vertical_spacing=0.12,\n",
    "    horizontal_spacing=0.10,\n",
    ")\n",
    "\n",
    "fig.add_trace(\n",
    "    go.Scatter(\n",
    "        x=g20[\"epoch\"], y=g20[\"target\"],\n",
    "        mode=\"lines\", name=\"Target 20-30\",\n",
    "        line=dict(dash=\"dot\", color=\"red\"),\n",
    "    ),\n",
    "    row=1, col=1,\n",
    ")\n",
    "fig.add_trace(\n",
    "    go.Scatter(\n",
    "        x=g20[\"epoch\"], y=g20[\"estimate\"],\n",
    "        mode=\"lines\", name=\"Estimate 20-30\",\n",
    "        line=dict(color=\"blue\"),\n",
    "    ),\n",
    "    row=1, col=1,\n",
    ")\n",
    "\n",
    "fig.add_trace(\n",
    "    go.Scatter(\n",
    "        x=g40[\"epoch\"], y=g40[\"target\"],\n",
    "        mode=\"lines\", name=\"Target 40-50\",\n",
    "        line=dict(dash=\"dot\", color=\"red\"),\n",
    "    ),\n",
    "    row=1, col=2,\n",
    ")\n",
    "fig.add_trace(\n",
    "    go.Scatter(\n",
    "        x=g40[\"epoch\"], y=g40[\"estimate\"],\n",
    "        mode=\"lines\", name=\"Estimate 40-50\",\n",
    "        line=dict(color=\"green\"),\n",
    "    ),\n",
    "    row=1, col=2,\n",
    ")\n",
    "\n",
    "fig.add_trace(\n",
    "    go.Scatter(\n",
    "        x=g20[\"epoch\"], y=g20[\"rel_abs_error\"],\n",
    "        mode=\"lines\", showlegend=False,\n",
    "        line=dict(color=\"blue\"),\n",
    "    ),\n",
    "    row=2, col=1,\n",
    ")\n",
    "\n",
    "fig.add_trace(\n",
    "    go.Scatter(\n",
    "        x=g40[\"epoch\"], y=g40[\"rel_abs_error\"],\n",
    "        mode=\"lines\", showlegend=False,\n",
    "        line=dict(color=\"green\"),\n",
    "    ),\n",
    "    row=2, col=2,\n",
    ")\n",
    "\n",
    "fig.update_layout(\n",
    "    height=800, width=1050,\n",
    "    title_text=\"Calibration performance over epochs\",\n",
    "    legend=dict(x=1.05, y=1, xanchor=\"left\", yanchor=\"top\"),\n",
    "    margin=dict(r=200),\n",
    ")\n",
    "fig.update_xaxes(title_text=\"Epoch\", row=2, col=1)\n",
    "fig.update_xaxes(title_text=\"Epoch\", row=2, col=2)\n",
    "fig.update_yaxes(title_text=\"Income ($)\", row=1, col=1)\n",
    "fig.update_yaxes(title_text=\"Income ($)\", row=1, col=2)\n",
    "fig.update_yaxes(title_text=\"Relative absolute error\", row=2, col=1)\n",
    "fig.update_yaxes(title_text=\"Relative absolute error\", row=2, col=2)\n",
    "\n",
    "fig.show()"
   ]
  },
  {
   "cell_type": "code",
   "execution_count": 7,
   "id": "fefaf031",
   "metadata": {},
   "outputs": [
    {
     "data": {
      "text/html": [
       "<div>\n",
       "<style scoped>\n",
       "    .dataframe tbody tr th:only-of-type {\n",
       "        vertical-align: middle;\n",
       "    }\n",
       "\n",
       "    .dataframe tbody tr th {\n",
       "        vertical-align: top;\n",
       "    }\n",
       "\n",
       "    .dataframe thead th {\n",
       "        text-align: right;\n",
       "    }\n",
       "</style>\n",
       "<table border=\"1\" class=\"dataframe\">\n",
       "  <thead>\n",
       "    <tr style=\"text-align: right;\">\n",
       "      <th></th>\n",
       "      <th>Metric</th>\n",
       "      <th>Official target</th>\n",
       "      <th>Final estimate</th>\n",
       "      <th>Relative error</th>\n",
       "    </tr>\n",
       "  </thead>\n",
       "  <tbody>\n",
       "    <tr>\n",
       "      <th>0</th>\n",
       "      <td>income_aged_20_30</td>\n",
       "      <td>7.370324e+08</td>\n",
       "      <td>7.370273e+08</td>\n",
       "      <td>-0.000007</td>\n",
       "    </tr>\n",
       "    <tr>\n",
       "      <th>1</th>\n",
       "      <td>income_aged_40_50</td>\n",
       "      <td>9.767794e+05</td>\n",
       "      <td>9.767784e+05</td>\n",
       "      <td>-0.000001</td>\n",
       "    </tr>\n",
       "    <tr>\n",
       "      <th>2</th>\n",
       "      <td>income_aged_71</td>\n",
       "      <td>4.364799e+04</td>\n",
       "      <td>4.364699e+04</td>\n",
       "      <td>-0.000023</td>\n",
       "    </tr>\n",
       "  </tbody>\n",
       "</table>\n",
       "</div>"
      ],
      "text/plain": [
       "              Metric  Official target  Final estimate  Relative error\n",
       "0  income_aged_20_30     7.370324e+08    7.370273e+08       -0.000007\n",
       "1  income_aged_40_50     9.767794e+05    9.767784e+05       -0.000001\n",
       "2     income_aged_71     4.364799e+04    4.364699e+04       -0.000023"
      ]
     },
     "execution_count": 7,
     "metadata": {},
     "output_type": "execute_result"
    }
   ],
   "source": [
    "summary = calibrator.summary()\n",
    "summary"
   ]
  }
 ],
 "metadata": {
  "kernelspec": {
   "display_name": "pe",
   "language": "python",
   "name": "python3"
  },
  "language_info": {
   "codemirror_mode": {
    "name": "ipython",
    "version": 3
   },
   "file_extension": ".py",
   "mimetype": "text/x-python",
   "name": "python",
   "nbconvert_exporter": "python",
   "pygments_lexer": "ipython3",
   "version": "3.11.11"
  }
 },
 "nbformat": 4,
 "nbformat_minor": 5
}
