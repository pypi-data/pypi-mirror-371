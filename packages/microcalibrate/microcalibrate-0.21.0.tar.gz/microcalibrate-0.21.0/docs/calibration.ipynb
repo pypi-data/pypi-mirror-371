{
 "cells": [
  {
   "cell_type": "markdown",
   "id": "b375e2dd",
   "metadata": {},
   "source": [
    "## Calibration\n",
    "\n",
    "The `Calibration` class provides a way to adjust weights of observations in a dataset to match specified target values. This is commonly used in survey research and policy modeling for rebalancing datasets to better represent desired population characteristics. \n",
    "\n",
    "The calibration process uses an optimization algorithm to find weights that minimize the loss between targets and totals of aggregating the targeted variables across all data records.\n",
    "\n",
    "## Basic usage\n",
    "\n",
    "### Parameters\n",
    "\n",
    "`__init__(data, weights, targets)`\n",
    "\n",
    "- `weights` (np.ndarray): Initial weights for each observation in the dataset. Typically starts as an array of ones for equal weighting.\n",
    "- `targets` (np.ndarray): Target values that the calibration process should achieve. These correspond to the desired weighted sums.\n",
    "- `estimate_matrix` (pd.DataFrame): matrix representing the contribution of each record to a given variable total.\n",
    "- `estimate_function` (Callable): function that produces the estimate values for each targeted variable based on the weights and the contribution of each record to said targeted variable. The standard way of doing it if not provided is `estimate_matrix @ weights`.\n",
    "\n",
    "Calibration can be easily done by initializing the `Calibration` class, and passing in the parameters above. Then the `calibrate()` method performs the actual calibration using the reweight function. This method:\n",
    "- Adjusts the weights to better match the target values\n",
    "- Updates `self.weights` with the calibrated results \n",
    "- Produces a calibration log with performance metrics\n",
    "\n",
    "This module also supports regularization in case a sparse matrix that optimizes to reduce the data size simultaneously to calibration is desired. To use this functionality pass `regularize=True` to the `calibrate()` call. The method will update `self.sparse_weights` with the sparse calibrated results, which can then be used to drop records with a weight close to 0.\n",
    "\n",
    "## Example\n",
    "\n",
    "Below is a complete example showing how to calibrate a dataset to match income targets for specific age groups:"
   ]
  },
  {
   "cell_type": "code",
   "execution_count": 5,
   "id": "vxj460xngvg",
   "metadata": {},
   "outputs": [
    {
     "name": "stdout",
     "output_type": "stream",
     "text": [
      "Original weights: [1. 1. 1. 1. 1. 1. 1. 1. 1. 1. 1. 1. 1. 1. 1. 1. 1. 1. 1. 1. 1. 1. 1. 1.\n",
      " 1. 1. 1. 1. 1. 1. 1. 1. 1. 1. 1. 1. 1. 1. 1. 1. 1. 1. 1. 1. 1. 1. 1. 1.\n",
      " 1. 1. 1. 1. 1. 1. 1. 1. 1. 1. 1. 1. 1. 1. 1. 1. 1. 1. 1. 1. 1. 1. 1. 1.\n",
      " 1. 1. 1. 1. 1. 1. 1. 1. 1. 1. 1. 1. 1. 1. 1. 1. 1. 1. 1. 1. 1. 1. 1. 1.\n",
      " 1. 1. 1. 1. 1. 1. 1. 1. 1. 1. 1. 1. 1. 1. 1. 1. 1. 1. 1. 1. 1. 1. 1. 1.\n",
      " 1.]\n",
      "Original targets: [7.37032429e+08 9.76779350e+05 4.36479914e+04]\n"
     ]
    }
   ],
   "source": [
    "from microcalibrate.calibration import Calibration\n",
    "import logging\n",
    "import numpy as np\n",
    "import pandas as pd\n",
    "import plotly.graph_objs as go\n",
    "from plotly.subplots import make_subplots\n",
    "\n",
    "calibration_logger = logging.getLogger(\"microcalibrate.calibration\")\n",
    "calibration_logger.setLevel(logging.WARNING)\n",
    "\n",
    "# Create a sample dataset with age and income data\n",
    "random_generator = np.random.default_rng(0)\n",
    "data = pd.DataFrame({\n",
    "    \"age\": np.append(random_generator.integers(18, 70, size=120), 71), \n",
    "    \"income\": random_generator.normal(40000, 10000, size=121),\n",
    "})\n",
    "\n",
    "# Set initial weights (all one in this example)\n",
    "weights = np.ones(len(data))\n",
    "\n",
    "# Calculate target values: total income for age groups 20-30 and 40-50 (as an example) or employ existing targets\n",
    "targets_matrix = pd.DataFrame({\n",
    "    \"income_aged_20_30\": ((data[\"age\"] >= 20) & (data[\"age\"] <= 30)).astype(float) * data[\"income\"],\n",
    "    \"income_aged_40_50\": ((data[\"age\"] >= 40) & (data[\"age\"] <= 50)).astype(float) * data[\"income\"],\n",
    "    \"income_aged_71\" : (data[\"age\"] == 71).astype(float) * data[\"income\"],\n",
    "})\n",
    "\n",
    "# 15% higher than the sum of data with the original weights\n",
    "targets = np.array([\n",
    "    (targets_matrix[\"income_aged_20_30\"] * weights * 1000).sum(), \n",
    "    (targets_matrix[\"income_aged_40_50\"] * weights * 1.15).sum(), \n",
    "    (targets_matrix[\"income_aged_71\"] * weights * 1.15).sum()\n",
    "])\n",
    "\n",
    "print(f\"Original weights: {weights}\")\n",
    "print(f\"Original targets: {targets}\")"
   ]
  },
  {
   "cell_type": "code",
   "execution_count": 6,
   "id": "xfw94bs21yl",
   "metadata": {},
   "outputs": [
    {
     "name": "stderr",
     "output_type": "stream",
     "text": [
      "Target income_aged_20_30 (7.37e+08) differs from initial estimate (7.37e+05) by 3.00 orders of magnitude.\n",
      "Target income_aged_71 is supported by only 0.83% of records in the loss matrix. This may make calibration unstable or ineffective.\n",
      "Reweighting progress: 100%|██████████| 528/528 [00:00<00:00, 2153.20epoch/s, loss=1.61e-11, weights_mean=150, weights_std=357, weights_min=1]"
     ]
    },
    {
     "name": "stdout",
     "output_type": "stream",
     "text": [
      "Original dataset size: 121\n",
      "Calibrated dataset size: 121\n",
      "Number of calibrated weights: 121\n"
     ]
    },
    {
     "name": "stderr",
     "output_type": "stream",
     "text": [
      "\n"
     ]
    }
   ],
   "source": [
    "# Initialize the Calibration object\n",
    "calibrator = Calibration(\n",
    "    estimate_matrix=targets_matrix,\n",
    "    weights=weights, \n",
    "    targets=targets,\n",
    "    noise_level=0.05,\n",
    "    epochs=528,\n",
    "    learning_rate=0.01,\n",
    "    dropout_rate=0,\n",
    ")\n",
    "\n",
    "# Perform the calibration\n",
    "performance_df = calibrator.calibrate()\n",
    "\n",
    "print(f\"Original dataset size: {len(targets_matrix)}\")\n",
    "print(f\"Calibrated dataset size: {len(calibrator.estimate_matrix)}\")\n",
    "print(f\"Number of calibrated weights: {len(calibrator.weights)}\")"
   ]
  },
  {
   "cell_type": "markdown",
   "id": "t1pbyy86uic",
   "metadata": {},
   "source": [
    "## Pre-calibration target assessment\n",
    "\n",
    "Before running the calibration, it's important to understand whether your targets are achievable and well-posed. The Calibration class provides a key method for this:\n",
    "\n",
    "**`assess_analytical_solution()`** - Analyzes the mathematical difficulty of achieving your target combination\n",
    "\n",
    "Additionally, you should manually check for:\n",
    "- Order of magnitude differences between targets\n",
    "- Highly correlated targets\n",
    "- Redundant or conflicting constraints\n",
    "\n",
    "### Analytical solution assessment\n",
    "\n",
    "The analytical solution assessment examines the optimization difficulty by using the Moore-Penrose inverse for a least squares solution. It shows:\n",
    "- How the loss increases as each target is added\n",
    "- Which targets contribute most to the optimization difficulty\n",
    "- Targets with large delta_loss values that complicate calibration\n",
    "\n",
    "This is particularly useful when you have many correlated targets or when targets overlap (e.g., total income includes all regional incomes)."
   ]
  },
  {
   "cell_type": "code",
   "execution_count": 7,
   "id": "sxds7gqd37o",
   "metadata": {},
   "outputs": [
    {
     "name": "stdout",
     "output_type": "stream",
     "text": [
      "Assessing analytical solution feasibility...\n",
      "\n",
      "============================================================\n",
      "ANALYTICAL SOLUTION ASSESSMENT\n",
      "============================================================\n",
      "\n",
      "This shows how the loss increases as each target is added:\n",
      "     target_added         loss    delta_loss\n",
      "income_aged_20_30 0.000000e+00           NaN\n",
      "income_aged_40_50 6.776264e-21  6.776264e-21\n",
      "   income_aged_71 4.535156e-21 -2.241108e-21\n",
      "\n",
      "Targets with large delta_loss values complicate the optimization problem.\n"
     ]
    }
   ],
   "source": [
    "# Assess the analytical solution before calibration\n",
    "print(\"Assessing analytical solution feasibility...\")\n",
    "analytical_assessment = calibrator.assess_analytical_solution()\n",
    "\n",
    "# Display the assessment results\n",
    "print(\"\\n\" + \"=\"*60)\n",
    "print(\"ANALYTICAL SOLUTION ASSESSMENT\")\n",
    "print(\"=\"*60)\n",
    "print(\"\\nThis shows how the loss increases as each target is added:\")\n",
    "print(analytical_assessment.to_string(index=False))\n",
    "print(\"\\nTargets with large delta_loss values complicate the optimization problem.\")"
   ]
  },
  {
   "cell_type": "markdown",
   "id": "jfzf3z2w4mi",
   "metadata": {},
   "source": [
    "### Understanding the assessment\n",
    "\n",
    "The assessment provides several key insights:\n",
    "\n",
    "1. **Condition number**: Values above 1e10 suggest numerical instability. High condition numbers mean small changes in targets can lead to large changes in weights.\n",
    "\n",
    "2. **Rank analysis**: If the rank is less than the number of targets, some targets are redundant or conflicting.\n",
    "\n",
    "3. **Recommendations**: The assessment provides specific guidance based on the analysis.\n",
    "\n",
    "### Target tolerance checking\n",
    "\n",
    "Another important pre-calibration check is to ensure your targets are on similar scales. Targets that differ by many orders of magnitude can cause convergence issues."
   ]
  },
  {
   "cell_type": "code",
   "execution_count": 8,
   "id": "l46es1rx02p",
   "metadata": {},
   "outputs": [
    {
     "name": "stdout",
     "output_type": "stream",
     "text": [
      "Checking target scales...\n",
      "\n",
      "Target scale analysis:\n",
      "  income_aged_20_30: 7.37e+08 (order difference from median: 2.9)\n",
      "  income_aged_40_50: 9.77e+05 (order difference from median: 0.0)\n",
      "  income_aged_71: 4.36e+04 (order difference from median: -1.3)\n",
      "\n",
      "✓ All targets are within reasonable scale differences\n"
     ]
    }
   ],
   "source": [
    "# Check for order of magnitude differences in targets\n",
    "print(\"Checking target scales...\")\n",
    "\n",
    "# Manually check for large differences in target scales\n",
    "target_values = targets\n",
    "target_names = [\"income_aged_20_30\", \"income_aged_40_50\", \"income_aged_71\"]\n",
    "\n",
    "# Calculate order of magnitude for each target\n",
    "orders_of_magnitude = np.log10(np.abs(target_values) + 1e-10)\n",
    "median_order = np.median(orders_of_magnitude)\n",
    "\n",
    "print(\"\\nTarget scale analysis:\")\n",
    "for i, name in enumerate(target_names):\n",
    "    order_diff = orders_of_magnitude[i] - median_order\n",
    "    print(f\"  {name}: {target_values[i]:.2e} (order difference from median: {order_diff:.1f})\")\n",
    "    \n",
    "# Identify targets with extreme scale differences\n",
    "large_scale_diff = np.abs(orders_of_magnitude - median_order) > 3\n",
    "if np.any(large_scale_diff):\n",
    "    print(\"\\n⚠️ WARNING: The following targets differ by more than 3 orders of magnitude from the median:\")\n",
    "    for i in np.where(large_scale_diff)[0]:\n",
    "        print(f\"  - {target_names[i]}: {target_values[i]:.2e}\")\n",
    "    print(\"\\nConsider rescaling these targets for better numerical stability.\")\n",
    "else:\n",
    "    print(\"\\n✓ All targets are within reasonable scale differences\")"
   ]
  },
  {
   "cell_type": "markdown",
   "id": "5l3q4s17a2r",
   "metadata": {},
   "source": [
    "### Interpreting tolerance warnings\n",
    "\n",
    "The tolerance check identifies targets that:\n",
    "- Differ by more than 3 orders of magnitude from the median target\n",
    "- May cause numerical instability during optimization\n",
    "- Should potentially be rescaled or reviewed\n",
    "\n",
    "In our example, we have one target that is much larger than the others (income_aged_20_30), which the system warns about. This is expected since we artificially multiplied it by 1000 in our setup."
   ]
  },
  {
   "cell_type": "markdown",
   "id": "gzefuat6c78",
   "metadata": {},
   "source": [
    "### Excluded targets\n",
    "\n",
    "If the pre-calibration assessment identifies problematic targets, you can exclude them from calibration:"
   ]
  },
  {
   "cell_type": "code",
   "execution_count": 16,
   "id": "ytre6ko9ru",
   "metadata": {},
   "outputs": [
    {
     "name": "stdout",
     "output_type": "stream",
     "text": [
      "Calibration setup with excluded targets:\n",
      "Original targets: ['income_aged_20_30' 'income_aged_40_50' 'income_aged_71']\n",
      "Excluded targets: ['income_aged_71']\n",
      "Active targets for calibration: ['income_aged_20_30' 'income_aged_40_50']\n",
      "Number of active targets: 2\n"
     ]
    }
   ],
   "source": [
    "# Example: Excluding problematic targets\n",
    "# If you identify targets that cause issues, you can exclude them:\n",
    "\n",
    "# Create a calibrator with excluded targets\n",
    "calibrator_with_exclusions = Calibration(\n",
    "    estimate_matrix=targets_matrix,\n",
    "    weights=weights.copy(), \n",
    "    targets=targets,\n",
    "    excluded_targets=[\"income_aged_71\"],  # Exclude the smallest target\n",
    "    noise_level=0.05,\n",
    "    epochs=100,\n",
    "    learning_rate=0.01,\n",
    ")\n",
    "\n",
    "print(\"Calibration setup with excluded targets:\")\n",
    "print(f\"Original targets: {calibrator_with_exclusions.original_target_names}\")\n",
    "print(f\"Excluded targets: {calibrator_with_exclusions.excluded_targets}\")\n",
    "print(f\"Active targets for calibration: {calibrator_with_exclusions.target_names}\")\n",
    "print(f\"Number of active targets: {len(calibrator_with_exclusions.targets)}\")"
   ]
  },
  {
   "cell_type": "markdown",
   "id": "wl7a94tjmnj",
   "metadata": {},
   "source": [
    "## Best practices for pre-calibration assessment\n",
    "\n",
    "1. **Always run analytical assessment first** - This helps identify fundamental issues with your target specification before spending time on calibration.\n",
    "\n",
    "2. **Check target scales** - Targets that differ by many orders of magnitude should be rescaled or normalized to improve convergence.\n",
    "\n",
    "3. **Look for redundant targets** - If targets are highly correlated or mathematically dependent, consider removing redundant ones.\n",
    "\n",
    "4. **Consider the degrees of freedom** - Having more targets than observations makes exact calibration impossible. The system will find a best-fit solution.\n",
    "\n",
    "5. **Use exclusions strategically** - Temporarily exclude problematic targets to get initial calibration working, then gradually add them back.\n",
    "\n",
    "6. **Monitor condition numbers** - High condition numbers (>1e10) indicate numerical instability. Consider reformulating your targets or adding regularization.\n",
    "\n",
    "Now let's proceed with the actual calibration:"
   ]
  },
  {
   "cell_type": "code",
   "execution_count": 11,
   "id": "9djvjpfrhxb",
   "metadata": {},
   "outputs": [
    {
     "name": "stdout",
     "output_type": "stream",
     "text": [
      "Target totals: [7.37032429e+08 9.76779350e+05 4.36479914e+04]\n",
      "Final calibrated totals: [7.37025243e+08 9.76778358e+05 4.36469951e+04]\n",
      "Difference: [-7.18606246e+03 -9.91859882e-01 -9.96308503e-01]\n",
      "Relative error: [-0.000975   -0.00010154 -0.0022826 ]\n"
     ]
    }
   ],
   "source": [
    "# Calculate final weighted totals\n",
    "final_totals = targets_matrix.mul(calibrator.weights, axis=0).sum().values\n",
    "\n",
    "print(f\"Target totals: {targets}\")\n",
    "print(f\"Final calibrated totals: {final_totals}\")\n",
    "print(f\"Difference: {final_totals - targets}\")\n",
    "print(f\"Relative error: {(final_totals - targets) / targets * 100}\")"
   ]
  },
  {
   "cell_type": "code",
   "execution_count": 12,
   "id": "96cc818b",
   "metadata": {},
   "outputs": [],
   "source": [
    "np.testing.assert_allclose(\n",
    "        final_totals,\n",
    "        targets,\n",
    "        rtol=0.01,  # relative tolerance\n",
    "        err_msg=\"Calibrated totals do not match target values\",\n",
    "    )"
   ]
  },
  {
   "cell_type": "code",
   "execution_count": 13,
   "id": "923d79dd",
   "metadata": {},
   "outputs": [
    {
     "data": {
      "text/html": [
       "<div>\n",
       "<style scoped>\n",
       "    .dataframe tbody tr th:only-of-type {\n",
       "        vertical-align: middle;\n",
       "    }\n",
       "\n",
       "    .dataframe tbody tr th {\n",
       "        vertical-align: top;\n",
       "    }\n",
       "\n",
       "    .dataframe thead th {\n",
       "        text-align: right;\n",
       "    }\n",
       "</style>\n",
       "<table border=\"1\" class=\"dataframe\">\n",
       "  <thead>\n",
       "    <tr style=\"text-align: right;\">\n",
       "      <th></th>\n",
       "      <th>epoch</th>\n",
       "      <th>loss</th>\n",
       "      <th>target_name</th>\n",
       "      <th>target</th>\n",
       "      <th>estimate</th>\n",
       "      <th>error</th>\n",
       "      <th>abs_error</th>\n",
       "      <th>rel_abs_error</th>\n",
       "    </tr>\n",
       "  </thead>\n",
       "  <tbody>\n",
       "    <tr>\n",
       "      <th>0</th>\n",
       "      <td>0</td>\n",
       "      <td>0.339299</td>\n",
       "      <td>income_aged_20_30</td>\n",
       "      <td>7.370324e+08</td>\n",
       "      <td>7.595331e+05</td>\n",
       "      <td>-7.362729e+08</td>\n",
       "      <td>7.362729e+08</td>\n",
       "      <td>0.998969</td>\n",
       "    </tr>\n",
       "    <tr>\n",
       "      <th>1</th>\n",
       "      <td>0</td>\n",
       "      <td>0.339299</td>\n",
       "      <td>income_aged_40_50</td>\n",
       "      <td>9.767794e+05</td>\n",
       "      <td>8.723239e+05</td>\n",
       "      <td>-1.044555e+05</td>\n",
       "      <td>1.044555e+05</td>\n",
       "      <td>0.106939</td>\n",
       "    </tr>\n",
       "    <tr>\n",
       "      <th>2</th>\n",
       "      <td>0</td>\n",
       "      <td>0.339299</td>\n",
       "      <td>income_aged_71</td>\n",
       "      <td>4.364799e+04</td>\n",
       "      <td>3.961747e+04</td>\n",
       "      <td>-4.030520e+03</td>\n",
       "      <td>4.030520e+03</td>\n",
       "      <td>0.092341</td>\n",
       "    </tr>\n",
       "    <tr>\n",
       "      <th>3</th>\n",
       "      <td>52</td>\n",
       "      <td>0.332147</td>\n",
       "      <td>income_aged_20_30</td>\n",
       "      <td>7.370324e+08</td>\n",
       "      <td>1.320273e+06</td>\n",
       "      <td>-7.357122e+08</td>\n",
       "      <td>7.357122e+08</td>\n",
       "      <td>0.998209</td>\n",
       "    </tr>\n",
       "    <tr>\n",
       "      <th>4</th>\n",
       "      <td>52</td>\n",
       "      <td>0.332147</td>\n",
       "      <td>income_aged_40_50</td>\n",
       "      <td>9.767794e+05</td>\n",
       "      <td>9.774676e+05</td>\n",
       "      <td>6.882500e+02</td>\n",
       "      <td>6.882500e+02</td>\n",
       "      <td>0.000705</td>\n",
       "    </tr>\n",
       "  </tbody>\n",
       "</table>\n",
       "</div>"
      ],
      "text/plain": [
       "   epoch      loss        target_name        target      estimate  \\\n",
       "0      0  0.339299  income_aged_20_30  7.370324e+08  7.595331e+05   \n",
       "1      0  0.339299  income_aged_40_50  9.767794e+05  8.723239e+05   \n",
       "2      0  0.339299     income_aged_71  4.364799e+04  3.961747e+04   \n",
       "3     52  0.332147  income_aged_20_30  7.370324e+08  1.320273e+06   \n",
       "4     52  0.332147  income_aged_40_50  9.767794e+05  9.774676e+05   \n",
       "\n",
       "          error     abs_error  rel_abs_error  \n",
       "0 -7.362729e+08  7.362729e+08       0.998969  \n",
       "1 -1.044555e+05  1.044555e+05       0.106939  \n",
       "2 -4.030520e+03  4.030520e+03       0.092341  \n",
       "3 -7.357122e+08  7.357122e+08       0.998209  \n",
       "4  6.882500e+02  6.882500e+02       0.000705  "
      ]
     },
     "execution_count": 13,
     "metadata": {},
     "output_type": "execute_result"
    }
   ],
   "source": [
    "performance_df.head()"
   ]
  },
  {
   "cell_type": "code",
   "execution_count": 14,
   "id": "da828d30",
   "metadata": {},
   "outputs": [
    {
     "data": {
      "application/vnd.plotly.v1+json": {
       "config": {
        "plotlyServerURL": "https://plot.ly"
       },
       "data": [
        {
         "line": {
          "color": "red",
          "dash": "dot"
         },
         "mode": "lines",
         "name": "Target 20-30",
         "type": "scatter",
         "x": [
          0,
          52,
          104,
          156,
          208,
          260,
          312,
          364,
          416,
          468,
          520
         ],
         "xaxis": "x",
         "y": [
          737032448,
          737032448,
          737032448,
          737032448,
          737032448,
          737032448,
          737032448,
          737032448,
          737032448,
          737032448,
          737032448
         ],
         "yaxis": "y"
        },
        {
         "line": {
          "color": "blue"
         },
         "mode": "lines",
         "name": "Estimate 20-30",
         "type": "scatter",
         "x": [
          0,
          52,
          104,
          156,
          208,
          260,
          312,
          364,
          416,
          468,
          520
         ],
         "xaxis": "x",
         "y": [
          759533.0625,
          1320273,
          2631305,
          6359750.5,
          19233504,
          72160320,
          309902368,
          773134208,
          736156928,
          736861504,
          737027328
         ],
         "yaxis": "y"
        },
        {
         "line": {
          "color": "red",
          "dash": "dot"
         },
         "mode": "lines",
         "name": "Target 40-50",
         "type": "scatter",
         "x": [
          0,
          52,
          104,
          156,
          208,
          260,
          312,
          364,
          416,
          468,
          520
         ],
         "xaxis": "x2",
         "y": [
          976779.375,
          976779.375,
          976779.375,
          976779.375,
          976779.375,
          976779.375,
          976779.375,
          976779.375,
          976779.375,
          976779.375,
          976779.375
         ],
         "yaxis": "y2"
        },
        {
         "line": {
          "color": "green"
         },
         "mode": "lines",
         "name": "Estimate 40-50",
         "type": "scatter",
         "x": [
          0,
          52,
          104,
          156,
          208,
          260,
          312,
          364,
          416,
          468,
          520
         ],
         "xaxis": "x2",
         "y": [
          872323.875,
          977467.625,
          976435.125,
          976771.8125,
          976777.25,
          976778.25,
          976778.375,
          976778.375,
          976778.375,
          976778.375,
          976778.375
         ],
         "yaxis": "y2"
        },
        {
         "line": {
          "color": "blue"
         },
         "mode": "lines",
         "showlegend": false,
         "type": "scatter",
         "x": [
          0,
          52,
          104,
          156,
          208,
          260,
          312,
          364,
          416,
          468,
          520
         ],
         "xaxis": "x3",
         "y": [
          0.9989694713379837,
          0.9982086636706665,
          0.9964298654596006,
          0.9913711390627947,
          0.973904128573726,
          0.9020934285921697,
          0.5795268324468668,
          0.04898259241905181,
          0.001187898853538671,
          0.00023193551445919514,
          0.000006946776921278777
         ],
         "yaxis": "y3"
        },
        {
         "line": {
          "color": "green"
         },
         "mode": "lines",
         "showlegend": false,
         "type": "scatter",
         "x": [
          0,
          52,
          104,
          156,
          208,
          260,
          312,
          364,
          416,
          468,
          520
         ],
         "xaxis": "x4",
         "y": [
          0.10693868305726664,
          0.0007046115198736664,
          0.0003524337315169047,
          0.000007742280594325611,
          0.0000021755168612154613,
          0.0000011517442206434795,
          0.0000010237726405719818,
          0.0000010237726405719818,
          0.0000010237726405719818,
          0.0000010237726405719818,
          0.0000010237726405719818
         ],
         "yaxis": "y4"
        }
       ],
       "layout": {
        "annotations": [
         {
          "font": {
           "size": 16
          },
          "showarrow": false,
          "text": "Estimate vs target: income_aged_20_30",
          "x": 0.225,
          "xanchor": "center",
          "xref": "paper",
          "y": 1,
          "yanchor": "bottom",
          "yref": "paper"
         },
         {
          "font": {
           "size": 16
          },
          "showarrow": false,
          "text": "Estimate vs target: income_aged_40_50",
          "x": 0.775,
          "xanchor": "center",
          "xref": "paper",
          "y": 1,
          "yanchor": "bottom",
          "yref": "paper"
         },
         {
          "font": {
           "size": 16
          },
          "showarrow": false,
          "text": "Relative absolute error: income_aged_20_30",
          "x": 0.225,
          "xanchor": "center",
          "xref": "paper",
          "y": 0.44,
          "yanchor": "bottom",
          "yref": "paper"
         },
         {
          "font": {
           "size": 16
          },
          "showarrow": false,
          "text": "Relative absolute error: income_aged_40_50",
          "x": 0.775,
          "xanchor": "center",
          "xref": "paper",
          "y": 0.44,
          "yanchor": "bottom",
          "yref": "paper"
         }
        ],
        "height": 800,
        "legend": {
         "x": 1.05,
         "xanchor": "left",
         "y": 1,
         "yanchor": "top"
        },
        "margin": {
         "r": 200
        },
        "template": {
         "data": {
          "bar": [
           {
            "error_x": {
             "color": "#2a3f5f"
            },
            "error_y": {
             "color": "#2a3f5f"
            },
            "marker": {
             "line": {
              "color": "#E5ECF6",
              "width": 0.5
             },
             "pattern": {
              "fillmode": "overlay",
              "size": 10,
              "solidity": 0.2
             }
            },
            "type": "bar"
           }
          ],
          "barpolar": [
           {
            "marker": {
             "line": {
              "color": "#E5ECF6",
              "width": 0.5
             },
             "pattern": {
              "fillmode": "overlay",
              "size": 10,
              "solidity": 0.2
             }
            },
            "type": "barpolar"
           }
          ],
          "carpet": [
           {
            "aaxis": {
             "endlinecolor": "#2a3f5f",
             "gridcolor": "white",
             "linecolor": "white",
             "minorgridcolor": "white",
             "startlinecolor": "#2a3f5f"
            },
            "baxis": {
             "endlinecolor": "#2a3f5f",
             "gridcolor": "white",
             "linecolor": "white",
             "minorgridcolor": "white",
             "startlinecolor": "#2a3f5f"
            },
            "type": "carpet"
           }
          ],
          "choropleth": [
           {
            "colorbar": {
             "outlinewidth": 0,
             "ticks": ""
            },
            "type": "choropleth"
           }
          ],
          "contour": [
           {
            "colorbar": {
             "outlinewidth": 0,
             "ticks": ""
            },
            "colorscale": [
             [
              0,
              "#0d0887"
             ],
             [
              0.1111111111111111,
              "#46039f"
             ],
             [
              0.2222222222222222,
              "#7201a8"
             ],
             [
              0.3333333333333333,
              "#9c179e"
             ],
             [
              0.4444444444444444,
              "#bd3786"
             ],
             [
              0.5555555555555556,
              "#d8576b"
             ],
             [
              0.6666666666666666,
              "#ed7953"
             ],
             [
              0.7777777777777778,
              "#fb9f3a"
             ],
             [
              0.8888888888888888,
              "#fdca26"
             ],
             [
              1,
              "#f0f921"
             ]
            ],
            "type": "contour"
           }
          ],
          "contourcarpet": [
           {
            "colorbar": {
             "outlinewidth": 0,
             "ticks": ""
            },
            "type": "contourcarpet"
           }
          ],
          "heatmap": [
           {
            "colorbar": {
             "outlinewidth": 0,
             "ticks": ""
            },
            "colorscale": [
             [
              0,
              "#0d0887"
             ],
             [
              0.1111111111111111,
              "#46039f"
             ],
             [
              0.2222222222222222,
              "#7201a8"
             ],
             [
              0.3333333333333333,
              "#9c179e"
             ],
             [
              0.4444444444444444,
              "#bd3786"
             ],
             [
              0.5555555555555556,
              "#d8576b"
             ],
             [
              0.6666666666666666,
              "#ed7953"
             ],
             [
              0.7777777777777778,
              "#fb9f3a"
             ],
             [
              0.8888888888888888,
              "#fdca26"
             ],
             [
              1,
              "#f0f921"
             ]
            ],
            "type": "heatmap"
           }
          ],
          "heatmapgl": [
           {
            "colorbar": {
             "outlinewidth": 0,
             "ticks": ""
            },
            "colorscale": [
             [
              0,
              "#0d0887"
             ],
             [
              0.1111111111111111,
              "#46039f"
             ],
             [
              0.2222222222222222,
              "#7201a8"
             ],
             [
              0.3333333333333333,
              "#9c179e"
             ],
             [
              0.4444444444444444,
              "#bd3786"
             ],
             [
              0.5555555555555556,
              "#d8576b"
             ],
             [
              0.6666666666666666,
              "#ed7953"
             ],
             [
              0.7777777777777778,
              "#fb9f3a"
             ],
             [
              0.8888888888888888,
              "#fdca26"
             ],
             [
              1,
              "#f0f921"
             ]
            ],
            "type": "heatmapgl"
           }
          ],
          "histogram": [
           {
            "marker": {
             "pattern": {
              "fillmode": "overlay",
              "size": 10,
              "solidity": 0.2
             }
            },
            "type": "histogram"
           }
          ],
          "histogram2d": [
           {
            "colorbar": {
             "outlinewidth": 0,
             "ticks": ""
            },
            "colorscale": [
             [
              0,
              "#0d0887"
             ],
             [
              0.1111111111111111,
              "#46039f"
             ],
             [
              0.2222222222222222,
              "#7201a8"
             ],
             [
              0.3333333333333333,
              "#9c179e"
             ],
             [
              0.4444444444444444,
              "#bd3786"
             ],
             [
              0.5555555555555556,
              "#d8576b"
             ],
             [
              0.6666666666666666,
              "#ed7953"
             ],
             [
              0.7777777777777778,
              "#fb9f3a"
             ],
             [
              0.8888888888888888,
              "#fdca26"
             ],
             [
              1,
              "#f0f921"
             ]
            ],
            "type": "histogram2d"
           }
          ],
          "histogram2dcontour": [
           {
            "colorbar": {
             "outlinewidth": 0,
             "ticks": ""
            },
            "colorscale": [
             [
              0,
              "#0d0887"
             ],
             [
              0.1111111111111111,
              "#46039f"
             ],
             [
              0.2222222222222222,
              "#7201a8"
             ],
             [
              0.3333333333333333,
              "#9c179e"
             ],
             [
              0.4444444444444444,
              "#bd3786"
             ],
             [
              0.5555555555555556,
              "#d8576b"
             ],
             [
              0.6666666666666666,
              "#ed7953"
             ],
             [
              0.7777777777777778,
              "#fb9f3a"
             ],
             [
              0.8888888888888888,
              "#fdca26"
             ],
             [
              1,
              "#f0f921"
             ]
            ],
            "type": "histogram2dcontour"
           }
          ],
          "mesh3d": [
           {
            "colorbar": {
             "outlinewidth": 0,
             "ticks": ""
            },
            "type": "mesh3d"
           }
          ],
          "parcoords": [
           {
            "line": {
             "colorbar": {
              "outlinewidth": 0,
              "ticks": ""
             }
            },
            "type": "parcoords"
           }
          ],
          "pie": [
           {
            "automargin": true,
            "type": "pie"
           }
          ],
          "scatter": [
           {
            "fillpattern": {
             "fillmode": "overlay",
             "size": 10,
             "solidity": 0.2
            },
            "type": "scatter"
           }
          ],
          "scatter3d": [
           {
            "line": {
             "colorbar": {
              "outlinewidth": 0,
              "ticks": ""
             }
            },
            "marker": {
             "colorbar": {
              "outlinewidth": 0,
              "ticks": ""
             }
            },
            "type": "scatter3d"
           }
          ],
          "scattercarpet": [
           {
            "marker": {
             "colorbar": {
              "outlinewidth": 0,
              "ticks": ""
             }
            },
            "type": "scattercarpet"
           }
          ],
          "scattergeo": [
           {
            "marker": {
             "colorbar": {
              "outlinewidth": 0,
              "ticks": ""
             }
            },
            "type": "scattergeo"
           }
          ],
          "scattergl": [
           {
            "marker": {
             "colorbar": {
              "outlinewidth": 0,
              "ticks": ""
             }
            },
            "type": "scattergl"
           }
          ],
          "scattermapbox": [
           {
            "marker": {
             "colorbar": {
              "outlinewidth": 0,
              "ticks": ""
             }
            },
            "type": "scattermapbox"
           }
          ],
          "scatterpolar": [
           {
            "marker": {
             "colorbar": {
              "outlinewidth": 0,
              "ticks": ""
             }
            },
            "type": "scatterpolar"
           }
          ],
          "scatterpolargl": [
           {
            "marker": {
             "colorbar": {
              "outlinewidth": 0,
              "ticks": ""
             }
            },
            "type": "scatterpolargl"
           }
          ],
          "scatterternary": [
           {
            "marker": {
             "colorbar": {
              "outlinewidth": 0,
              "ticks": ""
             }
            },
            "type": "scatterternary"
           }
          ],
          "surface": [
           {
            "colorbar": {
             "outlinewidth": 0,
             "ticks": ""
            },
            "colorscale": [
             [
              0,
              "#0d0887"
             ],
             [
              0.1111111111111111,
              "#46039f"
             ],
             [
              0.2222222222222222,
              "#7201a8"
             ],
             [
              0.3333333333333333,
              "#9c179e"
             ],
             [
              0.4444444444444444,
              "#bd3786"
             ],
             [
              0.5555555555555556,
              "#d8576b"
             ],
             [
              0.6666666666666666,
              "#ed7953"
             ],
             [
              0.7777777777777778,
              "#fb9f3a"
             ],
             [
              0.8888888888888888,
              "#fdca26"
             ],
             [
              1,
              "#f0f921"
             ]
            ],
            "type": "surface"
           }
          ],
          "table": [
           {
            "cells": {
             "fill": {
              "color": "#EBF0F8"
             },
             "line": {
              "color": "white"
             }
            },
            "header": {
             "fill": {
              "color": "#C8D4E3"
             },
             "line": {
              "color": "white"
             }
            },
            "type": "table"
           }
          ]
         },
         "layout": {
          "annotationdefaults": {
           "arrowcolor": "#2a3f5f",
           "arrowhead": 0,
           "arrowwidth": 1
          },
          "autotypenumbers": "strict",
          "coloraxis": {
           "colorbar": {
            "outlinewidth": 0,
            "ticks": ""
           }
          },
          "colorscale": {
           "diverging": [
            [
             0,
             "#8e0152"
            ],
            [
             0.1,
             "#c51b7d"
            ],
            [
             0.2,
             "#de77ae"
            ],
            [
             0.3,
             "#f1b6da"
            ],
            [
             0.4,
             "#fde0ef"
            ],
            [
             0.5,
             "#f7f7f7"
            ],
            [
             0.6,
             "#e6f5d0"
            ],
            [
             0.7,
             "#b8e186"
            ],
            [
             0.8,
             "#7fbc41"
            ],
            [
             0.9,
             "#4d9221"
            ],
            [
             1,
             "#276419"
            ]
           ],
           "sequential": [
            [
             0,
             "#0d0887"
            ],
            [
             0.1111111111111111,
             "#46039f"
            ],
            [
             0.2222222222222222,
             "#7201a8"
            ],
            [
             0.3333333333333333,
             "#9c179e"
            ],
            [
             0.4444444444444444,
             "#bd3786"
            ],
            [
             0.5555555555555556,
             "#d8576b"
            ],
            [
             0.6666666666666666,
             "#ed7953"
            ],
            [
             0.7777777777777778,
             "#fb9f3a"
            ],
            [
             0.8888888888888888,
             "#fdca26"
            ],
            [
             1,
             "#f0f921"
            ]
           ],
           "sequentialminus": [
            [
             0,
             "#0d0887"
            ],
            [
             0.1111111111111111,
             "#46039f"
            ],
            [
             0.2222222222222222,
             "#7201a8"
            ],
            [
             0.3333333333333333,
             "#9c179e"
            ],
            [
             0.4444444444444444,
             "#bd3786"
            ],
            [
             0.5555555555555556,
             "#d8576b"
            ],
            [
             0.6666666666666666,
             "#ed7953"
            ],
            [
             0.7777777777777778,
             "#fb9f3a"
            ],
            [
             0.8888888888888888,
             "#fdca26"
            ],
            [
             1,
             "#f0f921"
            ]
           ]
          },
          "colorway": [
           "#636efa",
           "#EF553B",
           "#00cc96",
           "#ab63fa",
           "#FFA15A",
           "#19d3f3",
           "#FF6692",
           "#B6E880",
           "#FF97FF",
           "#FECB52"
          ],
          "font": {
           "color": "#2a3f5f"
          },
          "geo": {
           "bgcolor": "white",
           "lakecolor": "white",
           "landcolor": "#E5ECF6",
           "showlakes": true,
           "showland": true,
           "subunitcolor": "white"
          },
          "hoverlabel": {
           "align": "left"
          },
          "hovermode": "closest",
          "mapbox": {
           "style": "light"
          },
          "paper_bgcolor": "white",
          "plot_bgcolor": "#E5ECF6",
          "polar": {
           "angularaxis": {
            "gridcolor": "white",
            "linecolor": "white",
            "ticks": ""
           },
           "bgcolor": "#E5ECF6",
           "radialaxis": {
            "gridcolor": "white",
            "linecolor": "white",
            "ticks": ""
           }
          },
          "scene": {
           "xaxis": {
            "backgroundcolor": "#E5ECF6",
            "gridcolor": "white",
            "gridwidth": 2,
            "linecolor": "white",
            "showbackground": true,
            "ticks": "",
            "zerolinecolor": "white"
           },
           "yaxis": {
            "backgroundcolor": "#E5ECF6",
            "gridcolor": "white",
            "gridwidth": 2,
            "linecolor": "white",
            "showbackground": true,
            "ticks": "",
            "zerolinecolor": "white"
           },
           "zaxis": {
            "backgroundcolor": "#E5ECF6",
            "gridcolor": "white",
            "gridwidth": 2,
            "linecolor": "white",
            "showbackground": true,
            "ticks": "",
            "zerolinecolor": "white"
           }
          },
          "shapedefaults": {
           "line": {
            "color": "#2a3f5f"
           }
          },
          "ternary": {
           "aaxis": {
            "gridcolor": "white",
            "linecolor": "white",
            "ticks": ""
           },
           "baxis": {
            "gridcolor": "white",
            "linecolor": "white",
            "ticks": ""
           },
           "bgcolor": "#E5ECF6",
           "caxis": {
            "gridcolor": "white",
            "linecolor": "white",
            "ticks": ""
           }
          },
          "title": {
           "x": 0.05
          },
          "xaxis": {
           "automargin": true,
           "gridcolor": "white",
           "linecolor": "white",
           "ticks": "",
           "title": {
            "standoff": 15
           },
           "zerolinecolor": "white",
           "zerolinewidth": 2
          },
          "yaxis": {
           "automargin": true,
           "gridcolor": "white",
           "linecolor": "white",
           "ticks": "",
           "title": {
            "standoff": 15
           },
           "zerolinecolor": "white",
           "zerolinewidth": 2
          }
         }
        },
        "title": {
         "text": "Calibration performance over epochs"
        },
        "width": 1050,
        "xaxis": {
         "anchor": "y",
         "domain": [
          0,
          0.45
         ],
         "matches": "x3",
         "showticklabels": false
        },
        "xaxis2": {
         "anchor": "y2",
         "domain": [
          0.55,
          1
         ],
         "matches": "x4",
         "showticklabels": false
        },
        "xaxis3": {
         "anchor": "y3",
         "domain": [
          0,
          0.45
         ],
         "title": {
          "text": "Epoch"
         }
        },
        "xaxis4": {
         "anchor": "y4",
         "domain": [
          0.55,
          1
         ],
         "title": {
          "text": "Epoch"
         }
        },
        "yaxis": {
         "anchor": "x",
         "domain": [
          0.56,
          1
         ],
         "title": {
          "text": "Income ($)"
         }
        },
        "yaxis2": {
         "anchor": "x2",
         "domain": [
          0.56,
          1
         ],
         "title": {
          "text": "Income ($)"
         }
        },
        "yaxis3": {
         "anchor": "x3",
         "domain": [
          0,
          0.44
         ],
         "title": {
          "text": "Relative absolute error"
         }
        },
        "yaxis4": {
         "anchor": "x4",
         "domain": [
          0,
          0.44
         ],
         "title": {
          "text": "Relative absolute error"
         }
        }
       }
      }
     },
     "metadata": {},
     "output_type": "display_data"
    }
   ],
   "source": [
    "g20 = performance_df.query(\"target_name == 'income_aged_20_30'\")\n",
    "g40 = performance_df.query(\"target_name == 'income_aged_40_50'\")\n",
    "\n",
    "fig = make_subplots(\n",
    "    rows=2, cols=2,\n",
    "    subplot_titles=[\n",
    "        \"Estimate vs target: income_aged_20_30\",\n",
    "        \"Estimate vs target: income_aged_40_50\",\n",
    "        \"Relative absolute error: income_aged_20_30\",\n",
    "        \"Relative absolute error: income_aged_40_50\",\n",
    "    ],\n",
    "    shared_xaxes=True,\n",
    "    vertical_spacing=0.12,\n",
    "    horizontal_spacing=0.10,\n",
    ")\n",
    "\n",
    "fig.add_trace(\n",
    "    go.Scatter(\n",
    "        x=g20[\"epoch\"], y=g20[\"target\"],\n",
    "        mode=\"lines\", name=\"Target 20-30\",\n",
    "        line=dict(dash=\"dot\", color=\"red\"),\n",
    "    ),\n",
    "    row=1, col=1,\n",
    ")\n",
    "fig.add_trace(\n",
    "    go.Scatter(\n",
    "        x=g20[\"epoch\"], y=g20[\"estimate\"],\n",
    "        mode=\"lines\", name=\"Estimate 20-30\",\n",
    "        line=dict(color=\"blue\"),\n",
    "    ),\n",
    "    row=1, col=1,\n",
    ")\n",
    "\n",
    "fig.add_trace(\n",
    "    go.Scatter(\n",
    "        x=g40[\"epoch\"], y=g40[\"target\"],\n",
    "        mode=\"lines\", name=\"Target 40-50\",\n",
    "        line=dict(dash=\"dot\", color=\"red\"),\n",
    "    ),\n",
    "    row=1, col=2,\n",
    ")\n",
    "fig.add_trace(\n",
    "    go.Scatter(\n",
    "        x=g40[\"epoch\"], y=g40[\"estimate\"],\n",
    "        mode=\"lines\", name=\"Estimate 40-50\",\n",
    "        line=dict(color=\"green\"),\n",
    "    ),\n",
    "    row=1, col=2,\n",
    ")\n",
    "\n",
    "fig.add_trace(\n",
    "    go.Scatter(\n",
    "        x=g20[\"epoch\"], y=g20[\"rel_abs_error\"],\n",
    "        mode=\"lines\", showlegend=False,\n",
    "        line=dict(color=\"blue\"),\n",
    "    ),\n",
    "    row=2, col=1,\n",
    ")\n",
    "\n",
    "fig.add_trace(\n",
    "    go.Scatter(\n",
    "        x=g40[\"epoch\"], y=g40[\"rel_abs_error\"],\n",
    "        mode=\"lines\", showlegend=False,\n",
    "        line=dict(color=\"green\"),\n",
    "    ),\n",
    "    row=2, col=2,\n",
    ")\n",
    "\n",
    "fig.update_layout(\n",
    "    height=800, width=1050,\n",
    "    title_text=\"Calibration performance over epochs\",\n",
    "    legend=dict(x=1.05, y=1, xanchor=\"left\", yanchor=\"top\"),\n",
    "    margin=dict(r=200),\n",
    ")\n",
    "fig.update_xaxes(title_text=\"Epoch\", row=2, col=1)\n",
    "fig.update_xaxes(title_text=\"Epoch\", row=2, col=2)\n",
    "fig.update_yaxes(title_text=\"Income ($)\", row=1, col=1)\n",
    "fig.update_yaxes(title_text=\"Income ($)\", row=1, col=2)\n",
    "fig.update_yaxes(title_text=\"Relative absolute error\", row=2, col=1)\n",
    "fig.update_yaxes(title_text=\"Relative absolute error\", row=2, col=2)\n",
    "\n",
    "fig.show()"
   ]
  },
  {
   "cell_type": "code",
   "execution_count": 15,
   "id": "fefaf031",
   "metadata": {},
   "outputs": [
    {
     "data": {
      "text/html": [
       "<div>\n",
       "<style scoped>\n",
       "    .dataframe tbody tr th:only-of-type {\n",
       "        vertical-align: middle;\n",
       "    }\n",
       "\n",
       "    .dataframe tbody tr th {\n",
       "        vertical-align: top;\n",
       "    }\n",
       "\n",
       "    .dataframe thead th {\n",
       "        text-align: right;\n",
       "    }\n",
       "</style>\n",
       "<table border=\"1\" class=\"dataframe\">\n",
       "  <thead>\n",
       "    <tr style=\"text-align: right;\">\n",
       "      <th></th>\n",
       "      <th>Metric</th>\n",
       "      <th>Official target</th>\n",
       "      <th>Final estimate</th>\n",
       "      <th>Relative error</th>\n",
       "    </tr>\n",
       "  </thead>\n",
       "  <tbody>\n",
       "    <tr>\n",
       "      <th>0</th>\n",
       "      <td>income_aged_20_30</td>\n",
       "      <td>7.370324e+08</td>\n",
       "      <td>7.370273e+08</td>\n",
       "      <td>-0.000007</td>\n",
       "    </tr>\n",
       "    <tr>\n",
       "      <th>1</th>\n",
       "      <td>income_aged_40_50</td>\n",
       "      <td>9.767794e+05</td>\n",
       "      <td>9.767784e+05</td>\n",
       "      <td>-0.000001</td>\n",
       "    </tr>\n",
       "    <tr>\n",
       "      <th>2</th>\n",
       "      <td>income_aged_71</td>\n",
       "      <td>4.364799e+04</td>\n",
       "      <td>4.364699e+04</td>\n",
       "      <td>-0.000023</td>\n",
       "    </tr>\n",
       "  </tbody>\n",
       "</table>\n",
       "</div>"
      ],
      "text/plain": [
       "              Metric  Official target  Final estimate  Relative error\n",
       "0  income_aged_20_30     7.370324e+08    7.370273e+08       -0.000007\n",
       "1  income_aged_40_50     9.767794e+05    9.767784e+05       -0.000001\n",
       "2     income_aged_71     4.364799e+04    4.364699e+04       -0.000023"
      ]
     },
     "execution_count": 15,
     "metadata": {},
     "output_type": "execute_result"
    }
   ],
   "source": [
    "summary = calibrator.summary()\n",
    "summary"
   ]
  },
  {
   "cell_type": "markdown",
   "id": "zizmg24l2dh",
   "metadata": {},
   "source": [
    "## Summary\n",
    "\n",
    "The Calibration class provides comprehensive tools for survey weight calibration:\n",
    "\n",
    "1. **Pre-calibration assessment**:\n",
    "   - Analytical solution feasibility analysis\n",
    "   - Target tolerance checking\n",
    "   - Correlation analysis\n",
    "   - Target exclusion capabilities\n",
    "\n",
    "2. **Standard calibration**:\n",
    "   - Gradient-based optimization\n",
    "   - Multi-target support\n",
    "   - Progress monitoring\n",
    "   - Performance logging\n",
    "\n",
    "3. **Advanced features**:\n",
    "   - L0 regularization for sparse weights\n",
    "   - Hyperparameter tuning (see [hyperparameter tuning notebook](hyperparameter_tuning.ipynb))\n",
    "   - Robustness evaluation (see [robustness evaluation notebook](robustness_evaluation.ipynb))\n",
    "\n",
    "By using the pre-calibration assessment tools, you can identify and address potential issues before running the calibration, saving time and improving results. The L0 regularization feature allows you to maintain calibration accuracy while significantly reducing dataset size, which is valuable for large-scale applications."
   ]
  }
 ],
 "metadata": {
  "kernelspec": {
   "display_name": "pe3.13",
   "language": "python",
   "name": "python3"
  },
  "language_info": {
   "codemirror_mode": {
    "name": "ipython",
    "version": 3
   },
   "file_extension": ".py",
   "mimetype": "text/x-python",
   "name": "python",
   "nbconvert_exporter": "python",
   "pygments_lexer": "ipython3",
   "version": "3.13.0"
  }
 },
 "nbformat": 4,
 "nbformat_minor": 5
}
