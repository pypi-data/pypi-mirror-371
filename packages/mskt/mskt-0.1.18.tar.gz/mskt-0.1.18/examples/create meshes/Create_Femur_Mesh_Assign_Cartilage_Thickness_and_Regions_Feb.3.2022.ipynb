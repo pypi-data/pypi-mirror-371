{
 "cells": [
  {
   "cell_type": "code",
   "execution_count": 1,
   "id": "1999c924",
   "metadata": {},
   "outputs": [],
   "source": [
    "import pymskt as mskt\n",
    "from pymskt.mesh import BoneMesh, CartilageMesh\n",
    "import os"
   ]
  },
  {
   "cell_type": "code",
   "execution_count": 2,
   "id": "03f47ad6",
   "metadata": {},
   "outputs": [],
   "source": [
    "location_seg = '../../data/right_knee_example.nrrd'"
   ]
  },
  {
   "cell_type": "markdown",
   "id": "0b228eca",
   "metadata": {},
   "source": [
    "To create a mesh, we must first pass a segmentation image (simpleitk) to the mesh object. This can be done in multiple ways. "
   ]
  },
  {
   "cell_type": "code",
   "execution_count": 3,
   "id": "aa9d20f1",
   "metadata": {},
   "outputs": [
    {
     "name": "stderr",
     "output_type": "stream",
     "text": [
      "/Users/gattia/opt/miniconda3/envs/imaging/lib/python3.8/site-packages/pyvista/core/dataset.py:1401: PyvistaDeprecationWarning: Use of `point_arrays` is deprecated. Use `point_data` instead.\n",
      "  warnings.warn(\n",
      "/Users/gattia/opt/miniconda3/envs/imaging/lib/python3.8/site-packages/pyvista/core/dataset.py:1541: PyvistaDeprecationWarning: Use of `cell_arrays` is deprecated. Use `cell_data` instead.\n",
      "  warnings.warn(\n"
     ]
    }
   ],
   "source": [
    "# initiate the bone mesh object\n",
    "femur = BoneMesh(path_seg_image=location_seg,  # path to the segmentation iamge being used\n",
    "                 label_idx=5,                  # what is the label of this bone\n",
    "                 list_cartilage_labels=[1])    # a list of labels for cartialge associated w/ this bone\n",
    "\n",
    "# Create the bone mesh\n",
    "femur.create_mesh(\n",
    "    smooth_image_var=1.0       # This is the variance of the gaussian filter applied to binary image b4 meshing\n",
    ")\n",
    "\n",
    "# Resample the bone surface to have a specified number of nodes. \n",
    "femur.resample_surface(\n",
    "    clusters=20000             # This is the number of nodes/vertices on the surface. It might vary slightly\n",
    ")\n",
    "\n",
    "# Calcualte cartialge thickness for the cartialge meshes associated with the bone\n",
    "femur.calc_cartilage_thickness(\n",
    "    image_smooth_var_cart=0.5   # variance for the gaussian filter applied to the binary cart meshes b4 smoothing. \n",
    ")\n",
    "\n",
    "# assign the cartilage regions to the surface\n",
    "femur.assign_cartilage_regions()\n",
    "\n",
    "# IF you want to save the mesh you can uncomment the below line\n",
    "# femur.save_mesh('path/to_save/mesh.vtk') # I choose VTK becuase it preserves the scalars - STL does not. \n",
    "\n",
    "\n"
   ]
  },
  {
   "cell_type": "markdown",
   "id": "a3d647d3",
   "metadata": {},
   "source": [
    "- Below is optional, and only necessary if you want to view the meshes in your Jupyter Notebook. \n",
    "- Instructions for installing ITK Widgets is on the readme page. "
   ]
  },
  {
   "cell_type": "code",
   "execution_count": 4,
   "id": "2d7a19fa",
   "metadata": {},
   "outputs": [
    {
     "data": {
      "application/vnd.jupyter.widget-view+json": {
       "model_id": "4db40be928f643498e41067b53006f54",
       "version_major": 2,
       "version_minor": 0
      },
      "text/plain": [
       "Viewer(geometries=[{'vtkClass': 'vtkPolyData', 'points': {'vtkClass': 'vtkPoints', 'name': '_points', 'numberO…"
      ]
     },
     "metadata": {},
     "output_type": "display_data"
    }
   ],
   "source": [
    "from itkwidgets import view\n",
    "\n",
    "# Note that we have to get the mesh from the femur object `femur.mesh` to input it into itkwidgets. \n",
    "# In this notebook, you should be able to swap between scalars (thickness & labels)\n",
    "# thickness is the cartilage thickness in mm, labels is the cartilage label of the associated thickness value. \n",
    "view(geometries=[femur.mesh])"
   ]
  },
  {
   "cell_type": "markdown",
   "id": "b74ef3c6",
   "metadata": {},
   "source": [
    "- If the above surface scalars seem too \"rough\" for you there are a few options. \n",
    "    1. We could just smooth the bone & cartilage meshes more \n",
    "    2. We can actually smooth these scalar value - we'll show that below"
   ]
  },
  {
   "cell_type": "code",
   "execution_count": 5,
   "id": "f49b7187",
   "metadata": {},
   "outputs": [],
   "source": [
    "femur.smooth_surface_scalars(\n",
    "    smooth_only_cartilage=True,           # by default we dont count regions without cartilage in smoothing - we dont want them dragging down mean. \n",
    "    scalar_sigma=2.,                      # this is the standard deviation of a gaussian filter\n",
    "    scalar_array_name='thickness (mm)'    # we have to specify what scalars to smooth - we might have T2 or other parameters also that use different sigma\n",
    ")"
   ]
  },
  {
   "cell_type": "markdown",
   "id": "9ae26a07",
   "metadata": {},
   "source": [
    "- We can re-run the viewer to see how the smoothed scalars look\n",
    "- We should be able to see that a lot of the noise in the thickness values has been washed out"
   ]
  },
  {
   "cell_type": "code",
   "execution_count": 6,
   "id": "b5bfb9e4",
   "metadata": {},
   "outputs": [
    {
     "data": {
      "application/vnd.jupyter.widget-view+json": {
       "model_id": "ba82ed876d85467297029637e7788e07",
       "version_major": 2,
       "version_minor": 0
      },
      "text/plain": [
       "Viewer(geometries=[{'vtkClass': 'vtkPolyData', 'points': {'vtkClass': 'vtkPoints', 'name': '_points', 'numberO…"
      ]
     },
     "metadata": {},
     "output_type": "display_data"
    }
   ],
   "source": [
    "view(geometries=[femur.mesh])"
   ]
  },
  {
   "cell_type": "code",
   "execution_count": 7,
   "id": "9f618908",
   "metadata": {},
   "outputs": [],
   "source": [
    "femur.save_mesh(os.path.expanduser('~/Downloads/femur_mesh.vtk'))"
   ]
  },
  {
   "cell_type": "code",
   "execution_count": null,
   "id": "1d39e709",
   "metadata": {},
   "outputs": [],
   "source": []
  }
 ],
 "metadata": {
  "kernelspec": {
   "display_name": "Python 3.8.12 64-bit ('imaging': conda)",
   "language": "python",
   "name": "python3812jvsc74a57bd06c87bace85be111efbe28079ae26f740e5c4bf58b006b66c98bd87f126cf4b07"
  },
  "language_info": {
   "codemirror_mode": {
    "name": "ipython",
    "version": 3
   },
   "file_extension": ".py",
   "mimetype": "text/x-python",
   "name": "python",
   "nbconvert_exporter": "python",
   "pygments_lexer": "ipython3",
   "version": "3.8.12"
  }
 },
 "nbformat": 4,
 "nbformat_minor": 5
}
