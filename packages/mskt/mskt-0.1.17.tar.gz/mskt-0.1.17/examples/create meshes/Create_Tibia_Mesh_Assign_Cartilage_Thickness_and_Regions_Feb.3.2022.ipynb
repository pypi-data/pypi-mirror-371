{
 "cells": [
  {
   "cell_type": "code",
   "execution_count": 1,
   "id": "1999c924",
   "metadata": {},
   "outputs": [],
   "source": [
    "import pymskt as mskt\n",
    "from pymskt.mesh import BoneMesh, CartilageMesh\n",
    "import os"
   ]
  },
  {
   "cell_type": "code",
   "execution_count": 2,
   "id": "03f47ad6",
   "metadata": {},
   "outputs": [],
   "source": [
    "location_seg = '../../data/right_knee_example.nrrd'"
   ]
  },
  {
   "cell_type": "markdown",
   "id": "0b228eca",
   "metadata": {},
   "source": [
    "To create a mesh, we must first pass a segmentation image (simpleitk) to the mesh object. This can be done in multiple ways. "
   ]
  },
  {
   "cell_type": "code",
   "execution_count": 3,
   "id": "aa9d20f1",
   "metadata": {},
   "outputs": [
    {
     "name": "stderr",
     "output_type": "stream",
     "text": [
      "/Users/gattia/opt/miniconda3/envs/imaging/lib/python3.8/site-packages/pyvista/core/dataset.py:1401: PyvistaDeprecationWarning: Use of `point_arrays` is deprecated. Use `point_data` instead.\n",
      "  warnings.warn(\n",
      "/Users/gattia/opt/miniconda3/envs/imaging/lib/python3.8/site-packages/pyvista/core/dataset.py:1541: PyvistaDeprecationWarning: Use of `cell_arrays` is deprecated. Use `cell_data` instead.\n",
      "  warnings.warn(\n"
     ]
    }
   ],
   "source": [
    "# initiate the bone mesh object\n",
    "tibia = BoneMesh(path_seg_image=location_seg,  # path to the segmentation iamge being used\n",
    "                 label_idx=6,                  # what is the label of this bone\n",
    "                 list_cartilage_labels=[2, 3])    # a list of labels for cartialge associated w/ this bone\n",
    "\n",
    "# Create the bone mesh\n",
    "tibia.create_mesh(\n",
    "    smooth_image_var=1.0       # This is the variance of the gaussian filter applied to binary image b4 meshing\n",
    ")\n",
    "\n",
    "# Resample the bone surface to have a specified number of nodes. \n",
    "tibia.resample_surface(\n",
    "    clusters=20000             # This is the number of nodes/vertices on the surface. It might vary slightly\n",
    ")\n",
    "\n",
    "# Calcualte cartialge thickness for the cartialge meshes associated with the bone\n",
    "tibia.calc_cartilage_thickness(\n",
    "    image_smooth_var_cart=0.5   # variance for the gaussian filter applied to the binary cart meshes b4 smoothing. \n",
    ")\n",
    "\n",
    "# assign the cartilage regions to the surface\n",
    "tibia.assign_cartilage_regions()\n",
    "\n",
    "# IF you want to save the mesh you can uncomment the below line\n",
    "# tibia.save_mesh('path/to_save/mesh.vtk') # I choose VTK becuase it preserves the scalars - STL does not. \n",
    "\n",
    "\n"
   ]
  },
  {
   "cell_type": "markdown",
   "id": "69b28bb2",
   "metadata": {},
   "source": [
    "- Below is optional, and only necessary if you want to view the meshes in your Jupyter Notebook. \n",
    "- Instructions for installing ITK Widgets is on the readme page. "
   ]
  },
  {
   "cell_type": "code",
   "execution_count": 4,
   "id": "e84f55ea",
   "metadata": {},
   "outputs": [
    {
     "data": {
      "application/vnd.jupyter.widget-view+json": {
       "model_id": "a84621ad3c164c1a8fa0ba994ff52aa2",
       "version_major": 2,
       "version_minor": 0
      },
      "text/plain": [
       "Viewer(geometries=[{'vtkClass': 'vtkPolyData', 'points': {'vtkClass': 'vtkPoints', 'name': '_points', 'numberO…"
      ]
     },
     "metadata": {},
     "output_type": "display_data"
    }
   ],
   "source": [
    "from itkwidgets import view\n",
    "\n",
    "# Note that we have to get the mesh from the femur object `femur.mesh` to input it into itkwidgets. \n",
    "# In this notebook, you should be able to swap between scalars (thickness & labels)\n",
    "# thickness is the cartilage thickness in mm, labels is the cartilage label of the associated thickness value. \n",
    "view(geometries=[tibia.mesh])"
   ]
  },
  {
   "cell_type": "markdown",
   "id": "6f126f2d",
   "metadata": {},
   "source": [
    "- If the above surface scalars seem too \"rough\" for you there are a few options. \n",
    "    1. We could just smooth the bone & cartilage meshes more \n",
    "    2. We can actually smooth these scalar value - we'll show that below"
   ]
  },
  {
   "cell_type": "code",
   "execution_count": 5,
   "id": "4599fcd9",
   "metadata": {},
   "outputs": [],
   "source": [
    "tibia.smooth_surface_scalars(\n",
    "    smooth_only_cartilage=True,           # by default we dont count regions without cartilage in smoothing - we dont want them dragging down mean. \n",
    "    scalar_sigma=2.,                      # this is the standard deviation of a gaussian filter\n",
    "    scalar_array_name='thickness (mm)'    # we have to specify what scalars to smooth - we might have T2 or other parameters also that use different sigma\n",
    ")"
   ]
  },
  {
   "cell_type": "markdown",
   "id": "de0777f0",
   "metadata": {},
   "source": [
    "- We can re-run the viewer to see how the smoothed scalars look\n",
    "- We should be able to see that a lot of the noise in the thickness values has been washed out"
   ]
  },
  {
   "cell_type": "code",
   "execution_count": 6,
   "id": "330c6dda",
   "metadata": {},
   "outputs": [
    {
     "data": {
      "application/vnd.jupyter.widget-view+json": {
       "model_id": "6deb3f4f4a62495aabb69f12a0b4b170",
       "version_major": 2,
       "version_minor": 0
      },
      "text/plain": [
       "Viewer(geometries=[{'vtkClass': 'vtkPolyData', 'points': {'vtkClass': 'vtkPoints', 'name': '_points', 'numberO…"
      ]
     },
     "metadata": {},
     "output_type": "display_data"
    }
   ],
   "source": [
    "view(geometries=[tibia.mesh])"
   ]
  },
  {
   "cell_type": "markdown",
   "id": "d46cef57",
   "metadata": {},
   "source": [
    "### Saving"
   ]
  },
  {
   "cell_type": "code",
   "execution_count": 7,
   "id": "17eb2ab8",
   "metadata": {},
   "outputs": [],
   "source": [
    "tibia.save_mesh(os.path.expanduser('~/Downloads/tibia_mesh.vtk'))"
   ]
  },
  {
   "cell_type": "code",
   "execution_count": null,
   "id": "cb37b847",
   "metadata": {},
   "outputs": [],
   "source": []
  }
 ],
 "metadata": {
  "kernelspec": {
   "display_name": "Python 3.8.12 64-bit ('imaging': conda)",
   "language": "python",
   "name": "python3812jvsc74a57bd06c87bace85be111efbe28079ae26f740e5c4bf58b006b66c98bd87f126cf4b07"
  },
  "language_info": {
   "codemirror_mode": {
    "name": "ipython",
    "version": 3
   },
   "file_extension": ".py",
   "mimetype": "text/x-python",
   "name": "python",
   "nbconvert_exporter": "python",
   "pygments_lexer": "ipython3",
   "version": "3.8.12"
  }
 },
 "nbformat": 4,
 "nbformat_minor": 5
}
