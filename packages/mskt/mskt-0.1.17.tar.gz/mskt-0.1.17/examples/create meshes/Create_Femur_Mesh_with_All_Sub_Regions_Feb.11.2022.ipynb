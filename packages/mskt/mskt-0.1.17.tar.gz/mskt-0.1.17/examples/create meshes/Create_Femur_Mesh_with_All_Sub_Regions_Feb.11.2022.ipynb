{
 "cells": [
  {
   "cell_type": "code",
   "execution_count": 1,
   "id": "f1d282ca",
   "metadata": {},
   "outputs": [],
   "source": [
    "import pymskt as mskt\n",
    "from pymskt.mesh import BoneMesh, CartilageMesh\n",
    "import os\n",
    "import SimpleITK as sitk"
   ]
  },
  {
   "cell_type": "code",
   "execution_count": 2,
   "id": "dce7531f",
   "metadata": {},
   "outputs": [],
   "source": [
    "location_seg = '../../data/right_knee_example.nrrd'"
   ]
  },
  {
   "cell_type": "code",
   "execution_count": 3,
   "id": "729a5d81",
   "metadata": {},
   "outputs": [
    {
     "name": "stderr",
     "output_type": "stream",
     "text": [
      "/Users/gattia/opt/miniconda3/envs/imaging/lib/python3.8/site-packages/pyvista/core/dataset.py:1401: PyvistaDeprecationWarning: Use of `point_arrays` is deprecated. Use `point_data` instead.\n",
      "  warnings.warn(\n",
      "/Users/gattia/opt/miniconda3/envs/imaging/lib/python3.8/site-packages/pyvista/core/dataset.py:1541: PyvistaDeprecationWarning: Use of `cell_arrays` is deprecated. Use `cell_data` instead.\n",
      "  warnings.warn(\n"
     ]
    }
   ],
   "source": [
    "# initiate the bone mesh object\n",
    "femur = BoneMesh(path_seg_image=location_seg,  # path to the segmentation iamge being used\n",
    "                 label_idx=5,                  # what is the label of this bone\n",
    "                 list_cartilage_labels=[1])    # a list of labels for cartialge associated w/ this bone\n",
    "\n",
    "# Create the bone mesh\n",
    "femur.create_mesh(\n",
    "    smooth_image_var=1.0       # This is the variance of the gaussian filter applied to binary image b4 meshing\n",
    ")\n",
    "\n",
    "# Resample the bone surface to have a specified number of nodes. \n",
    "femur.resample_surface(\n",
    "    clusters=20000             # This is the number of nodes/vertices on the surface. It might vary slightly\n",
    ")\n",
    "\n",
    "# Calcualte cartialge thickness for the cartialge meshes associated with the bone\n",
    "femur.calc_cartilage_thickness(\n",
    "    image_smooth_var_cart=0.5   # variance for the gaussian filter applied to the binary cart meshes b4 smoothing. \n",
    ")\n",
    "\n",
    "\n",
    "# read in the segmentation image & break it up into femoral cartilage sub-regions. \n",
    "seg_image = sitk.ReadImage(location_seg)\n",
    "seg_image = mskt.image.cartilage_processing.get_knee_segmentation_with_femur_subregions(seg_image)\n",
    "\n",
    "# update bone segmentation (with fem cartilage subregions) \n",
    "femur.seg_image = seg_image\n",
    "femur.list_cartilage_labels=[11, 12, 13, 14, 15]\n",
    "\n",
    "# assign the cartilage regions to the surface\n",
    "femur.assign_cartilage_regions()\n",
    "\n",
    "# IF you want to save the mesh you can uncomment the below line\n",
    "# femur.save_mesh('path/to_save/mesh.vtk') # I choose VTK becuase it preserves the scalars - STL does not. \n",
    "\n",
    "\n"
   ]
  },
  {
   "cell_type": "code",
   "execution_count": 4,
   "id": "85631e5d",
   "metadata": {},
   "outputs": [
    {
     "data": {
      "application/vnd.jupyter.widget-view+json": {
       "model_id": "33adabaf02934ba4b10e736844dbecea",
       "version_major": 2,
       "version_minor": 0
      },
      "text/plain": [
       "Viewer(geometries=[{'vtkClass': 'vtkPolyData', 'points': {'vtkClass': 'vtkPoints', 'name': '_points', 'numberO…"
      ]
     },
     "metadata": {},
     "output_type": "display_data"
    }
   ],
   "source": [
    "from itkwidgets import view\n",
    "\n",
    "# Note that we have to get the mesh from the femur object `femur.mesh` to input it into itkwidgets. \n",
    "# In this notebook, you should be able to swap between scalars (thickness & labels)\n",
    "# thickness is the cartilage thickness in mm, labels is the cartilage label of the associated thickness value. \n",
    "\n",
    "# In this notebook, the labels are all cartilage sub-regions. (trochlea, medial weight-bearing femur, \n",
    "# lateral weight-bearing femur, medial posterior femur, and lateral posterior femur). The notebook \n",
    "# Create_Femur_Mesh_Assign_Cartilage_Thickness_and_Regions_Feb.3.2022.ipynb includes just one label for \n",
    "# all femoral cartilage\n",
    "view(geometries=[femur.mesh])"
   ]
  }
 ],
 "metadata": {
  "kernelspec": {
   "display_name": "Python 3.8.12 64-bit ('imaging': conda)",
   "language": "python",
   "name": "python3812jvsc74a57bd06c87bace85be111efbe28079ae26f740e5c4bf58b006b66c98bd87f126cf4b07"
  },
  "language_info": {
   "codemirror_mode": {
    "name": "ipython",
    "version": 3
   },
   "file_extension": ".py",
   "mimetype": "text/x-python",
   "name": "python",
   "nbconvert_exporter": "python",
   "pygments_lexer": "ipython3",
   "version": "3.8.12"
  }
 },
 "nbformat": 4,
 "nbformat_minor": 5
}
