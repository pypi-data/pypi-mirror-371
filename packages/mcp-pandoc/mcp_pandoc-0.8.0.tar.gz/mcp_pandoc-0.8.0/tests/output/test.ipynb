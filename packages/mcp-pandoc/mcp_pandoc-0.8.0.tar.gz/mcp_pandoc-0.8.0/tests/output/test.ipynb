{
 "cells": [
  {
   "cell_type": "markdown",
   "metadata": {},
   "source": [
    "# <span id=\"anchor\"></span>Test"
   ],
   "id": "d4b46b57-68cc-402f-8dd1-20cf5da7485c"
  }
 ],
 "nbformat": 4,
 "nbformat_minor": 5,
 "metadata": {}
}
