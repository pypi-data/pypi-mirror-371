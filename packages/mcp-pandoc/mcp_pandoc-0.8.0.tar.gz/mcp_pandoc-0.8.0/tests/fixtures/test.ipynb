{
 "cells": [
  {
   "cell_type": "markdown",
   "metadata": {},
   "source": [
    "# Test"
   ],
   "id": "789c538e-d5f7-4845-9b95-850051d4af56"
  }
 ],
 "nbformat": 4,
 "nbformat_minor": 5,
 "metadata": {}
}
