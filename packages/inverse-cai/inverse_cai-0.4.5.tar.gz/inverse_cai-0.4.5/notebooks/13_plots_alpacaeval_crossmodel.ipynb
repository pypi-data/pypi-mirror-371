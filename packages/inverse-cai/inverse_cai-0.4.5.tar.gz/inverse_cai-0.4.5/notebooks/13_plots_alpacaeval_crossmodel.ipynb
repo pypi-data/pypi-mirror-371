{
 "cells": [
  {
   "cell_type": "code",
   "execution_count": null,
   "metadata": {
    "execution": {
     "iopub.execute_input": "2024-05-19T15:02:40.607364Z",
     "iopub.status.busy": "2024-05-19T15:02:40.607126Z",
     "iopub.status.idle": "2024-05-19T15:02:43.195622Z",
     "shell.execute_reply": "2024-05-19T15:02:43.195244Z"
    }
   },
   "outputs": [],
   "source": [
    "# Plotting for synthetic experiments\n",
    "\n",
    "import inverse_cai.paper_plotting\n",
    "import pathlib\n",
    "\n",
    "import importlib\n",
    "importlib.reload(inverse_cai.paper_plotting)\n",
    "\n",
    "path = pathlib.Path(\"../exp/saved_results/14_alpaca_unaligned_crossmodel/\")\n",
    "\n",
    "metrics_df = inverse_cai.paper_plotting.get_metrics_dict(path)\n",
    "\n",
    "\"\"\"\n",
    "alpaca_eval_gpt4o_fn_noinstruction\n",
    "chatgpt_fn_constitutional_base_neutral_v1\n",
    "chatgpt_fn_noinstruction\n",
    "claude_3_haiku_ranking_constitutional_base_neutral_v1\n",
    "claude_3_haiku_ranking_noinstruction\n",
    "claude_3_opus_ranking_constitutional_base_neutral_v1\n",
    "claude_3_opus_ranking_noinstruction\n",
    "gpt4o_fn_constitutional_base_neutral_v1\n",
    "\"\"\"\n",
    "\n",
    "\n",
    "combined_data = {\n",
    "    \"Unaligned\": {\n",
    "        #\"GPT-3.5-Turbo\": {\n",
    "        #    \"Default\": metrics_df[\"chatgpt_fn_noinstruction\"],\n",
    "        #    \"Constitutional\": metrics_df[\"chatgpt_fn_constitutional_base_neutral_v1\"],\n",
    "        #},\n",
    "        \"GPT-4o\": {\n",
    "            \"Default\": metrics_df[\"alpaca_eval_gpt4o_fn_noinstruction\"],\n",
    "            \"Constitutional\": metrics_df[\"gpt4o_fn_constitutional_base_neutral_v1\"],\n",
    "        },\n",
    "        \"Claude-3-Opus\": {\n",
    "            \"Default\": metrics_df[\"claude_3_opus_ranking_noinstruction\"],\n",
    "            \"Constitutional\": metrics_df[\"claude_3_opus_ranking_constitutional_base_neutral_v1\"],\n",
    "        },\n",
    "        \"Claude-3-Haiku\": {\n",
    "            \"Default\": metrics_df[\"claude_3_haiku_ranking_noinstruction\"],\n",
    "            \"Constitutional\": metrics_df[\"claude_3_haiku_ranking_constitutional_base_neutral_v1\"],\n",
    "        },\n",
    "    },\n",
    "}\n",
    "\n",
    "inverse_cai.paper_plotting.plot_data(\n",
    "    combined_data,\n",
    "    \"figures/0021_experiments_alpaca_crossmodel.png\",\n",
    "    agreement_height=1.7,\n",
    "    legend_loc=\"lower right\",\n",
    ")\n",
    "\n",
    "# Count values\n",
    "num_seeds = len(combined_data[\"Unaligned\"][\"GPT-4o\"][\"Default\"][\"values\"])\n",
    "latex_table = inverse_cai.paper_plotting.generate_latex_table(combined_data, f\"Results for cross-model experiments on AlpacaEval data. Averaged over {num_seeds}~random seeds.\", \"tab:crossmodel_num_results\", \"appendix/numerical_results/crossmodel.tex\")\n",
    "print(latex_table)"
   ]
  },
  {
   "cell_type": "code",
   "execution_count": null,
   "metadata": {},
   "outputs": [],
   "source": []
  }
 ],
 "metadata": {
  "kernelspec": {
   "display_name": "Python 3",
   "language": "python",
   "name": "python3"
  },
  "language_info": {
   "codemirror_mode": {
    "name": "ipython",
    "version": 3
   },
   "file_extension": ".py",
   "mimetype": "text/x-python",
   "name": "python",
   "nbconvert_exporter": "python",
   "pygments_lexer": "ipython3",
   "version": "3.11.7"
  }
 },
 "nbformat": 4,
 "nbformat_minor": 2
}
