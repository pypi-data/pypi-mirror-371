{
 "cells": [
  {
   "cell_type": "code",
   "execution_count": 4,
   "metadata": {},
   "outputs": [],
   "source": [
    "# get AlpacaEval, Chatbot Arena and PRISM data\n",
    "\n",
    "import pandas as pd\n",
    "\n",
    "df_alpacaeval = pd.read_csv(\"../data/processed/tatsu_lab/alpacaeval_goldcrossannotations_rand.csv\")\n",
    "df_chatbotarena = pd.read_csv(\"../data/processed/lmsys/chatbot_arena_kaggle2024_train_5615random_v2.csv\")\n",
    "df_prism = pd.read_csv(\"../data/processed/prism/prism_rand_incl_metadata_v2.csv\")\n",
    "\n",
    "# add column for dataset name\n",
    "df_alpacaeval[\"dataset\"] = \"alpacaeval\"\n",
    "df_chatbotarena[\"dataset\"] = \"chatbotarena\"\n",
    "df_prism[\"dataset\"] = \"prism\"\n"
   ]
  },
  {
   "cell_type": "code",
   "execution_count": null,
   "metadata": {},
   "outputs": [],
   "source": [
    "# create a training set that consists of 500 samples from chatboarean and 500 samples from prism\n",
    "# and a testset with all remaining samples\n",
    "df_chatbot_training = df_chatbotarena.sample(500, random_state=42)\n",
    "df_chatbot_test = df_chatbotarena.drop(df_chatbot_training.index)\n",
    "\n",
    "df_prism_training = df_prism.sample(500, random_state=42)\n",
    "df_prism_test = df_prism.drop(df_prism_training.index)\n",
    "\n",
    "df_training = pd.concat([df_chatbot_training, df_prism_training])\n",
    "df_test = pd.concat([df_alpacaeval, df_chatbot_test, df_prism_test])\n",
    "\n",
    "assert len(df_training) == 1000\n",
    "assert len(df_test) == len(df_alpacaeval) + len(df_chatbotarena) + len(df_prism) - len(df_training)\n",
    "assert len(df_training.merge(df_test, how=\"inner\")) == 0 # assert no overlap\n",
    "\n",
    "print(\"Dataset sizes:\")\n",
    "print(f\"Training: {len(df_training)}\")\n",
    "print(f\"Test: {len(df_test)}\")\n",
    "\n",
    "# save\n",
    "df_training.to_csv(\"../data/processed/combined/chatbotarena_prism_500_500_training.csv\", index=False)\n",
    "df_test.to_csv(\"../data/processed/combined/alpacaeval_chatbotarena_prism_remaining_test.csv\", index=False)\n",
    "\n",
    "\n"
   ]
  },
  {
   "cell_type": "code",
   "execution_count": null,
   "metadata": {},
   "outputs": [],
   "source": [
    "len(df_chatbotarena)"
   ]
  },
  {
   "cell_type": "code",
   "execution_count": null,
   "metadata": {},
   "outputs": [],
   "source": []
  }
 ],
 "metadata": {
  "kernelspec": {
   "display_name": "Python 3",
   "language": "python",
   "name": "python3"
  },
  "language_info": {
   "codemirror_mode": {
    "name": "ipython",
    "version": 3
   },
   "file_extension": ".py",
   "mimetype": "text/x-python",
   "name": "python",
   "nbconvert_exporter": "python",
   "pygments_lexer": "ipython3",
   "version": "3.11.10"
  }
 },
 "nbformat": 4,
 "nbformat_minor": 2
}
