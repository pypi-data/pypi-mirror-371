{
 "cells": [
  {
   "cell_type": "code",
   "execution_count": null,
   "metadata": {},
   "outputs": [],
   "source": [
    "# Plotting for chatbot arena experiments\n",
    "\n",
    "import inverse_cai.paper_plotting\n",
    "import pathlib\n",
    "\n",
    "import importlib\n",
    "importlib.reload(inverse_cai.paper_plotting)\n",
    "\n",
    "USER1_PATH = pathlib.Path(\"../exp/outputs/saved_outputs/anthropic-hh-v3/harmless\")\n",
    "USER2_PATH = pathlib.Path(\"../exp/outputs/saved_outputs/anthropic-hh-v3/helpful\")\n",
    "\n",
    "user1_train = inverse_cai.paper_plotting.get_metrics_dict(USER1_PATH, dataset=\"testset_0\")\n",
    "user1_test = inverse_cai.paper_plotting.get_metrics_dict(USER1_PATH, dataset=\"testset_1\")\n",
    "user2_train = inverse_cai.paper_plotting.get_metrics_dict(USER2_PATH, dataset=\"testset_1\")\n",
    "user2_test = inverse_cai.paper_plotting.get_metrics_dict(USER2_PATH, dataset=\"testset_0\")\n",
    "\n",
    "best_user1_constitution = user1_train[\"gpt4omini_fn_constitutional_base_neutral_v2\"][\"max_constitution\"]#[\"constitutions\"][1]\n",
    "best_user2_constitution = user2_train[\"gpt4omini_fn_constitutional_base_neutral_v2\"][\"max_constitution\"]#[\"constitutions\"][2]\n",
    "\n",
    "appendix_dir = pathlib.Path(\"./appendix/constitutions/prism_cross_group\")\n",
    "annotator = \"gpt4omini_fn_constitutional_base_neutral_v2\"\n",
    "inverse_cai.paper_plotting.write_constitutions_to_file(user1_train[annotator], appendix_dir / \"user1\")\n",
    "inverse_cai.paper_plotting.write_constitutions_to_file(user2_train[annotator], appendix_dir / \"user2\")\n",
    "\n",
    "\n",
    "combined_data = {\n",
    "    \"Harmless annotations\": {\n",
    "        \"\": {\n",
    "            \"Harmless const.\": user1_train[\"gpt4omini_fn_constitutional_base_neutral_v2\"],\n",
    "            \"Default\": user1_train[\"alpaca_eval_gpt4omini_fn_noinstruction\"],\n",
    "            \"Helpful const.\": user2_test[\"gpt4omini_fn_constitutional_base_neutral_v2\"],\n",
    "        },\n",
    "    },\n",
    "    \"Helpful annotations\": {\n",
    "        \"\": {\n",
    "            \"Harmless const.\": user1_test[\"gpt4omini_fn_constitutional_base_neutral_v2\"],\n",
    "            \"Default\": user2_train[\"alpaca_eval_gpt4omini_fn_noinstruction\"],\n",
    "            \"Helpful const.\": user2_train[\"gpt4omini_fn_constitutional_base_neutral_v2\"],\n",
    "        },\n",
    "        }\n",
    "}\n",
    "\n",
    "inverse_cai.paper_plotting.plot_data(\n",
    "    combined_data,\n",
    "    \"figures/0050_experiments_helpful_harmless.png\",\n",
    "    colors= [\"#f5cbcc\",  \"#d9ead3\", \"#fff3cc\"],\n",
    "    hatches= [\"\\\\\\\\\",\"//\", \"\"],\n",
    "    add_constitutions=True,\n",
    "    legend_loc=\"lower right\",\n",
    "    constitutions=[best_user1_constitution, best_user2_constitution],\n",
    "    constitution_colors=[\"#f5cbcc\", \"#fff3cc\"],\n",
    ")\n",
    "\n",
    "# We want to add the model name to the table, even if it is the same everywhere\n",
    "combined_data_with_model_names = {setting: {\"GPT-4o-mini\": data_dict[\"\"]} for setting, data_dict in combined_data.items()}\n",
    "num_seeds = len(combined_data[\"Harmless annotations\"][\"\"][\"Harmless const.\"][\"values\"])\n",
    "latex_table = inverse_cai.paper_plotting.generate_latex_table(combined_data_with_model_names, f\"Results for cross-group experiments on PRISM data. Averaged over {num_seeds}~random seeds.\", \"tab:prism_cross_group_num_ersults\", \"appendix/numerical_results/anthropic_hh_cross_group.tex\")\n",
    "print(latex_table)"
   ]
  },
  {
   "cell_type": "code",
   "execution_count": null,
   "metadata": {},
   "outputs": [],
   "source": []
  },
  {
   "cell_type": "code",
   "execution_count": null,
   "metadata": {},
   "outputs": [],
   "source": []
  }
 ],
 "metadata": {
  "kernelspec": {
   "display_name": "Python 3",
   "language": "python",
   "name": "python3"
  },
  "language_info": {
   "codemirror_mode": {
    "name": "ipython",
    "version": 3
   },
   "file_extension": ".py",
   "mimetype": "text/x-python",
   "name": "python",
   "nbconvert_exporter": "python",
   "pygments_lexer": "ipython3",
   "version": "3.11.10"
  }
 },
 "nbformat": 4,
 "nbformat_minor": 2
}
