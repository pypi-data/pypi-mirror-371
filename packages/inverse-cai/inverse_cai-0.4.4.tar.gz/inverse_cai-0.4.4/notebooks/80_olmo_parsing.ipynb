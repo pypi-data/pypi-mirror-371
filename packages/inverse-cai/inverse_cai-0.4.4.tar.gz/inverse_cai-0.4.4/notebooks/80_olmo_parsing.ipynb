{
    "cells": [
        {
            "cell_type": "markdown",
            "metadata": {},
            "source": [
                "# OLMo Model Dataset Parsing\n",
                "\n",
                "This notebook loads and processes the OLMo dataset from Hugging Face for use with the ICAI framework."
            ]
        },
        {
            "cell_type": "code",
            "execution_count": 1,
            "metadata": {},
            "outputs": [],
            "source": [
                "# Install any missing packages\n",
                "# !pip install datasets transformers pandas numpy matplotlib"
            ]
        },
        {
            "cell_type": "code",
            "execution_count": 34,
            "metadata": {},
            "outputs": [],
            "source": [
                "# Import necessary libraries\n",
                "import os\n",
                "import pandas as pd\n",
                "import numpy as np\n",
                "import matplotlib.pyplot as plt\n",
                "from datasets import load_dataset\n",
                "from tqdm.auto import tqdm"
            ]
        },
        {
            "cell_type": "markdown",
            "metadata": {},
            "source": [
                "## Load the OLMo Dataset from Hugging Face\n",
                "\n",
                "The Allen Institute for AI (AI2) released the OLMo model along with several datasets. Let's load the main dataset from Hugging Face."
            ]
        },
        {
            "cell_type": "code",
            "execution_count": null,
            "metadata": {},
            "outputs": [],
            "source": [
                "# Load the OLMo dataset from Hugging Face\n",
                "# You can choose a specific config/subset if needed\n",
                "olmo_dataset = load_dataset(\"allenai/olmo-2-0325-32b-preference-mix\")\n",
                "\n",
                "# Print basic dataset info\n",
                "print(f\"Dataset structure: {olmo_dataset}\")"
            ]
        },
        {
            "cell_type": "code",
            "execution_count": 36,
            "metadata": {},
            "outputs": [],
            "source": [
                "df = olmo_dataset[\"train\"].to_pandas()"
            ]
        },
        {
            "cell_type": "code",
            "execution_count": 37,
            "metadata": {},
            "outputs": [],
            "source": [
                "df_10k = df.sample(10000)"
            ]
        },
        {
            "cell_type": "code",
            "execution_count": null,
            "metadata": {},
            "outputs": [],
            "source": [
                "# rename columns from chosen to rejected to \"text_a\" and \"text_b\", and add columns \"preferred_text\" which is always \"text_a\"\n",
                "df_10k = df_10k.rename(columns={\"chosen\": \"text_a\", \"rejected\": \"text_b\"})\n",
                "df_10k[\"preferred_text\"] = \"text_a\"\n",
                "\n",
                "# add original index as \"id\" column\n",
                "df_10k[\"id\"] = df_10k.index\n",
                "\n",
                "# randomly switch text_a and text_b and adapt corresponding preferred_text label\n",
                "# Create a random mask to determine which rows to switch\n",
                "np.random.seed(691)\n",
                "switch_mask = np.random.rand(len(df_10k)) < 0.5\n",
                "\n",
                "# Create a copy of the dataframe to avoid modifying during iteration\n",
                "df_10k_rand = df_10k.copy()\n",
                "\n",
                "# Create a new dataframe with swapped values where switch_mask is True\n",
                "df_10k_rand.loc[switch_mask, 'text_a'] = df_10k.loc[switch_mask, 'text_b']\n",
                "df_10k_rand.loc[switch_mask, 'text_b'] = df_10k.loc[switch_mask, 'text_a']\n",
                "\n",
                "# Update preferred_text for switched rows to \"text_b\"\n",
                "df_10k_rand.loc[switch_mask, 'preferred_text'] = 'text_b'\n",
                "\n",
                "\n",
                "# Print the number of rows that were switched\n",
                "print(f\"Switched text_a and text_b in {switch_mask.sum()} out of {len(df_10k_rand)} rows\")\n"
            ]
        },
        {
            "cell_type": "code",
            "execution_count": null,
            "metadata": {},
            "outputs": [],
            "source": [
                "# Validate that all chosen texts are actually chosen in the original dataset\n",
                "validation_errors = 0\n",
                "\n",
                "for idx, row in df_10k.iterrows():\n",
                "    original_chosen = df.loc[row['id'], 'chosen']\n",
                "    original_rejected = df.loc[row['id'], 'rejected']\n",
                "\n",
                "    # Check if the preferred text matches the original chosen text\n",
                "    if row['preferred_text'] == 'text_a':\n",
                "        # Use string equality check with .iloc[0] to handle array-like values\n",
                "        if not str(row['text_a']) == str(original_chosen):\n",
                "            validation_errors += 1\n",
                "    else:  # preferred_text is 'text_b'\n",
                "        # Use string equality check with .iloc[0] to handle array-like values\n",
                "        if not str(row['text_b']) == str(original_chosen):\n",
                "            validation_errors += 1\n",
                "\n",
                "print(f\"Validation check: Found {validation_errors} errors out of {len(df_10k)} rows\")\n",
                "if validation_errors == 0:\n",
                "    print(\"✓ All preferred texts correctly match the original chosen texts\")\n",
                "else:\n",
                "    print(\"✗ Some preferred texts do not match the original chosen texts\")\n"
            ]
        },
        {
            "cell_type": "code",
            "execution_count": null,
            "metadata": {},
            "outputs": [],
            "source": [
                "df_10k_rand.to_csv(\"../data/processed/allenai/olmo2-0325-32b-preference-mix_10k_rand.csv\", index=False)"
            ]
        },
        {
            "cell_type": "code",
            "execution_count": null,
            "metadata": {},
            "outputs": [],
            "source": []
        }
    ],
    "metadata": {
        "kernelspec": {
            "display_name": "Python 3",
            "language": "python",
            "name": "python3"
        },
        "language_info": {
            "codemirror_mode": {
                "name": "ipython",
                "version": 3
            },
            "file_extension": ".py",
            "mimetype": "text/x-python",
            "name": "python",
            "nbconvert_exporter": "python",
            "pygments_lexer": "ipython3",
            "version": "3.13.1"
        }
    },
    "nbformat": 4,
    "nbformat_minor": 4
}
