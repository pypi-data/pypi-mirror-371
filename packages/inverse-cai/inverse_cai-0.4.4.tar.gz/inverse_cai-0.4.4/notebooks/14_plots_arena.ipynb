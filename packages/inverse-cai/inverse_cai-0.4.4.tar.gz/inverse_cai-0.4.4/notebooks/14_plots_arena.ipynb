{
 "cells": [
  {
   "cell_type": "code",
   "execution_count": null,
   "metadata": {
    "execution": {
     "iopub.execute_input": "2024-05-19T15:02:44.601075Z",
     "iopub.status.busy": "2024-05-19T15:02:44.600781Z",
     "iopub.status.idle": "2024-05-19T15:02:47.546463Z",
     "shell.execute_reply": "2024-05-19T15:02:47.546045Z"
    }
   },
   "outputs": [],
   "source": [
    "# Plotting for chatbot arena experiments\n",
    "\n",
    "import inverse_cai.paper_plotting\n",
    "import pathlib\n",
    "\n",
    "import importlib\n",
    "importlib.reload(inverse_cai.paper_plotting)\n",
    "\n",
    "USER1_PATH = pathlib.Path(\"../exp/saved_results/21_arena_cross_user\")\n",
    "USER2_PATH = pathlib.Path(\"../exp/saved_results/22_arena_cross_user_opposite\")\n",
    "\n",
    "user1_train = inverse_cai.paper_plotting.get_metrics_dict(USER1_PATH, dataset=\"train\")\n",
    "user1_test = inverse_cai.paper_plotting.get_metrics_dict(USER1_PATH, dataset=\"test\")\n",
    "user2_train = inverse_cai.paper_plotting.get_metrics_dict(USER2_PATH, dataset=\"train\")\n",
    "user2_test = inverse_cai.paper_plotting.get_metrics_dict(USER2_PATH, dataset=\"test\")\n",
    "\n",
    "best_user1_constitution = user1_train[\"gpt4o_fn_constitutional_base_neutral_v2\"][\"constitutions\"][5]\n",
    "best_user2_constitution = user2_train[\"gpt4o_fn_constitutional_base_neutral_v2\"][\"constitutions\"][3]\n",
    "\n",
    "appendix_dir = pathlib.Path(\"./appendix/constitutions/chatbot_arena_cross_user\")\n",
    "annotator = \"gpt4o_fn_constitutional_base_neutral_v2\"\n",
    "inverse_cai.paper_plotting.write_constitutions_to_file(user1_train[annotator], appendix_dir / \"user1\")\n",
    "inverse_cai.paper_plotting.write_constitutions_to_file(user2_train[annotator], appendix_dir / \"user2\")\n",
    "\n",
    "\n",
    "combined_data = {\n",
    "    \"Annotations User A\": {\n",
    "        \"\": {\n",
    "            \"User A constitution\": user1_train[\"gpt4o_fn_constitutional_base_neutral_v2\"],\n",
    "            \"User B constitution\": user2_test[\"gpt4o_fn_constitutional_base_neutral_v2\"],\n",
    "        },\n",
    "    },\n",
    "    \"Annotations User B\": {\n",
    "        \"\": {\n",
    "            \"User A constitution\": user1_test[\"gpt4o_fn_constitutional_base_neutral_v2\"],\n",
    "            \"User B constitution\": user2_train[\"gpt4o_fn_constitutional_base_neutral_v2\"],\n",
    "        },\n",
    "        }\n",
    "}\n",
    "\n",
    "inverse_cai.paper_plotting.plot_data(\n",
    "    combined_data,\n",
    "    \"figures/0030_experiments_chatbot_arena_cross_user.png\",\n",
    "    colors= [\"#f5cbcc\", \"#fff3cc\"],\n",
    "    hatches= [\"\\\\\\\\\",\"\", \"\"],\n",
    "    add_constitutions=True,\n",
    "    legend_loc=\"lower right\",\n",
    "    constitutions=[best_user1_constitution, best_user2_constitution],\n",
    "    constitution_colors=[\"#f5cbcc\", \"#fff3cc\"],\n",
    ")\n",
    "\n",
    "# We want to add the model name to the table, even if it is the same everywhere\n",
    "combined_data_with_model_names = {setting: {\"GPT-4o\": data_dict[\"\"]} for setting, data_dict in combined_data.items()}\n",
    "num_seeds = len(combined_data[\"Annotations User A\"][\"\"][\"User A constitution\"][\"values\"])\n",
    "latex_table = inverse_cai.paper_plotting.generate_latex_table(combined_data_with_model_names, f\"Results for cross-user experiments on Chatbot Arena data. Averaged over {num_seeds}~random seeds.\", \"tab:chatbot_arena_cross_user_num_ersults\", \"appendix/numerical_results/chatbot_arena_cross_user.tex\")\n",
    "print(latex_table)"
   ]
  },
  {
   "cell_type": "code",
   "execution_count": null,
   "metadata": {},
   "outputs": [],
   "source": []
  }
 ],
 "metadata": {
  "kernelspec": {
   "display_name": "Python 3",
   "language": "python",
   "name": "python3"
  },
  "language_info": {
   "codemirror_mode": {
    "name": "ipython",
    "version": 3
   },
   "file_extension": ".py",
   "mimetype": "text/x-python",
   "name": "python",
   "nbconvert_exporter": "python",
   "pygments_lexer": "ipython3",
   "version": "3.11.7"
  }
 },
 "nbformat": 4,
 "nbformat_minor": 2
}
