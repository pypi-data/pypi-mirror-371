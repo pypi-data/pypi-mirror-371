{
 "cells": [
  {
   "cell_type": "code",
   "execution_count": null,
   "metadata": {
    "execution": {
     "iopub.execute_input": "2024-05-19T15:02:31.799614Z",
     "iopub.status.busy": "2024-05-19T15:02:31.799428Z",
     "iopub.status.idle": "2024-05-19T15:02:35.253564Z",
     "shell.execute_reply": "2024-05-19T15:02:35.253117Z"
    }
   },
   "outputs": [],
   "source": [
    "# Plotting for synthetic experiments\n",
    "\n",
    "import inverse_cai.paper_plotting\n",
    "import pathlib\n",
    "\n",
    "import importlib\n",
    "importlib.reload(inverse_cai.paper_plotting)\n",
    "\n",
    "ORTH_PATH = pathlib.Path(\"../exp/saved_results/01_synth_orth_6seeds\")\n",
    "ALIGNED_PATH = pathlib.Path(\"../exp/saved_results/02_synth_aligned_6seeds\")\n",
    "UNALIGNED_PATH = pathlib.Path(\"../exp/saved_results/03_synth_unaligned_6seeds\")\n",
    "\n",
    "orth_avg_df = inverse_cai.paper_plotting.get_metrics_dict(ORTH_PATH, \"train\")\n",
    "aligned_avg_df = inverse_cai.paper_plotting.get_metrics_dict(ALIGNED_PATH, \"train\")\n",
    "unaligned_avg_df = inverse_cai.paper_plotting.get_metrics_dict(UNALIGNED_PATH, \"train\")\n",
    "\n",
    "annotator = \"chatgpt_fn_constitutional_base_neutral_v1\"\n",
    "constitutions = {\n",
    "    \"orth_max_constitution\": orth_avg_df[annotator][\"constitutions\"][5],#[\"max_constitution\"],\n",
    "    \"aligned_max_constitution\": aligned_avg_df[annotator][\"constitutions\"][3],#[\"max_constitution\"],\n",
    "    \"unaligned_max_constitution\": unaligned_avg_df[annotator][\"constitutions\"][4],#[\"max_constitution\"],\n",
    "}\n",
    "\n",
    "appendix_dir = pathlib.Path(\"./appendix/constitutions/synthetic\")\n",
    "inverse_cai.paper_plotting.write_constitutions_to_file(orth_avg_df[annotator], appendix_dir / \"orthogonal\")\n",
    "inverse_cai.paper_plotting.write_constitutions_to_file(aligned_avg_df[annotator], appendix_dir / \"aligned\")\n",
    "inverse_cai.paper_plotting.write_constitutions_to_file(unaligned_avg_df[annotator], appendix_dir / \"unaligned\")\n",
    "\n",
    "combined_data = {\n",
    "    \"Orthogonal\": {\"\": orth_avg_df},\n",
    "    \"Aligned\": {\"\": aligned_avg_df},\n",
    "    \"Unaligned\": {\"\": unaligned_avg_df},\n",
    "}\n",
    "\n",
    "# also sets the model order\n",
    "model_name_map = {\n",
    "    'chatgpt_fn_noinstruction': \"Default\",\n",
    "    'chatgpt_fn_constitutional_base_neutral_v1': \"Constitutional\",\n",
    "}\n",
    "\n",
    "pathlib.Path(\"figures\").mkdir(exist_ok=True)\n",
    "inverse_cai.paper_plotting.plot_data(\n",
    "    combined_data,\n",
    "    \"figures/0010_experiments_synthetic_results_gpt35turbo.png\",\n",
    "    model_name_map=model_name_map,\n",
    "    add_constitutions=True,\n",
    "    constitutions=[constitutions[key] for key in [\"orth_max_constitution\", \"aligned_max_constitution\", \"unaligned_max_constitution\"]],\n",
    "    constitution_text_width=29,\n",
    "    y_label=\"Agreement (%)\\nwith original data\",\n",
    ")\n",
    "\n",
    "# For the latex table, we want to replace the empty string with the model name (GPT-3.5 Turbo)\n",
    "combined_data_with_model_names = {setting: {\"GPT-3.5 Turbo\": data_dict[\"\"]} for setting, data_dict in combined_data.items()}\n",
    "num_seeds = len(combined_data[\"Orthogonal\"][\"\"][\"chatgpt_fn_constitutional_base_neutral_v1\"][\"values\"])\n",
    "latex_table = inverse_cai.paper_plotting.generate_latex_table(combined_data_with_model_names, f\"Results for experiments on synthetic data. Averaged over {num_seeds}~random seeds.\", \"tab:synthetic_num_results\", \"appendix/numerical_results/synthetic.tex\", model_name_map=model_name_map)\n",
    "print(latex_table)"
   ]
  },
  {
   "cell_type": "code",
   "execution_count": null,
   "metadata": {},
   "outputs": [],
   "source": [
    "unaligned_avg_df[annotator]"
   ]
  },
  {
   "cell_type": "code",
   "execution_count": null,
   "metadata": {},
   "outputs": [],
   "source": []
  }
 ],
 "metadata": {
  "kernelspec": {
   "display_name": "Python 3",
   "language": "python",
   "name": "python3"
  },
  "language_info": {
   "codemirror_mode": {
    "name": "ipython",
    "version": 3
   },
   "file_extension": ".py",
   "mimetype": "text/x-python",
   "name": "python",
   "nbconvert_exporter": "python",
   "pygments_lexer": "ipython3",
   "version": "3.11.7"
  }
 },
 "nbformat": 4,
 "nbformat_minor": 2
}
