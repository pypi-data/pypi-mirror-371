{
 "cells": [
  {
   "cell_type": "code",
   "execution_count": null,
   "metadata": {},
   "outputs": [],
   "source": [
    "# Run all notebooks for plotting figures\n",
    "\n",
    "import inverse_cai.paper_plotting\n",
    "\n",
    "NOTEBOOKS = [\n",
    "    \"11_plots_synthetic_gpt35.ipynb\",\n",
    "    \"12_plots_alpacaeval.ipynb\",\n",
    "    \"13_plots_alpacaeval_crossmodel.ipynb\",\n",
    "    \"14_plots_arena.ipynb\",\n",
    "    \"15_plots_synthetic_parameter_n.ipynb\",\n",
    "]\n",
    "\n",
    "for notebook in NOTEBOOKS:\n",
    "    inverse_cai.paper_plotting.run_notebook(notebook)"
   ]
  },
  {
   "cell_type": "code",
   "execution_count": null,
   "metadata": {},
   "outputs": [],
   "source": []
  }
 ],
 "metadata": {
  "kernelspec": {
   "display_name": "Python 3",
   "language": "python",
   "name": "python3"
  },
  "language_info": {
   "codemirror_mode": {
    "name": "ipython",
    "version": 3
   },
   "file_extension": ".py",
   "mimetype": "text/x-python",
   "name": "python",
   "nbconvert_exporter": "python",
   "pygments_lexer": "ipython3",
   "version": "3.11.7"
  }
 },
 "nbformat": 4,
 "nbformat_minor": 2
}
