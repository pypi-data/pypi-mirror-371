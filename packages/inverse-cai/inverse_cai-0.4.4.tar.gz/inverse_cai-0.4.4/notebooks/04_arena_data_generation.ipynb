{
 "cells": [
  {
   "cell_type": "code",
   "execution_count": 2,
   "metadata": {},
   "outputs": [],
   "source": [
    "# Prepocess feedback data from Chatbot Arena\n",
    "import pandas as pd\n",
    "import inverse_cai.data.loader.lmsys\n",
    "import pathlib\n",
    "\n",
    "DATA_DIR = pathlib.Path(\"../data\")\n",
    "USER_IDS = [\n",
    "    # Example: [<USER_ID>, \"<DESCRIPTION>\"]\n",
    "]\n",
    "\n",
    "for user_id, topic in USER_IDS:\n",
    "    chatbot_df_path = DATA_DIR / 'raw/lmsys/chatbot_arena_conversations.csv'\n",
    "    chatbot_df = inverse_cai.data.loader.lmsys.load_raw(\n",
    "        chatbot_df_path,\n",
    "        filter_by_user=user_id,\n",
    "    )\n",
    "\n",
    "    processed_path = DATA_DIR / f\"processed/lmsys/chatbot_arena_conversations-{user_id}-{topic}-{len(chatbot_df)}.csv\"\n",
    "    chatbot_df.to_csv(processed_path, index_label='index')"
   ]
  },
  {
   "cell_type": "code",
   "execution_count": null,
   "metadata": {},
   "outputs": [],
   "source": []
  }
 ],
 "metadata": {
  "kernelspec": {
   "display_name": "Python 3",
   "language": "python",
   "name": "python3"
  },
  "language_info": {
   "codemirror_mode": {
    "name": "ipython",
    "version": 3
   },
   "file_extension": ".py",
   "mimetype": "text/x-python",
   "name": "python",
   "nbconvert_exporter": "python",
   "pygments_lexer": "ipython3",
   "version": "3.11.7"
  }
 },
 "nbformat": 4,
 "nbformat_minor": 2
}
