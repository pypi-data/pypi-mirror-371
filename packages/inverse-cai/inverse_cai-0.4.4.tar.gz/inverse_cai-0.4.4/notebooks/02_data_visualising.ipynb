{
 "cells": [
  {
   "cell_type": "code",
   "execution_count": 1,
   "metadata": {},
   "outputs": [],
   "source": [
    "import inverse_cai\n",
    "\n",
    "DATA_PATH = \"../data/processed/anthropic/anthropic_helpful_base_100rand.csv\"\n",
    "df = inverse_cai.data.loader.anthropic.load(DATA_PATH)\n"
   ]
  },
  {
   "cell_type": "code",
   "execution_count": null,
   "metadata": {},
   "outputs": [],
   "source": [
    "DATA_PATH = \"../data/processed/lmsys/chatbot_arena_conversations_100rand.csv\"\n",
    "df = inverse_cai.data.loader.lmsys.load_raw(DATA_PATH)"
   ]
  },
  {
   "cell_type": "code",
   "execution_count": 7,
   "metadata": {},
   "outputs": [
    {
     "data": {
      "application/vnd.jupyter.widget-view+json": {
       "model_id": "698bc03a4c7143df89e5d6d85d9a6f76",
       "version_major": 2,
       "version_minor": 0
      },
      "text/plain": [
       "interactive(children=(IntSlider(value=0, continuous_update=False, description='Row Number:', max=99), Output()…"
      ]
     },
     "execution_count": 7,
     "metadata": {},
     "output_type": "execute_result"
    }
   ],
   "source": [
    "# Import necessary libraries\n",
    "import pandas as pd\n",
    "import ipywidgets as widgets\n",
    "from IPython.display import display, Markdown\n",
    "\n",
    "# Function to display columns of a row side by side using container widgets\n",
    "def display_row_with_containers(row_num=0):\n",
    "    if row_num < len(df):\n",
    "        row_data = df.iloc[row_num]\n",
    "        preferred_text_widget = widgets.Output(layout={'border': '3px solid green', 'padding': '5px', 'width': '50%'})\n",
    "\n",
    "        rejected_text_widget = widgets.Output(layout={'border': '3px solid lightgrey', 'padding': '5px', 'width': '50%'})\n",
    "\n",
    "        # Using HBox to display widgets horizontally\n",
    "        hbox = widgets.HBox([preferred_text_widget, rejected_text_widget])\n",
    "        display(Markdown(f\"**Preferred text** {row_data['preferred_text']}\"))\n",
    "        display(hbox)\n",
    "        with preferred_text_widget:\n",
    "            display(Markdown(f\"**Text A** \\n\\n{row_data['text_a']}\"))\n",
    "        with rejected_text_widget:\n",
    "            display(Markdown(f\"**Text B** \\n\\n{row_data['text_b']}\"))\n",
    "    else:\n",
    "        print(\"Row number exceeds DataFrame length.\")\n",
    "\n",
    "# Widget to select row\n",
    "row_selector = widgets.IntSlider(\n",
    "    value=0,\n",
    "    min=0,\n",
    "    max=len(df)-1,\n",
    "    step=1,\n",
    "    description='Row Number:',\n",
    "    continuous_update=False\n",
    ")\n",
    "\n",
    "# Display widget\n",
    "widgets.interactive(display_row_with_containers, row_num=row_selector)\n"
   ]
  },
  {
   "cell_type": "code",
   "execution_count": null,
   "metadata": {},
   "outputs": [],
   "source": []
  }
 ],
 "metadata": {
  "kernelspec": {
   "display_name": "Python 3",
   "language": "python",
   "name": "python3"
  },
  "language_info": {
   "codemirror_mode": {
    "name": "ipython",
    "version": 3
   },
   "file_extension": ".py",
   "mimetype": "text/x-python",
   "name": "python",
   "nbconvert_exporter": "python",
   "pygments_lexer": "ipython3",
   "version": "3.11.7"
  }
 },
 "nbformat": 4,
 "nbformat_minor": 2
}
