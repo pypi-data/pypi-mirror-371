{
 "cells": [
  {
   "cell_type": "code",
   "execution_count": null,
   "id": "42a3aa04-f93b-4ec7-a3ad-bd088fea980e",
   "metadata": {},
   "outputs": [],
   "source": [
    "import RTModel"
   ]
  },
  {
   "cell_type": "code",
   "execution_count": null,
   "id": "789ed4ce-0f74-4d29-8767-49f6ddc260ab",
   "metadata": {},
   "outputs": [],
   "source": [
    "rtm = RTModel.RTModel()"
   ]
  },
  {
   "cell_type": "code",
   "execution_count": null,
   "id": "aec7428b-6550-4e01-9098-fe239044047e",
   "metadata": {},
   "outputs": [],
   "source": [
    "eventname = '../events/event001' # Remember to unzip the file event001.zip first!\n",
    "rtm.set_event(eventname)"
   ]
  },
  {
   "cell_type": "code",
   "execution_count": null,
   "id": "e79523ad-2263-4db5-9e49-e770717c359c",
   "metadata": {},
   "outputs": [],
   "source": [
    "rtm.run()"
   ]
  },
  {
   "cell_type": "code",
   "execution_count": null,
   "id": "98a3fc46-e5b6-45fa-b680-8d54f8489959",
   "metadata": {},
   "outputs": [],
   "source": [
    "import RTModel.plotmodel as plm"
   ]
  },
  {
   "cell_type": "code",
   "execution_count": null,
   "id": "fd1ddcc9-6976-46bc-a429-b8cd291cc0f1",
   "metadata": {},
   "outputs": [],
   "source": [
    "plm.plotmodel(eventname = eventname,modelfile = 'Models/PS0032-1.txt')"
   ]
  },
  {
   "cell_type": "code",
   "execution_count": null,
   "id": "6d5011fe-8ccd-43dc-81d1-7ecbf172afa4",
   "metadata": {},
   "outputs": [],
   "source": []
  }
 ],
 "metadata": {
  "kernelspec": {
   "display_name": "Python 3 (ipykernel)",
   "language": "python",
   "name": "python3"
  },
  "language_info": {
   "codemirror_mode": {
    "name": "ipython",
    "version": 3
   },
   "file_extension": ".py",
   "mimetype": "text/x-python",
   "name": "python",
   "nbconvert_exporter": "python",
   "pygments_lexer": "ipython3",
   "version": "3.11.8"
  }
 },
 "nbformat": 4,
 "nbformat_minor": 5
}
